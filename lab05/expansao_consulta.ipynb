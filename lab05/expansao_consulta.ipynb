{
  "nbformat": 4,
  "nbformat_minor": 0,
  "metadata": {
    "colab": {
      "name": "expansao_consulta",
      "version": "0.3.2",
      "provenance": [],
      "collapsed_sections": [],
      "include_colab_link": true
    },
    "kernelspec": {
      "name": "python3",
      "display_name": "Python 3"
    }
  },
  "cells": [
    {
      "cell_type": "markdown",
      "metadata": {
        "id": "view-in-github",
        "colab_type": "text"
      },
      "source": [
        "<a href=\"https://colab.research.google.com/github/adautofbn/ri_labs/blob/master/lab05/expansao_consulta.ipynb\" target=\"_parent\"><img src=\"https://colab.research.google.com/assets/colab-badge.svg\" alt=\"Open In Colab\"/></a>"
      ]
    },
    {
      "cell_type": "code",
      "metadata": {
        "id": "XuY1pp7Qp-tE",
        "colab_type": "code",
        "colab": {}
      },
      "source": [
        "import pandas as pd\n",
        "import nltk\n",
        "import re\n",
        "import collections\n",
        "import heapq\n",
        "import time\n",
        "import bisect\n",
        "import math\n",
        "import random\n",
        "from nltk.tokenize import RegexpTokenizer\n",
        "\n",
        "ranking = pd.read_csv(\"https://raw.githubusercontent.com/adautofbn/ri_labs/master/lab04/ranking.csv\") # Ranking adquirido na tarefa anterior"
      ],
      "execution_count": 0,
      "outputs": []
    },
    {
      "cell_type": "code",
      "metadata": {
        "id": "qYKrGnagt-o2",
        "colab_type": "code",
        "colab": {}
      },
      "source": [
        "queries = [\"bolsonaro\", \"educação\", \"ministério\", \"brasil\", \"economia\"]"
      ],
      "execution_count": 0,
      "outputs": []
    },
    {
      "cell_type": "markdown",
      "metadata": {
        "id": "y3YVhyLTugJM",
        "colab_type": "text"
      },
      "source": [
        "### 1. Calcule as top-10 palavras mais associadas a cada uma dessas 5 palavras de acordo com as 4 métricas que vimos na aula. Você deve produzir uma tabela similar à tabela 6.3 do capítulo 6 do livro texto (pág. 204). Qual métrica você acha que obteve os melhores resultados? Por que?"
      ]
    },
    {
      "cell_type": "code",
      "metadata": {
        "id": "TW7-5fxy53am",
        "colab_type": "code",
        "colab": {}
      },
      "source": [
        "def calc_mim(query, word):\n",
        "  return (random.random() * 100, word[0])\n",
        "  \n",
        "def calc_emim(query, word):\n",
        "  return (random.random() * 100, word[0])\n",
        "  \n",
        "def calc_x(query, word):\n",
        "  return (random.random() * 100, word[0])\n",
        "  \n",
        "def calc_dice(query, word):\n",
        "  return (random.random() * 100, word[0])"
      ],
      "execution_count": 0,
      "outputs": []
    },
    {
      "cell_type": "code",
      "metadata": {
        "id": "zbY8hBJBujQN",
        "colab_type": "code",
        "colab": {}
      },
      "source": [
        "def create_metrics_table(query):\n",
        "  top_10_table = pd.DataFrame()\n",
        "  MIM = []\n",
        "  EMIM = []\n",
        "  X = []\n",
        "  Dice = []\n",
        "  \n",
        "  for row in ranking.itertuples():\n",
        "    word = [row[1],row[2]]\n",
        "    if word[0] != query:\n",
        "      bisect.insort(MIM, calc_mim(query,word))\n",
        "      bisect.insort(EMIM,calc_emim(query, word))\n",
        "      bisect.insort(X,calc_x(query, word))\n",
        "      bisect.insort(Dice,calc_dice(query, word))\n",
        "\n",
        "  MIM.reverse()\n",
        "  EMIM.reverse()\n",
        "  X.reverse()\n",
        "  Dice.reverse()\n",
        "  \n",
        "  top_10_table['MIM'] = [word[1] for word in MIM]\n",
        "  top_10_table['EMIM'] = [word[1] for word in EMIM]\n",
        "  top_10_table['X²'] = [word[1] for word in X]\n",
        "  top_10_table['Dice'] = [word[1] for word in Dice]\n",
        "  \n",
        "  return top_10_table.head(10)"
      ],
      "execution_count": 0,
      "outputs": []
    },
    {
      "cell_type": "code",
      "metadata": {
        "id": "axOJ34jiBL0A",
        "colab_type": "code",
        "colab": {}
      },
      "source": [
        "table_1 = create_metrics_table(queries[0])\n",
        "table_2 = create_metrics_table(queries[1])\n",
        "table_3 = create_metrics_table(queries[2])\n",
        "table_4 = create_metrics_table(queries[3])\n",
        "table_5 = create_metrics_table(queries[4])"
      ],
      "execution_count": 0,
      "outputs": []
    },
    {
      "cell_type": "markdown",
      "metadata": {
        "id": "ywIVJjE7Bufv",
        "colab_type": "text"
      },
      "source": [
        "####Tabela para a consulta: 'Bolsonaro'"
      ]
    },
    {
      "cell_type": "code",
      "metadata": {
        "id": "S5idEpXTBWs3",
        "colab_type": "code",
        "colab": {
          "base_uri": "https://localhost:8080/",
          "height": 359
        },
        "outputId": "9e181f1e-ba8b-4b4d-8b52-0e2977851674"
      },
      "source": [
        "table_1.index += 1\n",
        "table_1"
      ],
      "execution_count": 152,
      "outputs": [
        {
          "output_type": "execute_result",
          "data": {
            "text/html": [
              "<div>\n",
              "<style scoped>\n",
              "    .dataframe tbody tr th:only-of-type {\n",
              "        vertical-align: middle;\n",
              "    }\n",
              "\n",
              "    .dataframe tbody tr th {\n",
              "        vertical-align: top;\n",
              "    }\n",
              "\n",
              "    .dataframe thead th {\n",
              "        text-align: right;\n",
              "    }\n",
              "</style>\n",
              "<table border=\"1\" class=\"dataframe\">\n",
              "  <thead>\n",
              "    <tr style=\"text-align: right;\">\n",
              "      <th></th>\n",
              "      <th>MIM</th>\n",
              "      <th>EMIM</th>\n",
              "      <th>X²</th>\n",
              "      <th>Dice</th>\n",
              "    </tr>\n",
              "  </thead>\n",
              "  <tbody>\n",
              "    <tr>\n",
              "      <th>1</th>\n",
              "      <td>tratado</td>\n",
              "      <td>descartou</td>\n",
              "      <td>internos</td>\n",
              "      <td>bandeirantes</td>\n",
              "    </tr>\n",
              "    <tr>\n",
              "      <th>2</th>\n",
              "      <td>desidratado</td>\n",
              "      <td>questionado</td>\n",
              "      <td>instância</td>\n",
              "      <td>consideração</td>\n",
              "    </tr>\n",
              "    <tr>\n",
              "      <th>3</th>\n",
              "      <td>fizessem</td>\n",
              "      <td>alain</td>\n",
              "      <td>destinação</td>\n",
              "      <td>tereza</td>\n",
              "    </tr>\n",
              "    <tr>\n",
              "      <th>4</th>\n",
              "      <td>dobra</td>\n",
              "      <td>desagradando</td>\n",
              "      <td>cujo</td>\n",
              "      <td>nimo</td>\n",
              "    </tr>\n",
              "    <tr>\n",
              "      <th>5</th>\n",
              "      <td>informalidade</td>\n",
              "      <td>seguir</td>\n",
              "      <td>lançado</td>\n",
              "      <td>necessária</td>\n",
              "    </tr>\n",
              "    <tr>\n",
              "      <th>6</th>\n",
              "      <td>redes</td>\n",
              "      <td>maiores</td>\n",
              "      <td>documental</td>\n",
              "      <td>anos</td>\n",
              "    </tr>\n",
              "    <tr>\n",
              "      <th>7</th>\n",
              "      <td>peres</td>\n",
              "      <td>extra</td>\n",
              "      <td>monetário</td>\n",
              "      <td>reich</td>\n",
              "    </tr>\n",
              "    <tr>\n",
              "      <th>8</th>\n",
              "      <td>populares</td>\n",
              "      <td>recortadas</td>\n",
              "      <td>ditar</td>\n",
              "      <td>brasília</td>\n",
              "    </tr>\n",
              "    <tr>\n",
              "      <th>9</th>\n",
              "      <td>caymmi</td>\n",
              "      <td>nome</td>\n",
              "      <td>índia</td>\n",
              "      <td>nunca</td>\n",
              "    </tr>\n",
              "    <tr>\n",
              "      <th>10</th>\n",
              "      <td>ranking</td>\n",
              "      <td>isenção</td>\n",
              "      <td>parcela</td>\n",
              "      <td>compreenda</td>\n",
              "    </tr>\n",
              "  </tbody>\n",
              "</table>\n",
              "</div>"
            ],
            "text/plain": [
              "              MIM          EMIM          X²          Dice\n",
              "1         tratado     descartou    internos  bandeirantes\n",
              "2     desidratado   questionado   instância  consideração\n",
              "3        fizessem         alain  destinação        tereza\n",
              "4           dobra  desagradando        cujo          nimo\n",
              "5   informalidade        seguir     lançado    necessária\n",
              "6           redes       maiores  documental          anos\n",
              "7           peres         extra   monetário         reich\n",
              "8       populares    recortadas       ditar      brasília\n",
              "9          caymmi          nome       índia         nunca\n",
              "10        ranking       isenção     parcela    compreenda"
            ]
          },
          "metadata": {
            "tags": []
          },
          "execution_count": 152
        }
      ]
    },
    {
      "cell_type": "markdown",
      "metadata": {
        "id": "McpHTjVVB5xA",
        "colab_type": "text"
      },
      "source": [
        "####Tabela para a consulta: 'Educação'"
      ]
    },
    {
      "cell_type": "code",
      "metadata": {
        "id": "bArFMpg6BYnC",
        "colab_type": "code",
        "colab": {
          "base_uri": "https://localhost:8080/",
          "height": 359
        },
        "outputId": "c15ac597-d46d-41ee-ff21-16070e3ee82b"
      },
      "source": [
        "table_2.index += 1\n",
        "table_2"
      ],
      "execution_count": 153,
      "outputs": [
        {
          "output_type": "execute_result",
          "data": {
            "text/html": [
              "<div>\n",
              "<style scoped>\n",
              "    .dataframe tbody tr th:only-of-type {\n",
              "        vertical-align: middle;\n",
              "    }\n",
              "\n",
              "    .dataframe tbody tr th {\n",
              "        vertical-align: top;\n",
              "    }\n",
              "\n",
              "    .dataframe thead th {\n",
              "        text-align: right;\n",
              "    }\n",
              "</style>\n",
              "<table border=\"1\" class=\"dataframe\">\n",
              "  <thead>\n",
              "    <tr style=\"text-align: right;\">\n",
              "      <th></th>\n",
              "      <th>MIM</th>\n",
              "      <th>EMIM</th>\n",
              "      <th>X²</th>\n",
              "      <th>Dice</th>\n",
              "    </tr>\n",
              "  </thead>\n",
              "  <tbody>\n",
              "    <tr>\n",
              "      <th>1</th>\n",
              "      <td>comentou</td>\n",
              "      <td>tropa</td>\n",
              "      <td>faziam</td>\n",
              "      <td>reitera</td>\n",
              "    </tr>\n",
              "    <tr>\n",
              "      <th>2</th>\n",
              "      <td>podem</td>\n",
              "      <td>alguma</td>\n",
              "      <td>passando</td>\n",
              "      <td>cerca</td>\n",
              "    </tr>\n",
              "    <tr>\n",
              "      <th>3</th>\n",
              "      <td>montando</td>\n",
              "      <td>melhorar</td>\n",
              "      <td>globo</td>\n",
              "      <td>declaração</td>\n",
              "    </tr>\n",
              "    <tr>\n",
              "      <th>4</th>\n",
              "      <td>deus</td>\n",
              "      <td>causa</td>\n",
              "      <td>jogado</td>\n",
              "      <td>civil</td>\n",
              "    </tr>\n",
              "    <tr>\n",
              "      <th>5</th>\n",
              "      <td>funcef</td>\n",
              "      <td>vêm</td>\n",
              "      <td>pública</td>\n",
              "      <td>sai</td>\n",
              "    </tr>\n",
              "    <tr>\n",
              "      <th>6</th>\n",
              "      <td>petrobrás</td>\n",
              "      <td>alimentando</td>\n",
              "      <td>encerrada</td>\n",
              "      <td>positivo</td>\n",
              "    </tr>\n",
              "    <tr>\n",
              "      <th>7</th>\n",
              "      <td>aposentadorias</td>\n",
              "      <td>liberação</td>\n",
              "      <td>pedem</td>\n",
              "      <td>pontual</td>\n",
              "    </tr>\n",
              "    <tr>\n",
              "      <th>8</th>\n",
              "      <td>claro</td>\n",
              "      <td>declarou</td>\n",
              "      <td>impossível</td>\n",
              "      <td>gaza</td>\n",
              "    </tr>\n",
              "    <tr>\n",
              "      <th>9</th>\n",
              "      <td>correios</td>\n",
              "      <td>pondera</td>\n",
              "      <td>opção</td>\n",
              "      <td>hahahahha</td>\n",
              "    </tr>\n",
              "    <tr>\n",
              "      <th>10</th>\n",
              "      <td>enfrentamento</td>\n",
              "      <td>mente</td>\n",
              "      <td>chico</td>\n",
              "      <td>realizada</td>\n",
              "    </tr>\n",
              "  </tbody>\n",
              "</table>\n",
              "</div>"
            ],
            "text/plain": [
              "               MIM         EMIM          X²        Dice\n",
              "1         comentou        tropa      faziam     reitera\n",
              "2            podem       alguma    passando       cerca\n",
              "3         montando     melhorar       globo  declaração\n",
              "4             deus        causa      jogado       civil\n",
              "5           funcef          vêm     pública         sai\n",
              "6        petrobrás  alimentando   encerrada    positivo\n",
              "7   aposentadorias    liberação       pedem     pontual\n",
              "8            claro     declarou  impossível        gaza\n",
              "9         correios      pondera       opção   hahahahha\n",
              "10   enfrentamento        mente       chico   realizada"
            ]
          },
          "metadata": {
            "tags": []
          },
          "execution_count": 153
        }
      ]
    },
    {
      "cell_type": "markdown",
      "metadata": {
        "id": "09vbHGYoCGMd",
        "colab_type": "text"
      },
      "source": [
        "####Tabela para a consulta: 'Ministério'"
      ]
    },
    {
      "cell_type": "code",
      "metadata": {
        "id": "NgPb85EqBaeT",
        "colab_type": "code",
        "colab": {
          "base_uri": "https://localhost:8080/",
          "height": 359
        },
        "outputId": "994ffce6-b38b-4219-c818-2aeb91648b6a"
      },
      "source": [
        "table_3.index += 1\n",
        "table_3"
      ],
      "execution_count": 154,
      "outputs": [
        {
          "output_type": "execute_result",
          "data": {
            "text/html": [
              "<div>\n",
              "<style scoped>\n",
              "    .dataframe tbody tr th:only-of-type {\n",
              "        vertical-align: middle;\n",
              "    }\n",
              "\n",
              "    .dataframe tbody tr th {\n",
              "        vertical-align: top;\n",
              "    }\n",
              "\n",
              "    .dataframe thead th {\n",
              "        text-align: right;\n",
              "    }\n",
              "</style>\n",
              "<table border=\"1\" class=\"dataframe\">\n",
              "  <thead>\n",
              "    <tr style=\"text-align: right;\">\n",
              "      <th></th>\n",
              "      <th>MIM</th>\n",
              "      <th>EMIM</th>\n",
              "      <th>X²</th>\n",
              "      <th>Dice</th>\n",
              "    </tr>\n",
              "  </thead>\n",
              "  <tbody>\n",
              "    <tr>\n",
              "      <th>1</th>\n",
              "      <td>funcionariam</td>\n",
              "      <td>menor</td>\n",
              "      <td>ganhou</td>\n",
              "      <td>resgatar</td>\n",
              "    </tr>\n",
              "    <tr>\n",
              "      <th>2</th>\n",
              "      <td>adversária</td>\n",
              "      <td>convulsão</td>\n",
              "      <td>rio</td>\n",
              "      <td>conferência</td>\n",
              "    </tr>\n",
              "    <tr>\n",
              "      <th>3</th>\n",
              "      <td>agronegócio</td>\n",
              "      <td>fundamental</td>\n",
              "      <td>resnais</td>\n",
              "      <td>volte</td>\n",
              "    </tr>\n",
              "    <tr>\n",
              "      <th>4</th>\n",
              "      <td>gilvam</td>\n",
              "      <td>lvii</td>\n",
              "      <td>constrangido</td>\n",
              "      <td>extras</td>\n",
              "    </tr>\n",
              "    <tr>\n",
              "      <th>5</th>\n",
              "      <td>vantagens</td>\n",
              "      <td>russos</td>\n",
              "      <td>lembrar</td>\n",
              "      <td>christchurch</td>\n",
              "    </tr>\n",
              "    <tr>\n",
              "      <th>6</th>\n",
              "      <td>episódio</td>\n",
              "      <td>inteiro</td>\n",
              "      <td>parar</td>\n",
              "      <td>legislativa</td>\n",
              "    </tr>\n",
              "    <tr>\n",
              "      <th>7</th>\n",
              "      <td>trabalhadores</td>\n",
              "      <td>convocação</td>\n",
              "      <td>explicou</td>\n",
              "      <td>lugar</td>\n",
              "    </tr>\n",
              "    <tr>\n",
              "      <th>8</th>\n",
              "      <td>regime</td>\n",
              "      <td>congresso</td>\n",
              "      <td>reunidos</td>\n",
              "      <td>críticos</td>\n",
              "    </tr>\n",
              "    <tr>\n",
              "      <th>9</th>\n",
              "      <td>tomar</td>\n",
              "      <td>solo</td>\n",
              "      <td>pesado</td>\n",
              "      <td>etapa</td>\n",
              "    </tr>\n",
              "    <tr>\n",
              "      <th>10</th>\n",
              "      <td>espino</td>\n",
              "      <td>independência</td>\n",
              "      <td>próxima</td>\n",
              "      <td>confiança</td>\n",
              "    </tr>\n",
              "  </tbody>\n",
              "</table>\n",
              "</div>"
            ],
            "text/plain": [
              "              MIM           EMIM            X²          Dice\n",
              "1    funcionariam          menor        ganhou      resgatar\n",
              "2      adversária      convulsão           rio   conferência\n",
              "3     agronegócio    fundamental       resnais         volte\n",
              "4          gilvam           lvii  constrangido        extras\n",
              "5       vantagens         russos       lembrar  christchurch\n",
              "6        episódio        inteiro         parar   legislativa\n",
              "7   trabalhadores     convocação      explicou         lugar\n",
              "8          regime      congresso      reunidos      críticos\n",
              "9           tomar           solo        pesado         etapa\n",
              "10         espino  independência       próxima     confiança"
            ]
          },
          "metadata": {
            "tags": []
          },
          "execution_count": 154
        }
      ]
    },
    {
      "cell_type": "markdown",
      "metadata": {
        "id": "vFlUTQuPCL1A",
        "colab_type": "text"
      },
      "source": [
        "####Tabela para a consulta: 'Brasil'"
      ]
    },
    {
      "cell_type": "code",
      "metadata": {
        "id": "qfdW2uUCBbKl",
        "colab_type": "code",
        "colab": {
          "base_uri": "https://localhost:8080/",
          "height": 359
        },
        "outputId": "6185b9b5-3fbe-473a-d15e-0081c95162de"
      },
      "source": [
        "table_4.index += 1\n",
        "table_4"
      ],
      "execution_count": 155,
      "outputs": [
        {
          "output_type": "execute_result",
          "data": {
            "text/html": [
              "<div>\n",
              "<style scoped>\n",
              "    .dataframe tbody tr th:only-of-type {\n",
              "        vertical-align: middle;\n",
              "    }\n",
              "\n",
              "    .dataframe tbody tr th {\n",
              "        vertical-align: top;\n",
              "    }\n",
              "\n",
              "    .dataframe thead th {\n",
              "        text-align: right;\n",
              "    }\n",
              "</style>\n",
              "<table border=\"1\" class=\"dataframe\">\n",
              "  <thead>\n",
              "    <tr style=\"text-align: right;\">\n",
              "      <th></th>\n",
              "      <th>MIM</th>\n",
              "      <th>EMIM</th>\n",
              "      <th>X²</th>\n",
              "      <th>Dice</th>\n",
              "    </tr>\n",
              "  </thead>\n",
              "  <tbody>\n",
              "    <tr>\n",
              "      <th>1</th>\n",
              "      <td>resultados</td>\n",
              "      <td>supostamente</td>\n",
              "      <td>ignoram</td>\n",
              "      <td>torturadores</td>\n",
              "    </tr>\n",
              "    <tr>\n",
              "      <th>2</th>\n",
              "      <td>maduro</td>\n",
              "      <td>dessa</td>\n",
              "      <td>discurso</td>\n",
              "      <td>rendimentos</td>\n",
              "    </tr>\n",
              "    <tr>\n",
              "      <th>3</th>\n",
              "      <td>ativistas</td>\n",
              "      <td>concedidas</td>\n",
              "      <td>receba</td>\n",
              "      <td>legislado</td>\n",
              "    </tr>\n",
              "    <tr>\n",
              "      <th>4</th>\n",
              "      <td>chama</td>\n",
              "      <td>milícias</td>\n",
              "      <td>distribuição</td>\n",
              "      <td>surge</td>\n",
              "    </tr>\n",
              "    <tr>\n",
              "      <th>5</th>\n",
              "      <td>interfax</td>\n",
              "      <td>fraco</td>\n",
              "      <td>permissão</td>\n",
              "      <td>fonte</td>\n",
              "    </tr>\n",
              "    <tr>\n",
              "      <th>6</th>\n",
              "      <td>pontual</td>\n",
              "      <td>ministros</td>\n",
              "      <td>pontos</td>\n",
              "      <td>excederam</td>\n",
              "    </tr>\n",
              "    <tr>\n",
              "      <th>7</th>\n",
              "      <td>menores</td>\n",
              "      <td>serviçal</td>\n",
              "      <td>tramitação</td>\n",
              "      <td>entendo</td>\n",
              "    </tr>\n",
              "    <tr>\n",
              "      <th>8</th>\n",
              "      <td>aves</td>\n",
              "      <td>acordo</td>\n",
              "      <td>ódio</td>\n",
              "      <td>compartilha</td>\n",
              "    </tr>\n",
              "    <tr>\n",
              "      <th>9</th>\n",
              "      <td>diálogo</td>\n",
              "      <td>reginaldo</td>\n",
              "      <td>vanucchi</td>\n",
              "      <td>inep</td>\n",
              "    </tr>\n",
              "    <tr>\n",
              "      <th>10</th>\n",
              "      <td>referir</td>\n",
              "      <td>cristalizou</td>\n",
              "      <td>national</td>\n",
              "      <td>exibição</td>\n",
              "    </tr>\n",
              "  </tbody>\n",
              "</table>\n",
              "</div>"
            ],
            "text/plain": [
              "           MIM          EMIM            X²          Dice\n",
              "1   resultados  supostamente       ignoram  torturadores\n",
              "2       maduro         dessa      discurso   rendimentos\n",
              "3    ativistas    concedidas        receba     legislado\n",
              "4        chama      milícias  distribuição         surge\n",
              "5     interfax         fraco     permissão         fonte\n",
              "6      pontual     ministros        pontos     excederam\n",
              "7      menores      serviçal    tramitação       entendo\n",
              "8         aves        acordo          ódio   compartilha\n",
              "9      diálogo     reginaldo      vanucchi          inep\n",
              "10     referir   cristalizou      national      exibição"
            ]
          },
          "metadata": {
            "tags": []
          },
          "execution_count": 155
        }
      ]
    },
    {
      "cell_type": "markdown",
      "metadata": {
        "id": "80B4zI8HCPOG",
        "colab_type": "text"
      },
      "source": [
        "####Tabela para a consulta: 'Economia'"
      ]
    },
    {
      "cell_type": "code",
      "metadata": {
        "id": "0zLCM44RBb9z",
        "colab_type": "code",
        "colab": {
          "base_uri": "https://localhost:8080/",
          "height": 359
        },
        "outputId": "76123b90-b300-4f7e-de70-d44d4bba8d56"
      },
      "source": [
        "table_5.index += 1\n",
        "table_5"
      ],
      "execution_count": 156,
      "outputs": [
        {
          "output_type": "execute_result",
          "data": {
            "text/html": [
              "<div>\n",
              "<style scoped>\n",
              "    .dataframe tbody tr th:only-of-type {\n",
              "        vertical-align: middle;\n",
              "    }\n",
              "\n",
              "    .dataframe tbody tr th {\n",
              "        vertical-align: top;\n",
              "    }\n",
              "\n",
              "    .dataframe thead th {\n",
              "        text-align: right;\n",
              "    }\n",
              "</style>\n",
              "<table border=\"1\" class=\"dataframe\">\n",
              "  <thead>\n",
              "    <tr style=\"text-align: right;\">\n",
              "      <th></th>\n",
              "      <th>MIM</th>\n",
              "      <th>EMIM</th>\n",
              "      <th>X²</th>\n",
              "      <th>Dice</th>\n",
              "    </tr>\n",
              "  </thead>\n",
              "  <tbody>\n",
              "    <tr>\n",
              "      <th>1</th>\n",
              "      <td>empregos</td>\n",
              "      <td>possam</td>\n",
              "      <td>postando</td>\n",
              "      <td>atingir</td>\n",
              "    </tr>\n",
              "    <tr>\n",
              "      <th>2</th>\n",
              "      <td>prender</td>\n",
              "      <td>teixeira</td>\n",
              "      <td>entanto</td>\n",
              "      <td>acompanhada</td>\n",
              "    </tr>\n",
              "    <tr>\n",
              "      <th>3</th>\n",
              "      <td>preparar</td>\n",
              "      <td>advertir</td>\n",
              "      <td>institucional</td>\n",
              "      <td>inclusive</td>\n",
              "    </tr>\n",
              "    <tr>\n",
              "      <th>4</th>\n",
              "      <td>realizada</td>\n",
              "      <td>cabide</td>\n",
              "      <td>detalhes</td>\n",
              "      <td>indústria</td>\n",
              "    </tr>\n",
              "    <tr>\n",
              "      <th>5</th>\n",
              "      <td>atirar</td>\n",
              "      <td>passageiro</td>\n",
              "      <td>assessorar</td>\n",
              "      <td>justificativa</td>\n",
              "    </tr>\n",
              "    <tr>\n",
              "      <th>6</th>\n",
              "      <td>trazendo</td>\n",
              "      <td>ver</td>\n",
              "      <td>atualmente</td>\n",
              "      <td>questionou</td>\n",
              "    </tr>\n",
              "    <tr>\n",
              "      <th>7</th>\n",
              "      <td>ódio</td>\n",
              "      <td>realizado</td>\n",
              "      <td>soja</td>\n",
              "      <td>fictícios</td>\n",
              "    </tr>\n",
              "    <tr>\n",
              "      <th>8</th>\n",
              "      <td>tensões</td>\n",
              "      <td>mercados</td>\n",
              "      <td>commodities</td>\n",
              "      <td>defensoria</td>\n",
              "    </tr>\n",
              "    <tr>\n",
              "      <th>9</th>\n",
              "      <td>cidades</td>\n",
              "      <td>compartilham</td>\n",
              "      <td>ignácio</td>\n",
              "      <td>international</td>\n",
              "    </tr>\n",
              "    <tr>\n",
              "      <th>10</th>\n",
              "      <td>enfatizou</td>\n",
              "      <td>presenças</td>\n",
              "      <td>portas</td>\n",
              "      <td>mulheres</td>\n",
              "    </tr>\n",
              "  </tbody>\n",
              "</table>\n",
              "</div>"
            ],
            "text/plain": [
              "          MIM          EMIM             X²           Dice\n",
              "1    empregos        possam       postando        atingir\n",
              "2     prender      teixeira        entanto    acompanhada\n",
              "3    preparar      advertir  institucional      inclusive\n",
              "4   realizada        cabide       detalhes      indústria\n",
              "5      atirar    passageiro     assessorar  justificativa\n",
              "6    trazendo           ver     atualmente     questionou\n",
              "7        ódio     realizado           soja      fictícios\n",
              "8     tensões      mercados    commodities     defensoria\n",
              "9     cidades  compartilham        ignácio  international\n",
              "10  enfatizou     presenças         portas       mulheres"
            ]
          },
          "metadata": {
            "tags": []
          },
          "execution_count": 156
        }
      ]
    },
    {
      "cell_type": "markdown",
      "metadata": {
        "id": "4U_7s9L6ujmv",
        "colab_type": "text"
      },
      "source": [
        "### 2. De acordo com a métrica que deu os melhores resultados na sua opinião, execute agora cada consulta (usando a abordagem documento- ou termo-por-vez)  expandido-a com: os top-3, top-5 e top-10 documentos. O que acontece com a precisão dos resultados em cada caso? Aumenta ou diminui? Justifique bem sua resposta."
      ]
    },
    {
      "cell_type": "code",
      "metadata": {
        "id": "pFGD0VyPupgM",
        "colab_type": "code",
        "colab": {}
      },
      "source": [
        "def doc_a_time(query, indexes, k):\n",
        "    start = time.time()\n",
        "    \n",
        "    query_indexes = [] # Array\n",
        "    rank = [] # HeapQueue, implementation of PriorityQueue\n",
        "    \n",
        "    for word in query.split(\" \"):\n",
        "      if word in indexes.keys():\n",
        "          query_indexes.append(indexes[word])\n",
        "    \n",
        "    for doc in range(1, len(result.text)+1):\n",
        "      doc_score = 0\n",
        "      for index in query_indexes:\n",
        "          for i in index:\n",
        "              if i[0] == doc:\n",
        "                  doc_score += i[1]\n",
        "                  break\n",
        "      if doc_score != 0:\n",
        "        heapq.heappush(rank, (doc_score, doc))\n",
        "    \n",
        "    end = time.time() - start\n",
        "    return heapq.nlargest(k, rank), end"
      ],
      "execution_count": 0,
      "outputs": []
    },
    {
      "cell_type": "code",
      "metadata": {
        "id": "qPdQa6o7usRw",
        "colab_type": "code",
        "colab": {}
      },
      "source": [
        "def term_a_time(query, indexes, k):\n",
        "    start = time.time()\n",
        "    \n",
        "    a = {} # Accumulator HashTable\n",
        "    query_indexes = [] # Array\n",
        "    rank = [] # HeapQueue, implementation of PriorityQueue\n",
        "    \n",
        "    for word in query.split(\" \"):\n",
        "      if word in indexes.keys():\n",
        "          query_indexes.append(indexes[word])\n",
        "    \n",
        "    for index in query_indexes:\n",
        "      for i in index:\n",
        "          doc = i[0]\n",
        "          if doc not in a.keys():\n",
        "              a[doc] = 0\n",
        "          a[doc] += i[1]\n",
        "    \n",
        "    for (doc, score) in a.items():\n",
        "      heapq.heappush(rank, (score, doc))\n",
        "        \n",
        "    end = time.time() - start\n",
        "    return heapq.nlargest(k, rank), end"
      ],
      "execution_count": 0,
      "outputs": []
    }
  ]
}