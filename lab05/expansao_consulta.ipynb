{
  "nbformat": 4,
  "nbformat_minor": 0,
  "metadata": {
    "colab": {
      "name": "expansao_consulta",
      "version": "0.3.2",
      "provenance": [],
      "collapsed_sections": [],
      "include_colab_link": true
    },
    "kernelspec": {
      "name": "python3",
      "display_name": "Python 3"
    }
  },
  "cells": [
    {
      "cell_type": "markdown",
      "metadata": {
        "id": "view-in-github",
        "colab_type": "text"
      },
      "source": [
        "<a href=\"https://colab.research.google.com/github/adautofbn/ri_labs/blob/master/lab05/expansao_consulta.ipynb\" target=\"_parent\"><img src=\"https://colab.research.google.com/assets/colab-badge.svg\" alt=\"Open In Colab\"/></a>"
      ]
    },
    {
      "cell_type": "code",
      "metadata": {
        "id": "XuY1pp7Qp-tE",
        "colab_type": "code",
        "colab": {
          "base_uri": "https://localhost:8080/",
          "height": 51
        },
        "outputId": "efe3ab5d-bcf4-4d98-e2d1-decd65c01593"
      },
      "source": [
        "import pandas as pd\n",
        "import numpy as np\n",
        "import nltk\n",
        "import re\n",
        "import collections\n",
        "import heapq\n",
        "import time\n",
        "import bisect\n",
        "import math\n",
        "import random\n",
        "from nltk.tokenize import RegexpTokenizer\n",
        "\n",
        "nltk.download('stopwords')\n",
        "result = pd.read_csv('https://raw.githubusercontent.com/adautofbn/ri_lab_01/master/output/results.csv') # Resultados adquiridos do site brasil-247"
      ],
      "execution_count": 193,
      "outputs": [
        {
          "output_type": "stream",
          "text": [
            "[nltk_data] Downloading package stopwords to /root/nltk_data...\n",
            "[nltk_data]   Package stopwords is already up-to-date!\n"
          ],
          "name": "stdout"
        }
      ]
    },
    {
      "cell_type": "code",
      "metadata": {
        "id": "MOSw37nUKtCI",
        "colab_type": "code",
        "colab": {}
      },
      "source": [
        "tknz = RegexpTokenizer(r'([A-Za-zÁáÉéÍíÓóÚúÃãÕõÇçÂâÊê]{3,27})')\n",
        "stopwords = nltk.corpus.stopwords.words('portuguese') \n",
        "ranking = {}\n",
        "n = 0\n",
        "\n",
        "for text in result.text:\n",
        "  words = [word for word in tknz.tokenize(text.lower())\n",
        "           if not bool(re.search(r'\\d', word))\n",
        "           and word not in stopwords and len(word) >= 3]  \n",
        "  n += 1\n",
        "  for t in words:\n",
        "    if t not in ranking.keys():\n",
        "      ranking[t] = []\n",
        "    ranking[t].append(n)\n",
        "    \n",
        "for elem in ranking.items():\n",
        "  d = dict(collections.Counter(elem[1]))\n",
        "  ranking[elem[0]] = list(d.items())"
      ],
      "execution_count": 0,
      "outputs": []
    },
    {
      "cell_type": "code",
      "metadata": {
        "id": "qYKrGnagt-o2",
        "colab_type": "code",
        "colab": {}
      },
      "source": [
        "queries = [\"bolsonaro\", \"educação\", \"ministério\", \"brasil\", \"economia\"]"
      ],
      "execution_count": 0,
      "outputs": []
    },
    {
      "cell_type": "markdown",
      "metadata": {
        "id": "y3YVhyLTugJM",
        "colab_type": "text"
      },
      "source": [
        "### 1. Calcule as top-10 palavras mais associadas a cada uma dessas 5 palavras de acordo com as 4 métricas que vimos na aula. Você deve produzir uma tabela similar à tabela 6.3 do capítulo 6 do livro texto (pág. 204). Qual métrica você acha que obteve os melhores resultados? Por que?"
      ]
    },
    {
      "cell_type": "code",
      "metadata": {
        "id": "V_MpIn1pEjEX",
        "colab_type": "code",
        "colab": {}
      },
      "source": [
        "def n_docs_word(word):\n",
        "  return len(ranking[word])\n",
        "\n",
        "def n_docs_both(a, b):\n",
        "  docs_a = [doc for doc,score in ranking[a]]\n",
        "  docs_b = [doc for doc,score in ranking[b]]\n",
        "  n = 0\n",
        "  \n",
        "  for doc in docs_a:\n",
        "    if doc in docs_b:\n",
        "      n += 1\n",
        "      \n",
        "  return n\n",
        "  \n",
        "def n_docs():\n",
        "  return result.text.count()"
      ],
      "execution_count": 0,
      "outputs": []
    },
    {
      "cell_type": "code",
      "metadata": {
        "id": "TW7-5fxy53am",
        "colab_type": "code",
        "colab": {}
      },
      "source": [
        "def calc_mim(a, b):\n",
        "  n_a = n_docs_word(a)\n",
        "  n_b = n_docs_word(b)\n",
        "  n_ab = n_docs_both(a,b)\n",
        "  mim = n_ab / (n_a * n_b)\n",
        "  return (mim,b)\n",
        "  \n",
        "def calc_emim(a, b):\n",
        "  n_a = n_docs_word(a)\n",
        "  n_b = n_docs_word(b)\n",
        "  n_ab = n_docs_both(a, b)\n",
        "  n = n_docs()\n",
        "  exp = n * (n_ab / (n_a * n_b))\n",
        "  emim = n_ab * np.log(exp) if exp != 0 else 0\n",
        "  return (emim, b)\n",
        "  \n",
        "def calc_x(a, b):\n",
        "  n_a = n_docs_word(a)\n",
        "  n_b = n_docs_word(b)\n",
        "  n_ab = n_docs_both(a, b)\n",
        "  n = n_docs()\n",
        "  x = (n_ab - (1 / n) * n_a * n_b) ** 2 / (n_a * n_b)\n",
        "  return (x,b)\n",
        "  \n",
        "def calc_dice(a, b):\n",
        "  n_a = n_docs_word(a)\n",
        "  n_b = n_docs_word(b)\n",
        "  n_ab = n_docs_both(a, b)\n",
        "  dice = n_ab / (n_a + n_b)\n",
        "  return (dice,b)"
      ],
      "execution_count": 0,
      "outputs": []
    },
    {
      "cell_type": "code",
      "metadata": {
        "id": "zbY8hBJBujQN",
        "colab_type": "code",
        "colab": {}
      },
      "source": [
        "def create_metrics_table(query):\n",
        "  top_10_table = pd.DataFrame()\n",
        "  MIM = []\n",
        "  EMIM = []\n",
        "  X = []\n",
        "  Dice = []\n",
        "  \n",
        "  for word in ranking:\n",
        "    if word != query:\n",
        "      bisect.insort(MIM, calc_mim(query,word))\n",
        "      bisect.insort(EMIM,calc_emim(query, word))\n",
        "      bisect.insort(X,calc_x(query, word))\n",
        "      bisect.insort(Dice,calc_dice(query, word))\n",
        "\n",
        "  MIM.reverse()\n",
        "  EMIM.reverse()\n",
        "  X.reverse()\n",
        "  Dice.reverse()\n",
        "  \n",
        "  top_10_table['MIM'] = [word[1] for word in MIM]\n",
        "  top_10_table['EMIM'] = [word[1] for word in EMIM]\n",
        "  top_10_table['X²'] = [word[1] for word in X]\n",
        "  top_10_table['Dice'] = [word[1] for word in Dice]\n",
        "  \n",
        "  return top_10_table.head(10)"
      ],
      "execution_count": 0,
      "outputs": []
    },
    {
      "cell_type": "code",
      "metadata": {
        "id": "axOJ34jiBL0A",
        "colab_type": "code",
        "colab": {}
      },
      "source": [
        "table_1 = create_metrics_table(queries[0])\n",
        "table_2 = create_metrics_table(queries[1])\n",
        "table_3 = create_metrics_table(queries[2])\n",
        "table_4 = create_metrics_table(queries[3])\n",
        "table_5 = create_metrics_table(queries[4])"
      ],
      "execution_count": 0,
      "outputs": []
    },
    {
      "cell_type": "markdown",
      "metadata": {
        "id": "ywIVJjE7Bufv",
        "colab_type": "text"
      },
      "source": [
        "####Tabela para a consulta: 'Bolsonaro'"
      ]
    },
    {
      "cell_type": "code",
      "metadata": {
        "id": "S5idEpXTBWs3",
        "colab_type": "code",
        "colab": {
          "base_uri": "https://localhost:8080/",
          "height": 359
        },
        "outputId": "e0eab71d-4b78-4c6f-c85c-4d5cd1c31984"
      },
      "source": [
        "table_1.index += 1\n",
        "table_1"
      ],
      "execution_count": 200,
      "outputs": [
        {
          "output_type": "execute_result",
          "data": {
            "text/html": [
              "<div>\n",
              "<style scoped>\n",
              "    .dataframe tbody tr th:only-of-type {\n",
              "        vertical-align: middle;\n",
              "    }\n",
              "\n",
              "    .dataframe tbody tr th {\n",
              "        vertical-align: top;\n",
              "    }\n",
              "\n",
              "    .dataframe thead th {\n",
              "        text-align: right;\n",
              "    }\n",
              "</style>\n",
              "<table border=\"1\" class=\"dataframe\">\n",
              "  <thead>\n",
              "    <tr style=\"text-align: right;\">\n",
              "      <th></th>\n",
              "      <th>MIM</th>\n",
              "      <th>EMIM</th>\n",
              "      <th>X²</th>\n",
              "      <th>Dice</th>\n",
              "    </tr>\n",
              "  </thead>\n",
              "  <tbody>\n",
              "    <tr>\n",
              "      <th>1</th>\n",
              "      <td>única</td>\n",
              "      <td>jair</td>\n",
              "      <td>jair</td>\n",
              "      <td>jair</td>\n",
              "    </tr>\n",
              "    <tr>\n",
              "      <th>2</th>\n",
              "      <td>últimas</td>\n",
              "      <td>presidente</td>\n",
              "      <td>psl</td>\n",
              "      <td>presidente</td>\n",
              "    </tr>\n",
              "    <tr>\n",
              "      <th>3</th>\n",
              "      <td>ódio</td>\n",
              "      <td>anos</td>\n",
              "      <td>anos</td>\n",
              "      <td>brasil</td>\n",
              "    </tr>\n",
              "    <tr>\n",
              "      <th>4</th>\n",
              "      <td>íntegra</td>\n",
              "      <td>psl</td>\n",
              "      <td>visita</td>\n",
              "      <td>anos</td>\n",
              "    </tr>\n",
              "    <tr>\n",
              "      <th>5</th>\n",
              "      <td>índia</td>\n",
              "      <td>brasil</td>\n",
              "      <td>então</td>\n",
              "      <td>governo</td>\n",
              "    </tr>\n",
              "    <tr>\n",
              "      <th>6</th>\n",
              "      <td>ídolo</td>\n",
              "      <td>visita</td>\n",
              "      <td>israel</td>\n",
              "      <td>segundo</td>\n",
              "    </tr>\n",
              "    <tr>\n",
              "      <th>7</th>\n",
              "      <td>áreas</td>\n",
              "      <td>então</td>\n",
              "      <td>seguida</td>\n",
              "      <td>afirmou</td>\n",
              "    </tr>\n",
              "    <tr>\n",
              "      <th>8</th>\n",
              "      <td>árabe</td>\n",
              "      <td>israel</td>\n",
              "      <td>críticas</td>\n",
              "      <td>disse</td>\n",
              "    </tr>\n",
              "    <tr>\n",
              "      <th>9</th>\n",
              "      <td>água</td>\n",
              "      <td>governo</td>\n",
              "      <td>campanha</td>\n",
              "      <td>ser</td>\n",
              "    </tr>\n",
              "    <tr>\n",
              "      <th>10</th>\n",
              "      <td>zilhões</td>\n",
              "      <td>afirmou</td>\n",
              "      <td>fazer</td>\n",
              "      <td>sobre</td>\n",
              "    </tr>\n",
              "  </tbody>\n",
              "</table>\n",
              "</div>"
            ],
            "text/plain": [
              "        MIM        EMIM        X²        Dice\n",
              "1     única        jair      jair        jair\n",
              "2   últimas  presidente       psl  presidente\n",
              "3      ódio        anos      anos      brasil\n",
              "4   íntegra         psl    visita        anos\n",
              "5     índia      brasil     então     governo\n",
              "6     ídolo      visita    israel     segundo\n",
              "7     áreas       então   seguida     afirmou\n",
              "8     árabe      israel  críticas       disse\n",
              "9      água     governo  campanha         ser\n",
              "10  zilhões     afirmou     fazer       sobre"
            ]
          },
          "metadata": {
            "tags": []
          },
          "execution_count": 200
        }
      ]
    },
    {
      "cell_type": "markdown",
      "metadata": {
        "id": "McpHTjVVB5xA",
        "colab_type": "text"
      },
      "source": [
        "####Tabela para a consulta: 'Educação'"
      ]
    },
    {
      "cell_type": "code",
      "metadata": {
        "id": "bArFMpg6BYnC",
        "colab_type": "code",
        "colab": {
          "base_uri": "https://localhost:8080/",
          "height": 359
        },
        "outputId": "44da9421-b5ab-44e0-9b85-a9a06de337e2"
      },
      "source": [
        "table_2.index += 1\n",
        "table_2"
      ],
      "execution_count": 201,
      "outputs": [
        {
          "output_type": "execute_result",
          "data": {
            "text/html": [
              "<div>\n",
              "<style scoped>\n",
              "    .dataframe tbody tr th:only-of-type {\n",
              "        vertical-align: middle;\n",
              "    }\n",
              "\n",
              "    .dataframe tbody tr th {\n",
              "        vertical-align: top;\n",
              "    }\n",
              "\n",
              "    .dataframe thead th {\n",
              "        text-align: right;\n",
              "    }\n",
              "</style>\n",
              "<table border=\"1\" class=\"dataframe\">\n",
              "  <thead>\n",
              "    <tr style=\"text-align: right;\">\n",
              "      <th></th>\n",
              "      <th>MIM</th>\n",
              "      <th>EMIM</th>\n",
              "      <th>X²</th>\n",
              "      <th>Dice</th>\n",
              "    </tr>\n",
              "  </thead>\n",
              "  <tbody>\n",
              "    <tr>\n",
              "      <th>1</th>\n",
              "      <td>ávila</td>\n",
              "      <td>vélez</td>\n",
              "      <td>vélez</td>\n",
              "      <td>vélez</td>\n",
              "    </tr>\n",
              "    <tr>\n",
              "      <th>2</th>\n",
              "      <td>zero</td>\n",
              "      <td>sabemos</td>\n",
              "      <td>sabemos</td>\n",
              "      <td>sabemos</td>\n",
              "    </tr>\n",
              "    <tr>\n",
              "      <th>3</th>\n",
              "      <td>vélez</td>\n",
              "      <td>ricardo</td>\n",
              "      <td>ricardo</td>\n",
              "      <td>ricardo</td>\n",
              "    </tr>\n",
              "    <tr>\n",
              "      <th>4</th>\n",
              "      <td>visando</td>\n",
              "      <td>afirmação</td>\n",
              "      <td>afirmação</td>\n",
              "      <td>afirmação</td>\n",
              "    </tr>\n",
              "    <tr>\n",
              "      <th>5</th>\n",
              "      <td>vinicius</td>\n",
              "      <td>pasta</td>\n",
              "      <td>soberana</td>\n",
              "      <td>pasta</td>\n",
              "    </tr>\n",
              "    <tr>\n",
              "      <th>6</th>\n",
              "      <td>vinculando</td>\n",
              "      <td>completou</td>\n",
              "      <td>saúde</td>\n",
              "      <td>completou</td>\n",
              "    </tr>\n",
              "    <tr>\n",
              "      <th>7</th>\n",
              "      <td>vigor</td>\n",
              "      <td>apenas</td>\n",
              "      <td>rodriguez</td>\n",
              "      <td>soberana</td>\n",
              "    </tr>\n",
              "    <tr>\n",
              "      <th>8</th>\n",
              "      <td>vidas</td>\n",
              "      <td>seguida</td>\n",
              "      <td>risca</td>\n",
              "      <td>saúde</td>\n",
              "    </tr>\n",
              "    <tr>\n",
              "      <th>9</th>\n",
              "      <td>viciado</td>\n",
              "      <td>porque</td>\n",
              "      <td>didáticos</td>\n",
              "      <td>rodriguez</td>\n",
              "    </tr>\n",
              "    <tr>\n",
              "      <th>10</th>\n",
              "      <td>verídica</td>\n",
              "      <td>soberana</td>\n",
              "      <td>constitucional</td>\n",
              "      <td>risca</td>\n",
              "    </tr>\n",
              "  </tbody>\n",
              "</table>\n",
              "</div>"
            ],
            "text/plain": [
              "           MIM       EMIM              X²       Dice\n",
              "1        ávila      vélez           vélez      vélez\n",
              "2         zero    sabemos         sabemos    sabemos\n",
              "3        vélez    ricardo         ricardo    ricardo\n",
              "4      visando  afirmação       afirmação  afirmação\n",
              "5     vinicius      pasta        soberana      pasta\n",
              "6   vinculando  completou           saúde  completou\n",
              "7        vigor     apenas       rodriguez   soberana\n",
              "8        vidas    seguida           risca      saúde\n",
              "9      viciado     porque       didáticos  rodriguez\n",
              "10    verídica   soberana  constitucional      risca"
            ]
          },
          "metadata": {
            "tags": []
          },
          "execution_count": 201
        }
      ]
    },
    {
      "cell_type": "markdown",
      "metadata": {
        "id": "09vbHGYoCGMd",
        "colab_type": "text"
      },
      "source": [
        "####Tabela para a consulta: 'Ministério'"
      ]
    },
    {
      "cell_type": "code",
      "metadata": {
        "id": "NgPb85EqBaeT",
        "colab_type": "code",
        "colab": {
          "base_uri": "https://localhost:8080/",
          "height": 359
        },
        "outputId": "8e7d1864-c063-448b-b5e6-2e3292eb05e0"
      },
      "source": [
        "table_3.index += 1\n",
        "table_3"
      ],
      "execution_count": 202,
      "outputs": [
        {
          "output_type": "execute_result",
          "data": {
            "text/html": [
              "<div>\n",
              "<style scoped>\n",
              "    .dataframe tbody tr th:only-of-type {\n",
              "        vertical-align: middle;\n",
              "    }\n",
              "\n",
              "    .dataframe tbody tr th {\n",
              "        vertical-align: top;\n",
              "    }\n",
              "\n",
              "    .dataframe thead th {\n",
              "        text-align: right;\n",
              "    }\n",
              "</style>\n",
              "<table border=\"1\" class=\"dataframe\">\n",
              "  <thead>\n",
              "    <tr style=\"text-align: right;\">\n",
              "      <th></th>\n",
              "      <th>MIM</th>\n",
              "      <th>EMIM</th>\n",
              "      <th>X²</th>\n",
              "      <th>Dice</th>\n",
              "    </tr>\n",
              "  </thead>\n",
              "  <tbody>\n",
              "    <tr>\n",
              "      <th>1</th>\n",
              "      <td>ínsita</td>\n",
              "      <td>público</td>\n",
              "      <td>tcu</td>\n",
              "      <td>público</td>\n",
              "    </tr>\n",
              "    <tr>\n",
              "      <th>2</th>\n",
              "      <td>zero</td>\n",
              "      <td>tcu</td>\n",
              "      <td>público</td>\n",
              "      <td>diz</td>\n",
              "    </tr>\n",
              "    <tr>\n",
              "      <th>3</th>\n",
              "      <td>you</td>\n",
              "      <td>militares</td>\n",
              "      <td>procuradores</td>\n",
              "      <td>militares</td>\n",
              "    </tr>\n",
              "    <tr>\n",
              "      <th>4</th>\n",
              "      <td>wti</td>\n",
              "      <td>voz</td>\n",
              "      <td>petrobrás</td>\n",
              "      <td>segundo</td>\n",
              "    </tr>\n",
              "    <tr>\n",
              "      <th>5</th>\n",
              "      <td>wikileaks</td>\n",
              "      <td>união</td>\n",
              "      <td>força</td>\n",
              "      <td>sobre</td>\n",
              "    </tr>\n",
              "    <tr>\n",
              "      <th>6</th>\n",
              "      <td>whatsapp</td>\n",
              "      <td>diz</td>\n",
              "      <td>conselho</td>\n",
              "      <td>voz</td>\n",
              "    </tr>\n",
              "    <tr>\n",
              "      <th>7</th>\n",
              "      <td>web</td>\n",
              "      <td>deste</td>\n",
              "      <td>aplicação</td>\n",
              "      <td>união</td>\n",
              "    </tr>\n",
              "    <tr>\n",
              "      <th>8</th>\n",
              "      <td>vítima</td>\n",
              "      <td>tribunal</td>\n",
              "      <td>voz</td>\n",
              "      <td>tribunal</td>\n",
              "    </tr>\n",
              "    <tr>\n",
              "      <th>9</th>\n",
              "      <td>véspera</td>\n",
              "      <td>procuradores</td>\n",
              "      <td>união</td>\n",
              "      <td>ainda</td>\n",
              "    </tr>\n",
              "    <tr>\n",
              "      <th>10</th>\n",
              "      <td>válidos</td>\n",
              "      <td>petrobrás</td>\n",
              "      <td>militares</td>\n",
              "      <td>deste</td>\n",
              "    </tr>\n",
              "  </tbody>\n",
              "</table>\n",
              "</div>"
            ],
            "text/plain": [
              "          MIM          EMIM            X²       Dice\n",
              "1      ínsita       público           tcu    público\n",
              "2        zero           tcu       público        diz\n",
              "3         you     militares  procuradores  militares\n",
              "4         wti           voz     petrobrás    segundo\n",
              "5   wikileaks         união         força      sobre\n",
              "6    whatsapp           diz      conselho        voz\n",
              "7         web         deste     aplicação      união\n",
              "8      vítima      tribunal           voz   tribunal\n",
              "9     véspera  procuradores         união      ainda\n",
              "10    válidos     petrobrás     militares      deste"
            ]
          },
          "metadata": {
            "tags": []
          },
          "execution_count": 202
        }
      ]
    },
    {
      "cell_type": "markdown",
      "metadata": {
        "id": "vFlUTQuPCL1A",
        "colab_type": "text"
      },
      "source": [
        "####Tabela para a consulta: 'Brasil'"
      ]
    },
    {
      "cell_type": "code",
      "metadata": {
        "id": "qfdW2uUCBbKl",
        "colab_type": "code",
        "colab": {
          "base_uri": "https://localhost:8080/",
          "height": 359
        },
        "outputId": "2f4f7313-8280-47c2-db6c-ab9733bcecdf"
      },
      "source": [
        "table_4.index += 1\n",
        "table_4"
      ],
      "execution_count": 203,
      "outputs": [
        {
          "output_type": "execute_result",
          "data": {
            "text/html": [
              "<div>\n",
              "<style scoped>\n",
              "    .dataframe tbody tr th:only-of-type {\n",
              "        vertical-align: middle;\n",
              "    }\n",
              "\n",
              "    .dataframe tbody tr th {\n",
              "        vertical-align: top;\n",
              "    }\n",
              "\n",
              "    .dataframe thead th {\n",
              "        text-align: right;\n",
              "    }\n",
              "</style>\n",
              "<table border=\"1\" class=\"dataframe\">\n",
              "  <thead>\n",
              "    <tr style=\"text-align: right;\">\n",
              "      <th></th>\n",
              "      <th>MIM</th>\n",
              "      <th>EMIM</th>\n",
              "      <th>X²</th>\n",
              "      <th>Dice</th>\n",
              "    </tr>\n",
              "  </thead>\n",
              "  <tbody>\n",
              "    <tr>\n",
              "      <th>1</th>\n",
              "      <td>útil</td>\n",
              "      <td>brasileira</td>\n",
              "      <td>brasileira</td>\n",
              "      <td>bolsonaro</td>\n",
              "    </tr>\n",
              "    <tr>\n",
              "      <th>2</th>\n",
              "      <td>única</td>\n",
              "      <td>outros</td>\n",
              "      <td>partir</td>\n",
              "      <td>jair</td>\n",
              "    </tr>\n",
              "    <tr>\n",
              "      <th>3</th>\n",
              "      <td>índia</td>\n",
              "      <td>bolsonaro</td>\n",
              "      <td>onde</td>\n",
              "      <td>sobre</td>\n",
              "    </tr>\n",
              "    <tr>\n",
              "      <th>4</th>\n",
              "      <td>ávila</td>\n",
              "      <td>jair</td>\n",
              "      <td>resistência</td>\n",
              "      <td>brasileira</td>\n",
              "    </tr>\n",
              "    <tr>\n",
              "      <th>5</th>\n",
              "      <td>áreas</td>\n",
              "      <td>onde</td>\n",
              "      <td>luiz</td>\n",
              "      <td>segundo</td>\n",
              "    </tr>\n",
              "    <tr>\n",
              "      <th>6</th>\n",
              "      <td>áquila</td>\n",
              "      <td>países</td>\n",
              "      <td>outros</td>\n",
              "      <td>ser</td>\n",
              "    </tr>\n",
              "    <tr>\n",
              "      <th>7</th>\n",
              "      <td>zonas</td>\n",
              "      <td>estados</td>\n",
              "      <td>tempo</td>\n",
              "      <td>país</td>\n",
              "    </tr>\n",
              "    <tr>\n",
              "      <th>8</th>\n",
              "      <td>zilhões</td>\n",
              "      <td>partir</td>\n",
              "      <td>momento</td>\n",
              "      <td>governo</td>\n",
              "    </tr>\n",
              "    <tr>\n",
              "      <th>9</th>\n",
              "      <td>zero</td>\n",
              "      <td>tempo</td>\n",
              "      <td>países</td>\n",
              "      <td>ter</td>\n",
              "    </tr>\n",
              "    <tr>\n",
              "      <th>10</th>\n",
              "      <td>you</td>\n",
              "      <td>momento</td>\n",
              "      <td>regime</td>\n",
              "      <td>ainda</td>\n",
              "    </tr>\n",
              "  </tbody>\n",
              "</table>\n",
              "</div>"
            ],
            "text/plain": [
              "        MIM        EMIM           X²        Dice\n",
              "1      útil  brasileira   brasileira   bolsonaro\n",
              "2     única      outros       partir        jair\n",
              "3     índia   bolsonaro         onde       sobre\n",
              "4     ávila        jair  resistência  brasileira\n",
              "5     áreas        onde         luiz     segundo\n",
              "6    áquila      países       outros         ser\n",
              "7     zonas     estados        tempo        país\n",
              "8   zilhões      partir      momento     governo\n",
              "9      zero       tempo       países         ter\n",
              "10      you     momento       regime       ainda"
            ]
          },
          "metadata": {
            "tags": []
          },
          "execution_count": 203
        }
      ]
    },
    {
      "cell_type": "markdown",
      "metadata": {
        "id": "80B4zI8HCPOG",
        "colab_type": "text"
      },
      "source": [
        "####Tabela para a consulta: 'Economia'"
      ]
    },
    {
      "cell_type": "code",
      "metadata": {
        "id": "0zLCM44RBb9z",
        "colab_type": "code",
        "colab": {
          "base_uri": "https://localhost:8080/",
          "height": 359
        },
        "outputId": "e9789c85-195c-4e38-bceb-7d145ecace1f"
      },
      "source": [
        "table_5.index += 1\n",
        "table_5"
      ],
      "execution_count": 204,
      "outputs": [
        {
          "output_type": "execute_result",
          "data": {
            "text/html": [
              "<div>\n",
              "<style scoped>\n",
              "    .dataframe tbody tr th:only-of-type {\n",
              "        vertical-align: middle;\n",
              "    }\n",
              "\n",
              "    .dataframe tbody tr th {\n",
              "        vertical-align: top;\n",
              "    }\n",
              "\n",
              "    .dataframe thead th {\n",
              "        text-align: right;\n",
              "    }\n",
              "</style>\n",
              "<table border=\"1\" class=\"dataframe\">\n",
              "  <thead>\n",
              "    <tr style=\"text-align: right;\">\n",
              "      <th></th>\n",
              "      <th>MIM</th>\n",
              "      <th>EMIM</th>\n",
              "      <th>X²</th>\n",
              "      <th>Dice</th>\n",
              "    </tr>\n",
              "  </thead>\n",
              "  <tbody>\n",
              "    <tr>\n",
              "      <th>1</th>\n",
              "      <td>única</td>\n",
              "      <td>guedes</td>\n",
              "      <td>guedes</td>\n",
              "      <td>guedes</td>\n",
              "    </tr>\n",
              "    <tr>\n",
              "      <th>2</th>\n",
              "      <td>ávila</td>\n",
              "      <td>proposta</td>\n",
              "      <td>proposta</td>\n",
              "      <td>previdência</td>\n",
              "    </tr>\n",
              "    <tr>\n",
              "      <th>3</th>\n",
              "      <td>zero</td>\n",
              "      <td>previdência</td>\n",
              "      <td>previdência</td>\n",
              "      <td>proposta</td>\n",
              "    </tr>\n",
              "    <tr>\n",
              "      <th>4</th>\n",
              "      <td>zeca</td>\n",
              "      <td>reforma</td>\n",
              "      <td>cenário</td>\n",
              "      <td>reforma</td>\n",
              "    </tr>\n",
              "    <tr>\n",
              "      <th>5</th>\n",
              "      <td>wti</td>\n",
              "      <td>bilhões</td>\n",
              "      <td>reforma</td>\n",
              "      <td>paulo</td>\n",
              "    </tr>\n",
              "    <tr>\n",
              "      <th>6</th>\n",
              "      <td>walter</td>\n",
              "      <td>paulo</td>\n",
              "      <td>últimos</td>\n",
              "      <td>ano</td>\n",
              "    </tr>\n",
              "    <tr>\n",
              "      <th>7</th>\n",
              "      <td>véspera</td>\n",
              "      <td>últimos</td>\n",
              "      <td>meses</td>\n",
              "      <td>bilhões</td>\n",
              "    </tr>\n",
              "    <tr>\n",
              "      <th>8</th>\n",
              "      <td>votada</td>\n",
              "      <td>meses</td>\n",
              "      <td>maiores</td>\n",
              "      <td>ministro</td>\n",
              "    </tr>\n",
              "    <tr>\n",
              "      <th>9</th>\n",
              "      <td>volatilidade</td>\n",
              "      <td>maiores</td>\n",
              "      <td>empresas</td>\n",
              "      <td>nesta</td>\n",
              "    </tr>\n",
              "    <tr>\n",
              "      <th>10</th>\n",
              "      <td>vocação</td>\n",
              "      <td>empresas</td>\n",
              "      <td>audiência</td>\n",
              "      <td>país</td>\n",
              "    </tr>\n",
              "  </tbody>\n",
              "</table>\n",
              "</div>"
            ],
            "text/plain": [
              "             MIM         EMIM           X²         Dice\n",
              "1          única       guedes       guedes       guedes\n",
              "2          ávila     proposta     proposta  previdência\n",
              "3           zero  previdência  previdência     proposta\n",
              "4           zeca      reforma      cenário      reforma\n",
              "5            wti      bilhões      reforma        paulo\n",
              "6         walter        paulo      últimos          ano\n",
              "7        véspera      últimos        meses      bilhões\n",
              "8         votada        meses      maiores     ministro\n",
              "9   volatilidade      maiores     empresas        nesta\n",
              "10       vocação     empresas    audiência         país"
            ]
          },
          "metadata": {
            "tags": []
          },
          "execution_count": 204
        }
      ]
    },
    {
      "cell_type": "markdown",
      "metadata": {
        "id": "4U_7s9L6ujmv",
        "colab_type": "text"
      },
      "source": [
        "### 2. De acordo com a métrica que deu os melhores resultados na sua opinião, execute agora cada consulta (usando a abordagem documento- ou termo-por-vez)  expandido-a com: os top-3, top-5 e top-10 documentos. O que acontece com a precisão dos resultados em cada caso? Aumenta ou diminui? Justifique bem sua resposta."
      ]
    }
  ]
}