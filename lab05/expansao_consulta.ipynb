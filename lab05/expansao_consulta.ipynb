{
  "nbformat": 4,
  "nbformat_minor": 0,
  "metadata": {
    "colab": {
      "name": "expansao_consulta",
      "version": "0.3.2",
      "provenance": [],
      "collapsed_sections": [
        "McpHTjVVB5xA",
        "09vbHGYoCGMd",
        "vFlUTQuPCL1A",
        "80B4zI8HCPOG"
      ],
      "include_colab_link": true
    },
    "kernelspec": {
      "name": "python3",
      "display_name": "Python 3"
    }
  },
  "cells": [
    {
      "cell_type": "markdown",
      "metadata": {
        "id": "view-in-github",
        "colab_type": "text"
      },
      "source": [
        "<a href=\"https://colab.research.google.com/github/adautofbn/ri_labs/blob/master/lab05/expansao_consulta.ipynb\" target=\"_parent\"><img src=\"https://colab.research.google.com/assets/colab-badge.svg\" alt=\"Open In Colab\"/></a>"
      ]
    },
    {
      "cell_type": "code",
      "metadata": {
        "id": "XuY1pp7Qp-tE",
        "colab_type": "code",
        "outputId": "542f0d5a-202b-4b5a-ef21-84b6f05cbfe9",
        "colab": {
          "base_uri": "https://localhost:8080/",
          "height": 51
        }
      },
      "source": [
        "import pandas as pd\n",
        "import numpy as np\n",
        "import nltk\n",
        "import re\n",
        "import collections\n",
        "import heapq\n",
        "import time\n",
        "import bisect\n",
        "import random\n",
        "from nltk.tokenize import RegexpTokenizer\n",
        "\n",
        "nltk.download('stopwords')\n",
        "result = pd.read_csv('https://raw.githubusercontent.com/adautofbn/ri_lab_01/master/output/results.csv') \n",
        "                                            # Resultados adquiridos do site brasil-247 em abril de 2019"
      ],
      "execution_count": 207,
      "outputs": [
        {
          "output_type": "stream",
          "text": [
            "[nltk_data] Downloading package stopwords to /root/nltk_data...\n",
            "[nltk_data]   Package stopwords is already up-to-date!\n"
          ],
          "name": "stdout"
        }
      ]
    },
    {
      "cell_type": "markdown",
      "metadata": {
        "id": "Rzc_3huvEhV3",
        "colab_type": "text"
      },
      "source": [
        "Para a realização dessa tarefa, fizemos o ranqueamento das palavras presentes nos documentos adquiridos do site https://www.brasil247.com/ em Abril de 2019. Criando um dicionário que irá relacionar as palavras com suas listas invertidas com os documentos e os scores da palavra."
      ]
    },
    {
      "cell_type": "code",
      "metadata": {
        "id": "MOSw37nUKtCI",
        "colab_type": "code",
        "colab": {}
      },
      "source": [
        "tknz = RegexpTokenizer(r'([A-Za-zÁáÉéÍíÓóÚúÃãÕõÇçÂâÊê]{3,27})')\n",
        "stopwords = nltk.corpus.stopwords.words('portuguese') \n",
        "indexes = {}\n",
        "n = 0\n",
        "\n",
        "for text in result.text:\n",
        "  words = [word for word in tknz.tokenize(text.lower())\n",
        "           if not bool(re.search(r'\\d', word))\n",
        "           and word not in stopwords and len(word) >= 3]  \n",
        "  n += 1\n",
        "  for t in words:\n",
        "    if t not in indexes.keys():\n",
        "      indexes[t] = []\n",
        "    indexes[t].append(n)\n",
        "    \n",
        "for elem in indexes.items():\n",
        "  d = dict(collections.Counter(elem[1]))\n",
        "  indexes[elem[0]] = list(d.items())"
      ],
      "execution_count": 0,
      "outputs": []
    },
    {
      "cell_type": "markdown",
      "metadata": {
        "id": "4hwnAEWBESFw",
        "colab_type": "text"
      },
      "source": [
        "Abaixo, temos as palavras que terão sua consulta expandida"
      ]
    },
    {
      "cell_type": "code",
      "metadata": {
        "id": "qYKrGnagt-o2",
        "colab_type": "code",
        "colab": {}
      },
      "source": [
        "queries = [\"bolsonaro\", \"educação\", \"ministério\", \"brasil\", \"economia\"]"
      ],
      "execution_count": 0,
      "outputs": []
    },
    {
      "cell_type": "markdown",
      "metadata": {
        "id": "y3YVhyLTugJM",
        "colab_type": "text"
      },
      "source": [
        "### 1. Calcule as top-10 palavras mais associadas a cada uma dessas 5 palavras de acordo com as 4 métricas que vimos na aula. Você deve produzir uma tabela similar à tabela 6.3 do capítulo 6 do livro texto (pág. 204). Qual métrica você acha que obteve os melhores resultados? Por que?"
      ]
    },
    {
      "cell_type": "markdown",
      "metadata": {
        "id": "K_wwGlkMFT8G",
        "colab_type": "text"
      },
      "source": [
        "Definimos então, os valores que serão necessários para o cálculo das 4 métricas, sendo eles:\n",
        "  * O número total de documentos no ranking;\n",
        "  * O número de documentos em que uma palavra aparece;\n",
        "  * O número de documentos em que ambas as palavras aparecem."
      ]
    },
    {
      "cell_type": "code",
      "metadata": {
        "id": "V_MpIn1pEjEX",
        "colab_type": "code",
        "colab": {}
      },
      "source": [
        "def n_docs_word(word, ranking):\n",
        "  return len(ranking[word])\n",
        "\n",
        "def n_docs_both(a, b, ranking):\n",
        "  docs_a = [doc for doc,score in ranking[a]]\n",
        "  docs_b = [doc for doc,score in ranking[b]]\n",
        "  n = 0\n",
        "  \n",
        "  for doc in docs_a:\n",
        "    if doc in docs_b:\n",
        "      n += 1\n",
        "      \n",
        "  return n"
      ],
      "execution_count": 0,
      "outputs": []
    },
    {
      "cell_type": "markdown",
      "metadata": {
        "id": "rzttg9QDF4vF",
        "colab_type": "text"
      },
      "source": [
        "Aqui, temos o cálculos das métricas dispostas no livro:\n",
        "  * MIM;\n",
        "  * EMIM;\n",
        "  * X²;\n",
        "  * Dice.\n",
        "  \n",
        "Que irão indicar a proximidade das duas palavras dentro do ranking."
      ]
    },
    {
      "cell_type": "code",
      "metadata": {
        "id": "TW7-5fxy53am",
        "colab_type": "code",
        "colab": {}
      },
      "source": [
        "def calc_mim(a, b, ranking):\n",
        "  n_a = n_docs_word(a, ranking)\n",
        "  n_b = n_docs_word(b, ranking)\n",
        "  n_ab = n_docs_both(a, b, ranking)\n",
        "  quo = (n_a * n_b)\n",
        "  mim = n_ab / quo if quo != 0 else 0\n",
        "  return (mim,b)\n",
        "  \n",
        "def calc_emim(a, b, ranking, n):\n",
        "  n_a = n_docs_word(a, ranking)\n",
        "  n_b = n_docs_word(b, ranking)\n",
        "  n_ab = n_docs_both(a, b, ranking)\n",
        "  quo = (n_a * n_b)\n",
        "  exp = n * (n_ab / quo) if quo != 0 else 0\n",
        "  emim = n_ab * np.log10(exp) if exp != 0 else 0\n",
        "  return (emim, b)\n",
        "  \n",
        "def calc_x(a, b, ranking, n):\n",
        "  n_a = n_docs_word(a, ranking)\n",
        "  n_b = n_docs_word(b, ranking)\n",
        "  n_ab = n_docs_both(a, b, ranking)\n",
        "  quo = (n_a * n_b)\n",
        "  x = (n_ab - (1 / n) * n_a * n_b) ** 2 / quo if quo != 0 else 0\n",
        "  return (x,b)\n",
        "  \n",
        "def calc_dice(a, b, ranking):\n",
        "  n_a = n_docs_word(a, ranking)\n",
        "  n_b = n_docs_word(b, ranking)\n",
        "  n_ab = n_docs_both(a, b, ranking)\n",
        "  dice = n_ab / (n_a + n_b)\n",
        "  return (dice,b)"
      ],
      "execution_count": 0,
      "outputs": []
    },
    {
      "cell_type": "markdown",
      "metadata": {
        "id": "079BSl89GxVW",
        "colab_type": "text"
      },
      "source": [
        "Nesse momento, iremos fazer a criação da tabela com as top-10 palavras que se aproximam da consulta."
      ]
    },
    {
      "cell_type": "code",
      "metadata": {
        "id": "zbY8hBJBujQN",
        "colab_type": "code",
        "colab": {}
      },
      "source": [
        "def create_metrics_table(query, ranking, n):\n",
        "  top_10_table = pd.DataFrame()\n",
        "  MIM = []\n",
        "  EMIM = []\n",
        "  X = []\n",
        "  Dice = []\n",
        "  \n",
        "  for word in ranking:\n",
        "    if word != query:\n",
        "      bisect.insort(MIM, calc_mim(query, word, ranking))\n",
        "      bisect.insort(EMIM,calc_emim(query, word, ranking, n))\n",
        "      bisect.insort(X,calc_x(query, word, ranking, n))\n",
        "      bisect.insort(Dice,calc_dice(query, word, ranking))\n",
        "\n",
        "  MIM.reverse()\n",
        "  EMIM.reverse()\n",
        "  X.reverse()\n",
        "  Dice.reverse()\n",
        "  \n",
        "  top_10_table['MIM'] = [word[1] for word in MIM[:10]]\n",
        "  top_10_table['EMIM'] = [word[1] for word in EMIM[:10]]\n",
        "  top_10_table['X²'] = [word[1] for word in X[:10]]\n",
        "  top_10_table['Dice'] = [word[1] for word in Dice[:10]]\n",
        "  \n",
        "  top_10_table.index += 1\n",
        "  \n",
        "  return top_10_table"
      ],
      "execution_count": 0,
      "outputs": []
    },
    {
      "cell_type": "code",
      "metadata": {
        "id": "axOJ34jiBL0A",
        "colab_type": "code",
        "colab": {}
      },
      "source": [
        "n = result.text.count()\n",
        "table_1 = create_metrics_table(queries[0], indexes, n)\n",
        "table_2 = create_metrics_table(queries[1], indexes, n)\n",
        "table_3 = create_metrics_table(queries[2], indexes, n)\n",
        "table_4 = create_metrics_table(queries[3], indexes, n)\n",
        "table_5 = create_metrics_table(queries[4], indexes, n)"
      ],
      "execution_count": 0,
      "outputs": []
    },
    {
      "cell_type": "markdown",
      "metadata": {
        "id": "ywIVJjE7Bufv",
        "colab_type": "text"
      },
      "source": [
        "####1.1 Top-10 palavras associadas a 'Bolsonaro' "
      ]
    },
    {
      "cell_type": "code",
      "metadata": {
        "id": "S5idEpXTBWs3",
        "colab_type": "code",
        "outputId": "839a0118-66b2-4632-9630-1e715a70d233",
        "colab": {
          "base_uri": "https://localhost:8080/",
          "height": 359
        }
      },
      "source": [
        "table_1"
      ],
      "execution_count": 214,
      "outputs": [
        {
          "output_type": "execute_result",
          "data": {
            "text/html": [
              "<div>\n",
              "<style scoped>\n",
              "    .dataframe tbody tr th:only-of-type {\n",
              "        vertical-align: middle;\n",
              "    }\n",
              "\n",
              "    .dataframe tbody tr th {\n",
              "        vertical-align: top;\n",
              "    }\n",
              "\n",
              "    .dataframe thead th {\n",
              "        text-align: right;\n",
              "    }\n",
              "</style>\n",
              "<table border=\"1\" class=\"dataframe\">\n",
              "  <thead>\n",
              "    <tr style=\"text-align: right;\">\n",
              "      <th></th>\n",
              "      <th>MIM</th>\n",
              "      <th>EMIM</th>\n",
              "      <th>X²</th>\n",
              "      <th>Dice</th>\n",
              "    </tr>\n",
              "  </thead>\n",
              "  <tbody>\n",
              "    <tr>\n",
              "      <th>1</th>\n",
              "      <td>única</td>\n",
              "      <td>jair</td>\n",
              "      <td>jair</td>\n",
              "      <td>jair</td>\n",
              "    </tr>\n",
              "    <tr>\n",
              "      <th>2</th>\n",
              "      <td>últimas</td>\n",
              "      <td>presidente</td>\n",
              "      <td>psl</td>\n",
              "      <td>presidente</td>\n",
              "    </tr>\n",
              "    <tr>\n",
              "      <th>3</th>\n",
              "      <td>ódio</td>\n",
              "      <td>anos</td>\n",
              "      <td>anos</td>\n",
              "      <td>brasil</td>\n",
              "    </tr>\n",
              "    <tr>\n",
              "      <th>4</th>\n",
              "      <td>íntegra</td>\n",
              "      <td>psl</td>\n",
              "      <td>visita</td>\n",
              "      <td>anos</td>\n",
              "    </tr>\n",
              "    <tr>\n",
              "      <th>5</th>\n",
              "      <td>índia</td>\n",
              "      <td>brasil</td>\n",
              "      <td>então</td>\n",
              "      <td>governo</td>\n",
              "    </tr>\n",
              "    <tr>\n",
              "      <th>6</th>\n",
              "      <td>ídolo</td>\n",
              "      <td>visita</td>\n",
              "      <td>israel</td>\n",
              "      <td>segundo</td>\n",
              "    </tr>\n",
              "    <tr>\n",
              "      <th>7</th>\n",
              "      <td>áreas</td>\n",
              "      <td>então</td>\n",
              "      <td>seguida</td>\n",
              "      <td>afirmou</td>\n",
              "    </tr>\n",
              "    <tr>\n",
              "      <th>8</th>\n",
              "      <td>árabe</td>\n",
              "      <td>israel</td>\n",
              "      <td>críticas</td>\n",
              "      <td>disse</td>\n",
              "    </tr>\n",
              "    <tr>\n",
              "      <th>9</th>\n",
              "      <td>água</td>\n",
              "      <td>governo</td>\n",
              "      <td>campanha</td>\n",
              "      <td>ser</td>\n",
              "    </tr>\n",
              "    <tr>\n",
              "      <th>10</th>\n",
              "      <td>zilhões</td>\n",
              "      <td>afirmou</td>\n",
              "      <td>fazer</td>\n",
              "      <td>sobre</td>\n",
              "    </tr>\n",
              "  </tbody>\n",
              "</table>\n",
              "</div>"
            ],
            "text/plain": [
              "        MIM        EMIM        X²        Dice\n",
              "1     única        jair      jair        jair\n",
              "2   últimas  presidente       psl  presidente\n",
              "3      ódio        anos      anos      brasil\n",
              "4   íntegra         psl    visita        anos\n",
              "5     índia      brasil     então     governo\n",
              "6     ídolo      visita    israel     segundo\n",
              "7     áreas       então   seguida     afirmou\n",
              "8     árabe      israel  críticas       disse\n",
              "9      água     governo  campanha         ser\n",
              "10  zilhões     afirmou     fazer       sobre"
            ]
          },
          "metadata": {
            "tags": []
          },
          "execution_count": 214
        }
      ]
    },
    {
      "cell_type": "markdown",
      "metadata": {
        "id": "McpHTjVVB5xA",
        "colab_type": "text"
      },
      "source": [
        "#### 1.2 Top-10 palavras associadas a 'Educação'"
      ]
    },
    {
      "cell_type": "code",
      "metadata": {
        "id": "bArFMpg6BYnC",
        "colab_type": "code",
        "outputId": "0f206d95-3c11-4a13-dd5e-2771ee563c59",
        "colab": {
          "base_uri": "https://localhost:8080/",
          "height": 359
        }
      },
      "source": [
        "table_2"
      ],
      "execution_count": 215,
      "outputs": [
        {
          "output_type": "execute_result",
          "data": {
            "text/html": [
              "<div>\n",
              "<style scoped>\n",
              "    .dataframe tbody tr th:only-of-type {\n",
              "        vertical-align: middle;\n",
              "    }\n",
              "\n",
              "    .dataframe tbody tr th {\n",
              "        vertical-align: top;\n",
              "    }\n",
              "\n",
              "    .dataframe thead th {\n",
              "        text-align: right;\n",
              "    }\n",
              "</style>\n",
              "<table border=\"1\" class=\"dataframe\">\n",
              "  <thead>\n",
              "    <tr style=\"text-align: right;\">\n",
              "      <th></th>\n",
              "      <th>MIM</th>\n",
              "      <th>EMIM</th>\n",
              "      <th>X²</th>\n",
              "      <th>Dice</th>\n",
              "    </tr>\n",
              "  </thead>\n",
              "  <tbody>\n",
              "    <tr>\n",
              "      <th>1</th>\n",
              "      <td>ávila</td>\n",
              "      <td>vélez</td>\n",
              "      <td>vélez</td>\n",
              "      <td>vélez</td>\n",
              "    </tr>\n",
              "    <tr>\n",
              "      <th>2</th>\n",
              "      <td>zero</td>\n",
              "      <td>sabemos</td>\n",
              "      <td>sabemos</td>\n",
              "      <td>sabemos</td>\n",
              "    </tr>\n",
              "    <tr>\n",
              "      <th>3</th>\n",
              "      <td>vélez</td>\n",
              "      <td>ricardo</td>\n",
              "      <td>ricardo</td>\n",
              "      <td>ricardo</td>\n",
              "    </tr>\n",
              "    <tr>\n",
              "      <th>4</th>\n",
              "      <td>visando</td>\n",
              "      <td>afirmação</td>\n",
              "      <td>afirmação</td>\n",
              "      <td>afirmação</td>\n",
              "    </tr>\n",
              "    <tr>\n",
              "      <th>5</th>\n",
              "      <td>vinicius</td>\n",
              "      <td>pasta</td>\n",
              "      <td>soberana</td>\n",
              "      <td>pasta</td>\n",
              "    </tr>\n",
              "    <tr>\n",
              "      <th>6</th>\n",
              "      <td>vinculando</td>\n",
              "      <td>completou</td>\n",
              "      <td>saúde</td>\n",
              "      <td>completou</td>\n",
              "    </tr>\n",
              "    <tr>\n",
              "      <th>7</th>\n",
              "      <td>vigor</td>\n",
              "      <td>apenas</td>\n",
              "      <td>rodriguez</td>\n",
              "      <td>soberana</td>\n",
              "    </tr>\n",
              "    <tr>\n",
              "      <th>8</th>\n",
              "      <td>vidas</td>\n",
              "      <td>seguida</td>\n",
              "      <td>risca</td>\n",
              "      <td>saúde</td>\n",
              "    </tr>\n",
              "    <tr>\n",
              "      <th>9</th>\n",
              "      <td>viciado</td>\n",
              "      <td>porque</td>\n",
              "      <td>didáticos</td>\n",
              "      <td>rodriguez</td>\n",
              "    </tr>\n",
              "    <tr>\n",
              "      <th>10</th>\n",
              "      <td>verídica</td>\n",
              "      <td>soberana</td>\n",
              "      <td>constitucional</td>\n",
              "      <td>risca</td>\n",
              "    </tr>\n",
              "  </tbody>\n",
              "</table>\n",
              "</div>"
            ],
            "text/plain": [
              "           MIM       EMIM              X²       Dice\n",
              "1        ávila      vélez           vélez      vélez\n",
              "2         zero    sabemos         sabemos    sabemos\n",
              "3        vélez    ricardo         ricardo    ricardo\n",
              "4      visando  afirmação       afirmação  afirmação\n",
              "5     vinicius      pasta        soberana      pasta\n",
              "6   vinculando  completou           saúde  completou\n",
              "7        vigor     apenas       rodriguez   soberana\n",
              "8        vidas    seguida           risca      saúde\n",
              "9      viciado     porque       didáticos  rodriguez\n",
              "10    verídica   soberana  constitucional      risca"
            ]
          },
          "metadata": {
            "tags": []
          },
          "execution_count": 215
        }
      ]
    },
    {
      "cell_type": "markdown",
      "metadata": {
        "id": "09vbHGYoCGMd",
        "colab_type": "text"
      },
      "source": [
        "#### 1.3 Top-10 palavras associadas a 'Ministério'"
      ]
    },
    {
      "cell_type": "code",
      "metadata": {
        "id": "NgPb85EqBaeT",
        "colab_type": "code",
        "outputId": "29d5744f-1b6a-4455-946e-55aebdf32f95",
        "colab": {
          "base_uri": "https://localhost:8080/",
          "height": 359
        }
      },
      "source": [
        "table_3"
      ],
      "execution_count": 216,
      "outputs": [
        {
          "output_type": "execute_result",
          "data": {
            "text/html": [
              "<div>\n",
              "<style scoped>\n",
              "    .dataframe tbody tr th:only-of-type {\n",
              "        vertical-align: middle;\n",
              "    }\n",
              "\n",
              "    .dataframe tbody tr th {\n",
              "        vertical-align: top;\n",
              "    }\n",
              "\n",
              "    .dataframe thead th {\n",
              "        text-align: right;\n",
              "    }\n",
              "</style>\n",
              "<table border=\"1\" class=\"dataframe\">\n",
              "  <thead>\n",
              "    <tr style=\"text-align: right;\">\n",
              "      <th></th>\n",
              "      <th>MIM</th>\n",
              "      <th>EMIM</th>\n",
              "      <th>X²</th>\n",
              "      <th>Dice</th>\n",
              "    </tr>\n",
              "  </thead>\n",
              "  <tbody>\n",
              "    <tr>\n",
              "      <th>1</th>\n",
              "      <td>ínsita</td>\n",
              "      <td>público</td>\n",
              "      <td>tcu</td>\n",
              "      <td>público</td>\n",
              "    </tr>\n",
              "    <tr>\n",
              "      <th>2</th>\n",
              "      <td>zero</td>\n",
              "      <td>tcu</td>\n",
              "      <td>público</td>\n",
              "      <td>diz</td>\n",
              "    </tr>\n",
              "    <tr>\n",
              "      <th>3</th>\n",
              "      <td>you</td>\n",
              "      <td>militares</td>\n",
              "      <td>procuradores</td>\n",
              "      <td>militares</td>\n",
              "    </tr>\n",
              "    <tr>\n",
              "      <th>4</th>\n",
              "      <td>wti</td>\n",
              "      <td>voz</td>\n",
              "      <td>petrobrás</td>\n",
              "      <td>segundo</td>\n",
              "    </tr>\n",
              "    <tr>\n",
              "      <th>5</th>\n",
              "      <td>wikileaks</td>\n",
              "      <td>união</td>\n",
              "      <td>força</td>\n",
              "      <td>sobre</td>\n",
              "    </tr>\n",
              "    <tr>\n",
              "      <th>6</th>\n",
              "      <td>whatsapp</td>\n",
              "      <td>diz</td>\n",
              "      <td>conselho</td>\n",
              "      <td>voz</td>\n",
              "    </tr>\n",
              "    <tr>\n",
              "      <th>7</th>\n",
              "      <td>web</td>\n",
              "      <td>deste</td>\n",
              "      <td>aplicação</td>\n",
              "      <td>união</td>\n",
              "    </tr>\n",
              "    <tr>\n",
              "      <th>8</th>\n",
              "      <td>vítima</td>\n",
              "      <td>tribunal</td>\n",
              "      <td>voz</td>\n",
              "      <td>tribunal</td>\n",
              "    </tr>\n",
              "    <tr>\n",
              "      <th>9</th>\n",
              "      <td>véspera</td>\n",
              "      <td>procuradores</td>\n",
              "      <td>união</td>\n",
              "      <td>ainda</td>\n",
              "    </tr>\n",
              "    <tr>\n",
              "      <th>10</th>\n",
              "      <td>válidos</td>\n",
              "      <td>petrobrás</td>\n",
              "      <td>militares</td>\n",
              "      <td>deste</td>\n",
              "    </tr>\n",
              "  </tbody>\n",
              "</table>\n",
              "</div>"
            ],
            "text/plain": [
              "          MIM          EMIM            X²       Dice\n",
              "1      ínsita       público           tcu    público\n",
              "2        zero           tcu       público        diz\n",
              "3         you     militares  procuradores  militares\n",
              "4         wti           voz     petrobrás    segundo\n",
              "5   wikileaks         união         força      sobre\n",
              "6    whatsapp           diz      conselho        voz\n",
              "7         web         deste     aplicação      união\n",
              "8      vítima      tribunal           voz   tribunal\n",
              "9     véspera  procuradores         união      ainda\n",
              "10    válidos     petrobrás     militares      deste"
            ]
          },
          "metadata": {
            "tags": []
          },
          "execution_count": 216
        }
      ]
    },
    {
      "cell_type": "markdown",
      "metadata": {
        "id": "vFlUTQuPCL1A",
        "colab_type": "text"
      },
      "source": [
        "#### 1.4 Top-10 palavras associadas a 'Brasil'"
      ]
    },
    {
      "cell_type": "code",
      "metadata": {
        "id": "qfdW2uUCBbKl",
        "colab_type": "code",
        "outputId": "fc0adcf6-31b1-43cc-83dd-95c9d87804d6",
        "colab": {
          "base_uri": "https://localhost:8080/",
          "height": 0
        }
      },
      "source": [
        "table_4"
      ],
      "execution_count": 217,
      "outputs": [
        {
          "output_type": "execute_result",
          "data": {
            "text/html": [
              "<div>\n",
              "<style scoped>\n",
              "    .dataframe tbody tr th:only-of-type {\n",
              "        vertical-align: middle;\n",
              "    }\n",
              "\n",
              "    .dataframe tbody tr th {\n",
              "        vertical-align: top;\n",
              "    }\n",
              "\n",
              "    .dataframe thead th {\n",
              "        text-align: right;\n",
              "    }\n",
              "</style>\n",
              "<table border=\"1\" class=\"dataframe\">\n",
              "  <thead>\n",
              "    <tr style=\"text-align: right;\">\n",
              "      <th></th>\n",
              "      <th>MIM</th>\n",
              "      <th>EMIM</th>\n",
              "      <th>X²</th>\n",
              "      <th>Dice</th>\n",
              "    </tr>\n",
              "  </thead>\n",
              "  <tbody>\n",
              "    <tr>\n",
              "      <th>1</th>\n",
              "      <td>útil</td>\n",
              "      <td>brasileira</td>\n",
              "      <td>brasileira</td>\n",
              "      <td>bolsonaro</td>\n",
              "    </tr>\n",
              "    <tr>\n",
              "      <th>2</th>\n",
              "      <td>única</td>\n",
              "      <td>outros</td>\n",
              "      <td>partir</td>\n",
              "      <td>jair</td>\n",
              "    </tr>\n",
              "    <tr>\n",
              "      <th>3</th>\n",
              "      <td>índia</td>\n",
              "      <td>bolsonaro</td>\n",
              "      <td>onde</td>\n",
              "      <td>sobre</td>\n",
              "    </tr>\n",
              "    <tr>\n",
              "      <th>4</th>\n",
              "      <td>ávila</td>\n",
              "      <td>jair</td>\n",
              "      <td>resistência</td>\n",
              "      <td>brasileira</td>\n",
              "    </tr>\n",
              "    <tr>\n",
              "      <th>5</th>\n",
              "      <td>áreas</td>\n",
              "      <td>onde</td>\n",
              "      <td>luiz</td>\n",
              "      <td>segundo</td>\n",
              "    </tr>\n",
              "    <tr>\n",
              "      <th>6</th>\n",
              "      <td>áquila</td>\n",
              "      <td>países</td>\n",
              "      <td>outros</td>\n",
              "      <td>ser</td>\n",
              "    </tr>\n",
              "    <tr>\n",
              "      <th>7</th>\n",
              "      <td>zonas</td>\n",
              "      <td>estados</td>\n",
              "      <td>tempo</td>\n",
              "      <td>país</td>\n",
              "    </tr>\n",
              "    <tr>\n",
              "      <th>8</th>\n",
              "      <td>zilhões</td>\n",
              "      <td>partir</td>\n",
              "      <td>momento</td>\n",
              "      <td>governo</td>\n",
              "    </tr>\n",
              "    <tr>\n",
              "      <th>9</th>\n",
              "      <td>zero</td>\n",
              "      <td>tempo</td>\n",
              "      <td>países</td>\n",
              "      <td>ter</td>\n",
              "    </tr>\n",
              "    <tr>\n",
              "      <th>10</th>\n",
              "      <td>you</td>\n",
              "      <td>momento</td>\n",
              "      <td>regime</td>\n",
              "      <td>ainda</td>\n",
              "    </tr>\n",
              "  </tbody>\n",
              "</table>\n",
              "</div>"
            ],
            "text/plain": [
              "        MIM        EMIM           X²        Dice\n",
              "1      útil  brasileira   brasileira   bolsonaro\n",
              "2     única      outros       partir        jair\n",
              "3     índia   bolsonaro         onde       sobre\n",
              "4     ávila        jair  resistência  brasileira\n",
              "5     áreas        onde         luiz     segundo\n",
              "6    áquila      países       outros         ser\n",
              "7     zonas     estados        tempo        país\n",
              "8   zilhões      partir      momento     governo\n",
              "9      zero       tempo       países         ter\n",
              "10      you     momento       regime       ainda"
            ]
          },
          "metadata": {
            "tags": []
          },
          "execution_count": 217
        }
      ]
    },
    {
      "cell_type": "markdown",
      "metadata": {
        "id": "80B4zI8HCPOG",
        "colab_type": "text"
      },
      "source": [
        "#### 1.5 Top-10 palavras associadas a 'Economia'"
      ]
    },
    {
      "cell_type": "code",
      "metadata": {
        "id": "0zLCM44RBb9z",
        "colab_type": "code",
        "outputId": "432e4a1d-4208-4c01-a6ff-77790dea5a83",
        "colab": {
          "base_uri": "https://localhost:8080/",
          "height": 359
        }
      },
      "source": [
        "table_5"
      ],
      "execution_count": 218,
      "outputs": [
        {
          "output_type": "execute_result",
          "data": {
            "text/html": [
              "<div>\n",
              "<style scoped>\n",
              "    .dataframe tbody tr th:only-of-type {\n",
              "        vertical-align: middle;\n",
              "    }\n",
              "\n",
              "    .dataframe tbody tr th {\n",
              "        vertical-align: top;\n",
              "    }\n",
              "\n",
              "    .dataframe thead th {\n",
              "        text-align: right;\n",
              "    }\n",
              "</style>\n",
              "<table border=\"1\" class=\"dataframe\">\n",
              "  <thead>\n",
              "    <tr style=\"text-align: right;\">\n",
              "      <th></th>\n",
              "      <th>MIM</th>\n",
              "      <th>EMIM</th>\n",
              "      <th>X²</th>\n",
              "      <th>Dice</th>\n",
              "    </tr>\n",
              "  </thead>\n",
              "  <tbody>\n",
              "    <tr>\n",
              "      <th>1</th>\n",
              "      <td>única</td>\n",
              "      <td>guedes</td>\n",
              "      <td>guedes</td>\n",
              "      <td>guedes</td>\n",
              "    </tr>\n",
              "    <tr>\n",
              "      <th>2</th>\n",
              "      <td>ávila</td>\n",
              "      <td>proposta</td>\n",
              "      <td>proposta</td>\n",
              "      <td>previdência</td>\n",
              "    </tr>\n",
              "    <tr>\n",
              "      <th>3</th>\n",
              "      <td>zero</td>\n",
              "      <td>previdência</td>\n",
              "      <td>previdência</td>\n",
              "      <td>proposta</td>\n",
              "    </tr>\n",
              "    <tr>\n",
              "      <th>4</th>\n",
              "      <td>zeca</td>\n",
              "      <td>reforma</td>\n",
              "      <td>cenário</td>\n",
              "      <td>reforma</td>\n",
              "    </tr>\n",
              "    <tr>\n",
              "      <th>5</th>\n",
              "      <td>wti</td>\n",
              "      <td>bilhões</td>\n",
              "      <td>reforma</td>\n",
              "      <td>paulo</td>\n",
              "    </tr>\n",
              "    <tr>\n",
              "      <th>6</th>\n",
              "      <td>walter</td>\n",
              "      <td>paulo</td>\n",
              "      <td>últimos</td>\n",
              "      <td>ano</td>\n",
              "    </tr>\n",
              "    <tr>\n",
              "      <th>7</th>\n",
              "      <td>véspera</td>\n",
              "      <td>últimos</td>\n",
              "      <td>meses</td>\n",
              "      <td>bilhões</td>\n",
              "    </tr>\n",
              "    <tr>\n",
              "      <th>8</th>\n",
              "      <td>votada</td>\n",
              "      <td>meses</td>\n",
              "      <td>maiores</td>\n",
              "      <td>ministro</td>\n",
              "    </tr>\n",
              "    <tr>\n",
              "      <th>9</th>\n",
              "      <td>volatilidade</td>\n",
              "      <td>maiores</td>\n",
              "      <td>empresas</td>\n",
              "      <td>nesta</td>\n",
              "    </tr>\n",
              "    <tr>\n",
              "      <th>10</th>\n",
              "      <td>vocação</td>\n",
              "      <td>empresas</td>\n",
              "      <td>audiência</td>\n",
              "      <td>país</td>\n",
              "    </tr>\n",
              "  </tbody>\n",
              "</table>\n",
              "</div>"
            ],
            "text/plain": [
              "             MIM         EMIM           X²         Dice\n",
              "1          única       guedes       guedes       guedes\n",
              "2          ávila     proposta     proposta  previdência\n",
              "3           zero  previdência  previdência     proposta\n",
              "4           zeca      reforma      cenário      reforma\n",
              "5            wti      bilhões      reforma        paulo\n",
              "6         walter        paulo      últimos          ano\n",
              "7        véspera      últimos        meses      bilhões\n",
              "8         votada        meses      maiores     ministro\n",
              "9   volatilidade      maiores     empresas        nesta\n",
              "10       vocação     empresas    audiência         país"
            ]
          },
          "metadata": {
            "tags": []
          },
          "execution_count": 218
        }
      ]
    },
    {
      "cell_type": "markdown",
      "metadata": {
        "id": "bpLrbmJpKajt",
        "colab_type": "text"
      },
      "source": [
        "#### De acordo com os resultados, temos 3 métricas com resultados satisfatórios:\n",
        "* EMIM;\n",
        "*X²;\n",
        "*Dice;\n",
        "\n",
        "Elas apresentam resultados semelhantes e que fazem sentido com o contexto da palavra consultada. Em contrapartida, o MIM tem resultados bem distópicos e isso é causado porque os valores retornado pela métrica é exatamente o mesmo para uma série de palavras e por isso o algoritmo de montagem das tabelas não consegue identificar com precisão qual as palavras que realmente estão próximas da palavra consultada.\n",
        "\n",
        "Pensando na complexidade de cada métrica, a que na minha opinião se destaca é o Dice. Com cálculo bem simples, ele apresenta bons resultados."
      ]
    },
    {
      "cell_type": "markdown",
      "metadata": {
        "id": "4U_7s9L6ujmv",
        "colab_type": "text"
      },
      "source": [
        "### 2. De acordo com a métrica que deu os melhores resultados na sua opinião, execute agora cada consulta (usando a abordagem documento- ou termo-por-vez)  expandido-a com: os top-3, top-5 e top-10 documentos. O que acontece com a precisão dos resultados em cada caso? Aumenta ou diminui? Justifique bem sua resposta."
      ]
    },
    {
      "cell_type": "markdown",
      "metadata": {
        "id": "5iXwmkGQtX9c",
        "colab_type": "text"
      },
      "source": [
        "#### Algortimo escolhido: Termo-por-vez\n",
        "\n",
        "Como solução para o problema, montamos o ranking das palavras considerando apenas os top-k documentos para a palavra da consulta. E então, expandindo a consulta a partir desse ranking para todas as palavras no ranking inicial."
      ]
    },
    {
      "cell_type": "code",
      "metadata": {
        "id": "jhbTZjZvQKi6",
        "colab_type": "code",
        "colab": {}
      },
      "source": [
        "def term_a_time(query, indexes, k):    \n",
        "    a = {} # Accumulator HashTable\n",
        "    query_indexes = [] # Array\n",
        "    rank = [] # HeapQueue, implementation of PriorityQueue\n",
        "    \n",
        "    for word in query.split(\" \"):\n",
        "      if word in indexes.keys():\n",
        "          query_indexes.append(indexes[word])\n",
        "    \n",
        "    for index in query_indexes:\n",
        "      for i in index:\n",
        "          doc = i[0]\n",
        "          if doc not in a.keys():\n",
        "              a[doc] = 0\n",
        "          a[doc] += i[1]\n",
        "    \n",
        "    for (doc, score) in a.items():\n",
        "      heapq.heappush(rank, (score, doc))\n",
        "        \n",
        "    return heapq.nlargest(k, rank)"
      ],
      "execution_count": 0,
      "outputs": []
    },
    {
      "cell_type": "code",
      "metadata": {
        "id": "AOMSnkM9QN9a",
        "colab_type": "code",
        "colab": {}
      },
      "source": [
        "def top_docs(query, k):\n",
        "  \n",
        "  top_docs = [doc for score,doc in term_a_time(query, indexes, k)]\n",
        "  top_docs_ranking = {} \n",
        "  \n",
        "  for word in indexes:\n",
        "    top_docs_ranking[word] = []\n",
        "    for doc_score in indexes[word]:\n",
        "      if doc_score[0] in top_docs:\n",
        "        top_docs_ranking[word].append(doc_score)\n",
        "        \n",
        "  return top_docs_ranking"
      ],
      "execution_count": 0,
      "outputs": []
    },
    {
      "cell_type": "markdown",
      "metadata": {
        "id": "f9K9_X-tCNyh",
        "colab_type": "text"
      },
      "source": [
        "#### Top-3 Documentos\n",
        "\n",
        "Expansão de consulta para os top-3 documentos das consultas selecionadas inicialmente."
      ]
    },
    {
      "cell_type": "code",
      "metadata": {
        "id": "nfbtKx6PQll_",
        "colab_type": "code",
        "colab": {}
      },
      "source": [
        "k = 3\n",
        "ranking_docs1 = top_docs(queries[0], k)\n",
        "ranking_docs2 = top_docs(queries[1], k)\n",
        "ranking_docs3 = top_docs(queries[2], k)\n",
        "ranking_docs4 = top_docs(queries[3], k)\n",
        "ranking_docs5 = top_docs(queries[4], k)"
      ],
      "execution_count": 0,
      "outputs": []
    },
    {
      "cell_type": "code",
      "metadata": {
        "id": "sWsG17xuIPFN",
        "colab_type": "code",
        "colab": {}
      },
      "source": [
        "table_top1 = create_metrics_table(queries[0], ranking_docs1, k)\n",
        "table_top2 = create_metrics_table(queries[1], ranking_docs2, k)\n",
        "table_top3 = create_metrics_table(queries[2], ranking_docs3, k)\n",
        "table_top4 = create_metrics_table(queries[3], ranking_docs4, k)\n",
        "table_top5 = create_metrics_table(queries[4], ranking_docs5, k)"
      ],
      "execution_count": 0,
      "outputs": []
    },
    {
      "cell_type": "markdown",
      "metadata": {
        "id": "EIqPnBmVK0OF",
        "colab_type": "text"
      },
      "source": [
        "##### Top-10 palavras associadas aos Top-3 Documentos de 'Bolsonaro'"
      ]
    },
    {
      "cell_type": "code",
      "metadata": {
        "id": "pWPtQCLbJMac",
        "colab_type": "code",
        "outputId": "c7d8f347-f2fc-43be-b756-78f7c7de3278",
        "colab": {
          "base_uri": "https://localhost:8080/",
          "height": 359
        }
      },
      "source": [
        "table_dice = pd.DataFrame()\n",
        "table_dice['Dice before Term A Time'] = table_1['Dice']\n",
        "table_dice['Dice after Term A Time'] = table_top1['Dice']\n",
        "table_dice"
      ],
      "execution_count": 244,
      "outputs": [
        {
          "output_type": "execute_result",
          "data": {
            "text/html": [
              "<div>\n",
              "<style scoped>\n",
              "    .dataframe tbody tr th:only-of-type {\n",
              "        vertical-align: middle;\n",
              "    }\n",
              "\n",
              "    .dataframe tbody tr th {\n",
              "        vertical-align: top;\n",
              "    }\n",
              "\n",
              "    .dataframe thead th {\n",
              "        text-align: right;\n",
              "    }\n",
              "</style>\n",
              "<table border=\"1\" class=\"dataframe\">\n",
              "  <thead>\n",
              "    <tr style=\"text-align: right;\">\n",
              "      <th></th>\n",
              "      <th>Dice before Term A Time</th>\n",
              "      <th>Dice after Term A Time</th>\n",
              "    </tr>\n",
              "  </thead>\n",
              "  <tbody>\n",
              "    <tr>\n",
              "      <th>1</th>\n",
              "      <td>jair</td>\n",
              "      <td>jair</td>\n",
              "    </tr>\n",
              "    <tr>\n",
              "      <th>2</th>\n",
              "      <td>presidente</td>\n",
              "      <td>presidente</td>\n",
              "    </tr>\n",
              "    <tr>\n",
              "      <th>3</th>\n",
              "      <td>brasil</td>\n",
              "      <td>disse</td>\n",
              "    </tr>\n",
              "    <tr>\n",
              "      <th>4</th>\n",
              "      <td>anos</td>\n",
              "      <td>israel</td>\n",
              "    </tr>\n",
              "    <tr>\n",
              "      <th>5</th>\n",
              "      <td>governo</td>\n",
              "      <td>feira</td>\n",
              "    </tr>\n",
              "    <tr>\n",
              "      <th>6</th>\n",
              "      <td>segundo</td>\n",
              "      <td>brasil</td>\n",
              "    </tr>\n",
              "    <tr>\n",
              "      <th>7</th>\n",
              "      <td>afirmou</td>\n",
              "      <td>visita</td>\n",
              "    </tr>\n",
              "    <tr>\n",
              "      <th>8</th>\n",
              "      <td>disse</td>\n",
              "      <td>sobre</td>\n",
              "    </tr>\n",
              "    <tr>\n",
              "      <th>9</th>\n",
              "      <td>ser</td>\n",
              "      <td>segundo</td>\n",
              "    </tr>\n",
              "    <tr>\n",
              "      <th>10</th>\n",
              "      <td>sobre</td>\n",
              "      <td>ministro</td>\n",
              "    </tr>\n",
              "  </tbody>\n",
              "</table>\n",
              "</div>"
            ],
            "text/plain": [
              "   Dice before Term A Time Dice after Term A Time\n",
              "1                     jair                   jair\n",
              "2               presidente             presidente\n",
              "3                   brasil                  disse\n",
              "4                     anos                 israel\n",
              "5                  governo                  feira\n",
              "6                  segundo                 brasil\n",
              "7                  afirmou                 visita\n",
              "8                    disse                  sobre\n",
              "9                      ser                segundo\n",
              "10                   sobre               ministro"
            ]
          },
          "metadata": {
            "tags": []
          },
          "execution_count": 244
        }
      ]
    },
    {
      "cell_type": "markdown",
      "metadata": {
        "id": "GzuhQNJjK8kO",
        "colab_type": "text"
      },
      "source": [
        "##### Top-10 palavras associadas aos Top-3 Documentos de 'Educação'"
      ]
    },
    {
      "cell_type": "code",
      "metadata": {
        "id": "LH3mPbOSLPrM",
        "colab_type": "code",
        "outputId": "03bcc94a-c0bc-4eea-9680-75e6a54297d8",
        "colab": {
          "base_uri": "https://localhost:8080/",
          "height": 359
        }
      },
      "source": [
        "table_dice = pd.DataFrame()\n",
        "table_dice['Dice before Term A Time'] = table_2['Dice']\n",
        "table_dice['Dice after Term A Time'] = table_top2['Dice']\n",
        "table_dice"
      ],
      "execution_count": 224,
      "outputs": [
        {
          "output_type": "execute_result",
          "data": {
            "text/html": [
              "<div>\n",
              "<style scoped>\n",
              "    .dataframe tbody tr th:only-of-type {\n",
              "        vertical-align: middle;\n",
              "    }\n",
              "\n",
              "    .dataframe tbody tr th {\n",
              "        vertical-align: top;\n",
              "    }\n",
              "\n",
              "    .dataframe thead th {\n",
              "        text-align: right;\n",
              "    }\n",
              "</style>\n",
              "<table border=\"1\" class=\"dataframe\">\n",
              "  <thead>\n",
              "    <tr style=\"text-align: right;\">\n",
              "      <th></th>\n",
              "      <th>Dice before Term A Time</th>\n",
              "      <th>Dice after Term A Time</th>\n",
              "    </tr>\n",
              "  </thead>\n",
              "  <tbody>\n",
              "    <tr>\n",
              "      <th>1</th>\n",
              "      <td>vélez</td>\n",
              "      <td>ser</td>\n",
              "    </tr>\n",
              "    <tr>\n",
              "      <th>2</th>\n",
              "      <td>sabemos</td>\n",
              "      <td>porque</td>\n",
              "    </tr>\n",
              "    <tr>\n",
              "      <th>3</th>\n",
              "      <td>ricardo</td>\n",
              "      <td>ministro</td>\n",
              "    </tr>\n",
              "    <tr>\n",
              "      <th>4</th>\n",
              "      <td>afirmação</td>\n",
              "      <td>governo</td>\n",
              "    </tr>\n",
              "    <tr>\n",
              "      <th>5</th>\n",
              "      <td>pasta</td>\n",
              "      <td>contra</td>\n",
              "    </tr>\n",
              "    <tr>\n",
              "      <th>6</th>\n",
              "      <td>completou</td>\n",
              "      <td>brasil</td>\n",
              "    </tr>\n",
              "    <tr>\n",
              "      <th>7</th>\n",
              "      <td>soberana</td>\n",
              "      <td>época</td>\n",
              "    </tr>\n",
              "    <tr>\n",
              "      <th>8</th>\n",
              "      <td>saúde</td>\n",
              "      <td>vélez</td>\n",
              "    </tr>\n",
              "    <tr>\n",
              "      <th>9</th>\n",
              "      <td>rodriguez</td>\n",
              "      <td>votação</td>\n",
              "    </tr>\n",
              "    <tr>\n",
              "      <th>10</th>\n",
              "      <td>risca</td>\n",
              "      <td>tipo</td>\n",
              "    </tr>\n",
              "  </tbody>\n",
              "</table>\n",
              "</div>"
            ],
            "text/plain": [
              "   Dice before Term A Time Dice after Term A Time\n",
              "1                    vélez                    ser\n",
              "2                  sabemos                 porque\n",
              "3                  ricardo               ministro\n",
              "4                afirmação                governo\n",
              "5                    pasta                 contra\n",
              "6                completou                 brasil\n",
              "7                 soberana                  época\n",
              "8                    saúde                  vélez\n",
              "9                rodriguez                votação\n",
              "10                   risca                   tipo"
            ]
          },
          "metadata": {
            "tags": []
          },
          "execution_count": 224
        }
      ]
    },
    {
      "cell_type": "markdown",
      "metadata": {
        "id": "Mw5ATdBDK8-A",
        "colab_type": "text"
      },
      "source": [
        "##### Top-10 palavras associadas aos Top-3 Documentos de 'Ministério'"
      ]
    },
    {
      "cell_type": "code",
      "metadata": {
        "id": "cRKqTowzLQue",
        "colab_type": "code",
        "outputId": "125d8cdb-9884-4b5e-ae6d-e6b2ff71dbbd",
        "colab": {
          "base_uri": "https://localhost:8080/",
          "height": 359
        }
      },
      "source": [
        "table_dice = pd.DataFrame()\n",
        "table_dice['Dice before Term A Time'] = table_3['Dice']\n",
        "table_dice['Dice after Term A Time'] = table_top3['Dice']\n",
        "table_dice"
      ],
      "execution_count": 248,
      "outputs": [
        {
          "output_type": "execute_result",
          "data": {
            "text/html": [
              "<div>\n",
              "<style scoped>\n",
              "    .dataframe tbody tr th:only-of-type {\n",
              "        vertical-align: middle;\n",
              "    }\n",
              "\n",
              "    .dataframe tbody tr th {\n",
              "        vertical-align: top;\n",
              "    }\n",
              "\n",
              "    .dataframe thead th {\n",
              "        text-align: right;\n",
              "    }\n",
              "</style>\n",
              "<table border=\"1\" class=\"dataframe\">\n",
              "  <thead>\n",
              "    <tr style=\"text-align: right;\">\n",
              "      <th></th>\n",
              "      <th>Dice before Term A Time</th>\n",
              "      <th>Dice after Term A Time</th>\n",
              "    </tr>\n",
              "  </thead>\n",
              "  <tbody>\n",
              "    <tr>\n",
              "      <th>1</th>\n",
              "      <td>público</td>\n",
              "      <td>jair</td>\n",
              "    </tr>\n",
              "    <tr>\n",
              "      <th>2</th>\n",
              "      <td>diz</td>\n",
              "      <td>diz</td>\n",
              "    </tr>\n",
              "    <tr>\n",
              "      <th>3</th>\n",
              "      <td>militares</td>\n",
              "      <td>bolsonaro</td>\n",
              "    </tr>\n",
              "    <tr>\n",
              "      <th>4</th>\n",
              "      <td>segundo</td>\n",
              "      <td>sobre</td>\n",
              "    </tr>\n",
              "    <tr>\n",
              "      <th>5</th>\n",
              "      <td>sobre</td>\n",
              "      <td>brasil</td>\n",
              "    </tr>\n",
              "    <tr>\n",
              "      <th>6</th>\n",
              "      <td>voz</td>\n",
              "      <td>segundo</td>\n",
              "    </tr>\n",
              "    <tr>\n",
              "      <th>7</th>\n",
              "      <td>união</td>\n",
              "      <td>público</td>\n",
              "    </tr>\n",
              "    <tr>\n",
              "      <th>8</th>\n",
              "      <td>tribunal</td>\n",
              "      <td>presidente</td>\n",
              "    </tr>\n",
              "    <tr>\n",
              "      <th>9</th>\n",
              "      <td>ainda</td>\n",
              "      <td>ministro</td>\n",
              "    </tr>\n",
              "    <tr>\n",
              "      <th>10</th>\n",
              "      <td>deste</td>\n",
              "      <td>governo</td>\n",
              "    </tr>\n",
              "  </tbody>\n",
              "</table>\n",
              "</div>"
            ],
            "text/plain": [
              "   Dice before Term A Time Dice after Term A Time\n",
              "1                  público                   jair\n",
              "2                      diz                    diz\n",
              "3                militares              bolsonaro\n",
              "4                  segundo                  sobre\n",
              "5                    sobre                 brasil\n",
              "6                      voz                segundo\n",
              "7                    união                público\n",
              "8                 tribunal             presidente\n",
              "9                    ainda               ministro\n",
              "10                   deste                governo"
            ]
          },
          "metadata": {
            "tags": []
          },
          "execution_count": 248
        }
      ]
    },
    {
      "cell_type": "markdown",
      "metadata": {
        "id": "QvqiSNkwK9cS",
        "colab_type": "text"
      },
      "source": [
        "##### Top-10 palavras associadas aos Top-3 Documentos de 'Brasil'"
      ]
    },
    {
      "cell_type": "code",
      "metadata": {
        "id": "6_G33lxhLRuG",
        "colab_type": "code",
        "outputId": "f9ff9a54-97f3-4089-960c-71958ced3e92",
        "colab": {
          "base_uri": "https://localhost:8080/",
          "height": 359
        }
      },
      "source": [
        "table_dice = pd.DataFrame()\n",
        "table_dice['Dice before Term A Time'] = table_4['Dice']\n",
        "table_dice['Dice after Term A Time'] = table_top4['Dice']\n",
        "table_dice"
      ],
      "execution_count": 226,
      "outputs": [
        {
          "output_type": "execute_result",
          "data": {
            "text/html": [
              "<div>\n",
              "<style scoped>\n",
              "    .dataframe tbody tr th:only-of-type {\n",
              "        vertical-align: middle;\n",
              "    }\n",
              "\n",
              "    .dataframe tbody tr th {\n",
              "        vertical-align: top;\n",
              "    }\n",
              "\n",
              "    .dataframe thead th {\n",
              "        text-align: right;\n",
              "    }\n",
              "</style>\n",
              "<table border=\"1\" class=\"dataframe\">\n",
              "  <thead>\n",
              "    <tr style=\"text-align: right;\">\n",
              "      <th></th>\n",
              "      <th>Dice before Term A Time</th>\n",
              "      <th>Dice after Term A Time</th>\n",
              "    </tr>\n",
              "  </thead>\n",
              "  <tbody>\n",
              "    <tr>\n",
              "      <th>1</th>\n",
              "      <td>bolsonaro</td>\n",
              "      <td>segundo</td>\n",
              "    </tr>\n",
              "    <tr>\n",
              "      <th>2</th>\n",
              "      <td>jair</td>\n",
              "      <td>presidente</td>\n",
              "    </tr>\n",
              "    <tr>\n",
              "      <th>3</th>\n",
              "      <td>sobre</td>\n",
              "      <td>porque</td>\n",
              "    </tr>\n",
              "    <tr>\n",
              "      <th>4</th>\n",
              "      <td>brasileira</td>\n",
              "      <td>pode</td>\n",
              "    </tr>\n",
              "    <tr>\n",
              "      <th>5</th>\n",
              "      <td>segundo</td>\n",
              "      <td>país</td>\n",
              "    </tr>\n",
              "    <tr>\n",
              "      <th>6</th>\n",
              "      <td>ser</td>\n",
              "      <td>mundo</td>\n",
              "    </tr>\n",
              "    <tr>\n",
              "      <th>7</th>\n",
              "      <td>país</td>\n",
              "      <td>meio</td>\n",
              "    </tr>\n",
              "    <tr>\n",
              "      <th>8</th>\n",
              "      <td>governo</td>\n",
              "      <td>internacional</td>\n",
              "    </tr>\n",
              "    <tr>\n",
              "      <th>9</th>\n",
              "      <td>ter</td>\n",
              "      <td>internacionais</td>\n",
              "    </tr>\n",
              "    <tr>\n",
              "      <th>10</th>\n",
              "      <td>ainda</td>\n",
              "      <td>hoje</td>\n",
              "    </tr>\n",
              "  </tbody>\n",
              "</table>\n",
              "</div>"
            ],
            "text/plain": [
              "   Dice before Term A Time Dice after Term A Time\n",
              "1                bolsonaro                segundo\n",
              "2                     jair             presidente\n",
              "3                    sobre                 porque\n",
              "4               brasileira                   pode\n",
              "5                  segundo                   país\n",
              "6                      ser                  mundo\n",
              "7                     país                   meio\n",
              "8                  governo          internacional\n",
              "9                      ter         internacionais\n",
              "10                   ainda                   hoje"
            ]
          },
          "metadata": {
            "tags": []
          },
          "execution_count": 226
        }
      ]
    },
    {
      "cell_type": "markdown",
      "metadata": {
        "id": "6iUkLWk7K9um",
        "colab_type": "text"
      },
      "source": [
        "##### Top-10 palavras associadas aos Top-3 Documentos de 'Economia'"
      ]
    },
    {
      "cell_type": "code",
      "metadata": {
        "id": "j9ll913XLSuR",
        "colab_type": "code",
        "outputId": "2ea65339-7aa8-4a9f-b1ba-926055af21e7",
        "colab": {
          "base_uri": "https://localhost:8080/",
          "height": 359
        }
      },
      "source": [
        "table_dice = pd.DataFrame()\n",
        "table_dice['Dice before Term A Time'] = table_5['Dice']\n",
        "table_dice['Dice after Term A Time'] = table_top5['Dice']\n",
        "table_dice"
      ],
      "execution_count": 227,
      "outputs": [
        {
          "output_type": "execute_result",
          "data": {
            "text/html": [
              "<div>\n",
              "<style scoped>\n",
              "    .dataframe tbody tr th:only-of-type {\n",
              "        vertical-align: middle;\n",
              "    }\n",
              "\n",
              "    .dataframe tbody tr th {\n",
              "        vertical-align: top;\n",
              "    }\n",
              "\n",
              "    .dataframe thead th {\n",
              "        text-align: right;\n",
              "    }\n",
              "</style>\n",
              "<table border=\"1\" class=\"dataframe\">\n",
              "  <thead>\n",
              "    <tr style=\"text-align: right;\">\n",
              "      <th></th>\n",
              "      <th>Dice before Term A Time</th>\n",
              "      <th>Dice after Term A Time</th>\n",
              "    </tr>\n",
              "  </thead>\n",
              "  <tbody>\n",
              "    <tr>\n",
              "      <th>1</th>\n",
              "      <td>guedes</td>\n",
              "      <td>sobre</td>\n",
              "    </tr>\n",
              "    <tr>\n",
              "      <th>2</th>\n",
              "      <td>previdência</td>\n",
              "      <td>política</td>\n",
              "    </tr>\n",
              "    <tr>\n",
              "      <th>3</th>\n",
              "      <td>proposta</td>\n",
              "      <td>nacional</td>\n",
              "    </tr>\n",
              "    <tr>\n",
              "      <th>4</th>\n",
              "      <td>reforma</td>\n",
              "      <td>meses</td>\n",
              "    </tr>\n",
              "    <tr>\n",
              "      <th>5</th>\n",
              "      <td>paulo</td>\n",
              "      <td>governo</td>\n",
              "    </tr>\n",
              "    <tr>\n",
              "      <th>6</th>\n",
              "      <td>ano</td>\n",
              "      <td>congresso</td>\n",
              "    </tr>\n",
              "    <tr>\n",
              "      <th>7</th>\n",
              "      <td>bilhões</td>\n",
              "      <td>ano</td>\n",
              "    </tr>\n",
              "    <tr>\n",
              "      <th>8</th>\n",
              "      <td>ministro</td>\n",
              "      <td>últimos</td>\n",
              "    </tr>\n",
              "    <tr>\n",
              "      <th>9</th>\n",
              "      <td>nesta</td>\n",
              "      <td>índice</td>\n",
              "    </tr>\n",
              "    <tr>\n",
              "      <th>10</th>\n",
              "      <td>país</td>\n",
              "      <td>vai</td>\n",
              "    </tr>\n",
              "  </tbody>\n",
              "</table>\n",
              "</div>"
            ],
            "text/plain": [
              "   Dice before Term A Time Dice after Term A Time\n",
              "1                   guedes                  sobre\n",
              "2              previdência               política\n",
              "3                 proposta               nacional\n",
              "4                  reforma                  meses\n",
              "5                    paulo                governo\n",
              "6                      ano              congresso\n",
              "7                  bilhões                    ano\n",
              "8                 ministro                últimos\n",
              "9                    nesta                 índice\n",
              "10                    país                    vai"
            ]
          },
          "metadata": {
            "tags": []
          },
          "execution_count": 227
        }
      ]
    },
    {
      "cell_type": "markdown",
      "metadata": {
        "id": "1Q1iuQEHCUD5",
        "colab_type": "text"
      },
      "source": [
        "#### Top-5 Documentos\n",
        "\n",
        "Expansão de consulta para os top-5 documentos das consultas selecionadas inicialmente."
      ]
    },
    {
      "cell_type": "code",
      "metadata": {
        "id": "xHGSwXFCCXc4",
        "colab_type": "code",
        "colab": {}
      },
      "source": [
        "k = 5\n",
        "ranking_docs1 = top_docs(queries[0], k)\n",
        "ranking_docs2 = top_docs(queries[1], k)\n",
        "ranking_docs3 = top_docs(queries[2], k)\n",
        "ranking_docs4 = top_docs(queries[3], k)\n",
        "ranking_docs5 = top_docs(queries[4], k)"
      ],
      "execution_count": 0,
      "outputs": []
    },
    {
      "cell_type": "code",
      "metadata": {
        "id": "a9gGhJ2bIQRs",
        "colab_type": "code",
        "colab": {}
      },
      "source": [
        "table_top1 = create_metrics_table(queries[0], ranking_docs1, k)\n",
        "table_top2 = create_metrics_table(queries[1], ranking_docs2, k)\n",
        "table_top3 = create_metrics_table(queries[2], ranking_docs3, k)\n",
        "table_top4 = create_metrics_table(queries[3], ranking_docs4, k)\n",
        "table_top5 = create_metrics_table(queries[4], ranking_docs5, k)"
      ],
      "execution_count": 0,
      "outputs": []
    },
    {
      "cell_type": "markdown",
      "metadata": {
        "colab_type": "text",
        "id": "rZ9jGjGZNNSQ"
      },
      "source": [
        "##### Top-10 palavras associadas aos Top-5 Documentos de 'Bolsonaro'"
      ]
    },
    {
      "cell_type": "code",
      "metadata": {
        "id": "U215V1f7NWQD",
        "colab_type": "code",
        "outputId": "5841d816-673f-4b46-c8c5-4b313aca3726",
        "colab": {
          "base_uri": "https://localhost:8080/",
          "height": 359
        }
      },
      "source": [
        "table_dice = pd.DataFrame()\n",
        "table_dice['Dice before Term A Time'] = table_1['Dice']\n",
        "table_dice['Dice after Term A Time'] = table_top1['Dice']\n",
        "table_dice"
      ],
      "execution_count": 230,
      "outputs": [
        {
          "output_type": "execute_result",
          "data": {
            "text/html": [
              "<div>\n",
              "<style scoped>\n",
              "    .dataframe tbody tr th:only-of-type {\n",
              "        vertical-align: middle;\n",
              "    }\n",
              "\n",
              "    .dataframe tbody tr th {\n",
              "        vertical-align: top;\n",
              "    }\n",
              "\n",
              "    .dataframe thead th {\n",
              "        text-align: right;\n",
              "    }\n",
              "</style>\n",
              "<table border=\"1\" class=\"dataframe\">\n",
              "  <thead>\n",
              "    <tr style=\"text-align: right;\">\n",
              "      <th></th>\n",
              "      <th>Dice before Term A Time</th>\n",
              "      <th>Dice after Term A Time</th>\n",
              "    </tr>\n",
              "  </thead>\n",
              "  <tbody>\n",
              "    <tr>\n",
              "      <th>1</th>\n",
              "      <td>jair</td>\n",
              "      <td>sobre</td>\n",
              "    </tr>\n",
              "    <tr>\n",
              "      <th>2</th>\n",
              "      <td>presidente</td>\n",
              "      <td>presidente</td>\n",
              "    </tr>\n",
              "    <tr>\n",
              "      <th>3</th>\n",
              "      <td>brasil</td>\n",
              "      <td>jair</td>\n",
              "    </tr>\n",
              "    <tr>\n",
              "      <th>4</th>\n",
              "      <td>anos</td>\n",
              "      <td>disse</td>\n",
              "    </tr>\n",
              "    <tr>\n",
              "      <th>5</th>\n",
              "      <td>governo</td>\n",
              "      <td>twitter</td>\n",
              "    </tr>\n",
              "    <tr>\n",
              "      <th>6</th>\n",
              "      <td>segundo</td>\n",
              "      <td>brasil</td>\n",
              "    </tr>\n",
              "    <tr>\n",
              "      <th>7</th>\n",
              "      <td>afirmou</td>\n",
              "      <td>visita</td>\n",
              "    </tr>\n",
              "    <tr>\n",
              "      <th>8</th>\n",
              "      <td>disse</td>\n",
              "      <td>segundo</td>\n",
              "    </tr>\n",
              "    <tr>\n",
              "      <th>9</th>\n",
              "      <td>ser</td>\n",
              "      <td>oficial</td>\n",
              "    </tr>\n",
              "    <tr>\n",
              "      <th>10</th>\n",
              "      <td>sobre</td>\n",
              "      <td>morte</td>\n",
              "    </tr>\n",
              "  </tbody>\n",
              "</table>\n",
              "</div>"
            ],
            "text/plain": [
              "   Dice before Term A Time Dice after Term A Time\n",
              "1                     jair                  sobre\n",
              "2               presidente             presidente\n",
              "3                   brasil                   jair\n",
              "4                     anos                  disse\n",
              "5                  governo                twitter\n",
              "6                  segundo                 brasil\n",
              "7                  afirmou                 visita\n",
              "8                    disse                segundo\n",
              "9                      ser                oficial\n",
              "10                   sobre                  morte"
            ]
          },
          "metadata": {
            "tags": []
          },
          "execution_count": 230
        }
      ]
    },
    {
      "cell_type": "markdown",
      "metadata": {
        "colab_type": "text",
        "id": "SARrnvOqNO8A"
      },
      "source": [
        "##### Top-10 palavras associadas aos Top-5 Documentos de 'Educação'"
      ]
    },
    {
      "cell_type": "code",
      "metadata": {
        "id": "IGZ7eBkhNXOy",
        "colab_type": "code",
        "outputId": "f3a89c4f-8362-443e-d10a-1c15b509eb41",
        "colab": {
          "base_uri": "https://localhost:8080/",
          "height": 359
        }
      },
      "source": [
        "table_dice = pd.DataFrame()\n",
        "table_dice['Dice before Term A Time'] = table_2['Dice']\n",
        "table_dice['Dice after Term A Time'] = table_top2['Dice']\n",
        "table_dice"
      ],
      "execution_count": 231,
      "outputs": [
        {
          "output_type": "execute_result",
          "data": {
            "text/html": [
              "<div>\n",
              "<style scoped>\n",
              "    .dataframe tbody tr th:only-of-type {\n",
              "        vertical-align: middle;\n",
              "    }\n",
              "\n",
              "    .dataframe tbody tr th {\n",
              "        vertical-align: top;\n",
              "    }\n",
              "\n",
              "    .dataframe thead th {\n",
              "        text-align: right;\n",
              "    }\n",
              "</style>\n",
              "<table border=\"1\" class=\"dataframe\">\n",
              "  <thead>\n",
              "    <tr style=\"text-align: right;\">\n",
              "      <th></th>\n",
              "      <th>Dice before Term A Time</th>\n",
              "      <th>Dice after Term A Time</th>\n",
              "    </tr>\n",
              "  </thead>\n",
              "  <tbody>\n",
              "    <tr>\n",
              "      <th>1</th>\n",
              "      <td>vélez</td>\n",
              "      <td>ser</td>\n",
              "    </tr>\n",
              "    <tr>\n",
              "      <th>2</th>\n",
              "      <td>sabemos</td>\n",
              "      <td>ministro</td>\n",
              "    </tr>\n",
              "    <tr>\n",
              "      <th>3</th>\n",
              "      <td>ricardo</td>\n",
              "      <td>brasil</td>\n",
              "    </tr>\n",
              "    <tr>\n",
              "      <th>4</th>\n",
              "      <td>afirmação</td>\n",
              "      <td>sobre</td>\n",
              "    </tr>\n",
              "    <tr>\n",
              "      <th>5</th>\n",
              "      <td>pasta</td>\n",
              "      <td>porque</td>\n",
              "    </tr>\n",
              "    <tr>\n",
              "      <th>6</th>\n",
              "      <td>completou</td>\n",
              "      <td>jair</td>\n",
              "    </tr>\n",
              "    <tr>\n",
              "      <th>7</th>\n",
              "      <td>soberana</td>\n",
              "      <td>governo</td>\n",
              "    </tr>\n",
              "    <tr>\n",
              "      <th>8</th>\n",
              "      <td>saúde</td>\n",
              "      <td>contra</td>\n",
              "    </tr>\n",
              "    <tr>\n",
              "      <th>9</th>\n",
              "      <td>rodriguez</td>\n",
              "      <td>bolsonaro</td>\n",
              "    </tr>\n",
              "    <tr>\n",
              "      <th>10</th>\n",
              "      <td>risca</td>\n",
              "      <td>apenas</td>\n",
              "    </tr>\n",
              "  </tbody>\n",
              "</table>\n",
              "</div>"
            ],
            "text/plain": [
              "   Dice before Term A Time Dice after Term A Time\n",
              "1                    vélez                    ser\n",
              "2                  sabemos               ministro\n",
              "3                  ricardo                 brasil\n",
              "4                afirmação                  sobre\n",
              "5                    pasta                 porque\n",
              "6                completou                   jair\n",
              "7                 soberana                governo\n",
              "8                    saúde                 contra\n",
              "9                rodriguez              bolsonaro\n",
              "10                   risca                 apenas"
            ]
          },
          "metadata": {
            "tags": []
          },
          "execution_count": 231
        }
      ]
    },
    {
      "cell_type": "markdown",
      "metadata": {
        "colab_type": "text",
        "id": "omjRFa-YNPqA"
      },
      "source": [
        "##### Top-10 palavras associadas aos Top-5 Documentos de 'Ministério'"
      ]
    },
    {
      "cell_type": "code",
      "metadata": {
        "id": "v1Te5jW5NYKU",
        "colab_type": "code",
        "outputId": "e9aa49c0-5a48-4103-a1f2-18485750c199",
        "colab": {
          "base_uri": "https://localhost:8080/",
          "height": 359
        }
      },
      "source": [
        "table_dice = pd.DataFrame()\n",
        "table_dice['Dice before Term A Time'] = table_3['Dice']\n",
        "table_dice['Dice after Term A Time'] = table_top3['Dice']\n",
        "table_dice"
      ],
      "execution_count": 232,
      "outputs": [
        {
          "output_type": "execute_result",
          "data": {
            "text/html": [
              "<div>\n",
              "<style scoped>\n",
              "    .dataframe tbody tr th:only-of-type {\n",
              "        vertical-align: middle;\n",
              "    }\n",
              "\n",
              "    .dataframe tbody tr th {\n",
              "        vertical-align: top;\n",
              "    }\n",
              "\n",
              "    .dataframe thead th {\n",
              "        text-align: right;\n",
              "    }\n",
              "</style>\n",
              "<table border=\"1\" class=\"dataframe\">\n",
              "  <thead>\n",
              "    <tr style=\"text-align: right;\">\n",
              "      <th></th>\n",
              "      <th>Dice before Term A Time</th>\n",
              "      <th>Dice after Term A Time</th>\n",
              "    </tr>\n",
              "  </thead>\n",
              "  <tbody>\n",
              "    <tr>\n",
              "      <th>1</th>\n",
              "      <td>público</td>\n",
              "      <td>acordo</td>\n",
              "    </tr>\n",
              "    <tr>\n",
              "      <th>2</th>\n",
              "      <td>diz</td>\n",
              "      <td>sobre</td>\n",
              "    </tr>\n",
              "    <tr>\n",
              "      <th>3</th>\n",
              "      <td>militares</td>\n",
              "      <td>segundo</td>\n",
              "    </tr>\n",
              "    <tr>\n",
              "      <th>4</th>\n",
              "      <td>segundo</td>\n",
              "      <td>presidente</td>\n",
              "    </tr>\n",
              "    <tr>\n",
              "      <th>5</th>\n",
              "      <td>sobre</td>\n",
              "      <td>pessoas</td>\n",
              "    </tr>\n",
              "    <tr>\n",
              "      <th>6</th>\n",
              "      <td>voz</td>\n",
              "      <td>ministro</td>\n",
              "    </tr>\n",
              "    <tr>\n",
              "      <th>7</th>\n",
              "      <td>união</td>\n",
              "      <td>jair</td>\n",
              "    </tr>\n",
              "    <tr>\n",
              "      <th>8</th>\n",
              "      <td>tribunal</td>\n",
              "      <td>informações</td>\n",
              "    </tr>\n",
              "    <tr>\n",
              "      <th>9</th>\n",
              "      <td>ainda</td>\n",
              "      <td>governo</td>\n",
              "    </tr>\n",
              "    <tr>\n",
              "      <th>10</th>\n",
              "      <td>deste</td>\n",
              "      <td>federal</td>\n",
              "    </tr>\n",
              "  </tbody>\n",
              "</table>\n",
              "</div>"
            ],
            "text/plain": [
              "   Dice before Term A Time Dice after Term A Time\n",
              "1                  público                 acordo\n",
              "2                      diz                  sobre\n",
              "3                militares                segundo\n",
              "4                  segundo             presidente\n",
              "5                    sobre                pessoas\n",
              "6                      voz               ministro\n",
              "7                    união                   jair\n",
              "8                 tribunal            informações\n",
              "9                    ainda                governo\n",
              "10                   deste                federal"
            ]
          },
          "metadata": {
            "tags": []
          },
          "execution_count": 232
        }
      ]
    },
    {
      "cell_type": "markdown",
      "metadata": {
        "colab_type": "text",
        "id": "WpghjeDzNP4Y"
      },
      "source": [
        "##### Top-10 palavras associadas aos Top-5 Documentos de 'Brasil'"
      ]
    },
    {
      "cell_type": "code",
      "metadata": {
        "id": "9mDvBdIhNZJV",
        "colab_type": "code",
        "outputId": "f4e12dac-0909-4647-fb7e-21ba97667801",
        "colab": {
          "base_uri": "https://localhost:8080/",
          "height": 359
        }
      },
      "source": [
        "table_dice = pd.DataFrame()\n",
        "table_dice['Dice before Term A Time'] = table_4['Dice']\n",
        "table_dice['Dice after Term A Time'] = table_top4['Dice']\n",
        "table_dice"
      ],
      "execution_count": 233,
      "outputs": [
        {
          "output_type": "execute_result",
          "data": {
            "text/html": [
              "<div>\n",
              "<style scoped>\n",
              "    .dataframe tbody tr th:only-of-type {\n",
              "        vertical-align: middle;\n",
              "    }\n",
              "\n",
              "    .dataframe tbody tr th {\n",
              "        vertical-align: top;\n",
              "    }\n",
              "\n",
              "    .dataframe thead th {\n",
              "        text-align: right;\n",
              "    }\n",
              "</style>\n",
              "<table border=\"1\" class=\"dataframe\">\n",
              "  <thead>\n",
              "    <tr style=\"text-align: right;\">\n",
              "      <th></th>\n",
              "      <th>Dice before Term A Time</th>\n",
              "      <th>Dice after Term A Time</th>\n",
              "    </tr>\n",
              "  </thead>\n",
              "  <tbody>\n",
              "    <tr>\n",
              "      <th>1</th>\n",
              "      <td>bolsonaro</td>\n",
              "      <td>país</td>\n",
              "    </tr>\n",
              "    <tr>\n",
              "      <th>2</th>\n",
              "      <td>jair</td>\n",
              "      <td>ter</td>\n",
              "    </tr>\n",
              "    <tr>\n",
              "      <th>3</th>\n",
              "      <td>sobre</td>\n",
              "      <td>presidente</td>\n",
              "    </tr>\n",
              "    <tr>\n",
              "      <th>4</th>\n",
              "      <td>brasileira</td>\n",
              "      <td>pode</td>\n",
              "    </tr>\n",
              "    <tr>\n",
              "      <th>5</th>\n",
              "      <td>segundo</td>\n",
              "      <td>mundo</td>\n",
              "    </tr>\n",
              "    <tr>\n",
              "      <th>6</th>\n",
              "      <td>ser</td>\n",
              "      <td>internacional</td>\n",
              "    </tr>\n",
              "    <tr>\n",
              "      <th>7</th>\n",
              "      <td>país</td>\n",
              "      <td>hoje</td>\n",
              "    </tr>\n",
              "    <tr>\n",
              "      <th>8</th>\n",
              "      <td>governo</td>\n",
              "      <td>bolsonaro</td>\n",
              "    </tr>\n",
              "    <tr>\n",
              "      <th>9</th>\n",
              "      <td>ter</td>\n",
              "      <td>unidos</td>\n",
              "    </tr>\n",
              "    <tr>\n",
              "      <th>10</th>\n",
              "      <td>ainda</td>\n",
              "      <td>ser</td>\n",
              "    </tr>\n",
              "  </tbody>\n",
              "</table>\n",
              "</div>"
            ],
            "text/plain": [
              "   Dice before Term A Time Dice after Term A Time\n",
              "1                bolsonaro                   país\n",
              "2                     jair                    ter\n",
              "3                    sobre             presidente\n",
              "4               brasileira                   pode\n",
              "5                  segundo                  mundo\n",
              "6                      ser          internacional\n",
              "7                     país                   hoje\n",
              "8                  governo              bolsonaro\n",
              "9                      ter                 unidos\n",
              "10                   ainda                    ser"
            ]
          },
          "metadata": {
            "tags": []
          },
          "execution_count": 233
        }
      ]
    },
    {
      "cell_type": "markdown",
      "metadata": {
        "colab_type": "text",
        "id": "3Ozfw9w8NQJI"
      },
      "source": [
        "##### Top-10 palavras associadas aos Top-5 Documentos de 'Economia'"
      ]
    },
    {
      "cell_type": "code",
      "metadata": {
        "colab_type": "code",
        "outputId": "ddcf5828-181f-4d32-d54d-6c30921141a6",
        "id": "gcO1mkqINQJJ",
        "colab": {
          "base_uri": "https://localhost:8080/",
          "height": 359
        }
      },
      "source": [
        "table_dice = pd.DataFrame()\n",
        "table_dice['Dice before Term A Time'] = table_5['Dice']\n",
        "table_dice['Dice after Term A Time'] = table_top5['Dice']\n",
        "table_dice"
      ],
      "execution_count": 234,
      "outputs": [
        {
          "output_type": "execute_result",
          "data": {
            "text/html": [
              "<div>\n",
              "<style scoped>\n",
              "    .dataframe tbody tr th:only-of-type {\n",
              "        vertical-align: middle;\n",
              "    }\n",
              "\n",
              "    .dataframe tbody tr th {\n",
              "        vertical-align: top;\n",
              "    }\n",
              "\n",
              "    .dataframe thead th {\n",
              "        text-align: right;\n",
              "    }\n",
              "</style>\n",
              "<table border=\"1\" class=\"dataframe\">\n",
              "  <thead>\n",
              "    <tr style=\"text-align: right;\">\n",
              "      <th></th>\n",
              "      <th>Dice before Term A Time</th>\n",
              "      <th>Dice after Term A Time</th>\n",
              "    </tr>\n",
              "  </thead>\n",
              "  <tbody>\n",
              "    <tr>\n",
              "      <th>1</th>\n",
              "      <td>guedes</td>\n",
              "      <td>sobre</td>\n",
              "    </tr>\n",
              "    <tr>\n",
              "      <th>2</th>\n",
              "      <td>previdência</td>\n",
              "      <td>país</td>\n",
              "    </tr>\n",
              "    <tr>\n",
              "      <th>3</th>\n",
              "      <td>proposta</td>\n",
              "      <td>paulo</td>\n",
              "    </tr>\n",
              "    <tr>\n",
              "      <th>4</th>\n",
              "      <td>reforma</td>\n",
              "      <td>nesta</td>\n",
              "    </tr>\n",
              "    <tr>\n",
              "      <th>5</th>\n",
              "      <td>paulo</td>\n",
              "      <td>nacional</td>\n",
              "    </tr>\n",
              "    <tr>\n",
              "      <th>6</th>\n",
              "      <td>ano</td>\n",
              "      <td>ministro</td>\n",
              "    </tr>\n",
              "    <tr>\n",
              "      <th>7</th>\n",
              "      <td>bilhões</td>\n",
              "      <td>guedes</td>\n",
              "    </tr>\n",
              "    <tr>\n",
              "      <th>8</th>\n",
              "      <td>ministro</td>\n",
              "      <td>governo</td>\n",
              "    </tr>\n",
              "    <tr>\n",
              "      <th>9</th>\n",
              "      <td>nesta</td>\n",
              "      <td>estados</td>\n",
              "    </tr>\n",
              "    <tr>\n",
              "      <th>10</th>\n",
              "      <td>país</td>\n",
              "      <td>empresas</td>\n",
              "    </tr>\n",
              "  </tbody>\n",
              "</table>\n",
              "</div>"
            ],
            "text/plain": [
              "   Dice before Term A Time Dice after Term A Time\n",
              "1                   guedes                  sobre\n",
              "2              previdência                   país\n",
              "3                 proposta                  paulo\n",
              "4                  reforma                  nesta\n",
              "5                    paulo               nacional\n",
              "6                      ano               ministro\n",
              "7                  bilhões                 guedes\n",
              "8                 ministro                governo\n",
              "9                    nesta                estados\n",
              "10                    país               empresas"
            ]
          },
          "metadata": {
            "tags": []
          },
          "execution_count": 234
        }
      ]
    },
    {
      "cell_type": "markdown",
      "metadata": {
        "colab_type": "text",
        "id": "9myz6DhDN5dX"
      },
      "source": [
        "#### Top-10 Documentos\n",
        "\n",
        "Expansão de consulta para os top-10 documentos das consultas selecionadas inicialmente."
      ]
    },
    {
      "cell_type": "code",
      "metadata": {
        "colab_type": "code",
        "id": "cFZ1i0IiN5dZ",
        "colab": {}
      },
      "source": [
        "k = 10\n",
        "ranking_docs1 = top_docs(queries[0], k)\n",
        "ranking_docs2 = top_docs(queries[1], k)\n",
        "ranking_docs3 = top_docs(queries[2], k)\n",
        "ranking_docs4 = top_docs(queries[3], k)\n",
        "ranking_docs5 = top_docs(queries[4], k)"
      ],
      "execution_count": 0,
      "outputs": []
    },
    {
      "cell_type": "code",
      "metadata": {
        "colab_type": "code",
        "id": "KiUO7wGhN5df",
        "colab": {}
      },
      "source": [
        "table_top1 = create_metrics_table(queries[0], ranking_docs1, k)\n",
        "table_top2 = create_metrics_table(queries[1], ranking_docs2, k)\n",
        "table_top3 = create_metrics_table(queries[2], ranking_docs3, k)\n",
        "table_top4 = create_metrics_table(queries[3], ranking_docs4, k)\n",
        "table_top5 = create_metrics_table(queries[4], ranking_docs5, k)"
      ],
      "execution_count": 0,
      "outputs": []
    },
    {
      "cell_type": "markdown",
      "metadata": {
        "colab_type": "text",
        "id": "NmeQfVhPN5di"
      },
      "source": [
        "##### Top-10 palavras associadas aos Top-10 Documentos de 'Bolsonaro'"
      ]
    },
    {
      "cell_type": "code",
      "metadata": {
        "colab_type": "code",
        "outputId": "99006e3e-be1a-436c-adc0-48cbd0dec93d",
        "id": "uwi6gXuIN5dk",
        "colab": {
          "base_uri": "https://localhost:8080/",
          "height": 359
        }
      },
      "source": [
        "table_dice = pd.DataFrame()\n",
        "table_dice['Dice before Term A Time'] = table_1['Dice']\n",
        "table_dice['Dice after Term A Time'] = table_top1['Dice']\n",
        "table_dice"
      ],
      "execution_count": 237,
      "outputs": [
        {
          "output_type": "execute_result",
          "data": {
            "text/html": [
              "<div>\n",
              "<style scoped>\n",
              "    .dataframe tbody tr th:only-of-type {\n",
              "        vertical-align: middle;\n",
              "    }\n",
              "\n",
              "    .dataframe tbody tr th {\n",
              "        vertical-align: top;\n",
              "    }\n",
              "\n",
              "    .dataframe thead th {\n",
              "        text-align: right;\n",
              "    }\n",
              "</style>\n",
              "<table border=\"1\" class=\"dataframe\">\n",
              "  <thead>\n",
              "    <tr style=\"text-align: right;\">\n",
              "      <th></th>\n",
              "      <th>Dice before Term A Time</th>\n",
              "      <th>Dice after Term A Time</th>\n",
              "    </tr>\n",
              "  </thead>\n",
              "  <tbody>\n",
              "    <tr>\n",
              "      <th>1</th>\n",
              "      <td>jair</td>\n",
              "      <td>jair</td>\n",
              "    </tr>\n",
              "    <tr>\n",
              "      <th>2</th>\n",
              "      <td>presidente</td>\n",
              "      <td>presidente</td>\n",
              "    </tr>\n",
              "    <tr>\n",
              "      <th>3</th>\n",
              "      <td>brasil</td>\n",
              "      <td>disse</td>\n",
              "    </tr>\n",
              "    <tr>\n",
              "      <th>4</th>\n",
              "      <td>anos</td>\n",
              "      <td>israel</td>\n",
              "    </tr>\n",
              "    <tr>\n",
              "      <th>5</th>\n",
              "      <td>governo</td>\n",
              "      <td>feira</td>\n",
              "    </tr>\n",
              "    <tr>\n",
              "      <th>6</th>\n",
              "      <td>segundo</td>\n",
              "      <td>brasil</td>\n",
              "    </tr>\n",
              "    <tr>\n",
              "      <th>7</th>\n",
              "      <td>afirmou</td>\n",
              "      <td>visita</td>\n",
              "    </tr>\n",
              "    <tr>\n",
              "      <th>8</th>\n",
              "      <td>disse</td>\n",
              "      <td>sobre</td>\n",
              "    </tr>\n",
              "    <tr>\n",
              "      <th>9</th>\n",
              "      <td>ser</td>\n",
              "      <td>segundo</td>\n",
              "    </tr>\n",
              "    <tr>\n",
              "      <th>10</th>\n",
              "      <td>sobre</td>\n",
              "      <td>ministro</td>\n",
              "    </tr>\n",
              "  </tbody>\n",
              "</table>\n",
              "</div>"
            ],
            "text/plain": [
              "   Dice before Term A Time Dice after Term A Time\n",
              "1                     jair                   jair\n",
              "2               presidente             presidente\n",
              "3                   brasil                  disse\n",
              "4                     anos                 israel\n",
              "5                  governo                  feira\n",
              "6                  segundo                 brasil\n",
              "7                  afirmou                 visita\n",
              "8                    disse                  sobre\n",
              "9                      ser                segundo\n",
              "10                   sobre               ministro"
            ]
          },
          "metadata": {
            "tags": []
          },
          "execution_count": 237
        }
      ]
    },
    {
      "cell_type": "markdown",
      "metadata": {
        "colab_type": "text",
        "id": "XPbP8TBSN5dp"
      },
      "source": [
        "##### Top-10 palavras associadas aos Top-10 Documentos de 'Educação'"
      ]
    },
    {
      "cell_type": "code",
      "metadata": {
        "colab_type": "code",
        "outputId": "f55d8f7b-f941-4755-c9f9-0bb617e8cbbe",
        "id": "3vgYR--MN5dq",
        "colab": {
          "base_uri": "https://localhost:8080/",
          "height": 359
        }
      },
      "source": [
        "table_dice = pd.DataFrame()\n",
        "table_dice['Dice before Term A Time'] = table_2['Dice']\n",
        "table_dice['Dice after Term A Time'] = table_top2['Dice']\n",
        "table_dice"
      ],
      "execution_count": 238,
      "outputs": [
        {
          "output_type": "execute_result",
          "data": {
            "text/html": [
              "<div>\n",
              "<style scoped>\n",
              "    .dataframe tbody tr th:only-of-type {\n",
              "        vertical-align: middle;\n",
              "    }\n",
              "\n",
              "    .dataframe tbody tr th {\n",
              "        vertical-align: top;\n",
              "    }\n",
              "\n",
              "    .dataframe thead th {\n",
              "        text-align: right;\n",
              "    }\n",
              "</style>\n",
              "<table border=\"1\" class=\"dataframe\">\n",
              "  <thead>\n",
              "    <tr style=\"text-align: right;\">\n",
              "      <th></th>\n",
              "      <th>Dice before Term A Time</th>\n",
              "      <th>Dice after Term A Time</th>\n",
              "    </tr>\n",
              "  </thead>\n",
              "  <tbody>\n",
              "    <tr>\n",
              "      <th>1</th>\n",
              "      <td>vélez</td>\n",
              "      <td>ser</td>\n",
              "    </tr>\n",
              "    <tr>\n",
              "      <th>2</th>\n",
              "      <td>sabemos</td>\n",
              "      <td>ministro</td>\n",
              "    </tr>\n",
              "    <tr>\n",
              "      <th>3</th>\n",
              "      <td>ricardo</td>\n",
              "      <td>brasil</td>\n",
              "    </tr>\n",
              "    <tr>\n",
              "      <th>4</th>\n",
              "      <td>afirmação</td>\n",
              "      <td>sobre</td>\n",
              "    </tr>\n",
              "    <tr>\n",
              "      <th>5</th>\n",
              "      <td>pasta</td>\n",
              "      <td>porque</td>\n",
              "    </tr>\n",
              "    <tr>\n",
              "      <th>6</th>\n",
              "      <td>completou</td>\n",
              "      <td>jair</td>\n",
              "    </tr>\n",
              "    <tr>\n",
              "      <th>7</th>\n",
              "      <td>soberana</td>\n",
              "      <td>governo</td>\n",
              "    </tr>\n",
              "    <tr>\n",
              "      <th>8</th>\n",
              "      <td>saúde</td>\n",
              "      <td>contra</td>\n",
              "    </tr>\n",
              "    <tr>\n",
              "      <th>9</th>\n",
              "      <td>rodriguez</td>\n",
              "      <td>bolsonaro</td>\n",
              "    </tr>\n",
              "    <tr>\n",
              "      <th>10</th>\n",
              "      <td>risca</td>\n",
              "      <td>apenas</td>\n",
              "    </tr>\n",
              "  </tbody>\n",
              "</table>\n",
              "</div>"
            ],
            "text/plain": [
              "   Dice before Term A Time Dice after Term A Time\n",
              "1                    vélez                    ser\n",
              "2                  sabemos               ministro\n",
              "3                  ricardo                 brasil\n",
              "4                afirmação                  sobre\n",
              "5                    pasta                 porque\n",
              "6                completou                   jair\n",
              "7                 soberana                governo\n",
              "8                    saúde                 contra\n",
              "9                rodriguez              bolsonaro\n",
              "10                   risca                 apenas"
            ]
          },
          "metadata": {
            "tags": []
          },
          "execution_count": 238
        }
      ]
    },
    {
      "cell_type": "markdown",
      "metadata": {
        "colab_type": "text",
        "id": "tfMNNPQXN5dx"
      },
      "source": [
        "##### Top-10 palavras associadas aos Top-10 Documentos de 'Ministério'"
      ]
    },
    {
      "cell_type": "code",
      "metadata": {
        "colab_type": "code",
        "outputId": "1f74526d-4767-4a45-89f3-08bc19037fe0",
        "id": "rkIJpsq9N5dy",
        "colab": {
          "base_uri": "https://localhost:8080/",
          "height": 359
        }
      },
      "source": [
        "table_dice = pd.DataFrame()\n",
        "table_dice['Dice before Term A Time'] = table_3['Dice']\n",
        "table_dice['Dice after Term A Time'] = table_top3['Dice']\n",
        "table_dice"
      ],
      "execution_count": 239,
      "outputs": [
        {
          "output_type": "execute_result",
          "data": {
            "text/html": [
              "<div>\n",
              "<style scoped>\n",
              "    .dataframe tbody tr th:only-of-type {\n",
              "        vertical-align: middle;\n",
              "    }\n",
              "\n",
              "    .dataframe tbody tr th {\n",
              "        vertical-align: top;\n",
              "    }\n",
              "\n",
              "    .dataframe thead th {\n",
              "        text-align: right;\n",
              "    }\n",
              "</style>\n",
              "<table border=\"1\" class=\"dataframe\">\n",
              "  <thead>\n",
              "    <tr style=\"text-align: right;\">\n",
              "      <th></th>\n",
              "      <th>Dice before Term A Time</th>\n",
              "      <th>Dice after Term A Time</th>\n",
              "    </tr>\n",
              "  </thead>\n",
              "  <tbody>\n",
              "    <tr>\n",
              "      <th>1</th>\n",
              "      <td>público</td>\n",
              "      <td>jair</td>\n",
              "    </tr>\n",
              "    <tr>\n",
              "      <th>2</th>\n",
              "      <td>diz</td>\n",
              "      <td>diz</td>\n",
              "    </tr>\n",
              "    <tr>\n",
              "      <th>3</th>\n",
              "      <td>militares</td>\n",
              "      <td>bolsonaro</td>\n",
              "    </tr>\n",
              "    <tr>\n",
              "      <th>4</th>\n",
              "      <td>segundo</td>\n",
              "      <td>sobre</td>\n",
              "    </tr>\n",
              "    <tr>\n",
              "      <th>5</th>\n",
              "      <td>sobre</td>\n",
              "      <td>brasil</td>\n",
              "    </tr>\n",
              "    <tr>\n",
              "      <th>6</th>\n",
              "      <td>voz</td>\n",
              "      <td>segundo</td>\n",
              "    </tr>\n",
              "    <tr>\n",
              "      <th>7</th>\n",
              "      <td>união</td>\n",
              "      <td>público</td>\n",
              "    </tr>\n",
              "    <tr>\n",
              "      <th>8</th>\n",
              "      <td>tribunal</td>\n",
              "      <td>presidente</td>\n",
              "    </tr>\n",
              "    <tr>\n",
              "      <th>9</th>\n",
              "      <td>ainda</td>\n",
              "      <td>ministro</td>\n",
              "    </tr>\n",
              "    <tr>\n",
              "      <th>10</th>\n",
              "      <td>deste</td>\n",
              "      <td>governo</td>\n",
              "    </tr>\n",
              "  </tbody>\n",
              "</table>\n",
              "</div>"
            ],
            "text/plain": [
              "   Dice before Term A Time Dice after Term A Time\n",
              "1                  público                   jair\n",
              "2                      diz                    diz\n",
              "3                militares              bolsonaro\n",
              "4                  segundo                  sobre\n",
              "5                    sobre                 brasil\n",
              "6                      voz                segundo\n",
              "7                    união                público\n",
              "8                 tribunal             presidente\n",
              "9                    ainda               ministro\n",
              "10                   deste                governo"
            ]
          },
          "metadata": {
            "tags": []
          },
          "execution_count": 239
        }
      ]
    },
    {
      "cell_type": "markdown",
      "metadata": {
        "colab_type": "text",
        "id": "KBNUpUilN5d5"
      },
      "source": [
        "##### Top-10 palavras associadas aos Top-10 Documentos de 'Brasil'"
      ]
    },
    {
      "cell_type": "code",
      "metadata": {
        "colab_type": "code",
        "outputId": "6933e70a-ce71-46e4-8ef3-af5c4828bdaa",
        "id": "YRjs8YHiN5d6",
        "colab": {
          "base_uri": "https://localhost:8080/",
          "height": 359
        }
      },
      "source": [
        "table_dice = pd.DataFrame()\n",
        "table_dice['Dice before Term A Time'] = table_4['Dice']\n",
        "table_dice['Dice after Term A Time'] = table_top4['Dice']\n",
        "table_dice"
      ],
      "execution_count": 240,
      "outputs": [
        {
          "output_type": "execute_result",
          "data": {
            "text/html": [
              "<div>\n",
              "<style scoped>\n",
              "    .dataframe tbody tr th:only-of-type {\n",
              "        vertical-align: middle;\n",
              "    }\n",
              "\n",
              "    .dataframe tbody tr th {\n",
              "        vertical-align: top;\n",
              "    }\n",
              "\n",
              "    .dataframe thead th {\n",
              "        text-align: right;\n",
              "    }\n",
              "</style>\n",
              "<table border=\"1\" class=\"dataframe\">\n",
              "  <thead>\n",
              "    <tr style=\"text-align: right;\">\n",
              "      <th></th>\n",
              "      <th>Dice before Term A Time</th>\n",
              "      <th>Dice after Term A Time</th>\n",
              "    </tr>\n",
              "  </thead>\n",
              "  <tbody>\n",
              "    <tr>\n",
              "      <th>1</th>\n",
              "      <td>bolsonaro</td>\n",
              "      <td>país</td>\n",
              "    </tr>\n",
              "    <tr>\n",
              "      <th>2</th>\n",
              "      <td>jair</td>\n",
              "      <td>ter</td>\n",
              "    </tr>\n",
              "    <tr>\n",
              "      <th>3</th>\n",
              "      <td>sobre</td>\n",
              "      <td>sobre</td>\n",
              "    </tr>\n",
              "    <tr>\n",
              "      <th>4</th>\n",
              "      <td>brasileira</td>\n",
              "      <td>governo</td>\n",
              "    </tr>\n",
              "    <tr>\n",
              "      <th>5</th>\n",
              "      <td>segundo</td>\n",
              "      <td>bolsonaro</td>\n",
              "    </tr>\n",
              "    <tr>\n",
              "      <th>6</th>\n",
              "      <td>ser</td>\n",
              "      <td>ainda</td>\n",
              "    </tr>\n",
              "    <tr>\n",
              "      <th>7</th>\n",
              "      <td>país</td>\n",
              "      <td>todo</td>\n",
              "    </tr>\n",
              "    <tr>\n",
              "      <th>8</th>\n",
              "      <td>governo</td>\n",
              "      <td>ser</td>\n",
              "    </tr>\n",
              "    <tr>\n",
              "      <th>9</th>\n",
              "      <td>ter</td>\n",
              "      <td>presidente</td>\n",
              "    </tr>\n",
              "    <tr>\n",
              "      <th>10</th>\n",
              "      <td>ainda</td>\n",
              "      <td>jair</td>\n",
              "    </tr>\n",
              "  </tbody>\n",
              "</table>\n",
              "</div>"
            ],
            "text/plain": [
              "   Dice before Term A Time Dice after Term A Time\n",
              "1                bolsonaro                   país\n",
              "2                     jair                    ter\n",
              "3                    sobre                  sobre\n",
              "4               brasileira                governo\n",
              "5                  segundo              bolsonaro\n",
              "6                      ser                  ainda\n",
              "7                     país                   todo\n",
              "8                  governo                    ser\n",
              "9                      ter             presidente\n",
              "10                   ainda                   jair"
            ]
          },
          "metadata": {
            "tags": []
          },
          "execution_count": 240
        }
      ]
    },
    {
      "cell_type": "markdown",
      "metadata": {
        "colab_type": "text",
        "id": "wznLUvOaN5eB"
      },
      "source": [
        "##### Top-10 palavras associadas aos Top-10 Documentos de 'Economia'"
      ]
    },
    {
      "cell_type": "code",
      "metadata": {
        "colab_type": "code",
        "outputId": "8a9b7187-1c53-433b-e022-68f71d4c1e63",
        "id": "oKhaeVkjN5eC",
        "colab": {
          "base_uri": "https://localhost:8080/",
          "height": 359
        }
      },
      "source": [
        "table_dice = pd.DataFrame()\n",
        "table_dice['Dice before Term A Time'] = table_5['Dice']\n",
        "table_dice['Dice after Term A Time'] = table_top5['Dice']\n",
        "table_dice"
      ],
      "execution_count": 241,
      "outputs": [
        {
          "output_type": "execute_result",
          "data": {
            "text/html": [
              "<div>\n",
              "<style scoped>\n",
              "    .dataframe tbody tr th:only-of-type {\n",
              "        vertical-align: middle;\n",
              "    }\n",
              "\n",
              "    .dataframe tbody tr th {\n",
              "        vertical-align: top;\n",
              "    }\n",
              "\n",
              "    .dataframe thead th {\n",
              "        text-align: right;\n",
              "    }\n",
              "</style>\n",
              "<table border=\"1\" class=\"dataframe\">\n",
              "  <thead>\n",
              "    <tr style=\"text-align: right;\">\n",
              "      <th></th>\n",
              "      <th>Dice before Term A Time</th>\n",
              "      <th>Dice after Term A Time</th>\n",
              "    </tr>\n",
              "  </thead>\n",
              "  <tbody>\n",
              "    <tr>\n",
              "      <th>1</th>\n",
              "      <td>guedes</td>\n",
              "      <td>ministro</td>\n",
              "    </tr>\n",
              "    <tr>\n",
              "      <th>2</th>\n",
              "      <td>previdência</td>\n",
              "      <td>sobre</td>\n",
              "    </tr>\n",
              "    <tr>\n",
              "      <th>3</th>\n",
              "      <td>proposta</td>\n",
              "      <td>paulo</td>\n",
              "    </tr>\n",
              "    <tr>\n",
              "      <th>4</th>\n",
              "      <td>reforma</td>\n",
              "      <td>guedes</td>\n",
              "    </tr>\n",
              "    <tr>\n",
              "      <th>5</th>\n",
              "      <td>paulo</td>\n",
              "      <td>governo</td>\n",
              "    </tr>\n",
              "    <tr>\n",
              "      <th>6</th>\n",
              "      <td>ano</td>\n",
              "      <td>reforma</td>\n",
              "    </tr>\n",
              "    <tr>\n",
              "      <th>7</th>\n",
              "      <td>bilhões</td>\n",
              "      <td>previdência</td>\n",
              "    </tr>\n",
              "    <tr>\n",
              "      <th>8</th>\n",
              "      <td>ministro</td>\n",
              "      <td>país</td>\n",
              "    </tr>\n",
              "    <tr>\n",
              "      <th>9</th>\n",
              "      <td>nesta</td>\n",
              "      <td>feira</td>\n",
              "    </tr>\n",
              "    <tr>\n",
              "      <th>10</th>\n",
              "      <td>país</td>\n",
              "      <td>quarta</td>\n",
              "    </tr>\n",
              "  </tbody>\n",
              "</table>\n",
              "</div>"
            ],
            "text/plain": [
              "   Dice before Term A Time Dice after Term A Time\n",
              "1                   guedes               ministro\n",
              "2              previdência                  sobre\n",
              "3                 proposta                  paulo\n",
              "4                  reforma                 guedes\n",
              "5                    paulo                governo\n",
              "6                      ano                reforma\n",
              "7                  bilhões            previdência\n",
              "8                 ministro                   país\n",
              "9                    nesta                  feira\n",
              "10                    país                 quarta"
            ]
          },
          "metadata": {
            "tags": []
          },
          "execution_count": 241
        }
      ]
    },
    {
      "cell_type": "markdown",
      "metadata": {
        "id": "iY40yOSCu_Z5",
        "colab_type": "text"
      },
      "source": [
        "#### Resultado:\n",
        "\n",
        "Podemos perceber que para o top-3 algumas consultas acabam perdendo a relevância e a tabela mostra palavras que não possuem um significado forte para o contexto, mesmo após desconsiderar as stopwords, diminuindo assim a qualidade dos resultados. \n",
        "\n",
        "Porém, para os top-5 e top-10 os resultados, na minha opinião, apresentam casos mais satifastórios podendo ser justificado pela consideração de documentos que realmente descrevem o contexto da palavra consultada."
      ]
    }
  ]
}