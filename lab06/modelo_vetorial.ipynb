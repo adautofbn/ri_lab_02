{
  "nbformat": 4,
  "nbformat_minor": 0,
  "metadata": {
    "colab": {
      "name": "modelo_vetorial",
      "version": "0.3.2",
      "provenance": [],
      "collapsed_sections": [],
      "include_colab_link": true
    },
    "kernelspec": {
      "name": "python3",
      "display_name": "Python 3"
    }
  },
  "cells": [
    {
      "cell_type": "markdown",
      "metadata": {
        "id": "view-in-github",
        "colab_type": "text"
      },
      "source": [
        "<a href=\"https://colab.research.google.com/github/adautofbn/ri_labs/blob/master/lab06/modelo_vetorial.ipynb\" target=\"_parent\"><img src=\"https://colab.research.google.com/assets/colab-badge.svg\" alt=\"Open In Colab\"/></a>"
      ]
    },
    {
      "cell_type": "code",
      "metadata": {
        "id": "eVLJ-zUhxSqr",
        "colab_type": "code",
        "outputId": "5d3b20f3-c2d5-42d6-d2fa-f613a68885d1",
        "colab": {
          "base_uri": "https://localhost:8080/",
          "height": 51
        }
      },
      "source": [
        "import pandas as pd\n",
        "import numpy as np\n",
        "import nltk\n",
        "import re\n",
        "import collections\n",
        "import bisect\n",
        "from nltk.tokenize import RegexpTokenizer\n",
        "\n",
        "nltk.download('stopwords')\n",
        "result = pd.read_csv('https://raw.githubusercontent.com/adautofbn/ri_labs/master/lab06/results.csv')\n",
        "                                            # Resultados adquiridos do site brasil-247 em abril de 2019"
      ],
      "execution_count": 299,
      "outputs": [
        {
          "output_type": "stream",
          "text": [
            "[nltk_data] Downloading package stopwords to /root/nltk_data...\n",
            "[nltk_data]   Package stopwords is already up-to-date!\n"
          ],
          "name": "stdout"
        }
      ]
    },
    {
      "cell_type": "markdown",
      "metadata": {
        "id": "mHwushaYy_ZA",
        "colab_type": "text"
      },
      "source": [
        "## 1. Reconstruir o índice considerando o conjunto de dados que indicamos. Esses são os dados coletados por Bernardi e os estaremos usando para facilitar a correção da atividade. Se você já estiver usando esses dados não precisa reconstruir o índice;"
      ]
    },
    {
      "cell_type": "code",
      "metadata": {
        "id": "ZCiNa0fv0FPD",
        "colab_type": "code",
        "colab": {}
      },
      "source": [
        "tknz = RegexpTokenizer(r'([A-Za-zÁáÉéÍíÓóÚúÃãÕõÇçÂâÊê]{3,27})')\n",
        "stopwords = nltk.corpus.stopwords.words('portuguese') \n",
        "indexes = {}\n",
        "n = 0\n",
        "\n",
        "for text in result.text:\n",
        "  words = [word for word in tknz.tokenize(text.lower())\n",
        "           if not bool(re.search(r'\\d', word))\n",
        "           and word not in stopwords and len(word) >= 3]  \n",
        "  n += 1\n",
        "  for t in words:\n",
        "    if t not in indexes.keys():\n",
        "      indexes[t] = []\n",
        "    indexes[t].append(n)\n",
        "    \n",
        "for elem in indexes.items():\n",
        "  d = dict(collections.Counter(elem[1]))\n",
        "  indexes[elem[0]] = list(d.items())"
      ],
      "execution_count": 0,
      "outputs": []
    },
    {
      "cell_type": "markdown",
      "metadata": {
        "id": "JmoY9DpLzD6p",
        "colab_type": "text"
      },
      "source": [
        "## 2. Refinar o índice invertido de forma a também incluir o IDF (inverse document frequency) de cada termo do dicionário; "
      ]
    },
    {
      "cell_type": "code",
      "metadata": {
        "id": "-c75HorM7nWr",
        "colab_type": "code",
        "colab": {}
      },
      "source": [
        "M = result.text.count()\n",
        "for word in indexes:\n",
        "  k = len(indexes[word])\n",
        "  IDF = round(np.log((M+1)/k),2)\n",
        "  indexes[word].append(IDF)"
      ],
      "execution_count": 0,
      "outputs": []
    },
    {
      "cell_type": "markdown",
      "metadata": {
        "id": "jlJYUt9WzIOm",
        "colab_type": "text"
      },
      "source": [
        "## 3. Implementar as seguintes versões do modelo vetorial:"
      ]
    },
    {
      "cell_type": "markdown",
      "metadata": {
        "id": "mA1z8120zKKj",
        "colab_type": "text"
      },
      "source": [
        "### 3.1. Representação binária"
      ]
    },
    {
      "cell_type": "code",
      "metadata": {
        "id": "iQHcDGgFDjHF",
        "colab_type": "code",
        "colab": {}
      },
      "source": [
        "def binary_vsm(query, document):\n",
        "  score = 0\n",
        "  query_tokens = query.split()\n",
        "  doc_tokens = document.split()\n",
        "  \n",
        "  for token in query_tokens:\n",
        "    score += (token in doc_tokens)\n",
        "    \n",
        "  return score"
      ],
      "execution_count": 0,
      "outputs": []
    },
    {
      "cell_type": "markdown",
      "metadata": {
        "id": "x-X_wc5UzTUg",
        "colab_type": "text"
      },
      "source": [
        "### 3.2. TF (lembre-se que esse modelo já está implementado)"
      ]
    },
    {
      "cell_type": "code",
      "metadata": {
        "id": "yPUnugdpFed_",
        "colab_type": "code",
        "colab": {}
      },
      "source": [
        "def tf_vsm(query, document):\n",
        "  score = 0\n",
        "  doc_tokens = document.split()\n",
        "  query_tokens = query.split()\n",
        "  \n",
        "  for word in query_tokens:\n",
        "    score += doc_tokens.count(word)\n",
        "  \n",
        "  return score"
      ],
      "execution_count": 0,
      "outputs": []
    },
    {
      "cell_type": "markdown",
      "metadata": {
        "id": "L_X2htKDzWO7",
        "colab_type": "text"
      },
      "source": [
        "### 3.3 TF-IDF"
      ]
    },
    {
      "cell_type": "code",
      "metadata": {
        "id": "8pv4YH8QI4FW",
        "colab_type": "code",
        "colab": {}
      },
      "source": [
        "def tfidf_vsm(query, document):\n",
        "  score = 0\n",
        "  doc_tokens = document.split()\n",
        "  query_tokens = query.split()\n",
        "  \n",
        "  for word in query_tokens:\n",
        "    cwd = doc_tokens.count(word)\n",
        "    score += cwd * indexes[word][-1]\n",
        "  \n",
        "  return round(score,2)"
      ],
      "execution_count": 0,
      "outputs": []
    },
    {
      "cell_type": "markdown",
      "metadata": {
        "id": "bYA7I-MJzY1n",
        "colab_type": "text"
      },
      "source": [
        "### 3.4 BM25 (não usaremos Okapi já que os documentos não tem grande variação de tamanho)"
      ]
    },
    {
      "cell_type": "code",
      "metadata": {
        "id": "f7i7Vi7AMb9n",
        "colab_type": "code",
        "colab": {}
      },
      "source": [
        "def bm25_vsm(query, document, k):\n",
        "  score = 0\n",
        "  doc_tokens = document.split()\n",
        "  query_tokens = query.split()\n",
        "  \n",
        "  words = [word for word in query_tokens if word in doc_tokens]\n",
        "    \n",
        "  for word in words:\n",
        "    cwd = doc_tokens.count(word)\n",
        "    dfw = len(indexes[word][:-1])\n",
        "    score += (((k+1) * cwd) / (cwd + k)) * np.log10(((M+1) / dfw))\n",
        "  \n",
        "  return round(score,2)"
      ],
      "execution_count": 0,
      "outputs": []
    },
    {
      "cell_type": "markdown",
      "metadata": {
        "id": "xT_PZLyjziCw",
        "colab_type": "text"
      },
      "source": [
        "## 4. Execute os algoritmos separadamente em 3 consultas de sua escolha e retorne os top-5 documentos mais similares à cada consulta;"
      ]
    },
    {
      "cell_type": "code",
      "metadata": {
        "id": "_gyPciv8TWB1",
        "colab_type": "code",
        "colab": {}
      },
      "source": [
        "queries = ['jair bolsonaro', 'damares alves', 'paulo guedes']"
      ],
      "execution_count": 0,
      "outputs": []
    },
    {
      "cell_type": "code",
      "metadata": {
        "colab_type": "code",
        "id": "8biPwliZRynU",
        "colab": {}
      },
      "source": [
        "def create_top5_models(query):\n",
        "  n = 0\n",
        "  db = []\n",
        "  dtf = []\n",
        "  dtfidf = []\n",
        "  dbm25 = []\n",
        "  for doc in result.text:\n",
        "    doc = doc.lower()\n",
        "    n += 1\n",
        "    bisect.insort(db, (binary_vsm(query, doc), n))\n",
        "    bisect.insort(dtf, (tf_vsm(query,doc), n))\n",
        "    bisect.insort(dtfidf, (tfidf_vsm(query,doc), n))\n",
        "    bisect.insort(dbm25, (bm25_vsm(query,doc,10), n))\n",
        "  \n",
        "  db.reverse()\n",
        "  dtf.reverse()\n",
        "  dtfidf.reverse()\n",
        "  dbm25.reverse()\n",
        "  \n",
        "  return db[:5], dtf[:5], dtfidf[:5], dbm25[:5]"
      ],
      "execution_count": 0,
      "outputs": []
    },
    {
      "cell_type": "code",
      "metadata": {
        "id": "ctCq5oudxbq_",
        "colab_type": "code",
        "colab": {}
      },
      "source": [
        "top5_binary = ['','','']\n",
        "top5_tf = ['','','']\n",
        "top5_tfidf = ['','','']\n",
        "top5_bm25 = ['','','']\n",
        "\n",
        "top5_binary[0], top5_tf[0], top5_tfidf[0], top5_bm25[0] = create_top5_models(queries[0])\n",
        "top5_binary[1], top5_tf[1], top5_tfidf[1], top5_bm25[1] = create_top5_models(queries[1])\n",
        "top5_binary[2], top5_tf[2], top5_tfidf[2], top5_bm25[2] = create_top5_models(queries[2])"
      ],
      "execution_count": 0,
      "outputs": []
    },
    {
      "cell_type": "code",
      "metadata": {
        "id": "uvp_il8XzhPT",
        "colab_type": "code",
        "outputId": "46aa4ae0-fa2d-4ba8-a525-120a2f0bc4d8",
        "colab": {
          "base_uri": "https://localhost:8080/",
          "height": 142
        }
      },
      "source": [
        "query_df = pd.DataFrame()\n",
        "\n",
        "query_df['Query'] = queries\n",
        "query_df['Binary'] = top5_binary\n",
        "query_df['TF'] = top5_tf\n",
        "query_df['TF-IDF'] = top5_tfidf\n",
        "query_df['BM25'] = top5_bm25\n",
        "\n",
        "query_df.index+=1\n",
        "query_df\n"
      ],
      "execution_count": 309,
      "outputs": [
        {
          "output_type": "execute_result",
          "data": {
            "text/html": [
              "<div>\n",
              "<style scoped>\n",
              "    .dataframe tbody tr th:only-of-type {\n",
              "        vertical-align: middle;\n",
              "    }\n",
              "\n",
              "    .dataframe tbody tr th {\n",
              "        vertical-align: top;\n",
              "    }\n",
              "\n",
              "    .dataframe thead th {\n",
              "        text-align: right;\n",
              "    }\n",
              "</style>\n",
              "<table border=\"1\" class=\"dataframe\">\n",
              "  <thead>\n",
              "    <tr style=\"text-align: right;\">\n",
              "      <th></th>\n",
              "      <th>Query</th>\n",
              "      <th>Binary</th>\n",
              "      <th>TF</th>\n",
              "      <th>TF-IDF</th>\n",
              "      <th>BM25</th>\n",
              "    </tr>\n",
              "  </thead>\n",
              "  <tbody>\n",
              "    <tr>\n",
              "      <th>1</th>\n",
              "      <td>jair bolsonaro</td>\n",
              "      <td>[(2, 238), (2, 237), (2, 231), (2, 224), (2, 2...</td>\n",
              "      <td>[(41, 207), (37, 151), (31, 166), (19, 19), (1...</td>\n",
              "      <td>[(67.98, 207), (55.14, 151), (42.18, 166), (25...</td>\n",
              "      <td>[(11.17, 207), (8.9, 151), (5.84, 166), (4.41,...</td>\n",
              "    </tr>\n",
              "    <tr>\n",
              "      <th>2</th>\n",
              "      <td>damares alves</td>\n",
              "      <td>[(2, 151), (2, 18), (1, 213), (1, 7), (0, 249)]</td>\n",
              "      <td>[(2, 151), (2, 18), (1, 213), (1, 7), (0, 249)]</td>\n",
              "      <td>[(8.84, 151), (8.84, 18), (4.42, 213), (4.42, ...</td>\n",
              "      <td>[(3.84, 151), (3.84, 18), (1.92, 213), (1.92, ...</td>\n",
              "    </tr>\n",
              "    <tr>\n",
              "      <th>3</th>\n",
              "      <td>paulo guedes</td>\n",
              "      <td>[(2, 240), (2, 236), (2, 235), (2, 218), (2, 2...</td>\n",
              "      <td>[(9, 240), (9, 209), (9, 37), (6, 213), (5, 223)]</td>\n",
              "      <td>[(24.54, 37), (23.16, 240), (20.4, 209), (15.9...</td>\n",
              "      <td>[(6.86, 240), (6.77, 37), (6.63, 209), (5.24, ...</td>\n",
              "    </tr>\n",
              "  </tbody>\n",
              "</table>\n",
              "</div>"
            ],
            "text/plain": [
              "            Query  ...                                               BM25\n",
              "1  jair bolsonaro  ...  [(11.17, 207), (8.9, 151), (5.84, 166), (4.41,...\n",
              "2   damares alves  ...  [(3.84, 151), (3.84, 18), (1.92, 213), (1.92, ...\n",
              "3    paulo guedes  ...  [(6.86, 240), (6.77, 37), (6.63, 209), (5.24, ...\n",
              "\n",
              "[3 rows x 5 columns]"
            ]
          },
          "metadata": {
            "tags": []
          },
          "execution_count": 309
        }
      ]
    },
    {
      "cell_type": "markdown",
      "metadata": {
        "id": "lboQt7Z0zn6Q",
        "colab_type": "text"
      },
      "source": [
        "## 5. Compare os resultados encontrados e responda."
      ]
    },
    {
      "cell_type": "markdown",
      "metadata": {
        "id": "eL1Qj_tizpkS",
        "colab_type": "text"
      },
      "source": [
        "### 5.1. Quais modelos você acha que trouxe os melhores resultados? Por que? Inspecione os documentos retornados para melhor embasar sua resposta."
      ]
    },
    {
      "cell_type": "markdown",
      "metadata": {
        "id": "ihDNaq-IzsjJ",
        "colab_type": "text"
      },
      "source": [
        "### 5.2. Calcule e reporte o overlap par-a-par entre os resultados de cada modelo (usando o índice de Jaccard)"
      ]
    }
  ]
}