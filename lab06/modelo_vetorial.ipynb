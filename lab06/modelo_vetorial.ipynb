{
  "nbformat": 4,
  "nbformat_minor": 0,
  "metadata": {
    "colab": {
      "name": "modelo_vetorial",
      "version": "0.3.2",
      "provenance": [],
      "collapsed_sections": [],
      "include_colab_link": true
    },
    "kernelspec": {
      "name": "python3",
      "display_name": "Python 3"
    }
  },
  "cells": [
    {
      "cell_type": "markdown",
      "metadata": {
        "id": "view-in-github",
        "colab_type": "text"
      },
      "source": [
        "<a href=\"https://colab.research.google.com/github/adautofbn/ri_labs/blob/master/lab06/modelo_vetorial.ipynb\" target=\"_parent\"><img src=\"https://colab.research.google.com/assets/colab-badge.svg\" alt=\"Open In Colab\"/></a>"
      ]
    },
    {
      "cell_type": "code",
      "metadata": {
        "id": "eVLJ-zUhxSqr",
        "colab_type": "code",
        "outputId": "f7832f90-0dbf-4c30-95af-c11e7b6d8391",
        "colab": {
          "base_uri": "https://localhost:8080/",
          "height": 51
        }
      },
      "source": [
        "import pandas as pd\n",
        "import numpy as np\n",
        "import nltk\n",
        "import re\n",
        "import collections\n",
        "import heapq\n",
        "import time\n",
        "import bisect\n",
        "import random\n",
        "from nltk.tokenize import RegexpTokenizer\n",
        "\n",
        "nltk.download('stopwords')\n",
        "result = pd.read_csv('https://raw.githubusercontent.com/adautofbn/ri_labs/master/lab06/results.csv')\n",
        "                                            # Resultados adquiridos do site brasil-247 em abril de 2019"
      ],
      "execution_count": 24,
      "outputs": [
        {
          "output_type": "stream",
          "text": [
            "[nltk_data] Downloading package stopwords to /root/nltk_data...\n",
            "[nltk_data]   Package stopwords is already up-to-date!\n"
          ],
          "name": "stdout"
        }
      ]
    },
    {
      "cell_type": "markdown",
      "metadata": {
        "id": "mHwushaYy_ZA",
        "colab_type": "text"
      },
      "source": [
        "## 1. Reconstruir o índice considerando o conjunto de dados que indicamos. Esses são os dados coletados por Bernardi e os estaremos usando para facilitar a correção da atividade. Se você já estiver usando esses dados não precisa reconstruir o índice;"
      ]
    },
    {
      "cell_type": "code",
      "metadata": {
        "id": "ZCiNa0fv0FPD",
        "colab_type": "code",
        "colab": {}
      },
      "source": [
        "tknz = RegexpTokenizer(r'([A-Za-zÁáÉéÍíÓóÚúÃãÕõÇçÂâÊê]{3,27})')\n",
        "stopwords = nltk.corpus.stopwords.words('portuguese') \n",
        "indexes = {}\n",
        "n = 0\n",
        "\n",
        "for text in result.text:\n",
        "  words = [word for word in tknz.tokenize(text.lower())\n",
        "           if not bool(re.search(r'\\d', word))\n",
        "           and word not in stopwords and len(word) >= 3]  \n",
        "  n += 1\n",
        "  for t in words:\n",
        "    if t not in indexes.keys():\n",
        "      indexes[t] = []\n",
        "    indexes[t].append(n)\n",
        "    \n",
        "for elem in indexes.items():\n",
        "  d = dict(collections.Counter(elem[1]))\n",
        "  indexes[elem[0]] = list(d.items())"
      ],
      "execution_count": 0,
      "outputs": []
    },
    {
      "cell_type": "markdown",
      "metadata": {
        "id": "JmoY9DpLzD6p",
        "colab_type": "text"
      },
      "source": [
        "## 2. Refinar o índice invertido de forma a também incluir o IDF (inverse document frequency) de cada termo do dicionário; "
      ]
    },
    {
      "cell_type": "code",
      "metadata": {
        "id": "-c75HorM7nWr",
        "colab_type": "code",
        "colab": {}
      },
      "source": [
        "M = result.text.count()\n",
        "for word in indexes:\n",
        "  k = len(indexes[word])\n",
        "  for i in range(len(indexes[word])):\n",
        "    IDF = round(np.log((M+1)/k),2)\n",
        "    indexes[word][i] = indexes[word][i] + (IDF,)"
      ],
      "execution_count": 0,
      "outputs": []
    },
    {
      "cell_type": "markdown",
      "metadata": {
        "id": "jlJYUt9WzIOm",
        "colab_type": "text"
      },
      "source": [
        "## 3. Implementar as seguintes versões do modelo vetorial:"
      ]
    },
    {
      "cell_type": "markdown",
      "metadata": {
        "id": "mA1z8120zKKj",
        "colab_type": "text"
      },
      "source": [
        "### 3.1. Representação binária"
      ]
    },
    {
      "cell_type": "markdown",
      "metadata": {
        "id": "x-X_wc5UzTUg",
        "colab_type": "text"
      },
      "source": [
        "### 3.2. TF (lembre-se que esse modelo já está implementado)"
      ]
    },
    {
      "cell_type": "markdown",
      "metadata": {
        "id": "L_X2htKDzWO7",
        "colab_type": "text"
      },
      "source": [
        "### 3.3 TF-IDF"
      ]
    },
    {
      "cell_type": "markdown",
      "metadata": {
        "id": "bYA7I-MJzY1n",
        "colab_type": "text"
      },
      "source": [
        "### 3.4 BM25 (não usaremos Okapi já que os documentos não tem grande variação de tamanho)"
      ]
    },
    {
      "cell_type": "markdown",
      "metadata": {
        "id": "xT_PZLyjziCw",
        "colab_type": "text"
      },
      "source": [
        "## 4. Execute os algoritmos separadamente em 3 consultas de sua escolha e retorne os top-5 documentos mais similares à cada consulta;"
      ]
    },
    {
      "cell_type": "markdown",
      "metadata": {
        "id": "lboQt7Z0zn6Q",
        "colab_type": "text"
      },
      "source": [
        "## 5. Compare os resultados encontrados e responda."
      ]
    },
    {
      "cell_type": "markdown",
      "metadata": {
        "id": "eL1Qj_tizpkS",
        "colab_type": "text"
      },
      "source": [
        "### 5.1. Quais modelos você acha que trouxe os melhores resultados? Por que? Inspecione os documentos retornados para melhor embasar sua resposta."
      ]
    },
    {
      "cell_type": "markdown",
      "metadata": {
        "id": "ihDNaq-IzsjJ",
        "colab_type": "text"
      },
      "source": [
        "### 5.2. Calcule e reporte o overlap par-a-par entre os resultados de cada modelo (usando o índice de Jaccard)"
      ]
    }
  ]
}