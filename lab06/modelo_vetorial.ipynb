{
  "nbformat": 4,
  "nbformat_minor": 0,
  "metadata": {
    "colab": {
      "name": "modelo_vetorial",
      "version": "0.3.2",
      "provenance": [],
      "collapsed_sections": [],
      "include_colab_link": true
    },
    "kernelspec": {
      "name": "python3",
      "display_name": "Python 3"
    }
  },
  "cells": [
    {
      "cell_type": "markdown",
      "metadata": {
        "id": "view-in-github",
        "colab_type": "text"
      },
      "source": [
        "<a href=\"https://colab.research.google.com/github/adautofbn/ri_labs/blob/master/lab06/modelo_vetorial.ipynb\" target=\"_parent\"><img src=\"https://colab.research.google.com/assets/colab-badge.svg\" alt=\"Open In Colab\"/></a>"
      ]
    },
    {
      "cell_type": "code",
      "metadata": {
        "id": "eVLJ-zUhxSqr",
        "colab_type": "code",
        "outputId": "fe1e92ef-80ab-4bd9-8e80-655db25014dd",
        "colab": {
          "base_uri": "https://localhost:8080/",
          "height": 51
        }
      },
      "source": [
        "import pandas as pd\n",
        "import numpy as np\n",
        "import nltk\n",
        "import re\n",
        "import collections\n",
        "import bisect\n",
        "from nltk.tokenize import RegexpTokenizer\n",
        "\n",
        "nltk.download('stopwords')\n",
        "result = pd.read_csv('https://raw.githubusercontent.com/adautofbn/ri_labs/master/lab06/results.csv')\n",
        "                                            # Resultados adquiridos do site brasil-247 em abril de 2019"
      ],
      "execution_count": 358,
      "outputs": [
        {
          "output_type": "stream",
          "text": [
            "[nltk_data] Downloading package stopwords to /root/nltk_data...\n",
            "[nltk_data]   Package stopwords is already up-to-date!\n"
          ],
          "name": "stdout"
        }
      ]
    },
    {
      "cell_type": "markdown",
      "metadata": {
        "id": "mHwushaYy_ZA",
        "colab_type": "text"
      },
      "source": [
        "## 1. Reconstruir o índice considerando o conjunto de dados que indicamos. Esses são os dados coletados por Bernardi e os estaremos usando para facilitar a correção da atividade. Se você já estiver usando esses dados não precisa reconstruir o índice;"
      ]
    },
    {
      "cell_type": "code",
      "metadata": {
        "id": "ZCiNa0fv0FPD",
        "colab_type": "code",
        "colab": {}
      },
      "source": [
        "tknz = RegexpTokenizer(r'([A-Za-zÁáÉéÍíÓóÚúÃãÕõÇçÂâÊê]{3,27})')\n",
        "stopwords = nltk.corpus.stopwords.words('portuguese') \n",
        "indexes = {}\n",
        "n = 0\n",
        "\n",
        "for text in result.text:\n",
        "  words = [word for word in tknz.tokenize(text.lower())\n",
        "           if not bool(re.search(r'\\d', word))\n",
        "           and word not in stopwords and len(word) >= 3]  \n",
        "  n += 1\n",
        "  for t in words:\n",
        "    if t not in indexes.keys():\n",
        "      indexes[t] = []\n",
        "    indexes[t].append(n)\n",
        "    \n",
        "for elem in indexes.items():\n",
        "  d = dict(collections.Counter(elem[1]))\n",
        "  indexes[elem[0]] = list(d.items())"
      ],
      "execution_count": 0,
      "outputs": []
    },
    {
      "cell_type": "code",
      "metadata": {
        "id": "_1msrH6Cvzc2",
        "colab_type": "code",
        "colab": {
          "base_uri": "https://localhost:8080/",
          "height": 359
        },
        "outputId": "6c0e9f66-5e76-4303-bf1a-ad31d713ef74"
      },
      "source": [
        "indexes_df = pd.DataFrame()\n",
        "indexes_df['Word'] = indexes.keys()\n",
        "indexes_df['Documents and Frequencies'] = indexes.values()\n",
        "\n",
        "indexes_df.head(10)"
      ],
      "execution_count": 360,
      "outputs": [
        {
          "output_type": "execute_result",
          "data": {
            "text/html": [
              "<div>\n",
              "<style scoped>\n",
              "    .dataframe tbody tr th:only-of-type {\n",
              "        vertical-align: middle;\n",
              "    }\n",
              "\n",
              "    .dataframe tbody tr th {\n",
              "        vertical-align: top;\n",
              "    }\n",
              "\n",
              "    .dataframe thead th {\n",
              "        text-align: right;\n",
              "    }\n",
              "</style>\n",
              "<table border=\"1\" class=\"dataframe\">\n",
              "  <thead>\n",
              "    <tr style=\"text-align: right;\">\n",
              "      <th></th>\n",
              "      <th>Word</th>\n",
              "      <th>Documents and Frequencies</th>\n",
              "    </tr>\n",
              "  </thead>\n",
              "  <tbody>\n",
              "    <tr>\n",
              "      <th>0</th>\n",
              "      <td>juíza</td>\n",
              "      <td>[(1, 2), (2, 1)]</td>\n",
              "    </tr>\n",
              "    <tr>\n",
              "      <th>1</th>\n",
              "      <td>federal</td>\n",
              "      <td>[(1, 2), (2, 2), (3, 1), (6, 1), (7, 3), (15, ...</td>\n",
              "    </tr>\n",
              "    <tr>\n",
              "      <th>2</th>\n",
              "      <td>ivani</td>\n",
              "      <td>[(1, 1), (2, 1)]</td>\n",
              "    </tr>\n",
              "    <tr>\n",
              "      <th>3</th>\n",
              "      <td>silva</td>\n",
              "      <td>[(1, 3), (2, 1), (6, 1), (14, 2), (26, 1), (73...</td>\n",
              "    </tr>\n",
              "    <tr>\n",
              "      <th>4</th>\n",
              "      <td>luz</td>\n",
              "      <td>[(1, 3), (2, 1), (9, 1), (17, 1), (32, 2), (78...</td>\n",
              "    </tr>\n",
              "    <tr>\n",
              "      <th>5</th>\n",
              "      <td>brasília</td>\n",
              "      <td>[(1, 1), (8, 1), (33, 1), (35, 1), (44, 1), (4...</td>\n",
              "    </tr>\n",
              "    <tr>\n",
              "      <th>6</th>\n",
              "      <td>proibiu</td>\n",
              "      <td>[(1, 1), (2, 1), (119, 1), (162, 1)]</td>\n",
              "    </tr>\n",
              "    <tr>\n",
              "      <th>7</th>\n",
              "      <td>caráter</td>\n",
              "      <td>[(1, 1), (15, 1), (36, 1), (60, 1), (89, 1), (...</td>\n",
              "    </tr>\n",
              "    <tr>\n",
              "      <th>8</th>\n",
              "      <td>liminar</td>\n",
              "      <td>[(1, 1), (2, 3), (119, 1), (217, 1)]</td>\n",
              "    </tr>\n",
              "    <tr>\n",
              "      <th>9</th>\n",
              "      <td>nesta</td>\n",
              "      <td>[(1, 2), (3, 1), (4, 1), (8, 1), (21, 1), (22,...</td>\n",
              "    </tr>\n",
              "  </tbody>\n",
              "</table>\n",
              "</div>"
            ],
            "text/plain": [
              "       Word                          Documents and Frequencies\n",
              "0     juíza                                   [(1, 2), (2, 1)]\n",
              "1   federal  [(1, 2), (2, 2), (3, 1), (6, 1), (7, 3), (15, ...\n",
              "2     ivani                                   [(1, 1), (2, 1)]\n",
              "3     silva  [(1, 3), (2, 1), (6, 1), (14, 2), (26, 1), (73...\n",
              "4       luz  [(1, 3), (2, 1), (9, 1), (17, 1), (32, 2), (78...\n",
              "5  brasília  [(1, 1), (8, 1), (33, 1), (35, 1), (44, 1), (4...\n",
              "6   proibiu               [(1, 1), (2, 1), (119, 1), (162, 1)]\n",
              "7   caráter  [(1, 1), (15, 1), (36, 1), (60, 1), (89, 1), (...\n",
              "8   liminar               [(1, 1), (2, 3), (119, 1), (217, 1)]\n",
              "9     nesta  [(1, 2), (3, 1), (4, 1), (8, 1), (21, 1), (22,..."
            ]
          },
          "metadata": {
            "tags": []
          },
          "execution_count": 360
        }
      ]
    },
    {
      "cell_type": "markdown",
      "metadata": {
        "id": "JmoY9DpLzD6p",
        "colab_type": "text"
      },
      "source": [
        "## 2. Refinar o índice invertido de forma a também incluir o IDF (inverse document frequency) de cada termo do dicionário; "
      ]
    },
    {
      "cell_type": "code",
      "metadata": {
        "id": "-c75HorM7nWr",
        "colab_type": "code",
        "colab": {}
      },
      "source": [
        "M = result.text.count()\n",
        "for word in indexes:\n",
        "  k = len(indexes[word])\n",
        "  IDF = round(np.log((M+1)/k),2)\n",
        "  indexes[word].append(IDF)"
      ],
      "execution_count": 0,
      "outputs": []
    },
    {
      "cell_type": "code",
      "metadata": {
        "id": "4ks-wKGMwYo5",
        "colab_type": "code",
        "colab": {
          "base_uri": "https://localhost:8080/",
          "height": 359
        },
        "outputId": "0192db46-0c0c-47f6-9706-34c5f8f85f71"
      },
      "source": [
        "indexes_df['IDF'] = [index[-1] for index in indexes.values()]\n",
        "\n",
        "indexes_df.head(10)"
      ],
      "execution_count": 362,
      "outputs": [
        {
          "output_type": "execute_result",
          "data": {
            "text/html": [
              "<div>\n",
              "<style scoped>\n",
              "    .dataframe tbody tr th:only-of-type {\n",
              "        vertical-align: middle;\n",
              "    }\n",
              "\n",
              "    .dataframe tbody tr th {\n",
              "        vertical-align: top;\n",
              "    }\n",
              "\n",
              "    .dataframe thead th {\n",
              "        text-align: right;\n",
              "    }\n",
              "</style>\n",
              "<table border=\"1\" class=\"dataframe\">\n",
              "  <thead>\n",
              "    <tr style=\"text-align: right;\">\n",
              "      <th></th>\n",
              "      <th>Word</th>\n",
              "      <th>Documents and Frequencies</th>\n",
              "      <th>IDF</th>\n",
              "    </tr>\n",
              "  </thead>\n",
              "  <tbody>\n",
              "    <tr>\n",
              "      <th>0</th>\n",
              "      <td>juíza</td>\n",
              "      <td>[(1, 2), (2, 1), 4.83]</td>\n",
              "      <td>4.83</td>\n",
              "    </tr>\n",
              "    <tr>\n",
              "      <th>1</th>\n",
              "      <td>federal</td>\n",
              "      <td>[(1, 2), (2, 2), (3, 1), (6, 1), (7, 3), (15, ...</td>\n",
              "      <td>1.63</td>\n",
              "    </tr>\n",
              "    <tr>\n",
              "      <th>2</th>\n",
              "      <td>ivani</td>\n",
              "      <td>[(1, 1), (2, 1), 4.83]</td>\n",
              "      <td>4.83</td>\n",
              "    </tr>\n",
              "    <tr>\n",
              "      <th>3</th>\n",
              "      <td>silva</td>\n",
              "      <td>[(1, 3), (2, 1), (6, 1), (14, 2), (26, 1), (73...</td>\n",
              "      <td>3.04</td>\n",
              "    </tr>\n",
              "    <tr>\n",
              "      <th>4</th>\n",
              "      <td>luz</td>\n",
              "      <td>[(1, 3), (2, 1), (9, 1), (17, 1), (32, 2), (78...</td>\n",
              "      <td>2.53</td>\n",
              "    </tr>\n",
              "    <tr>\n",
              "      <th>5</th>\n",
              "      <td>brasília</td>\n",
              "      <td>[(1, 1), (8, 1), (33, 1), (35, 1), (44, 1), (4...</td>\n",
              "      <td>2.19</td>\n",
              "    </tr>\n",
              "    <tr>\n",
              "      <th>6</th>\n",
              "      <td>proibiu</td>\n",
              "      <td>[(1, 1), (2, 1), (119, 1), (162, 1), 4.14]</td>\n",
              "      <td>4.14</td>\n",
              "    </tr>\n",
              "    <tr>\n",
              "      <th>7</th>\n",
              "      <td>caráter</td>\n",
              "      <td>[(1, 1), (15, 1), (36, 1), (60, 1), (89, 1), (...</td>\n",
              "      <td>3.22</td>\n",
              "    </tr>\n",
              "    <tr>\n",
              "      <th>8</th>\n",
              "      <td>liminar</td>\n",
              "      <td>[(1, 1), (2, 3), (119, 1), (217, 1), 4.14]</td>\n",
              "      <td>4.14</td>\n",
              "    </tr>\n",
              "    <tr>\n",
              "      <th>9</th>\n",
              "      <td>nesta</td>\n",
              "      <td>[(1, 2), (3, 1), (4, 1), (8, 1), (21, 1), (22,...</td>\n",
              "      <td>0.91</td>\n",
              "    </tr>\n",
              "  </tbody>\n",
              "</table>\n",
              "</div>"
            ],
            "text/plain": [
              "       Word                          Documents and Frequencies   IDF\n",
              "0     juíza                             [(1, 2), (2, 1), 4.83]  4.83\n",
              "1   federal  [(1, 2), (2, 2), (3, 1), (6, 1), (7, 3), (15, ...  1.63\n",
              "2     ivani                             [(1, 1), (2, 1), 4.83]  4.83\n",
              "3     silva  [(1, 3), (2, 1), (6, 1), (14, 2), (26, 1), (73...  3.04\n",
              "4       luz  [(1, 3), (2, 1), (9, 1), (17, 1), (32, 2), (78...  2.53\n",
              "5  brasília  [(1, 1), (8, 1), (33, 1), (35, 1), (44, 1), (4...  2.19\n",
              "6   proibiu         [(1, 1), (2, 1), (119, 1), (162, 1), 4.14]  4.14\n",
              "7   caráter  [(1, 1), (15, 1), (36, 1), (60, 1), (89, 1), (...  3.22\n",
              "8   liminar         [(1, 1), (2, 3), (119, 1), (217, 1), 4.14]  4.14\n",
              "9     nesta  [(1, 2), (3, 1), (4, 1), (8, 1), (21, 1), (22,...  0.91"
            ]
          },
          "metadata": {
            "tags": []
          },
          "execution_count": 362
        }
      ]
    },
    {
      "cell_type": "markdown",
      "metadata": {
        "id": "jlJYUt9WzIOm",
        "colab_type": "text"
      },
      "source": [
        "## 3. Implementar as seguintes versões do modelo vetorial:"
      ]
    },
    {
      "cell_type": "markdown",
      "metadata": {
        "id": "mA1z8120zKKj",
        "colab_type": "text"
      },
      "source": [
        "### 3.1. Representação binária"
      ]
    },
    {
      "cell_type": "code",
      "metadata": {
        "id": "iQHcDGgFDjHF",
        "colab_type": "code",
        "colab": {}
      },
      "source": [
        "def binary_vsm(query, document):\n",
        "  score = 0\n",
        "  query_tokens = query.split()\n",
        "  doc_tokens = document.split()\n",
        "  \n",
        "  for token in query_tokens:\n",
        "    score += (token in doc_tokens)\n",
        "    \n",
        "  return score"
      ],
      "execution_count": 0,
      "outputs": []
    },
    {
      "cell_type": "markdown",
      "metadata": {
        "id": "x-X_wc5UzTUg",
        "colab_type": "text"
      },
      "source": [
        "### 3.2. TF (lembre-se que esse modelo já está implementado)"
      ]
    },
    {
      "cell_type": "code",
      "metadata": {
        "id": "yPUnugdpFed_",
        "colab_type": "code",
        "colab": {}
      },
      "source": [
        "def tf_vsm(query, document):\n",
        "  score = 0\n",
        "  doc_tokens = document.split()\n",
        "  query_tokens = query.split()\n",
        "  \n",
        "  for word in query_tokens:\n",
        "    score += doc_tokens.count(word)\n",
        "  \n",
        "  return score"
      ],
      "execution_count": 0,
      "outputs": []
    },
    {
      "cell_type": "markdown",
      "metadata": {
        "id": "L_X2htKDzWO7",
        "colab_type": "text"
      },
      "source": [
        "### 3.3 TF-IDF"
      ]
    },
    {
      "cell_type": "code",
      "metadata": {
        "id": "8pv4YH8QI4FW",
        "colab_type": "code",
        "colab": {}
      },
      "source": [
        "def tfidf_vsm(query, document):\n",
        "  score = 0\n",
        "  doc_tokens = document.split()\n",
        "  query_tokens = query.split()\n",
        "  \n",
        "  for word in query_tokens:\n",
        "    cwd = doc_tokens.count(word)\n",
        "    if word in indexes:\n",
        "      score += cwd * indexes[word][-1]\n",
        "  \n",
        "  return round(score,2)"
      ],
      "execution_count": 0,
      "outputs": []
    },
    {
      "cell_type": "markdown",
      "metadata": {
        "id": "bYA7I-MJzY1n",
        "colab_type": "text"
      },
      "source": [
        "### 3.4 BM25 (não usaremos Okapi já que os documentos não tem grande variação de tamanho)"
      ]
    },
    {
      "cell_type": "code",
      "metadata": {
        "id": "f7i7Vi7AMb9n",
        "colab_type": "code",
        "colab": {}
      },
      "source": [
        "def bm25_vsm(query, document, k):\n",
        "  score = 0\n",
        "  doc_tokens = document.split()\n",
        "  query_tokens = query.split()\n",
        "  \n",
        "  words = [word for word in query_tokens if word in doc_tokens]\n",
        "    \n",
        "  for word in words:\n",
        "    cwd = doc_tokens.count(word)\n",
        "    dfw = 0\n",
        "    if word in indexes:\n",
        "      dfw = len(indexes[word][:-1])\n",
        "    score += (((k+1) * cwd) / (cwd + k)) * np.log10(((M+1) / dfw)) if dfw != 0 else 0\n",
        "  \n",
        "  return round(score,2)"
      ],
      "execution_count": 0,
      "outputs": []
    },
    {
      "cell_type": "markdown",
      "metadata": {
        "id": "xT_PZLyjziCw",
        "colab_type": "text"
      },
      "source": [
        "## 4. Execute os algoritmos separadamente em 3 consultas de sua escolha e retorne os top-5 documentos mais similares à cada consulta;"
      ]
    },
    {
      "cell_type": "code",
      "metadata": {
        "id": "_gyPciv8TWB1",
        "colab_type": "code",
        "colab": {}
      },
      "source": [
        "queries = ['jair bolsonaro', 'futebol brasileiro', 'ministro da educação']"
      ],
      "execution_count": 0,
      "outputs": []
    },
    {
      "cell_type": "code",
      "metadata": {
        "colab_type": "code",
        "id": "8biPwliZRynU",
        "colab": {}
      },
      "source": [
        "def create_top5_models(query):\n",
        "  n = 0\n",
        "  db = []\n",
        "  dtf = []\n",
        "  dtfidf = []\n",
        "  dbm25 = []\n",
        "  for doc in result.text:\n",
        "    doc = doc.lower()\n",
        "    n += 1\n",
        "    bisect.insort(db, (binary_vsm(query, doc), n))\n",
        "    bisect.insort(dtf, (tf_vsm(query,doc), n))\n",
        "    bisect.insort(dtfidf, (tfidf_vsm(query,doc), n))\n",
        "    bisect.insort(dbm25, (bm25_vsm(query,doc,20), n))\n",
        "  \n",
        "  db.reverse()\n",
        "  dtf.reverse()\n",
        "  dtfidf.reverse()\n",
        "  dbm25.reverse()\n",
        "  \n",
        "  return db[:5], dtf[:5], dtfidf[:5], dbm25[:5]"
      ],
      "execution_count": 0,
      "outputs": []
    },
    {
      "cell_type": "code",
      "metadata": {
        "id": "ctCq5oudxbq_",
        "colab_type": "code",
        "colab": {}
      },
      "source": [
        "top5_binary = ['','','']\n",
        "top5_tf = ['','','']\n",
        "top5_tfidf = ['','','']\n",
        "top5_bm25 = ['','','']\n",
        "\n",
        "top5_binary[0], top5_tf[0], top5_tfidf[0], top5_bm25[0] = create_top5_models(queries[0])\n",
        "top5_binary[1], top5_tf[1], top5_tfidf[1], top5_bm25[1] = create_top5_models(queries[1])\n",
        "top5_binary[2], top5_tf[2], top5_tfidf[2], top5_bm25[2] = create_top5_models(queries[2])"
      ],
      "execution_count": 0,
      "outputs": []
    },
    {
      "cell_type": "code",
      "metadata": {
        "id": "uvp_il8XzhPT",
        "colab_type": "code",
        "outputId": "cb739168-af27-4cab-ebb7-7200f693ba1f",
        "colab": {
          "base_uri": "https://localhost:8080/",
          "height": 193
        }
      },
      "source": [
        "query_df = pd.DataFrame()\n",
        "\n",
        "query_df['Query'] = queries\n",
        "query_df['Binary'] = top5_binary\n",
        "query_df['TF'] = top5_tf\n",
        "query_df['TF-IDF'] = top5_tfidf\n",
        "query_df['BM25'] = top5_bm25\n",
        "\n",
        "query_df.index+=1\n",
        "query_df"
      ],
      "execution_count": 370,
      "outputs": [
        {
          "output_type": "execute_result",
          "data": {
            "text/html": [
              "<div>\n",
              "<style scoped>\n",
              "    .dataframe tbody tr th:only-of-type {\n",
              "        vertical-align: middle;\n",
              "    }\n",
              "\n",
              "    .dataframe tbody tr th {\n",
              "        vertical-align: top;\n",
              "    }\n",
              "\n",
              "    .dataframe thead th {\n",
              "        text-align: right;\n",
              "    }\n",
              "</style>\n",
              "<table border=\"1\" class=\"dataframe\">\n",
              "  <thead>\n",
              "    <tr style=\"text-align: right;\">\n",
              "      <th></th>\n",
              "      <th>Query</th>\n",
              "      <th>Binary</th>\n",
              "      <th>TF</th>\n",
              "      <th>TF-IDF</th>\n",
              "      <th>BM25</th>\n",
              "    </tr>\n",
              "  </thead>\n",
              "  <tbody>\n",
              "    <tr>\n",
              "      <th>1</th>\n",
              "      <td>jair bolsonaro</td>\n",
              "      <td>[(2, 238), (2, 237), (2, 231), (2, 224), (2, 2...</td>\n",
              "      <td>[(41, 207), (37, 151), (31, 166), (19, 19), (1...</td>\n",
              "      <td>[(67.98, 207), (55.14, 151), (42.18, 166), (25...</td>\n",
              "      <td>[(15.55, 207), (12.09, 151), (8.32, 166), (5.8...</td>\n",
              "    </tr>\n",
              "    <tr>\n",
              "      <th>2</th>\n",
              "      <td>futebol brasileiro</td>\n",
              "      <td>[(2, 121), (2, 115), (2, 76), (2, 58), (2, 55)]</td>\n",
              "      <td>[(10, 115), (7, 242), (7, 47), (6, 55), (5, 118)]</td>\n",
              "      <td>[(20.92, 115), (17.36, 242), (17.36, 47), (12....</td>\n",
              "      <td>[(7.51, 115), (5.86, 242), (5.86, 47), (4.75, ...</td>\n",
              "    </tr>\n",
              "    <tr>\n",
              "      <th>3</th>\n",
              "      <td>ministro da educação</td>\n",
              "      <td>[(3, 240), (3, 233), (3, 222), (3, 221), (3, 2...</td>\n",
              "      <td>[(52, 151), (50, 115), (43, 166), (41, 221), (...</td>\n",
              "      <td>[(38.41, 221), (32.81, 222), (17.1, 215), (13....</td>\n",
              "      <td>[(10.68, 221), (10.22, 222), (6.26, 215), (5.1...</td>\n",
              "    </tr>\n",
              "  </tbody>\n",
              "</table>\n",
              "</div>"
            ],
            "text/plain": [
              "                  Query  ...                                               BM25\n",
              "1        jair bolsonaro  ...  [(15.55, 207), (12.09, 151), (8.32, 166), (5.8...\n",
              "2    futebol brasileiro  ...  [(7.51, 115), (5.86, 242), (5.86, 47), (4.75, ...\n",
              "3  ministro da educação  ...  [(10.68, 221), (10.22, 222), (6.26, 215), (5.1...\n",
              "\n",
              "[3 rows x 5 columns]"
            ]
          },
          "metadata": {
            "tags": []
          },
          "execution_count": 370
        }
      ]
    },
    {
      "cell_type": "markdown",
      "metadata": {
        "id": "lboQt7Z0zn6Q",
        "colab_type": "text"
      },
      "source": [
        "## 5. Compare os resultados encontrados e responda."
      ]
    },
    {
      "cell_type": "markdown",
      "metadata": {
        "id": "eL1Qj_tizpkS",
        "colab_type": "text"
      },
      "source": [
        "### 5.1. Quais modelos você acha que trouxe os melhores resultados? Por que? Inspecione os documentos retornados para melhor embasar sua resposta."
      ]
    },
    {
      "cell_type": "code",
      "metadata": {
        "id": "6Otvp79zy3If",
        "colab_type": "code",
        "colab": {}
      },
      "source": [
        "def get_top1_score(top5):\n",
        "  return [top[0][0] for top in top5]\n",
        "\n",
        "def get_top1_doc(top5):\n",
        "  return [top[0][1] for top in top5]\n",
        "\n",
        "def get_doc_title(docs):\n",
        "  return [result.title[doc] for doc in docs]"
      ],
      "execution_count": 0,
      "outputs": []
    },
    {
      "cell_type": "code",
      "metadata": {
        "id": "FMVAICHwxjye",
        "colab_type": "code",
        "colab": {}
      },
      "source": [
        "score_top5_binary = get_top1_score(top5_binary)\n",
        "score_top5_tf = get_top1_score(top5_tf)\n",
        "score_top5_tfidf = get_top1_score(top5_tfidf)\n",
        "score_top5_bm25 = get_top1_score(top5_bm25)\n",
        "\n",
        "doc_top5_binary = get_top1_doc(top5_binary)\n",
        "doc_top5_tf = get_top1_doc(top5_tf)\n",
        "doc_top5_tfidf = get_top1_doc(top5_tfidf)\n",
        "doc_top5_bm25 = get_top1_doc(top5_bm25)\n",
        "\n",
        "titles_binary = get_doc_title(doc_top5_binary)\n",
        "titles_tf = get_doc_title(doc_top5_tf)\n",
        "titles_tfidf = get_doc_title(doc_top5_tfidf)\n",
        "titles_bm25 = get_doc_title(doc_top5_bm25)"
      ],
      "execution_count": 0,
      "outputs": []
    },
    {
      "cell_type": "markdown",
      "metadata": {
        "id": "UcMpfM_L5-7I",
        "colab_type": "text"
      },
      "source": [
        "#### Representação Binária"
      ]
    },
    {
      "cell_type": "code",
      "metadata": {
        "id": "N7-z8vMvydAX",
        "colab_type": "code",
        "colab": {
          "base_uri": "https://localhost:8080/",
          "height": 142
        },
        "outputId": "4c8e17b2-c6fe-4f61-d20f-543927e132c1"
      },
      "source": [
        "binary_res = pd.DataFrame()\n",
        "binary_res['Query'] = queries\n",
        "binary_res['Document'] = doc_top5_binary\n",
        "binary_res['Document Title'] = titles_binary\n",
        "binary_res['Binary Score'] = score_top5_binary\n",
        "\n",
        "binary_res.index += 1\n",
        "binary_res"
      ],
      "execution_count": 373,
      "outputs": [
        {
          "output_type": "execute_result",
          "data": {
            "text/html": [
              "<div>\n",
              "<style scoped>\n",
              "    .dataframe tbody tr th:only-of-type {\n",
              "        vertical-align: middle;\n",
              "    }\n",
              "\n",
              "    .dataframe tbody tr th {\n",
              "        vertical-align: top;\n",
              "    }\n",
              "\n",
              "    .dataframe thead th {\n",
              "        text-align: right;\n",
              "    }\n",
              "</style>\n",
              "<table border=\"1\" class=\"dataframe\">\n",
              "  <thead>\n",
              "    <tr style=\"text-align: right;\">\n",
              "      <th></th>\n",
              "      <th>Query</th>\n",
              "      <th>Document</th>\n",
              "      <th>Document Title</th>\n",
              "      <th>Binary Score</th>\n",
              "    </tr>\n",
              "  </thead>\n",
              "  <tbody>\n",
              "    <tr>\n",
              "      <th>1</th>\n",
              "      <td>jair bolsonaro</td>\n",
              "      <td>238</td>\n",
              "      <td>Saúde mental dos estudantes  mais um desafio p...</td>\n",
              "      <td>2</td>\n",
              "    </tr>\n",
              "    <tr>\n",
              "      <th>2</th>\n",
              "      <td>futebol brasileiro</td>\n",
              "      <td>121</td>\n",
              "      <td>“Bonucci diz o que muita gente pensa: os negro...</td>\n",
              "      <td>2</td>\n",
              "    </tr>\n",
              "    <tr>\n",
              "      <th>3</th>\n",
              "      <td>ministro da educação</td>\n",
              "      <td>240</td>\n",
              "      <td>Rota mata 11 pessoas em Guararema  na terceira...</td>\n",
              "      <td>3</td>\n",
              "    </tr>\n",
              "  </tbody>\n",
              "</table>\n",
              "</div>"
            ],
            "text/plain": [
              "                  Query  ...  Binary Score\n",
              "1        jair bolsonaro  ...             2\n",
              "2    futebol brasileiro  ...             2\n",
              "3  ministro da educação  ...             3\n",
              "\n",
              "[3 rows x 4 columns]"
            ]
          },
          "metadata": {
            "tags": []
          },
          "execution_count": 373
        }
      ]
    },
    {
      "cell_type": "markdown",
      "metadata": {
        "id": "WdFHmr7X6DdQ",
        "colab_type": "text"
      },
      "source": [
        "#### TF"
      ]
    },
    {
      "cell_type": "code",
      "metadata": {
        "id": "ghrjh9Xz2LO3",
        "colab_type": "code",
        "colab": {
          "base_uri": "https://localhost:8080/",
          "height": 142
        },
        "outputId": "15b94fc2-7ebb-4a37-cc24-892e4f53058a"
      },
      "source": [
        "tf_res = pd.DataFrame()\n",
        "tf_res['Query'] = queries\n",
        "tf_res['Document'] = doc_top5_tf\n",
        "tf_res['Document Title'] = titles_tf\n",
        "tf_res['TF Score'] = score_top5_tf\n",
        "\n",
        "tf_res.index += 1\n",
        "tf_res"
      ],
      "execution_count": 374,
      "outputs": [
        {
          "output_type": "execute_result",
          "data": {
            "text/html": [
              "<div>\n",
              "<style scoped>\n",
              "    .dataframe tbody tr th:only-of-type {\n",
              "        vertical-align: middle;\n",
              "    }\n",
              "\n",
              "    .dataframe tbody tr th {\n",
              "        vertical-align: top;\n",
              "    }\n",
              "\n",
              "    .dataframe thead th {\n",
              "        text-align: right;\n",
              "    }\n",
              "</style>\n",
              "<table border=\"1\" class=\"dataframe\">\n",
              "  <thead>\n",
              "    <tr style=\"text-align: right;\">\n",
              "      <th></th>\n",
              "      <th>Query</th>\n",
              "      <th>Document</th>\n",
              "      <th>Document Title</th>\n",
              "      <th>TF Score</th>\n",
              "    </tr>\n",
              "  </thead>\n",
              "  <tbody>\n",
              "    <tr>\n",
              "      <th>1</th>\n",
              "      <td>jair bolsonaro</td>\n",
              "      <td>207</td>\n",
              "      <td>Bolsonaro escancara cadáver insepulto da ditad...</td>\n",
              "      <td>41</td>\n",
              "    </tr>\n",
              "    <tr>\n",
              "      <th>2</th>\n",
              "      <td>futebol brasileiro</td>\n",
              "      <td>115</td>\n",
              "      <td>Brasil leva susto  mas vence a República Tchec...</td>\n",
              "      <td>10</td>\n",
              "    </tr>\n",
              "    <tr>\n",
              "      <th>3</th>\n",
              "      <td>ministro da educação</td>\n",
              "      <td>151</td>\n",
              "      <td>Socialismo ‘millennial’ nos EUA</td>\n",
              "      <td>52</td>\n",
              "    </tr>\n",
              "  </tbody>\n",
              "</table>\n",
              "</div>"
            ],
            "text/plain": [
              "                  Query  ...  TF Score\n",
              "1        jair bolsonaro  ...        41\n",
              "2    futebol brasileiro  ...        10\n",
              "3  ministro da educação  ...        52\n",
              "\n",
              "[3 rows x 4 columns]"
            ]
          },
          "metadata": {
            "tags": []
          },
          "execution_count": 374
        }
      ]
    },
    {
      "cell_type": "markdown",
      "metadata": {
        "id": "grUZsZAN6FdT",
        "colab_type": "text"
      },
      "source": [
        "#### TF-IDF"
      ]
    },
    {
      "cell_type": "code",
      "metadata": {
        "id": "DoPKlPck2Lw0",
        "colab_type": "code",
        "colab": {
          "base_uri": "https://localhost:8080/",
          "height": 142
        },
        "outputId": "dac7ecb7-18dc-4acb-ad83-8213c934cef7"
      },
      "source": [
        "tfidf_res = pd.DataFrame()\n",
        "tfidf_res['Query'] = queries\n",
        "tfidf_res['Document'] = doc_top5_tfidf\n",
        "tfidf_res['Document Title'] = titles_tfidf\n",
        "tfidf_res['TFIDF Score'] = score_top5_tfidf\n",
        "\n",
        "tfidf_res.index += 1\n",
        "tfidf_res"
      ],
      "execution_count": 375,
      "outputs": [
        {
          "output_type": "execute_result",
          "data": {
            "text/html": [
              "<div>\n",
              "<style scoped>\n",
              "    .dataframe tbody tr th:only-of-type {\n",
              "        vertical-align: middle;\n",
              "    }\n",
              "\n",
              "    .dataframe tbody tr th {\n",
              "        vertical-align: top;\n",
              "    }\n",
              "\n",
              "    .dataframe thead th {\n",
              "        text-align: right;\n",
              "    }\n",
              "</style>\n",
              "<table border=\"1\" class=\"dataframe\">\n",
              "  <thead>\n",
              "    <tr style=\"text-align: right;\">\n",
              "      <th></th>\n",
              "      <th>Query</th>\n",
              "      <th>Document</th>\n",
              "      <th>Document Title</th>\n",
              "      <th>TFIDF Score</th>\n",
              "    </tr>\n",
              "  </thead>\n",
              "  <tbody>\n",
              "    <tr>\n",
              "      <th>1</th>\n",
              "      <td>jair bolsonaro</td>\n",
              "      <td>207</td>\n",
              "      <td>Bolsonaro escancara cadáver insepulto da ditad...</td>\n",
              "      <td>67.98</td>\n",
              "    </tr>\n",
              "    <tr>\n",
              "      <th>2</th>\n",
              "      <td>futebol brasileiro</td>\n",
              "      <td>115</td>\n",
              "      <td>Brasil leva susto  mas vence a República Tchec...</td>\n",
              "      <td>20.92</td>\n",
              "    </tr>\n",
              "    <tr>\n",
              "      <th>3</th>\n",
              "      <td>ministro da educação</td>\n",
              "      <td>221</td>\n",
              "      <td>A jovem deputada que jogou contra as cordas o ...</td>\n",
              "      <td>38.41</td>\n",
              "    </tr>\n",
              "  </tbody>\n",
              "</table>\n",
              "</div>"
            ],
            "text/plain": [
              "                  Query  ...  TFIDF Score\n",
              "1        jair bolsonaro  ...        67.98\n",
              "2    futebol brasileiro  ...        20.92\n",
              "3  ministro da educação  ...        38.41\n",
              "\n",
              "[3 rows x 4 columns]"
            ]
          },
          "metadata": {
            "tags": []
          },
          "execution_count": 375
        }
      ]
    },
    {
      "cell_type": "markdown",
      "metadata": {
        "id": "VYWXQ2HV6HTi",
        "colab_type": "text"
      },
      "source": [
        "#### BM-25"
      ]
    },
    {
      "cell_type": "code",
      "metadata": {
        "id": "DamyDlh12MPE",
        "colab_type": "code",
        "colab": {
          "base_uri": "https://localhost:8080/",
          "height": 142
        },
        "outputId": "098fdc9c-1650-4fa6-ae93-adeed6053bec"
      },
      "source": [
        "bm25_res = pd.DataFrame()\n",
        "bm25_res['Query'] = queries\n",
        "bm25_res['Document'] = doc_top5_bm25\n",
        "bm25_res['Document Title'] = titles_bm25\n",
        "bm25_res['BM25 Score'] = score_top5_bm25\n",
        "\n",
        "bm25_res.index += 1\n",
        "bm25_res"
      ],
      "execution_count": 376,
      "outputs": [
        {
          "output_type": "execute_result",
          "data": {
            "text/html": [
              "<div>\n",
              "<style scoped>\n",
              "    .dataframe tbody tr th:only-of-type {\n",
              "        vertical-align: middle;\n",
              "    }\n",
              "\n",
              "    .dataframe tbody tr th {\n",
              "        vertical-align: top;\n",
              "    }\n",
              "\n",
              "    .dataframe thead th {\n",
              "        text-align: right;\n",
              "    }\n",
              "</style>\n",
              "<table border=\"1\" class=\"dataframe\">\n",
              "  <thead>\n",
              "    <tr style=\"text-align: right;\">\n",
              "      <th></th>\n",
              "      <th>Query</th>\n",
              "      <th>Document</th>\n",
              "      <th>Document Title</th>\n",
              "      <th>BM25 Score</th>\n",
              "    </tr>\n",
              "  </thead>\n",
              "  <tbody>\n",
              "    <tr>\n",
              "      <th>1</th>\n",
              "      <td>jair bolsonaro</td>\n",
              "      <td>207</td>\n",
              "      <td>Bolsonaro escancara cadáver insepulto da ditad...</td>\n",
              "      <td>15.55</td>\n",
              "    </tr>\n",
              "    <tr>\n",
              "      <th>2</th>\n",
              "      <td>futebol brasileiro</td>\n",
              "      <td>115</td>\n",
              "      <td>Brasil leva susto  mas vence a República Tchec...</td>\n",
              "      <td>7.51</td>\n",
              "    </tr>\n",
              "    <tr>\n",
              "      <th>3</th>\n",
              "      <td>ministro da educação</td>\n",
              "      <td>221</td>\n",
              "      <td>A jovem deputada que jogou contra as cordas o ...</td>\n",
              "      <td>10.68</td>\n",
              "    </tr>\n",
              "  </tbody>\n",
              "</table>\n",
              "</div>"
            ],
            "text/plain": [
              "                  Query  ...  BM25 Score\n",
              "1        jair bolsonaro  ...       15.55\n",
              "2    futebol brasileiro  ...        7.51\n",
              "3  ministro da educação  ...       10.68\n",
              "\n",
              "[3 rows x 4 columns]"
            ]
          },
          "metadata": {
            "tags": []
          },
          "execution_count": 376
        }
      ]
    },
    {
      "cell_type": "markdown",
      "metadata": {
        "id": "gO_AQtbr6fna",
        "colab_type": "text"
      },
      "source": [
        "O comparativo acima mostra os títulos de cada documento que apareceu como melhor resultado para a consulta. Nesses testes podemos perceber que o TF-IDF e o BM25 apresentam resultados semelhantes e também os melhores resultados.\n",
        "\n",
        "Para a consulta, Jair Bolsonaro, temos:\n",
        "- 'Bolsonaro escancara cadáver insepulto da ditadura com celebração do golpe'\n",
        "\n",
        "Para Futebol Brasileiro, temos:\n",
        "-  'Brasil leva susto  mas vence a República Tcheca de virada'\n",
        "\n",
        "Para Ministro da Educação, temos:\n",
        "- 'A jovem deputada que jogou contra as cordas o ministro da Educação e sua “lista de desejos'\n",
        "\n",
        "Porém, ao meu ver, pelo grau de complexidade da implementação do algoritmo, o TF-IDF apesar de simples, já nos provê um resultado satisfatório.\n",
        "\n"
      ]
    },
    {
      "cell_type": "markdown",
      "metadata": {
        "id": "ihDNaq-IzsjJ",
        "colab_type": "text"
      },
      "source": [
        "### 5.2. Calcule e reporte o overlap par-a-par entre os resultados de cada modelo (usando o índice de Jaccard)"
      ]
    }
  ]
}