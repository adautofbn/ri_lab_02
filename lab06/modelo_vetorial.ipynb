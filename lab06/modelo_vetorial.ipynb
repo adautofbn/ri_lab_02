{
  "nbformat": 4,
  "nbformat_minor": 0,
  "metadata": {
    "colab": {
      "name": "modelo_vetorial",
      "version": "0.3.2",
      "provenance": [],
      "collapsed_sections": [],
      "include_colab_link": true
    },
    "kernelspec": {
      "name": "python3",
      "display_name": "Python 3"
    }
  },
  "cells": [
    {
      "cell_type": "markdown",
      "metadata": {
        "id": "view-in-github",
        "colab_type": "text"
      },
      "source": [
        "<a href=\"https://colab.research.google.com/github/adautofbn/ri_labs/blob/master/lab06/modelo_vetorial.ipynb\" target=\"_parent\"><img src=\"https://colab.research.google.com/assets/colab-badge.svg\" alt=\"Open In Colab\"/></a>"
      ]
    },
    {
      "cell_type": "code",
      "metadata": {
        "id": "eVLJ-zUhxSqr",
        "colab_type": "code",
        "outputId": "043dd60d-c941-44bf-882e-8a65ff022155",
        "colab": {
          "base_uri": "https://localhost:8080/",
          "height": 52
        }
      },
      "source": [
        "import pandas as pd\n",
        "import numpy as np\n",
        "import nltk\n",
        "import re\n",
        "import collections\n",
        "import bisect\n",
        "from nltk.tokenize import RegexpTokenizer\n",
        "\n",
        "nltk.download('stopwords')\n",
        "result = pd.read_csv('https://raw.githubusercontent.com/adautofbn/ri_labs/master/lab06/results.csv')\n",
        "                                            # Resultados adquiridos do site brasil-247 em abril de 2019"
      ],
      "execution_count": 88,
      "outputs": [
        {
          "output_type": "stream",
          "text": [
            "[nltk_data] Downloading package stopwords to /root/nltk_data...\n",
            "[nltk_data]   Package stopwords is already up-to-date!\n"
          ],
          "name": "stdout"
        }
      ]
    },
    {
      "cell_type": "markdown",
      "metadata": {
        "id": "mHwushaYy_ZA",
        "colab_type": "text"
      },
      "source": [
        "## 1. Reconstruir o índice considerando o conjunto de dados que indicamos. Esses são os dados coletados por Bernardi e os estaremos usando para facilitar a correção da atividade. Se você já estiver usando esses dados não precisa reconstruir o índice;"
      ]
    },
    {
      "cell_type": "code",
      "metadata": {
        "id": "ZCiNa0fv0FPD",
        "colab_type": "code",
        "colab": {}
      },
      "source": [
        "tknz = RegexpTokenizer(r'([A-Za-zÁáÉéÍíÓóÚúÃãÕõÇçÂâÊê]{3,27})')\n",
        "stopwords = nltk.corpus.stopwords.words('portuguese') \n",
        "indexes = {}\n",
        "n = 0\n",
        "\n",
        "for text in result.text:\n",
        "  words = [word for word in tknz.tokenize(text.lower())\n",
        "           if not bool(re.search(r'\\d', word))\n",
        "           and word not in stopwords and len(word) >= 3]  \n",
        "  n += 1\n",
        "  for t in words:\n",
        "    if t not in indexes.keys():\n",
        "      indexes[t] = []\n",
        "    indexes[t].append(n)\n",
        "    \n",
        "for elem in indexes.items():\n",
        "  d = dict(collections.Counter(elem[1]))\n",
        "  indexes[elem[0]] = list(d.items())"
      ],
      "execution_count": 0,
      "outputs": []
    },
    {
      "cell_type": "markdown",
      "metadata": {
        "id": "JmoY9DpLzD6p",
        "colab_type": "text"
      },
      "source": [
        "## 2. Refinar o índice invertido de forma a também incluir o IDF (inverse document frequency) de cada termo do dicionário; "
      ]
    },
    {
      "cell_type": "code",
      "metadata": {
        "id": "-c75HorM7nWr",
        "colab_type": "code",
        "colab": {}
      },
      "source": [
        "M = result.text.count()\n",
        "for word in indexes:\n",
        "  k = len(indexes[word])\n",
        "  IDF = round(np.log((M+1)/k),2)\n",
        "  indexes[word].append(IDF)"
      ],
      "execution_count": 0,
      "outputs": []
    },
    {
      "cell_type": "markdown",
      "metadata": {
        "id": "jlJYUt9WzIOm",
        "colab_type": "text"
      },
      "source": [
        "## 3. Implementar as seguintes versões do modelo vetorial:"
      ]
    },
    {
      "cell_type": "markdown",
      "metadata": {
        "id": "mA1z8120zKKj",
        "colab_type": "text"
      },
      "source": [
        "### 3.1. Representação binária"
      ]
    },
    {
      "cell_type": "code",
      "metadata": {
        "id": "iQHcDGgFDjHF",
        "colab_type": "code",
        "colab": {}
      },
      "source": [
        "def binary_vsm(query, document):\n",
        "  score = 0\n",
        "  query_tokens = query.split()\n",
        "  doc_tokens = document.split()\n",
        "  for token in query_tokens:\n",
        "    score += (token in doc_tokens)\n",
        "  return score"
      ],
      "execution_count": 0,
      "outputs": []
    },
    {
      "cell_type": "markdown",
      "metadata": {
        "id": "x-X_wc5UzTUg",
        "colab_type": "text"
      },
      "source": [
        "### 3.2. TF (lembre-se que esse modelo já está implementado)"
      ]
    },
    {
      "cell_type": "code",
      "metadata": {
        "id": "yPUnugdpFed_",
        "colab_type": "code",
        "colab": {}
      },
      "source": [
        "def tf_vsm(query, document):\n",
        "  score = 0\n",
        "  doc_tokens = document.split()\n",
        "  query_tokens = query.split()\n",
        "  \n",
        "  for token in doc_tokens:\n",
        "    score += (token in query_tokens)\n",
        "  \n",
        "  return score"
      ],
      "execution_count": 0,
      "outputs": []
    },
    {
      "cell_type": "markdown",
      "metadata": {
        "id": "L_X2htKDzWO7",
        "colab_type": "text"
      },
      "source": [
        "### 3.3 TF-IDF"
      ]
    },
    {
      "cell_type": "code",
      "metadata": {
        "id": "8pv4YH8QI4FW",
        "colab_type": "code",
        "colab": {}
      },
      "source": [
        "def tfidf_vsm(query, document):\n",
        "  score = 0\n",
        "  doc_tokens = document.split()\n",
        "  query_tokens = query.split()\n",
        "  \n",
        "  for token in doc_tokens:\n",
        "    if(token in indexes):    \n",
        "      score += (token in query_tokens) * indexes[token][-1]\n",
        "  \n",
        "  return round(score,2)"
      ],
      "execution_count": 0,
      "outputs": []
    },
    {
      "cell_type": "markdown",
      "metadata": {
        "id": "bYA7I-MJzY1n",
        "colab_type": "text"
      },
      "source": [
        "### 3.4 BM25 (não usaremos Okapi já que os documentos não tem grande variação de tamanho)"
      ]
    },
    {
      "cell_type": "code",
      "metadata": {
        "id": "f7i7Vi7AMb9n",
        "colab_type": "code",
        "colab": {}
      },
      "source": [
        "def bm25_vsm(query, document, n):\n",
        "  score = 0\n",
        "  doc_tokens = document.split()\n",
        "  query_tokens = query.split()\n",
        "  \n",
        "  for query_word in query_tokens:\n",
        "    k = len(indexes[query_word])\n",
        "    cwd = (query_word in doc_tokens)\n",
        "    dfw = 0\n",
        "    for doc,score in indexes[query_word][:-1]:\n",
        "      if doc == n:\n",
        "        dfw = score\n",
        "    for doc_word in doc_tokens:\n",
        "      cwq = (doc_word in query_tokens)\n",
        "      if dfw > 0:\n",
        "        score += cwq * (((k+1)*cwd) / (cwd + k)) * np.log((M+1)/dfw)\n",
        "  \n",
        "  return round(score,2)"
      ],
      "execution_count": 0,
      "outputs": []
    },
    {
      "cell_type": "markdown",
      "metadata": {
        "id": "xT_PZLyjziCw",
        "colab_type": "text"
      },
      "source": [
        "## 4. Execute os algoritmos separadamente em 3 consultas de sua escolha e retorne os top-5 documentos mais similares à cada consulta;"
      ]
    },
    {
      "cell_type": "code",
      "metadata": {
        "id": "iqFvpb_Igsg8",
        "colab_type": "code",
        "colab": {}
      },
      "source": [
        "queries = ['juíza federal', 'jair bolsonaro', 'paulo guedes']"
      ],
      "execution_count": 0,
      "outputs": []
    },
    {
      "cell_type": "code",
      "metadata": {
        "colab_type": "code",
        "id": "8biPwliZRynU",
        "colab": {}
      },
      "source": [
        "db = {query:[] for query in queries}\n",
        "dtf = {query:[] for query in queries}\n",
        "dtfidf = {query:[] for query in queries}\n",
        "dbm25 = {query:[] for query in queries}\n",
        "\n",
        "for query in queries:\n",
        "  n = 0\n",
        "  for doc in result.text:\n",
        "    doc = doc.lower()\n",
        "    n += 1\n",
        "    bisect.insort(db[query], (binary_vsm(query, doc), n))\n",
        "    bisect.insort(dtf[query], (tf_vsm(query,doc), n))\n",
        "    bisect.insort(dtfidf[query], (tfidf_vsm(query,doc), n))\n",
        "    bisect.insort(dbm25[query], (bm25_vsm(query,doc,n), n))\n",
        "  \n",
        "  db[query].reverse()\n",
        "  dtf[query].reverse()\n",
        "  dtfidf[query].reverse()\n",
        "  dbm25[query].reverse()"
      ],
      "execution_count": 0,
      "outputs": []
    },
    {
      "cell_type": "markdown",
      "metadata": {
        "id": "lboQt7Z0zn6Q",
        "colab_type": "text"
      },
      "source": [
        "## 5. Compare os resultados encontrados e responda."
      ]
    },
    {
      "cell_type": "markdown",
      "metadata": {
        "id": "eL1Qj_tizpkS",
        "colab_type": "text"
      },
      "source": [
        "### 5.1. Quais modelos você acha que trouxe os melhores resultados? Por que? Inspecione os documentos retornados para melhor embasar sua resposta."
      ]
    },
    {
      "cell_type": "markdown",
      "metadata": {
        "id": "ihDNaq-IzsjJ",
        "colab_type": "text"
      },
      "source": [
        "### 5.2. Calcule e reporte o overlap par-a-par entre os resultados de cada modelo (usando o índice de Jaccard)"
      ]
    }
  ]
}