{
  "nbformat": 4,
  "nbformat_minor": 0,
  "metadata": {
    "colab": {
      "name": "index_consulta",
      "version": "0.3.2",
      "provenance": [],
      "collapsed_sections": [],
      "toc_visible": true,
      "include_colab_link": true
    },
    "kernelspec": {
      "name": "python3",
      "display_name": "Python 3"
    }
  },
  "cells": [
    {
      "cell_type": "markdown",
      "metadata": {
        "id": "view-in-github",
        "colab_type": "text"
      },
      "source": [
        "<a href=\"https://colab.research.google.com/github/adautofbn/ri_labs/blob/master/index_consulta.ipynb\" target=\"_parent\"><img src=\"https://colab.research.google.com/assets/colab-badge.svg\" alt=\"Open In Colab\"/></a>"
      ]
    },
    {
      "cell_type": "code",
      "metadata": {
        "id": "jvOZAXpAIo2E",
        "colab_type": "code",
        "outputId": "454cc37b-0ee3-45a6-f407-d5d8fe996456",
        "colab": {
          "base_uri": "https://localhost:8080/",
          "height": 119
        }
      },
      "source": [
        "!pip install memory_profiler\n",
        "\n",
        "import pandas as pd\n",
        "import nltk\n",
        "import re\n",
        "import collections\n",
        "import heapq\n",
        "import time\n",
        "from nltk.tokenize import RegexpTokenizer\n",
        "\n",
        "%load_ext memory_profiler\n",
        "\n",
        "nltk.download('stopwords')\n",
        "result = pd.read_csv('https://raw.githubusercontent.com/adautofbn/ri_lab_01/master/output/results.csv') # Resultados adquiridos do site brasil-247"
      ],
      "execution_count": 282,
      "outputs": [
        {
          "output_type": "stream",
          "text": [
            "Requirement already satisfied: memory_profiler in /usr/local/lib/python3.6/dist-packages (0.55.0)\n",
            "Requirement already satisfied: psutil in /usr/local/lib/python3.6/dist-packages (from memory_profiler) (5.4.8)\n",
            "The memory_profiler extension is already loaded. To reload it, use:\n",
            "  %reload_ext memory_profiler\n",
            "[nltk_data] Downloading package stopwords to /root/nltk_data...\n",
            "[nltk_data]   Package stopwords is already up-to-date!\n"
          ],
          "name": "stdout"
        }
      ]
    },
    {
      "cell_type": "markdown",
      "metadata": {
        "id": "W_vnLeq1_Baq",
        "colab_type": "text"
      },
      "source": [
        "### 1. Execute o algoritmo ilustrado na Fig. 5.8 do livro texto (pag. 157) para gerar um índice similar o mostrado na Fig. 5.4 (pag. 134). Guarde o índice em disco em formato csv."
      ]
    },
    {
      "cell_type": "code",
      "metadata": {
        "id": "VYmk4UxmJ0fC",
        "colab_type": "code",
        "colab": {}
      },
      "source": [
        "tknz = RegexpTokenizer(r'([A-Za-zÁáÉéÍíÓóÚúÃãÕõÇçÂâÊê]{3,27})')\n",
        "stopwords = nltk.corpus.stopwords.words('portuguese') \n",
        "indexes = {}\n",
        "n = 0\n",
        "\n",
        "for text in result.text:\n",
        "  words = [word for word in tknz.tokenize(text.lower())\n",
        "           if not bool(re.search(r'\\d', word))\n",
        "           and word not in stopwords and len(word) >= 3]  \n",
        "  n += 1\n",
        "  for t in words:\n",
        "    if t not in indexes.keys():\n",
        "      indexes[t] = []\n",
        "    indexes[t].append(n)\n",
        "    \n",
        "for elem in indexes.items():\n",
        "  d = dict(collections.Counter(elem[1]))\n",
        "  indexes[elem[0]] = list(d.items())"
      ],
      "execution_count": 0,
      "outputs": []
    },
    {
      "cell_type": "markdown",
      "metadata": {
        "id": "pOF5ydq1P5WV",
        "colab_type": "text"
      },
      "source": [
        "Tokenização feita a partir de regex (aceitando palavras em português) e filtragem de palavras sem significado expressivo contidas na lista de stopwords.\n",
        "\n",
        "Utilizando dicionário foi possível realizar a indexação dos tokens adquiridos, a cada novo documento tokenizado:\n",
        " * Númeração do documento a ser processado;\n",
        " * Remoção de palavras repetidas no documento fazendo o cast do array de tokens para um set;\n",
        " * As palavras que aparecem pela primeira são adicionadas como chave;\n",
        " * As palavras que já estão no dicionário tem o número do documento acrescentado nos valores da sua chave."
      ]
    },
    {
      "cell_type": "code",
      "metadata": {
        "id": "OwRt4hVqYkti",
        "colab_type": "code",
        "colab": {}
      },
      "source": [
        "tokens_table = pd.DataFrame()\n",
        "\n",
        "tokens_table['Word'] = [word for word in indexes.keys()]\n",
        "tokens_table['Documents'] = [docs for docs in indexes.values()]\n",
        "\n",
        "tokens_table.to_csv('ranking.csv', encoding='utf-8', index=False)"
      ],
      "execution_count": 0,
      "outputs": []
    },
    {
      "cell_type": "markdown",
      "metadata": {
        "id": "XgyozE0y_NL0",
        "colab_type": "text"
      },
      "source": [
        "### 2. Implemente as abordagens de processamento de consulta documento-por-vez e termo-por-vez (Fig. 5.16 e 5.18)."
      ]
    },
    {
      "cell_type": "code",
      "metadata": {
        "id": "aax0Lixs_bbx",
        "colab_type": "code",
        "colab": {}
      },
      "source": [
        "def doc_a_time(query, indexes, k):\n",
        "    start = time.time()\n",
        "    query_indexes = []\n",
        "\n",
        "    rank = []\n",
        "    for word in query.split(\" \"):\n",
        "      if word in indexes.keys():\n",
        "          query_indexes.append(indexes[word])\n",
        "    for doc in range(1, len(result.text)+1):\n",
        "      doc_score = 0\n",
        "      for index in query_indexes:\n",
        "          for i in index:\n",
        "              if i[0] == doc:\n",
        "                  doc_score += i[1]\n",
        "                  break\n",
        "      if doc_score != 0:\n",
        "        heapq.heappush(rank, (doc_score, doc))\n",
        "    \n",
        "    end = time.time() - start\n",
        "    return heapq.nlargest(k, rank), end"
      ],
      "execution_count": 0,
      "outputs": []
    },
    {
      "cell_type": "code",
      "metadata": {
        "id": "JdShgZEp_lZO",
        "colab_type": "code",
        "colab": {}
      },
      "source": [
        "def term_a_time(query, indexes, k):\n",
        "    start = time.time()\n",
        "    \n",
        "    a = {}\n",
        "    query_indexes = []\n",
        "    rank = []\n",
        "    for word in query.split(\" \"):\n",
        "      if word in indexes.keys():\n",
        "          query_indexes.append(indexes[word])\n",
        "    for index in query_indexes:\n",
        "      for i in index:\n",
        "          doc = i[0]\n",
        "          if doc not in a.keys():\n",
        "              a[doc] = 0\n",
        "          a[doc] += i[1]\n",
        "    for (doc, score) in a.items():\n",
        "      heapq.heappush(rank, (score, doc))\n",
        "        \n",
        "    end = time.time() - start\n",
        "    return heapq.nlargest(k, rank), end"
      ],
      "execution_count": 0,
      "outputs": []
    },
    {
      "cell_type": "code",
      "metadata": {
        "id": "Afd5YrI9njlP",
        "colab_type": "code",
        "colab": {}
      },
      "source": [
        "queries = [\"bolsonaro\", \"educação\", \"ministério\", \"brasil\", \"economia\"]\n",
        "k = 10\n",
        "results_doc = []\n",
        "results_term = []\n",
        "times_doc = []\n",
        "times_term = []\n",
        "\n",
        "for query in queries:\n",
        "  score_doc, time_doc = doc_a_time(query, indexes, k)\n",
        "  results_doc.append(score_doc)\n",
        "  times_doc.append(time_doc)\n",
        "  \n",
        "  score_term, time_term = term_a_time(query, indexes, k)\n",
        "  results_term.append(score_term)\n",
        "  times_term.append(time_term)"
      ],
      "execution_count": 0,
      "outputs": []
    },
    {
      "cell_type": "code",
      "metadata": {
        "id": "IwzXicBK9jjA",
        "colab_type": "code",
        "outputId": "fc91d558-9f96-4248-c04c-644ade3cbe8b",
        "colab": {
          "base_uri": "https://localhost:8080/",
          "height": 204
        }
      },
      "source": [
        "queries_df = pd.DataFrame()\n",
        "queries_df['Consulta'] = queries\n",
        "queries_df['Documento por vez'] = results_doc\n",
        "queries_df['Termo por vez'] = results_term\n",
        "queries_df['Comparativo'] = queries_df['Documento por vez'] == queries_df['Documento por vez']\n",
        "queries_df.index+=1\n",
        "queries_df"
      ],
      "execution_count": 288,
      "outputs": [
        {
          "output_type": "execute_result",
          "data": {
            "text/html": [
              "<div>\n",
              "<style scoped>\n",
              "    .dataframe tbody tr th:only-of-type {\n",
              "        vertical-align: middle;\n",
              "    }\n",
              "\n",
              "    .dataframe tbody tr th {\n",
              "        vertical-align: top;\n",
              "    }\n",
              "\n",
              "    .dataframe thead th {\n",
              "        text-align: right;\n",
              "    }\n",
              "</style>\n",
              "<table border=\"1\" class=\"dataframe\">\n",
              "  <thead>\n",
              "    <tr style=\"text-align: right;\">\n",
              "      <th></th>\n",
              "      <th>Consulta</th>\n",
              "      <th>Documento por vez</th>\n",
              "      <th>Termo por vez</th>\n",
              "      <th>Comparativo</th>\n",
              "    </tr>\n",
              "  </thead>\n",
              "  <tbody>\n",
              "    <tr>\n",
              "      <th>1</th>\n",
              "      <td>bolsonaro</td>\n",
              "      <td>[(10, 62), (6, 49), (5, 70), (5, 63), (5, 28),...</td>\n",
              "      <td>[(10, 62), (6, 49), (5, 70), (5, 63), (5, 28),...</td>\n",
              "      <td>True</td>\n",
              "    </tr>\n",
              "    <tr>\n",
              "      <th>2</th>\n",
              "      <td>educação</td>\n",
              "      <td>[(2, 56), (2, 12), (1, 58), (1, 32), (1, 15)]</td>\n",
              "      <td>[(2, 56), (2, 12), (1, 58), (1, 32), (1, 15)]</td>\n",
              "      <td>True</td>\n",
              "    </tr>\n",
              "    <tr>\n",
              "      <th>3</th>\n",
              "      <td>ministério</td>\n",
              "      <td>[(6, 60), (3, 12), (2, 61), (2, 31), (2, 30), ...</td>\n",
              "      <td>[(6, 60), (3, 12), (2, 61), (2, 31), (2, 30), ...</td>\n",
              "      <td>True</td>\n",
              "    </tr>\n",
              "    <tr>\n",
              "      <th>4</th>\n",
              "      <td>brasil</td>\n",
              "      <td>[(11, 59), (7, 66), (7, 33), (7, 21), (7, 7), ...</td>\n",
              "      <td>[(11, 59), (7, 66), (7, 33), (7, 21), (7, 7), ...</td>\n",
              "      <td>True</td>\n",
              "    </tr>\n",
              "    <tr>\n",
              "      <th>5</th>\n",
              "      <td>economia</td>\n",
              "      <td>[(6, 6), (3, 32), (2, 29), (2, 8), (2, 3), (1,...</td>\n",
              "      <td>[(6, 6), (3, 32), (2, 29), (2, 8), (2, 3), (1,...</td>\n",
              "      <td>True</td>\n",
              "    </tr>\n",
              "  </tbody>\n",
              "</table>\n",
              "</div>"
            ],
            "text/plain": [
              "     Consulta                                  Documento por vez  \\\n",
              "1   bolsonaro  [(10, 62), (6, 49), (5, 70), (5, 63), (5, 28),...   \n",
              "2    educação      [(2, 56), (2, 12), (1, 58), (1, 32), (1, 15)]   \n",
              "3  ministério  [(6, 60), (3, 12), (2, 61), (2, 31), (2, 30), ...   \n",
              "4      brasil  [(11, 59), (7, 66), (7, 33), (7, 21), (7, 7), ...   \n",
              "5    economia  [(6, 6), (3, 32), (2, 29), (2, 8), (2, 3), (1,...   \n",
              "\n",
              "                                       Termo por vez  Comparativo  \n",
              "1  [(10, 62), (6, 49), (5, 70), (5, 63), (5, 28),...         True  \n",
              "2      [(2, 56), (2, 12), (1, 58), (1, 32), (1, 15)]         True  \n",
              "3  [(6, 60), (3, 12), (2, 61), (2, 31), (2, 30), ...         True  \n",
              "4  [(11, 59), (7, 66), (7, 33), (7, 21), (7, 7), ...         True  \n",
              "5  [(6, 6), (3, 32), (2, 29), (2, 8), (2, 3), (1,...         True  "
            ]
          },
          "metadata": {
            "tags": []
          },
          "execution_count": 288
        }
      ]
    },
    {
      "cell_type": "code",
      "metadata": {
        "id": "N8isXyCo9j73",
        "colab_type": "code",
        "outputId": "c0c48ef4-1887-4b38-9040-1ee6a28026af",
        "colab": {
          "base_uri": "https://localhost:8080/",
          "height": 204
        }
      },
      "source": [
        "queries_tempo_df = pd.DataFrame()\n",
        "queries_tempo_df['Tempo Médio: Documento por vez (ms)'] = times_doc\n",
        "queries_tempo_df['Tempo Médio: Termo por vez (ms)'] = times_term\n",
        "queries_tempo_df.index+=1\n",
        "queries_tempo_df"
      ],
      "execution_count": 289,
      "outputs": [
        {
          "output_type": "execute_result",
          "data": {
            "text/html": [
              "<div>\n",
              "<style scoped>\n",
              "    .dataframe tbody tr th:only-of-type {\n",
              "        vertical-align: middle;\n",
              "    }\n",
              "\n",
              "    .dataframe tbody tr th {\n",
              "        vertical-align: top;\n",
              "    }\n",
              "\n",
              "    .dataframe thead th {\n",
              "        text-align: right;\n",
              "    }\n",
              "</style>\n",
              "<table border=\"1\" class=\"dataframe\">\n",
              "  <thead>\n",
              "    <tr style=\"text-align: right;\">\n",
              "      <th></th>\n",
              "      <th>Tempo Médio: Documento por vez (ms)</th>\n",
              "      <th>Tempo Médio: Termo por vez (ms)</th>\n",
              "    </tr>\n",
              "  </thead>\n",
              "  <tbody>\n",
              "    <tr>\n",
              "      <th>1</th>\n",
              "      <td>0.000242</td>\n",
              "      <td>0.000028</td>\n",
              "    </tr>\n",
              "    <tr>\n",
              "      <th>2</th>\n",
              "      <td>0.000057</td>\n",
              "      <td>0.000005</td>\n",
              "    </tr>\n",
              "    <tr>\n",
              "      <th>3</th>\n",
              "      <td>0.000103</td>\n",
              "      <td>0.000013</td>\n",
              "    </tr>\n",
              "    <tr>\n",
              "      <th>4</th>\n",
              "      <td>0.000157</td>\n",
              "      <td>0.000023</td>\n",
              "    </tr>\n",
              "    <tr>\n",
              "      <th>5</th>\n",
              "      <td>0.000110</td>\n",
              "      <td>0.000014</td>\n",
              "    </tr>\n",
              "  </tbody>\n",
              "</table>\n",
              "</div>"
            ],
            "text/plain": [
              "   Tempo Médio: Documento por vez (ms)  Tempo Médio: Termo por vez (ms)\n",
              "1                             0.000242                         0.000028\n",
              "2                             0.000057                         0.000005\n",
              "3                             0.000103                         0.000013\n",
              "4                             0.000157                         0.000023\n",
              "5                             0.000110                         0.000014"
            ]
          },
          "metadata": {
            "tags": []
          },
          "execution_count": 289
        }
      ]
    },
    {
      "cell_type": "code",
      "metadata": {
        "id": "Y1DQW7zHJOqs",
        "colab_type": "code",
        "outputId": "57e718eb-c7d9-45f1-eaea-9f35d76d95fc",
        "colab": {
          "base_uri": "https://localhost:8080/",
          "height": 85
        }
      },
      "source": [
        "print('Documento por vez uso de memória:')\n",
        "%memit doc_a_time(queries[0], indexes, k)\n",
        "\n",
        "print('Termo por vez uso de memória:')\n",
        "%memit term_a_time(queries[0], indexes, k)"
      ],
      "execution_count": 290,
      "outputs": [
        {
          "output_type": "stream",
          "text": [
            "Documento por vez uso de memória:\n",
            "peak memory: 198.37 MiB, increment: 0.00 MiB\n",
            "Termo por vez uso de memória:\n",
            "peak memory: 198.37 MiB, increment: 0.00 MiB\n"
          ],
          "name": "stdout"
        }
      ]
    },
    {
      "cell_type": "markdown",
      "metadata": {
        "id": "FJ6xnBKL_yTD",
        "colab_type": "text"
      },
      "source": [
        "### 3. Implemente uma das versões de consulta conjuntiva (AND) (Fig. 5.20 ou 5.21)."
      ]
    },
    {
      "cell_type": "code",
      "metadata": {
        "id": "Q13e1LiM_2gS",
        "colab_type": "code",
        "colab": {}
      },
      "source": [
        "def conj_query(query, indexes, k):\n",
        "  \n",
        "  query_indexes = []\n",
        "  rank = []\n",
        "  \n",
        "  for word in query.split(\" \"):\n",
        "    if word in indexes.keys():\n",
        "        query_indexes.append(indexes[word])\n",
        "  \n",
        "  all_query = [item for sublist in query_indexes for item in sublist]\n",
        "  all_query.sort()\n",
        "  \n",
        "  for i in range(len(all_query)):\n",
        "    doc_score = 0\n",
        "    d = all_query.pop()\n",
        "    repeat = 1\n",
        "    for index in all_query:\n",
        "      if index[0] == d[0]:\n",
        "        doc_score += index[1]\n",
        "        repeat += 1\n",
        "    if doc_score != 0 and repeat == len(query_indexes):\n",
        "      doc_score += d[1]\n",
        "      heapq.heappush(rank, (doc_score, d[0]))\n",
        "        \n",
        "  return heapq.nlargest(k, rank)"
      ],
      "execution_count": 0,
      "outputs": []
    },
    {
      "cell_type": "code",
      "metadata": {
        "id": "K_oJkKojePQQ",
        "colab_type": "code",
        "colab": {}
      },
      "source": [
        "queries_conj = [\"decisão sobre\", \"ministro paulo\", \"brasil país\", \"jair bolsonaro\", \"presidente disse\"]\n",
        "k = 10\n",
        "results_conj = []\n",
        "\n",
        "for query in queries_conj:\n",
        "  score_conj = conj_query(query, indexes, k)\n",
        "  results_conj.append(score_conj)"
      ],
      "execution_count": 0,
      "outputs": []
    },
    {
      "cell_type": "code",
      "metadata": {
        "id": "YVnHrqe9eRVb",
        "colab_type": "code",
        "outputId": "23d4bb18-3cc3-440b-f048-9b56b768899e",
        "colab": {
          "base_uri": "https://localhost:8080/",
          "height": 204
        }
      },
      "source": [
        "conj_queries_df = pd.DataFrame()\n",
        "conj_queries_df['Consulta'] = queries_conj\n",
        "conj_queries_df['Resultado'] = results_conj\n",
        "conj_queries_df.index+=1\n",
        "conj_queries_df"
      ],
      "execution_count": 293,
      "outputs": [
        {
          "output_type": "execute_result",
          "data": {
            "text/html": [
              "<div>\n",
              "<style scoped>\n",
              "    .dataframe tbody tr th:only-of-type {\n",
              "        vertical-align: middle;\n",
              "    }\n",
              "\n",
              "    .dataframe tbody tr th {\n",
              "        vertical-align: top;\n",
              "    }\n",
              "\n",
              "    .dataframe thead th {\n",
              "        text-align: right;\n",
              "    }\n",
              "</style>\n",
              "<table border=\"1\" class=\"dataframe\">\n",
              "  <thead>\n",
              "    <tr style=\"text-align: right;\">\n",
              "      <th></th>\n",
              "      <th>Consulta</th>\n",
              "      <th>Resultado</th>\n",
              "    </tr>\n",
              "  </thead>\n",
              "  <tbody>\n",
              "    <tr>\n",
              "      <th>1</th>\n",
              "      <td>decisão sobre</td>\n",
              "      <td>[(6, 65), (6, 55), (5, 8), (5, 5), (4, 62), (4...</td>\n",
              "    </tr>\n",
              "    <tr>\n",
              "      <th>2</th>\n",
              "      <td>ministro paulo</td>\n",
              "      <td>[(6, 56), (6, 8), (5, 75), (5, 68), (5, 14), (...</td>\n",
              "    </tr>\n",
              "    <tr>\n",
              "      <th>3</th>\n",
              "      <td>brasil país</td>\n",
              "      <td>[(14, 59), (11, 33), (9, 21), (9, 7), (8, 66),...</td>\n",
              "    </tr>\n",
              "    <tr>\n",
              "      <th>4</th>\n",
              "      <td>jair bolsonaro</td>\n",
              "      <td>[(12, 62), (8, 49), (7, 70), (6, 66), (6, 63),...</td>\n",
              "    </tr>\n",
              "    <tr>\n",
              "      <th>5</th>\n",
              "      <td>presidente disse</td>\n",
              "      <td>[(9, 55), (9, 12), (8, 63), (8, 59), (7, 70), ...</td>\n",
              "    </tr>\n",
              "  </tbody>\n",
              "</table>\n",
              "</div>"
            ],
            "text/plain": [
              "           Consulta                                          Resultado\n",
              "1     decisão sobre  [(6, 65), (6, 55), (5, 8), (5, 5), (4, 62), (4...\n",
              "2    ministro paulo  [(6, 56), (6, 8), (5, 75), (5, 68), (5, 14), (...\n",
              "3       brasil país  [(14, 59), (11, 33), (9, 21), (9, 7), (8, 66),...\n",
              "4    jair bolsonaro  [(12, 62), (8, 49), (7, 70), (6, 66), (6, 63),...\n",
              "5  presidente disse  [(9, 55), (9, 12), (8, 63), (8, 59), (7, 70), ..."
            ]
          },
          "metadata": {
            "tags": []
          },
          "execution_count": 293
        }
      ]
    },
    {
      "cell_type": "markdown",
      "metadata": {
        "id": "UV6w4oejS1ZD",
        "colab_type": "text"
      },
      "source": [
        "#####Dê evidências de que sua implementação está correta.\n",
        "\n",
        "  No caso abaixo, podemos olhar separadamente para a lista invertida de cada termo e ver manualmente que todos os termos aparecem apenas no documento 1. O algoritmo realiza a soma dos scores de cada termo e atribui como score do documento no resultado final."
      ]
    },
    {
      "cell_type": "code",
      "metadata": {
        "id": "wQ0PdCgaS8ip",
        "colab_type": "code",
        "colab": {
          "base_uri": "https://localhost:8080/",
          "height": 204
        },
        "outputId": "d8eae593-e5b4-4407-fd36-17b9876031da"
      },
      "source": [
        "query = \"petrobrás quer alterar estatuto\"\n",
        "query_terms = query.split()\n",
        "terms_indexes = []\n",
        "\n",
        "a = ['', '', '', '']\n",
        "b = ['', '', '', '']\n",
        "\n",
        "for term in query_terms:\n",
        "  terms_indexes.append(indexes[term])\n",
        "  \n",
        "score_conj = conj_query(query,indexes,10)\n",
        "score_conj = (score_conj[0][::-1])\n",
        "\n",
        "query_terms.append('')\n",
        "terms_indexes.append('')\n",
        "a.append(query)\n",
        "b.append(score_conj)\n",
        "\n",
        "query_df = pd.DataFrame()\n",
        "query_df['Termos'] = query_terms\n",
        "query_df['Lista Indexada do termo'] = terms_indexes\n",
        "query_df['Consulta'] = a\n",
        "query_df['Resultado'] = b\n",
        "query_df\n"
      ],
      "execution_count": 334,
      "outputs": [
        {
          "output_type": "execute_result",
          "data": {
            "text/html": [
              "<div>\n",
              "<style scoped>\n",
              "    .dataframe tbody tr th:only-of-type {\n",
              "        vertical-align: middle;\n",
              "    }\n",
              "\n",
              "    .dataframe tbody tr th {\n",
              "        vertical-align: top;\n",
              "    }\n",
              "\n",
              "    .dataframe thead th {\n",
              "        text-align: right;\n",
              "    }\n",
              "</style>\n",
              "<table border=\"1\" class=\"dataframe\">\n",
              "  <thead>\n",
              "    <tr style=\"text-align: right;\">\n",
              "      <th></th>\n",
              "      <th>Termos</th>\n",
              "      <th>Lista Indexada do termo</th>\n",
              "      <th>Consulta</th>\n",
              "      <th>Resultado</th>\n",
              "    </tr>\n",
              "  </thead>\n",
              "  <tbody>\n",
              "    <tr>\n",
              "      <th>0</th>\n",
              "      <td>petrobrás</td>\n",
              "      <td>[(1, 4), (48, 1), (61, 3)]</td>\n",
              "      <td></td>\n",
              "      <td></td>\n",
              "    </tr>\n",
              "    <tr>\n",
              "      <th>1</th>\n",
              "      <td>quer</td>\n",
              "      <td>[(1, 1), (18, 2), (37, 3), (45, 2), (59, 1)]</td>\n",
              "      <td></td>\n",
              "      <td></td>\n",
              "    </tr>\n",
              "    <tr>\n",
              "      <th>2</th>\n",
              "      <td>alterar</td>\n",
              "      <td>[(1, 1), (63, 1)]</td>\n",
              "      <td></td>\n",
              "      <td></td>\n",
              "    </tr>\n",
              "    <tr>\n",
              "      <th>3</th>\n",
              "      <td>estatuto</td>\n",
              "      <td>[(1, 3)]</td>\n",
              "      <td></td>\n",
              "      <td></td>\n",
              "    </tr>\n",
              "    <tr>\n",
              "      <th>4</th>\n",
              "      <td></td>\n",
              "      <td></td>\n",
              "      <td>petrobrás quer alterar estatuto</td>\n",
              "      <td>(1, 9)</td>\n",
              "    </tr>\n",
              "  </tbody>\n",
              "</table>\n",
              "</div>"
            ],
            "text/plain": [
              "      Termos                       Lista Indexada do termo  \\\n",
              "0  petrobrás                    [(1, 4), (48, 1), (61, 3)]   \n",
              "1       quer  [(1, 1), (18, 2), (37, 3), (45, 2), (59, 1)]   \n",
              "2    alterar                             [(1, 1), (63, 1)]   \n",
              "3   estatuto                                      [(1, 3)]   \n",
              "4                                                            \n",
              "\n",
              "                          Consulta Resultado  \n",
              "0                                             \n",
              "1                                             \n",
              "2                                             \n",
              "3                                             \n",
              "4  petrobrás quer alterar estatuto    (1, 9)  "
            ]
          },
          "metadata": {
            "tags": []
          },
          "execution_count": 334
        }
      ]
    }
  ]
}