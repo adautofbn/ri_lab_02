{
  "nbformat": 4,
  "nbformat_minor": 0,
  "metadata": {
    "colab": {
      "name": "ri_lab_03",
      "version": "0.3.2",
      "provenance": [],
      "collapsed_sections": []
    },
    "kernelspec": {
      "name": "python3",
      "display_name": "Python 3"
    }
  },
  "cells": [
    {
      "metadata": {
        "id": "VUkt-55BaPRX",
        "colab_type": "code",
        "outputId": "45368629-b2f0-40d0-d54a-eefb1ae0aa50",
        "colab": {
          "base_uri": "https://localhost:8080/",
          "height": 51
        }
      },
      "cell_type": "code",
      "source": [
        "import pandas as pd\n",
        "import nltk\n",
        "import re\n",
        "import numpy as np\n",
        "from nltk.tokenize import RegexpTokenizer\n",
        "from collections import Counter\n",
        "import matplotlib.pyplot as plt\n",
        "import seaborn as sns\n",
        "\n",
        "nltk.download('stopwords')\n",
        "result = pd.read_csv('https://raw.githubusercontent.com/adautofbn/ri_lab_01/master/output/results.csv')"
      ],
      "execution_count": 10,
      "outputs": [
        {
          "output_type": "stream",
          "text": [
            "[nltk_data] Downloading package stopwords to /root/nltk_data...\n",
            "[nltk_data]   Package stopwords is already up-to-date!\n"
          ],
          "name": "stdout"
        }
      ]
    },
    {
      "metadata": {
        "id": "6LTLaTRvaZI6",
        "colab_type": "text"
      },
      "cell_type": "markdown",
      "source": [
        "### 1. Escolha uma estratégia de tokenização para a coleção que você está usando e justifique sua estratégia. É importante que você inclua decisões adicionais em relação ao que foi feito no Laboratório anterior (por exemplo, tratamento de maiúsculas/minúsculas e strings numéricas)"
      ]
    },
    {
      "metadata": {
        "id": "DMTx_yHJaeCf",
        "colab_type": "code",
        "colab": {}
      },
      "cell_type": "code",
      "source": [
        "all_words = []\n",
        "filtered_words = []\n",
        "\n",
        "tknz = RegexpTokenizer(r'([A-Za-zÁáÉéÍíÓóÚúÃãÕõÇçÂâÊê]{3,27})')\n",
        "stopwords = nltk.corpus.stopwords.words('portuguese')\n",
        "\n",
        "for text in result.text:\n",
        "   words = [word for word in tknz.tokenize(text.lower())\n",
        "           if len(word) >= 3 and not bool(re.search(r'\\d', word))]\n",
        "   all_words.extend(words)\n",
        "\n",
        "filtered_words = [word for word in all_words if word not in stopwords]"
      ],
      "execution_count": 0,
      "outputs": []
    },
    {
      "metadata": {
        "id": "Ku0J6ACiWTBj",
        "colab_type": "code",
        "outputId": "cc92f4d9-b6f3-4b4f-f0f5-40481096b27a",
        "colab": {
          "base_uri": "https://localhost:8080/",
          "height": 51
        }
      },
      "cell_type": "code",
      "source": [
        "print(\"Sem filtragem de stopwords:\", len(all_words))\n",
        "print(\"Com filtragem de stopwords:\", len(filtered_words))"
      ],
      "execution_count": 12,
      "outputs": [
        {
          "output_type": "stream",
          "text": [
            "Sem filtragem de stopwords: 17768\n",
            "Com filtragem de stopwords: 13949\n"
          ],
          "name": "stdout"
        }
      ]
    },
    {
      "metadata": {
        "id": "_k30o6inh7lC",
        "colab_type": "text"
      },
      "cell_type": "markdown",
      "source": [
        "A estratégia escolhida foi a de tokenizar o csv adquirido no lab 01, utilizando o tokenizador provido pela biblioteca nltk a partir de um regex que suporta palavras da líingua portuguesa. Também tratamos tudo como letras minúsculas e retiramos palavras sem muito significado que estão contidas dentro do conjunto chamada \"stopwords\" também provido pelo nltk."
      ]
    },
    {
      "metadata": {
        "id": "YvK8twLNa2Yp",
        "colab_type": "text"
      },
      "cell_type": "markdown",
      "source": [
        "### 2. Refaça a questão 2 do Laboratório anterior usando os tokens produzidos "
      ]
    },
    {
      "metadata": {
        "id": "6O4btAfFjtyw",
        "colab_type": "code",
        "colab": {}
      },
      "cell_type": "code",
      "source": [
        "total_word_occurrences = len(filtered_words)\n",
        "word_frequency = {}\n",
        "word_frequency = Counter(filtered_words)"
      ],
      "execution_count": 0,
      "outputs": []
    },
    {
      "metadata": {
        "id": "d4mb13GNa4Pi",
        "colab_type": "code",
        "outputId": "1e319574-e5f1-46bc-b91f-f6a8d9471724",
        "colab": {
          "base_uri": "https://localhost:8080/",
          "height": 1630
        }
      },
      "cell_type": "code",
      "source": [
        "top_words = word_frequency.most_common(50)\n",
        "\n",
        "top_50_table = pd.DataFrame(columns = ['Word', 'Frequency', 'r', 'Pr(%)', 'r.Pr'])\n",
        "\n",
        "top_50_table['Word'] = [word[0] for word in top_words]\n",
        "top_50_table['Frequency'] = [word[1] for word in top_words]\n",
        "top_50_table['r'] = [rank+1 for rank in range(0, len(top_words))]\n",
        "top_50_table['Pr(%)'] = [round((word[1] / total_word_occurrences)*100, 2) for word in top_words]\n",
        "top_50_table['r.Pr'] = round((top_50_table['Pr(%)']/100)*top_50_table['r'], 3)\n",
        "\n",
        "table = top_50_table.set_index('r')\n",
        "table"
      ],
      "execution_count": 14,
      "outputs": [
        {
          "output_type": "execute_result",
          "data": {
            "text/html": [
              "<div>\n",
              "<style scoped>\n",
              "    .dataframe tbody tr th:only-of-type {\n",
              "        vertical-align: middle;\n",
              "    }\n",
              "\n",
              "    .dataframe tbody tr th {\n",
              "        vertical-align: top;\n",
              "    }\n",
              "\n",
              "    .dataframe thead th {\n",
              "        text-align: right;\n",
              "    }\n",
              "</style>\n",
              "<table border=\"1\" class=\"dataframe\">\n",
              "  <thead>\n",
              "    <tr style=\"text-align: right;\">\n",
              "      <th></th>\n",
              "      <th>Word</th>\n",
              "      <th>Frequency</th>\n",
              "      <th>Pr(%)</th>\n",
              "      <th>r.Pr</th>\n",
              "    </tr>\n",
              "    <tr>\n",
              "      <th>r</th>\n",
              "      <th></th>\n",
              "      <th></th>\n",
              "      <th></th>\n",
              "      <th></th>\n",
              "    </tr>\n",
              "  </thead>\n",
              "  <tbody>\n",
              "    <tr>\n",
              "      <th>1</th>\n",
              "      <td>presidente</td>\n",
              "      <td>113</td>\n",
              "      <td>0.81</td>\n",
              "      <td>0.008</td>\n",
              "    </tr>\n",
              "    <tr>\n",
              "      <th>2</th>\n",
              "      <td>brasil</td>\n",
              "      <td>94</td>\n",
              "      <td>0.67</td>\n",
              "      <td>0.013</td>\n",
              "    </tr>\n",
              "    <tr>\n",
              "      <th>3</th>\n",
              "      <td>bolsonaro</td>\n",
              "      <td>91</td>\n",
              "      <td>0.65</td>\n",
              "      <td>0.020</td>\n",
              "    </tr>\n",
              "    <tr>\n",
              "      <th>4</th>\n",
              "      <td>sobre</td>\n",
              "      <td>84</td>\n",
              "      <td>0.60</td>\n",
              "      <td>0.024</td>\n",
              "    </tr>\n",
              "    <tr>\n",
              "      <th>5</th>\n",
              "      <td>disse</td>\n",
              "      <td>68</td>\n",
              "      <td>0.49</td>\n",
              "      <td>0.024</td>\n",
              "    </tr>\n",
              "    <tr>\n",
              "      <th>6</th>\n",
              "      <td>governo</td>\n",
              "      <td>58</td>\n",
              "      <td>0.42</td>\n",
              "      <td>0.025</td>\n",
              "    </tr>\n",
              "    <tr>\n",
              "      <th>7</th>\n",
              "      <td>ministro</td>\n",
              "      <td>57</td>\n",
              "      <td>0.41</td>\n",
              "      <td>0.029</td>\n",
              "    </tr>\n",
              "    <tr>\n",
              "      <th>8</th>\n",
              "      <td>país</td>\n",
              "      <td>47</td>\n",
              "      <td>0.34</td>\n",
              "      <td>0.027</td>\n",
              "    </tr>\n",
              "    <tr>\n",
              "      <th>9</th>\n",
              "      <td>acordo</td>\n",
              "      <td>47</td>\n",
              "      <td>0.34</td>\n",
              "      <td>0.031</td>\n",
              "    </tr>\n",
              "    <tr>\n",
              "      <th>10</th>\n",
              "      <td>segundo</td>\n",
              "      <td>46</td>\n",
              "      <td>0.33</td>\n",
              "      <td>0.033</td>\n",
              "    </tr>\n",
              "    <tr>\n",
              "      <th>11</th>\n",
              "      <td>feira</td>\n",
              "      <td>43</td>\n",
              "      <td>0.31</td>\n",
              "      <td>0.034</td>\n",
              "    </tr>\n",
              "    <tr>\n",
              "      <th>12</th>\n",
              "      <td>contra</td>\n",
              "      <td>43</td>\n",
              "      <td>0.31</td>\n",
              "      <td>0.037</td>\n",
              "    </tr>\n",
              "    <tr>\n",
              "      <th>13</th>\n",
              "      <td>lula</td>\n",
              "      <td>43</td>\n",
              "      <td>0.31</td>\n",
              "      <td>0.040</td>\n",
              "    </tr>\n",
              "    <tr>\n",
              "      <th>14</th>\n",
              "      <td>ser</td>\n",
              "      <td>42</td>\n",
              "      <td>0.30</td>\n",
              "      <td>0.042</td>\n",
              "    </tr>\n",
              "    <tr>\n",
              "      <th>15</th>\n",
              "      <td>março</td>\n",
              "      <td>41</td>\n",
              "      <td>0.29</td>\n",
              "      <td>0.044</td>\n",
              "    </tr>\n",
              "    <tr>\n",
              "      <th>16</th>\n",
              "      <td>ano</td>\n",
              "      <td>40</td>\n",
              "      <td>0.29</td>\n",
              "      <td>0.046</td>\n",
              "    </tr>\n",
              "    <tr>\n",
              "      <th>17</th>\n",
              "      <td>jair</td>\n",
              "      <td>39</td>\n",
              "      <td>0.28</td>\n",
              "      <td>0.048</td>\n",
              "    </tr>\n",
              "    <tr>\n",
              "      <th>18</th>\n",
              "      <td>afirmou</td>\n",
              "      <td>39</td>\n",
              "      <td>0.28</td>\n",
              "      <td>0.050</td>\n",
              "    </tr>\n",
              "    <tr>\n",
              "      <th>19</th>\n",
              "      <td>paulo</td>\n",
              "      <td>38</td>\n",
              "      <td>0.27</td>\n",
              "      <td>0.051</td>\n",
              "    </tr>\n",
              "    <tr>\n",
              "      <th>20</th>\n",
              "      <td>países</td>\n",
              "      <td>37</td>\n",
              "      <td>0.27</td>\n",
              "      <td>0.054</td>\n",
              "    </tr>\n",
              "    <tr>\n",
              "      <th>21</th>\n",
              "      <td>estado</td>\n",
              "      <td>37</td>\n",
              "      <td>0.27</td>\n",
              "      <td>0.057</td>\n",
              "    </tr>\n",
              "    <tr>\n",
              "      <th>22</th>\n",
              "      <td>após</td>\n",
              "      <td>34</td>\n",
              "      <td>0.24</td>\n",
              "      <td>0.053</td>\n",
              "    </tr>\n",
              "    <tr>\n",
              "      <th>23</th>\n",
              "      <td>vai</td>\n",
              "      <td>33</td>\n",
              "      <td>0.24</td>\n",
              "      <td>0.055</td>\n",
              "    </tr>\n",
              "    <tr>\n",
              "      <th>24</th>\n",
              "      <td>anos</td>\n",
              "      <td>33</td>\n",
              "      <td>0.24</td>\n",
              "      <td>0.058</td>\n",
              "    </tr>\n",
              "    <tr>\n",
              "      <th>25</th>\n",
              "      <td>ter</td>\n",
              "      <td>32</td>\n",
              "      <td>0.23</td>\n",
              "      <td>0.057</td>\n",
              "    </tr>\n",
              "    <tr>\n",
              "      <th>26</th>\n",
              "      <td>hoje</td>\n",
              "      <td>30</td>\n",
              "      <td>0.22</td>\n",
              "      <td>0.057</td>\n",
              "    </tr>\n",
              "    <tr>\n",
              "      <th>27</th>\n",
              "      <td>decisão</td>\n",
              "      <td>29</td>\n",
              "      <td>0.21</td>\n",
              "      <td>0.057</td>\n",
              "    </tr>\n",
              "    <tr>\n",
              "      <th>28</th>\n",
              "      <td>ainda</td>\n",
              "      <td>29</td>\n",
              "      <td>0.21</td>\n",
              "      <td>0.059</td>\n",
              "    </tr>\n",
              "    <tr>\n",
              "      <th>29</th>\n",
              "      <td>diz</td>\n",
              "      <td>29</td>\n",
              "      <td>0.21</td>\n",
              "      <td>0.061</td>\n",
              "    </tr>\n",
              "    <tr>\n",
              "      <th>30</th>\n",
              "      <td>ministério</td>\n",
              "      <td>28</td>\n",
              "      <td>0.20</td>\n",
              "      <td>0.060</td>\n",
              "    </tr>\n",
              "    <tr>\n",
              "      <th>31</th>\n",
              "      <td>economia</td>\n",
              "      <td>28</td>\n",
              "      <td>0.20</td>\n",
              "      <td>0.062</td>\n",
              "    </tr>\n",
              "    <tr>\n",
              "      <th>32</th>\n",
              "      <td>todo</td>\n",
              "      <td>28</td>\n",
              "      <td>0.20</td>\n",
              "      <td>0.064</td>\n",
              "    </tr>\n",
              "    <tr>\n",
              "      <th>33</th>\n",
              "      <td>partido</td>\n",
              "      <td>28</td>\n",
              "      <td>0.20</td>\n",
              "      <td>0.066</td>\n",
              "    </tr>\n",
              "    <tr>\n",
              "      <th>34</th>\n",
              "      <td>brasileiro</td>\n",
              "      <td>27</td>\n",
              "      <td>0.19</td>\n",
              "      <td>0.065</td>\n",
              "    </tr>\n",
              "    <tr>\n",
              "      <th>35</th>\n",
              "      <td>brasileira</td>\n",
              "      <td>27</td>\n",
              "      <td>0.19</td>\n",
              "      <td>0.066</td>\n",
              "    </tr>\n",
              "    <tr>\n",
              "      <th>36</th>\n",
              "      <td>eua</td>\n",
              "      <td>27</td>\n",
              "      <td>0.19</td>\n",
              "      <td>0.068</td>\n",
              "    </tr>\n",
              "    <tr>\n",
              "      <th>37</th>\n",
              "      <td>estados</td>\n",
              "      <td>26</td>\n",
              "      <td>0.19</td>\n",
              "      <td>0.070</td>\n",
              "    </tr>\n",
              "    <tr>\n",
              "      <th>38</th>\n",
              "      <td>previdência</td>\n",
              "      <td>26</td>\n",
              "      <td>0.19</td>\n",
              "      <td>0.072</td>\n",
              "    </tr>\n",
              "    <tr>\n",
              "      <th>39</th>\n",
              "      <td>nesta</td>\n",
              "      <td>25</td>\n",
              "      <td>0.18</td>\n",
              "      <td>0.070</td>\n",
              "    </tr>\n",
              "    <tr>\n",
              "      <th>40</th>\n",
              "      <td>guedes</td>\n",
              "      <td>25</td>\n",
              "      <td>0.18</td>\n",
              "      <td>0.072</td>\n",
              "    </tr>\n",
              "    <tr>\n",
              "      <th>41</th>\n",
              "      <td>israel</td>\n",
              "      <td>25</td>\n",
              "      <td>0.18</td>\n",
              "      <td>0.074</td>\n",
              "    </tr>\n",
              "    <tr>\n",
              "      <th>42</th>\n",
              "      <td>reforma</td>\n",
              "      <td>25</td>\n",
              "      <td>0.18</td>\n",
              "      <td>0.076</td>\n",
              "    </tr>\n",
              "    <tr>\n",
              "      <th>43</th>\n",
              "      <td>federal</td>\n",
              "      <td>25</td>\n",
              "      <td>0.18</td>\n",
              "      <td>0.077</td>\n",
              "    </tr>\n",
              "    <tr>\n",
              "      <th>44</th>\n",
              "      <td>golpe</td>\n",
              "      <td>25</td>\n",
              "      <td>0.18</td>\n",
              "      <td>0.079</td>\n",
              "    </tr>\n",
              "    <tr>\n",
              "      <th>45</th>\n",
              "      <td>militar</td>\n",
              "      <td>25</td>\n",
              "      <td>0.18</td>\n",
              "      <td>0.081</td>\n",
              "    </tr>\n",
              "    <tr>\n",
              "      <th>46</th>\n",
              "      <td>dia</td>\n",
              "      <td>24</td>\n",
              "      <td>0.17</td>\n",
              "      <td>0.078</td>\n",
              "    </tr>\n",
              "    <tr>\n",
              "      <th>47</th>\n",
              "      <td>parte</td>\n",
              "      <td>24</td>\n",
              "      <td>0.17</td>\n",
              "      <td>0.080</td>\n",
              "    </tr>\n",
              "    <tr>\n",
              "      <th>48</th>\n",
              "      <td>poder</td>\n",
              "      <td>24</td>\n",
              "      <td>0.17</td>\n",
              "      <td>0.082</td>\n",
              "    </tr>\n",
              "    <tr>\n",
              "      <th>49</th>\n",
              "      <td>milhões</td>\n",
              "      <td>23</td>\n",
              "      <td>0.16</td>\n",
              "      <td>0.078</td>\n",
              "    </tr>\n",
              "    <tr>\n",
              "      <th>50</th>\n",
              "      <td>pessoas</td>\n",
              "      <td>23</td>\n",
              "      <td>0.16</td>\n",
              "      <td>0.080</td>\n",
              "    </tr>\n",
              "  </tbody>\n",
              "</table>\n",
              "</div>"
            ],
            "text/plain": [
              "           Word  Frequency  Pr(%)   r.Pr\n",
              "r                                       \n",
              "1    presidente        113   0.81  0.008\n",
              "2        brasil         94   0.67  0.013\n",
              "3     bolsonaro         91   0.65  0.020\n",
              "4         sobre         84   0.60  0.024\n",
              "5         disse         68   0.49  0.024\n",
              "6       governo         58   0.42  0.025\n",
              "7      ministro         57   0.41  0.029\n",
              "8          país         47   0.34  0.027\n",
              "9        acordo         47   0.34  0.031\n",
              "10      segundo         46   0.33  0.033\n",
              "11        feira         43   0.31  0.034\n",
              "12       contra         43   0.31  0.037\n",
              "13         lula         43   0.31  0.040\n",
              "14          ser         42   0.30  0.042\n",
              "15        março         41   0.29  0.044\n",
              "16          ano         40   0.29  0.046\n",
              "17         jair         39   0.28  0.048\n",
              "18      afirmou         39   0.28  0.050\n",
              "19        paulo         38   0.27  0.051\n",
              "20       países         37   0.27  0.054\n",
              "21       estado         37   0.27  0.057\n",
              "22         após         34   0.24  0.053\n",
              "23          vai         33   0.24  0.055\n",
              "24         anos         33   0.24  0.058\n",
              "25          ter         32   0.23  0.057\n",
              "26         hoje         30   0.22  0.057\n",
              "27      decisão         29   0.21  0.057\n",
              "28        ainda         29   0.21  0.059\n",
              "29          diz         29   0.21  0.061\n",
              "30   ministério         28   0.20  0.060\n",
              "31     economia         28   0.20  0.062\n",
              "32         todo         28   0.20  0.064\n",
              "33      partido         28   0.20  0.066\n",
              "34   brasileiro         27   0.19  0.065\n",
              "35   brasileira         27   0.19  0.066\n",
              "36          eua         27   0.19  0.068\n",
              "37      estados         26   0.19  0.070\n",
              "38  previdência         26   0.19  0.072\n",
              "39        nesta         25   0.18  0.070\n",
              "40       guedes         25   0.18  0.072\n",
              "41       israel         25   0.18  0.074\n",
              "42      reforma         25   0.18  0.076\n",
              "43      federal         25   0.18  0.077\n",
              "44        golpe         25   0.18  0.079\n",
              "45      militar         25   0.18  0.081\n",
              "46          dia         24   0.17  0.078\n",
              "47        parte         24   0.17  0.080\n",
              "48        poder         24   0.17  0.082\n",
              "49      milhões         23   0.16  0.078\n",
              "50      pessoas         23   0.16  0.080"
            ]
          },
          "metadata": {
            "tags": []
          },
          "execution_count": 14
        }
      ]
    },
    {
      "metadata": {
        "id": "r2owdLtpa4j0",
        "colab_type": "text"
      },
      "cell_type": "markdown",
      "source": [
        "### 3. Aplique Stemming nos tokens produzidos e encontre 10 exemplos de falsos positivos e 10 exemplos de falsos negativos. Que impacto você acha que falsos positivos e negativos, como esses, teriam no processamento de consultas? Dê exemplos."
      ]
    },
    {
      "metadata": {
        "id": "ShHX-Pmaa4vI",
        "colab_type": "code",
        "outputId": "5e911fa1-f06f-4086-8650-033ad2f9ef7c",
        "colab": {
          "base_uri": "https://localhost:8080/",
          "height": 105
        }
      },
      "cell_type": "code",
      "source": [
        "stemmed_words = []\n",
        "stemmer = nltk.stem.SnowballStemmer('portuguese')\n",
        "\n",
        "stemmed_words = [stemmer.stem(word) for word in filtered_words]\n",
        "\n",
        "set_stem = sorted(set(stemmed_words))\n",
        "set_words = sorted(set(all_words))\n",
        "\n",
        "print(\"Conjunto de palavras sem Stemming:\",len(set_words))\n",
        "print(\"Conjunto de palavras com Stemming:\",len(set_stem))\n",
        "\n",
        "print(set_stem)\n",
        "print(set_words)"
      ],
      "execution_count": 15,
      "outputs": [
        {
          "output_type": "stream",
          "text": [
            "Conjunto de palavras sem Stemming: 5105\n",
            "Conjunto de palavras com Stemming: 3265\n",
            "['aba', 'abacax', 'abaix', 'abandon', 'abastec', 'abat', 'abc', 'abert', 'abertur', 'abord', 'abrangent', 'abre', 'abreu', 'abril', 'abrind', 'abrir', 'abriu', 'absolut', 'abus', 'acab', 'acas', 'acat', 'aceler', 'acentu', 'aces', 'acha', 'acham', 'achand', 'acho', 'acim', 'acion', 'acolh', 'acomet', 'acompanh', 'acontec', 'acord', 'acredit', 'acrescent', 'act', 'acumul', 'acus', 'adam', 'adcs', 'ader', 'adesã', 'adi', 'adiament', 'adicional', 'adit', 'administr', 'admir', 'admit', 'adnet', 'adolf', 'ador', 'adot', 'adp', 'adquir', 'adub', 'adversár', 'advert', 'advocac', 'advog', 'aeronáut', 'afast', 'afeganistã', 'affffff', 'afili', 'afin', 'afirm', 'afp', 'african', 'afro', 'afront', 'afund', 'age', 'agend', 'agent', 'agiliz', 'agim', 'agir', 'agit', 'agiu', 'agor', 'agr', 'agradec', 'agressã', 'agricultor', 'agricultur', 'agroecolog', 'agroecológ', 'agronegóci', 'agropecuár', 'agropecuári', 'agrotóx', 'agrícol', 'agu', 'aguent', 'agênc', 'aind', 'air', 'ajud', 'ajuiz', 'ajust', 'alago', 'alain', 'alcanc', 'alceu', 'alcolumbr', 'alcoól', 'alcânt', 'aleg', 'alegr', 'alemanh', 'alemã', 'alenc', 'alert', 'alexandr', 'alfabetiz', 'algo', 'algodã', 'algoritm', 'algum', 'alguns', 'alguém', 'ali', 'alianc', 'alien', 'aliment', 'alinh', 'aloc', 'alta', 'altas', 'alter', 'alto', 'altos', 'alumíni', 'alun', 'alvo', 'além', 'alíquot', 'amap', 'ambas', 'ambev', 'ambient', 'ambiental', 'ambos', 'ambígu', 'ameac', 'american', 'amig', 'amizad', 'amortec', 'ampla', 'ampli', 'amplific', 'amplo', 'amér', 'ana', 'anal', 'analis', 'analóg', 'ancar', 'and', 'andament', 'ando', 'andre', 'anfav', 'anfitriã', 'anist', 'anm', 'ano', 'anos', 'ant', 'ante', 'anteced', 'antecip', 'anterior', 'antes', 'anti', 'antiaér', 'anticomun', 'anticorrupçã', 'anticrim', 'antoni', 'anual', 'anul', 'anunc', 'anális', 'anísi', 'anúnci', 'apag', 'apaixon', 'apanh', 'aparec', 'aparent', 'apart', 'apavor', 'apel', 'apen', 'apes', 'apex', 'aplaud', 'aplaus', 'aplic', 'apo', 'apoi', 'apoiador', 'apont', 'aport', 'aposent', 'aposentador', 'aposiçã', 'aprec', 'apreensã', 'aprend', 'apresent', 'aprimor', 'aprofund', 'aprov', 'apur', 'apócrif', 'após', 'aqu', 'aquil', 'aquisiçã', 'arauj', 'araúj', 'arcar', 'ardor', 'argentin', 'arguiçã', 'argument', 'arma', 'armad', 'armand', 'armas', 'armári', 'arquitet', 'arquiv', 'arranh', 'arrecad', 'arredor', 'arregiment', 'arrisc', 'artes', 'articul', 'artig', 'artist', 'aráb', 'asiát', 'assassin', 'assassinat', 'assedi', 'assegur', 'assembl', 'assent', 'assessor', 'assim', 'assin', 'assinatur', 'assist', 'assistanc', 'assistent', 'assoc', 'assum', 'assunt', 'assunçã', 'assust', 'assédi', 'astrólog', 'atac', 'ataqu', 'atend', 'atençã', 'ating', 'atir', 'ativ', 'atlas', 'atlânt', 'ato', 'atos', 'atra', 'atras', 'atrat', 'através', 'atraçã', 'atrel', 'atribuiçõ', 'atriz', 'atroc', 'atu', 'atual', 'audit', 'auditóri', 'audiênc', 'august', 'aul', 'aument', 'auréli', 'auster', 'australian', 'austrál', 'austríac', 'ausênc', 'aut', 'autobiograf', 'autocrát', 'autocrít', 'autoexil', 'autom', 'automot', 'automotor', 'automóv', 'autoproclam', 'autor', 'autoritar', 'autoritár', 'autoritári', 'autoriz', 'autu', 'autuaçã', 'autuaçõ', 'aval', 'avali', 'avanc', 'avar', 'avental', 'aves', 'avis', 'aviv', 'aviã', 'aviõ', 'azeved', 'aço', 'açã', 'açõ', 'açúc', 'bairr', 'baix', 'balassian', 'banc', 'bancár', 'bancári', 'bandeir', 'barat', 'barc', 'baron', 'barr', 'barrag', 'barragens', 'bas', 'basic', 'bastant', 'bat', 'batalhã', 'batist', 'bbc', 'beb', 'bel', 'bem', 'benefic', 'beneficiári', 'benefíci', 'benjamin', 'bens', 'benz', 'berc', 'bernard', 'beth', 'bierbaum', 'bilater', 'bilhã', 'bilhõ', 'bilionári', 'bill', 'biograf', 'bipartidár', 'biêni', 'biógraf', 'blind', 'bloc', 'blog', 'bloquei', 'boa', 'boas', 'boaventur', 'bob', 'boc', 'boff', 'bolchev', 'bolet', 'boletins', 'bolh', 'bols', 'bolsonar', 'bom', 'bons', 'borg', 'botelh', 'bpc', 'brac', 'brag', 'branc', 'brasil', 'brasileir', 'brask', 'brasíl', 'brav', 'brent', 'brenton', 'breton', 'brev', 'brevíssim', 'brexit', 'brf', 'brics', 'brig', 'brigadeir', 'britân', 'brumadinh', 'brut', 'buarqu', 'buen', 'bufã', 'burgues', 'burguês', 'burin', 'busc', 'básic', 'bíbl', 'cab', 'cabal', 'cabel', 'cabell', 'cabid', 'cabul', 'cabív', 'cac', 'cad', 'cadeir', 'cadernet', 'cadáv', 'caetan', 'caf', 'cai', 'caiu', 'caix', 'calcul', 'calendári', 'calm', 'caminh', 'camp', 'campanh', 'can', 'canad', 'canal', 'canalh', 'candidat', 'canibal', 'cans', 'cant', 'cantor', 'cançã', 'cap', 'capac', 'capaz', 'capistran', 'capit', 'capital', 'capitaliz', 'capitan', 'capitã', 'captaçã', 'captaçõ', 'capuz', 'capítul', 'car', 'caracteriz', 'caravan', 'cardos', 'carent', 'carg', 'carinh', 'carl', 'carn', 'carnaval', 'carnificin', 'carnês', 'carr', 'carreg', 'carreir', 'cart', 'cartaz', 'cartã', 'carvalh', 'cas', 'casal', 'cascat', 'castel', 'castell', 'catarin', 'cataton', 'categor', 'caus', 'cautel', 'caval', 'cavusoglu', 'caymm', 'caí', 'caír', 'cbic', 'ccj', 'ccjc', 'cear', 'cebw', 'ced', 'ceg', 'celebr', 'celul', 'cem', 'cen', 'censur', 'cent', 'centen', 'centr', 'central', 'centraliz', 'cenári', 'cerc', 'cert', 'cerveir', 'ces', 'cest', 'chad', 'cham', 'chancel', 'chav', 'chef', 'chefi', 'cheg', 'chegu', 'chei', 'chic', 'chicag', 'chil', 'chin', 'chines', 'chinês', 'choc', 'choqu', 'chor', 'christchurch', 'chumb', 'chupador', 'chã', 'cia', 'cicl', 'cidad', 'cidadan', 'cidadã', 'cientist', 'cinc', 'cineast', 'cinem', 'cinturã', 'cinélatin', 'cir', 'circuit', 'circul', 'cit', 'civil', 'ciênc', 'clar', 'classific', 'client', 'clim', 'clinton', 'clp', 'club', 'cláudi', 'cláusul', 'clã', 'cnc', 'cni', 'cobert', 'cobr', 'cobranc', 'cod', 'coelh', 'coimbr', 'cois', 'col', 'colabor', 'coleg', 'colet', 'colli', 'coloc', 'colombian', 'coloqu', 'color', 'colun', 'com', 'comand', 'combat', 'comec', 'comemor', 'coment', 'comerc', 'comercial', 'comercializ', 'comet', 'comig', 'comissã', 'comissõ', 'comit', 'commoditi', 'commodity', 'companh', 'compar', 'compartilh', 'compens', 'compet', 'competent', 'competidor', 'compl', 'complement', 'complet', 'complex', 'complic', 'compor', 'comport', 'compositor', 'compost', 'compr', 'compreend', 'compreensã', 'compromet', 'compromiss', 'comput', 'compõ', 'comum', 'comun', 'comunic', 'comuns', 'comérci', 'conced', 'concentr', 'concessã', 'concessõ', 'conclam', 'conclusã', 'concluíd', 'concord', 'concret', 'conden', 'condenatór', 'condicion', 'condiçõ', 'condut', 'conduz', 'conf', 'confaz', 'confeder', 'confer', 'conferent', 'confess', 'confianc', 'confirm', 'conflit', 'conform', 'confund', 'confusã', 'congress', 'conhec', 'conj', 'conjunt', 'conosc', 'conquist', 'consciênc', 'conseg', 'consegu', 'conselh', 'consens', 'consequent', 'consequênc', 'conserv', 'consid', 'consider', 'consig', 'consistent', 'consolid', 'conspiratór', 'constant', 'constat', 'constitucion', 'constitucional', 'constituint', 'constituiçã', 'constituíd', 'constrang', 'constru', 'construt', 'construtor', 'construçã', 'construíd', 'consult', 'consum', 'consumidor', 'consórci', 'cont', 'contabiliz', 'contat', 'contemporân', 'content', 'contest', 'context', 'conteúd', 'continent', 'contingenc', 'continu', 'contr', 'contra', 'contradiçã', 'contradiçõ', 'contrari', 'contrat', 'contribu', 'contribuint', 'contribuiçã', 'contribuiçõ', 'control', 'controlador', 'controvérs', 'contrári', 'contínu', 'convenc', 'convers', 'convert', 'convicçã', 'convid', 'convit', 'convoc', 'convulsã', 'convêni', 'cooper', 'coorden', 'cor', 'corbyn', 'coron', 'coronel', 'corp', 'corpor', 'corpus', 'corr', 'corredor', 'correi', 'corrent', 'correspond', 'corret', 'correçã', 'corrig', 'corrupt', 'corrupçã', 'cort', 'cost', 'cotidian', 'cotist', 'cout', 'cresc', 'crescent', 'cresciment', 'cri', 'crianc', 'criativ', 'criaçã', 'crim', 'criminal', 'cris', 'cristaliz', 'cristin', 'cristã', 'critic', 'critéri', 'cruz', 'crédit', 'crític', 'cuid', 'cuj', 'culmin', 'culp', 'cultur', 'cultural', 'cumpr', 'cumpriment', 'cunh', 'curd', 'curitib', 'curs', 'curt', 'cust', 'cálcul', 'cálic', 'câm', 'círcul', 'cúpul', 'dad', 'dalian', 'daltos', 'dan', 'dand', 'dant', 'daqu', 'daquel', 'dar', 'dat', 'dav', 'debaix', 'debat', 'debruc', 'dec', 'decent', 'decid', 'decifr', 'decisã', 'decisõ', 'declar', 'decorr', 'decorrent', 'decret', 'dedic', 'deduz', 'defas', 'defeit', 'defend', 'defensor', 'defes', 'deficient', 'defin', 'definit', 'definition', 'definiçã', 'deix', 'delat', 'delator', 'deleg', 'deliber', 'delíri', 'dem', 'demagog', 'demand', 'demissõ', 'demit', 'democrac', 'democracy', 'democrat', 'democrát', 'demonstr', 'demov', 'dentr', 'denunc', 'denúnc', 'depart', 'depend', 'dependent', 'depoiment', 'deposit', 'deprec', 'deput', 'depósit', 'derrot', 'derrub', 'desaceler', 'desacord', 'desafi', 'desagr', 'desagrad', 'desaparec', 'desburocratiz', 'descaracteriz', 'descart', 'descobert', 'descobr', 'descol', 'desconfigur', 'descont', 'descontextualiz', 'descumpr', 'desd', 'desej', 'desembarg', 'desemblos', 'desemboc', 'desempenh', 'desempreg', 'desencad', 'desenrol', 'desenvolv', 'desert', 'desesper', 'desfez', 'desgast', 'desgrac', 'desidrat', 'design', 'desigualdad', 'desinvest', 'deslig', 'desligu', 'desloc', 'desmai', 'desmarc', 'desment', 'desocup', 'desoner', 'despert', 'despes', 'despot', 'desprez', 'desrespeit', 'dess', 'dessegu', 'dest', 'destac', 'destin', 'destrav', 'destruiçã', 'desuman', 'det', 'detalh', 'detençã', 'determin', 'deu', 'deus', 'dev', 'devag', 'devast', 'development', 'dez', 'dezembr', 'dezen', 'dia', 'dialog', 'diant', 'dias', 'didát', 'die', 'diferenc', 'dificil', 'dificuldad', 'difícil', 'dig', 'dignidad', 'dilem', 'dilm', 'diluiçã', 'diminuiçã', 'dinheir', 'dinâm', 'diosd', 'diplomát', 'dirc', 'direcion', 'direit', 'diret', 'diretor', 'dirig', 'dirigent', 'discrimin', 'discurs', 'discussã', 'discut', 'dispar', 'dispens', 'dispon', 'disput', 'diss', 'dissolu', 'dissolv', 'distant', 'distingu', 'distorc', 'distorçã', 'distra', 'distribu', 'distribuidor', 'distribuiçã', 'distânc', 'dit', 'ditadur', 'ditaduranuncam', 'ditatorial', 'divergent', 'divers', 'diversific', 'dividend', 'divulg', 'diz', 'diálog', 'diár', 'diári', 'doaçã', 'doaçõ', 'dobr', 'document', 'documental', 'doi', 'dois', 'domin', 'doming', 'domést', 'don', 'donald', 'dops', 'dor', 'dorm', 'doutor', 'doutrin', 'drastic', 'dribl', 'duart', 'duas', 'dur', 'duran', 'durant', 'duraçã', 'duv', 'déc', 'dív', 'dól', 'dúv', 'econ', 'econom', 'economiz', 'economiári', 'edital', 'editor', 'edson', 'eduard', 'educ', 'educacion', 'educacional', 'efeit', 'efet', 'eficient', 'eficác', 'egress', 'eia', 'elabor', 'eleit', 'eleitor', 'eleitoral', 'eleiçã', 'eleiçõ', 'element', 'eletr', 'eletrod', 'elev', 'eleven', 'elit', 'elogi', 'embaix', 'embarc', 'emblemát', 'embor', 'embra', 'emend', 'emerg', 'emergency', 'emergent', 'emissor', 'emocion', 'emocional', 'emoçã', 'emoçõ', 'empreg', 'empreiteir', 'empres', 'empresari', 'empresarial', 'empresári', 'emprést', 'empurr', 'encaminh', 'encerr', 'enchent', 'encobr', 'encontr', 'encrenc', 'enderec', 'endivid', 'endoss', 'endurec', 'energ', 'enfatiz', 'enff', 'enfraquec', 'enfrent', 'enfurec', 'engan', 'engenheir', 'engi', 'enigm', 'enlouquec', 'enquadr', 'enquant', 'ensai', 'ensin', 'entant', 'entend', 'enterr', 'entidad', 'entra', 'entrad', 'entrar', 'entreg', 'entregu', 'entretant', 'entrev', 'entrevist', 'entro', 'entrou', 'entã', 'envelhec', 'envi', 'envolv', 'episódi', 'equilíbri', 'equip', 'equivalent', 'ernest', 'erros', 'erundin', 'escad', 'escal', 'escandal', 'esclarec', 'escol', 'escolh', 'escot', 'escravag', 'escrev', 'escrit', 'escritor', 'escritóri', 'escuridã', 'escus', 'escut', 'escândal', 'esfaqu', 'esfer', 'esforc', 'esfriament', 'espac', 'espanc', 'espanhol', 'especial', 'especializ', 'especif', 'especul', 'específ', 'esper', 'espin', 'espiral', 'espéc', 'espírit', 'esquec', 'esquerd', 'esquerdalh', 'esquin', 'essenc', 'essencial', 'essênc', 'estabelec', 'estabil', 'estad', 'estadual', 'estadunidens', 'estagn', 'estar', 'estat', 'estatal', 'estatut', 'estatíst', 'esteir', 'estend', 'estim', 'estimul', 'estoqu', 'estour', 'estrag', 'estrangeir', 'estratég', 'estre', 'estreit', 'estremec', 'estress', 'estrutur', 'estrutural', 'estud', 'estudi', 'estúdi', 'etap', 'etern', 'eua', 'eur', 'europ', 'europeus', 'event', 'evidenc', 'evident', 'evit', 'evolu', 'evolut', 'exager', 'exalt', 'exat', 'exaust', 'exced', 'excepcional', 'excess', 'exceçã', 'excit', 'execu', 'execut', 'exempl', 'exib', 'exibiçã', 'exig', 'exigent', 'exil', 'exist', 'existent', 'exoner', 'expect', 'experient', 'explic', 'export', 'express', 'expressã', 'expropr', 'extens', 'exterior', 'extern', 'extint', 'extra', 'extraordinár', 'extras', 'extrem', 'exércit', 'exíli', 'fabian', 'fabián', 'fabric', 'fabrízi', 'fac', 'fachin', 'facilit', 'faculdad', 'fahim', 'fahm', 'faix', 'fak', 'fal', 'fals', 'falt', 'famíl', 'fantást', 'far', 'fard', 'farã', 'fascism', 'fascist', 'fat', 'fator', 'fatur', 'faust', 'favor', 'favorec', 'faz', 'fazendár', 'fech', 'feder', 'federal', 'feir', 'feit', 'felip', 'felix', 'femin', 'fen', 'fer', 'fern', 'fernand', 'ferr', 'ferrament', 'fertiliz', 'festej', 'festiv', 'festival', 'fevereir', 'fez', 'fgv', 'fianc', 'fic', 'fich', 'fictíci', 'figur', 'fil', 'filh', 'filiaçã', 'film', 'filmag', 'filosof', 'filósof', 'fim', 'final', 'finaliz', 'financ', 'financeir', 'financial', 'finlând', 'fips', 'fiqu', 'firm', 'firmez', 'fisc', 'fiscal', 'fiscaliz', 'fisch', 'fit', 'fix', 'fiz', 'flash', 'flexibil', 'flexibiliz', 'flexil', 'florestan', 'florianópol', 'flávi', 'flór', 'fmi', 'foc', 'focus', 'fod', 'folh', 'fom', 'font', 'forc', 'form', 'formaggin', 'formal', 'formaliz', 'format', 'formaçã', 'formul', 'fornec', 'fort', 'fortalec', 'fortement', 'fortíssim', 'fot', 'fotograf', 'fpa', 'frac', 'franc', 'francischin', 'francês', 'fratern', 'fraud', 'fraudulent', 'freddi', 'frent', 'frequent', 'fri', 'frustraçã', 'frut', 'frutuos', 'fuat', 'funcef', 'funcion', 'funcional', 'funcionári', 'fund', 'fundador', 'fundament', 'fundamental', 'fundaçã', 'fundiár', 'funpen', 'funrural', 'funçã', 'furaçã', 'furios', 'futur', 'fvg', 'fábric', 'fácil', 'fértil', 'físic', 'fórum', 'gabinet', 'gabriel', 'gad', 'ganh', 'garant', 'garcí', 'gargalh', 'gast', 'gatorad', 'gavet', 'gavetinh', 'gaz', 'geddel', 'geladeir', 'gem', 'genebr', 'general', 'geng', 'genit', 'gent', 'gentil', 'geograf', 'geolog', 'ger', 'geral', 'geraçã', 'gerencial', 'gerent', 'gestor', 'gestã', 'getúli', 'ghosn', 'gil', 'gilbert', 'gilm', 'gilv', 'gir', 'glaub', 'gleis', 'gleni', 'glifosat', 'glob', 'globaliz', 'glêni', 'golp', 'gom', 'gondolf', 'gost', 'got', 'goulart', 'govern', 'governament', 'grac', 'gradat', 'gradual', 'grand', 'gratuit', 'grau', 'grav', 'gravaçã', 'gravíssim', 'great', 'grev', 'grit', 'grup', 'grã', 'guaid', 'guararem', 'guaruj', 'guaíb', 'gued', 'guerr', 'guerrilh', 'guilherm', 'guilhotin', 'guimarã', 'gur', 'guru', 'gás', 'génération', 'hab', 'habilit', 'haddad', 'hahahahh', 'hait', 'ham', 'hanson', 'hashtag', 'hasselmann', 'haurelhuk', 'hav', 'havan', 'hect', 'hegemon', 'heinz', 'helen', 'henriqu', 'hin', 'hipótes', 'hirzman', 'histór', 'hitl', 'hoffmann', 'hoj', 'holandes', 'holocaust', 'hom', 'homenag', 'homens', 'homofób', 'homolog', 'homossexual', 'honr', 'hor', 'horrend', 'hot', 'hotel', 'hug', 'human', 'humanitár', 'humor', 'iat', 'ibam', 'ibge', 'ibovesp', 'ibre', 'icc', 'ice', 'iceberg', 'icms', 'idad', 'ide', 'ident', 'identific', 'identitair', 'identitár', 'ideolog', 'ideológ', 'idiot', 'idos', 'idé', 'ien', 'ignor', 'ignáci', 'igrej', 'igual', 'igualdad', 'ileg', 'ilegal', 'ilhabel', 'ilusã', 'imag', 'imagens', 'imagin', 'imbecil', 'imigr', 'imit', 'imobiliári', 'imoral', 'imp', 'impact', 'impass', 'impeachment', 'imped', 'imper', 'imperial', 'implant', 'implement', 'implic', 'implosã', 'impor', 'import', 'imposs', 'impost', 'impregn', 'imprens', 'imprescindív', 'impuls', 'impulsion', 'impun', 'imun', 'imóvel', 'inaceit', 'inadimplent', 'inadmiss', 'inat', 'inaugur', 'incentiv', 'incert', 'inciat', 'incident', 'inciner', 'incis', 'inclu', 'inclusiv', 'inclusã', 'incompetent', 'incomum', 'inconstitucional', 'increment', 'incrimin', 'indag', 'independent', 'indev', 'indic', 'indiscrimin', 'individu', 'individual', 'industrial', 'industrializ', 'induz', 'indíci', 'indígen', 'indústr', 'inep', 'infant', 'infeliz', 'infern', 'infinit', 'inflaçã', 'influ', 'influenc', 'influênc', 'inform', 'informal', 'infring', 'ingerent', 'inglês', 'inic', 'inicial', 'inimig', 'injust', 'inocent', 'inov', 'inquir', 'inquérit', 'inscrit', 'inser', 'insist', 'inspir', 'instabil', 'instagr', 'instal', 'instaur', 'instint', 'institucion', 'institucional', 'instituiçã', 'instituiçõ', 'institut', 'instru', 'instrument', 'instânc', 'insult', 'insum', 'insustent', 'integr', 'integral', 'inteir', 'intelectu', 'intelectual', 'inteligent', 'intencional', 'intens', 'intençã', 'intençõ', 'inter', 'intercept', 'interess', 'interfax', 'interferent', 'interin', 'interior', 'intern', 'internacion', 'internacional', 'international', 'internaut', 'internet', 'interpret', 'interrog', 'interrogatóri', 'interromp', 'intervenient', 'intervençã', 'intim', 'intimid', 'intitul', 'intoler', 'intransigent', 'intromissã', 'inusit', 'invad', 'invect', 'invert', 'invest', 'investidor', 'investig', 'invés', 'ináci', 'iníci', 'ipca', 'ipi', 'iptu', 'iri', 'iris', 'irmã', 'ironiz', 'irregular', 'irrig', 'irrisór', 'irá', 'irã', 'isent', 'isençã', 'isençõ', 'islâm', 'isol', 'israel', 'israelens', 'ita', 'itamaraty', 'itaús', 'ivanild', 'ivet', 'iván', 'jacqu', 'jair', 'jairbolsonar', 'jamil', 'janeir', 'japones', 'japã', 'jat', 'jaur', 'jav', 'jean', 'jeit', 'jens', 'jer', 'jeremy', 'jersey', 'jerusalém', 'joaquim', 'joelh', 'jog', 'joic', 'jon', 'jorg', 'jorn', 'jornal', 'jos', 'jourdan', 'jovens', 'joã', 'juan', 'jud', 'judeus', 'judic', 'judicial', 'judiciári', 'juiz', 'julg', 'julgament', 'julgu', 'juli', 'junh', 'junt', 'juntxs', 'jur', 'jurament', 'jurem', 'juríd', 'just', 'justic', 'justific', 'jut', 'juíz', 'júnior', 'kan', 'kand', 'karl', 'kassab', 'kataguir', 'kim', 'kourliandsky', 'kremlin', 'kucinsk', 'kát', 'lad', 'lanc', 'lançament', 'laranj', 'laranjal', 'larg', 'lastim', 'latifundiári', 'latin', 'lav', 'lavag', 'lavign', 'lead', 'leaked', 'leg', 'legal', 'legend', 'legisl', 'legitim', 'legítim', 'lei', 'leis', 'leitur', 'lem', 'lembr', 'leon', 'leonard', 'lest', 'letr', 'lev', 'levant', 'lewandowsk', 'lgbt', 'lgbts', 'liber', 'liberal', 'liberdad', 'libert', 'licenc', 'lid', 'lider', 'lies', 'lig', 'ligaçã', 'lightfoot', 'lim', 'limin', 'limit', 'lin', 'linh', 'link', 'links', 'lisandr', 'lisbo', 'list', 'lisur', 'literári', 'litoral', 'livr', 'loc', 'local', 'localiz', 'log', 'logíst', 'lollapalooz', 'long', 'lop', 'lor', 'lorenzon', 'los', 'ltda', 'lucr', 'lucrat', 'lug', 'luiz', 'lul', 'lus', 'lut', 'luz', 'lvi', 'lyondellbasell', 'líd', 'líqu', 'maariv', 'maced', 'macei', 'mach', 'machist', 'macr', 'macroecon', 'madur', 'mafios', 'mai', 'main', 'maior', 'majoritár', 'mal', 'malh', 'maluc', 'maluquic', 'malás', 'mand', 'maneir', 'manhã', 'manifest', 'manobr', 'mant', 'mantev', 'mantém', 'mantêm', 'manuel', 'manueladavil', 'manutençã', 'map', 'maquinári', 'mar', 'maranhã', 'maraton', 'marc', 'marcel', 'marcus', 'marg', 'margin', 'mariann', 'mariell', 'marionet', 'marival', 'martin', 'martins', 'marx', 'massen', 'mat', 'material', 'matriz', 'matér', 'mauríci', 'mbi', 'mbl', 'mdb', 'mead', 'mec', 'mecan', 'med', 'medeir', 'medi', 'mediant', 'megal', 'mei', 'meirell', 'melgarej', 'melhor', 'mell', 'mem', 'membr', 'memór', 'men', 'mencion', 'mend', 'menin', 'menor', 'mensag', 'mensagens', 'ment', 'mençã', 'mençõ', 'menéndez', 'merc', 'mercador', 'merced', 'mercenári', 'mercosul', 'merec', 'mes', 'mescl', 'mesm', 'mesquit', 'messeng', 'met', 'metad', 'metalúrg', 'meteorológ', 'metodolog', 'metrific', 'mevlut', 'mic', 'michel', 'microfon', 'midiát', 'mik', 'mil', 'milh', 'milhã', 'milhõ', 'milician', 'milit', 'militar', 'milíc', 'mim', 'min', 'miner', 'minhoc', 'minim', 'minimiz', 'ministr', 'ministéri', 'minor', 'minoritári', 'minut', 'minéri', 'misogin', 'missã', 'mist', 'mistur', 'misógin', 'mitsubish', 'mobiliz', 'mobs', 'mod', 'model', 'mold', 'moment', 'monetári', 'monocrát', 'monopol', 'mont', 'montador', 'montant', 'monteir', 'mor', 'mora', 'morad', 'moreir', 'morr', 'mort', 'mosc', 'mostr', 'motiv', 'motor', 'moviment', 'mpf', 'mst', 'mubadal', 'mud', 'mudanc', 'muit', 'mulh', 'mulherzinh', 'mult', 'multidimensional', 'multifacet', 'multilateral', 'multinacion', 'mund', 'mundi', 'mundial', 'mus', 'music', 'mutism', 'mutret', 'mutu', 'muçulman', 'máquin', 'másc', 'máxim', 'mã', 'méd', 'médi', 'méxic', 'mês', 'míd', 'mínim', 'míss', 'músic', 'nacion', 'nacional', 'nad', 'nadalim', 'nan', 'nanterr', 'naquel', 'narr', 'narrador', 'narrat', 'nasc', 'national', 'natur', 'natural', 'naz', 'nazism', 'nazist', 'naçõ', 'neblin', 'necess', 'necessár', 'necessári', 'neg', 'negat', 'negoc', 'negocial', 'negr', 'negóci', 'nel', 'nelb', 'nenhum', 'neoliber', 'neoliberal', 'nervos', 'ness', 'nest', 'netanael', 'netanyahu', 'news', 'nhk', 'nia', 'nic', 'nich', 'nicolás', 'nim', 'ninguém', 'nio', 'nissan', 'nog', 'noit', 'nom', 'nomeaçã', 'nord', 'norm', 'nort', 'not', 'notic', 'notável', 'notíc', 'nov', 'nova', 'noçã', 'nuanc', 'nuc', 'nulidad', 'nunc', 'nível', 'núcl', 'númer', 'oab', 'oas', 'objet', 'obra', 'obras', 'obrig', 'observ', 'observatóri', 'obsess', 'obstant', 'obstácul', 'obtençã', 'obter', 'obtev', 'obtid', 'obtiv', 'ocasion', 'ocasiã', 'ocasiõ', 'ocde', 'ocean', 'ocidental', 'ocorr', 'ocult', 'ocup', 'odebrecht', 'odecrecht', 'odeon', 'ofens', 'oferec', 'ofic', 'oficial', 'oit', 'oktay', 'olav', 'olha', 'olho', 'oligopóli', 'omc', 'omã', 'onapr', 'onde', 'ontem', 'onu', 'onyx', 'oper', 'operacion', 'operacional', 'opiniã', 'opom', 'oposicion', 'oposiçã', 'opost', 'opposition', 'opta', 'opçã', 'opçõ', 'ordem', 'orden', 'organiz', 'orient', 'orig', 'original', 'orquestr', 'orçament', 'orçamentár', 'oscil', 'ostent', 'otan', 'otim', 'outr', 'outubr', 'ouv', 'paciênc', 'pacot', 'pact', 'pacíf', 'padilh', 'padrã', 'padrõ', 'pag', 'pagament', 'pai', 'pais', 'palavr', 'palavrõ', 'palc', 'palestin', 'palladin', 'paláci', 'panc', 'panzin', 'papel', 'par', 'parabéns', 'paradigm', 'paradoxal', 'paraguassu', 'paralel', 'paran', 'parano', 'paraqued', 'parc', 'parceir', 'parcel', 'parec', 'pared', 'parisiens', 'parlament', 'part', 'particip', 'particul', 'particular', 'partidár', 'partidári', 'pass', 'passag', 'passageir', 'passeat', 'passiv', 'past', 'pastor', 'pat', 'patam', 'patent', 'patrim', 'patriot', 'patrocíni', 'patét', 'pau', 'paul', 'paulist', 'paut', 'paz', 'pazin', 'país', 'pcb', 'pcdob', 'pdt', 'pec', 'peculiar', 'pecuár', 'ped', 'pedac', 'peg', 'pel', 'pen', 'penal', 'pendent', 'pendur', 'penitenciár', 'penn', 'pens', 'pensament', 'pensã', 'pequen', 'pequim', 'per', 'perant', 'perceb', 'percentual', 'percorr', 'perd', 'perdigã', 'perfil', 'performanc', 'pergunt', 'perif', 'perig', 'permanec', 'permanent', 'permissã', 'permit', 'pern', 'peron', 'persegu', 'perseguiçã', 'persistent', 'personag', 'personaliz', 'perspect', 'pert', 'pertenc', 'pervers', 'períod', 'pes', 'pesc', 'pescoc', 'pesquis', 'pessim', 'pesso', 'pessoal', 'petist', 'petr', 'petrobr', 'petrobrás', 'petroleir', 'petroquím', 'petról', 'peã', 'pgr', 'phon', 'piad', 'pib', 'pierr', 'pil', 'piment', 'pinheir', 'pinochet', 'pint', 'pior', 'pir', 'piscicultur', 'piv', 'plan', 'planalt', 'planej', 'planet', 'plantaçõ', 'plat', 'plataform', 'plenár', 'plenári', 'plex', 'plural', 'pmdb', 'pmi', 'pobr', 'pobrez', 'pod', 'poder', 'pois', 'pol', 'polariz', 'policial', 'polit', 'politécn', 'poltrõ', 'polu', 'polygr', 'polêm', 'políc', 'polít', 'pomp', 'pond', 'ponder', 'pont', 'pontu', 'pontual', 'popul', 'popular', 'porcentag', 'porqu', 'porr', 'port', 'portant', 'portugal', 'português', 'porém', 'posicion', 'posit', 'posiçã', 'posiçõ', 'poss', 'possibil', 'possu', 'possuí', 'possível', 'post', 'postag', 'postal', 'posterior', 'posts', 'postur', 'potencial', 'pouc', 'poupanc', 'pov', 'pozzobon', 'pra', 'prac', 'practic', 'prag', 'pratic', 'praz', 'prb', 'prec', 'precariz', 'preceit', 'precific', 'precis', 'preckwinkl', 'predomin', 'prefeit', 'prefeitur', 'prefer', 'preferent', 'prefáci', 'prejudic', 'prejuíz', 'prematur', 'premi', 'premiss', 'prend', 'prenunc', 'preocup', 'prepar', 'pres', 'presenc', 'presencial', 'present', 'preserv', 'presid', 'presidenc', 'president', 'press', 'pression', 'pressã', 'prest', 'prestaçã', 'pretend', 'pretext', 'prev', 'previ', 'previc', 'previdenciár', 'previdenciári', 'prevident', 'previsibil', 'previst', 'previsã', 'prim', 'primeir', 'primeiríssim', 'princip', 'principal', 'princípi', 'prioridad', 'prisioneir', 'prisã', 'prisõ', 'priv', 'privatiz', 'privileg', 'privilegi', 'privilégi', 'pro', 'problem', 'proced', 'process', 'procur', 'procurador', 'produt', 'produtor', 'produz', 'produçã', 'profer', 'professor', 'profission', 'profund', 'program', 'progress', 'proib', 'projet', 'projeçã', 'projeçõ', 'promess', 'promet', 'promov', 'promoçã', 'pront', 'pronunc', 'propagand', 'propic', 'propin', 'propor', 'proporcion', 'proporçã', 'propost', 'propriedad', 'proprietári', 'propõ', 'protecion', 'proteg', 'protest', 'proteçã', 'protocol', 'protofasc', 'prov', 'provisór', 'provoc', 'prátic', 'pré', 'prédi', 'prév', 'prévi', 'príncip', 'própr', 'própri', 'próx', 'próxim', 'psd', 'psdb', 'psicólog', 'psl', 'psol', 'public', 'pud', 'puglies', 'pun', 'pupil', 'putin', 'pux', 'págin', 'pátr', 'pés', 'pós', 'põ', 'públic', 'qua', 'quaisqu', 'qualific', 'qualqu', 'quant', 'quantidad', 'quart', 'quas', 'quatr', 'quebr', 'qued', 'queim', 'queiroz', 'quer', 'question', 'questã', 'questõ', 'quilombol', 'quint', 'quis', 'químic', 'racional', 'racism', 'racist', 'rad', 'radi', 'radic', 'radical', 'rafael', 'ranking', 'rapid', 'rar', 'rasg', 'ratific', 'razoável', 'razã', 'razõ', 'rea', 'reacionár', 'reafirm', 'reag', 'reajust', 'real', 'realidad', 'realiz', 'realment', 'rearticul', 'reaçã', 'reaçõ', 'rec', 'reca', 'receb', 'receit', 'recent', 'recessã', 'reclam', 'recomend', 'reconfigur', 'reconhec', 'record', 'recorr', 'recort', 'recrut', 'recu', 'recuper', 'recurs', 'recus', 'recém', 'red', 'redençã', 'redesenh', 'rediscut', 'reduz', 'reduçã', 'reeleiçã', 'reequilibr', 'ref', 'refeit', 'refer', 'referenc', 'referent', 'reflet', 'reflexã', 'reflexõ', 'reforc', 'reform', 'regener', 'regim', 'regiment', 'regin', 'reginald', 'regional', 'registr', 'regiã', 'regiõ', 'regr', 'regul', 'regulament', 'reich', 'rein', 'reinterpret', 'reit', 'rejeit', 'relacion', 'relat', 'relator', 'relatóri', 'relaçã', 'relaçõ', 'relev', 'relief', 'religi', 'rememor', 'remuner', 'ren', 'renat', 'renault', 'rencontr', 'rend', 'rendiment', 'renom', 'renov', 'rentist', 'renunc', 'renúnc', 'reocup', 'reorganiz', 'rep', 'repar', 'repent', 'repercussã', 'repet', 'repetiçã', 'repit', 'replacement', 'reportag', 'reposicion', 'represent', 'repressã', 'reprodu', 'reproduz', 'republic', 'republican', 'repudi', 'repórt', 'repúbl', 'repúdi', 'research', 'reserv', 'resgat', 'resist', 'resistent', 'resn', 'resolv', 'respald', 'respect', 'respeit', 'respond', 'respons', 'respost', 'ressalt', 'restabelec', 'restant', 'restaur', 'result', 'ret', 'retali', 'retir', 'retorn', 'retrat', 'retraçã', 'retrocess', 'reun', 'reuniã', 'reuniõ', 'reuters', 'revel', 'reversã', 'revert', 'revir', 'revis', 'revision', 'revist', 'revog', 'revolt', 'revolu', 'reún', 'ribeir', 'ricard', 'ridiculariz', 'ridícul', 'rio', 'riquez', 'risc', 'rit', 'robert', 'rock', 'rod', 'rodrig', 'rodrigu', 'rodriguez', 'rodríguez', 'romain', 'roman', 'romp', 'rompiment', 'ros', 'rosári', 'rot', 'roub', 'roup', 'roupag', 'roupagens', 'rousseff', 'rua', 'ruas', 'rubens', 'rubi', 'rum', 'ruptur', 'rur', 'rural', 'russ', 'ruíd', 'rádi', 'ráp', 'rúss', 'sab', 'sabotag', 'sac', 'safr', 'sai', 'saib', 'sair', 'saiu', 'sal', 'salomã', 'salt', 'salv', 'salvaguard', 'salviol', 'salári', 'samuel', 'sandic', 'sang', 'sant', 'santan', 'santist', 'sançã', 'sançõ', 'saqu', 'saudit', 'sazonal', 'saí', 'saíd', 'saúd', 'secom', 'secret', 'secretári', 'sed', 'seg', 'segment', 'segu', 'seguidor', 'seguint', 'segund', 'segur', 'sei', 'seis', 'selic', 'selln', 'seman', 'semanal', 'semelh', 'sement', 'semestr', 'sempr', 'sen', 'senador', 'send', 'senh', 'senhor', 'sensaçã', 'sensível', 'sent', 'sentenc', 'separ', 'sequ', 'sequestr', 'sequênc', 'ser', 'seren', 'sergi', 'serp', 'serv', 'servic', 'servidor', 'serviçal', 'sessã', 'sessõ', 'sest', 'set', 'setembr', 'setor', 'sexagenári', 'sext', 'shared', 'show', 'shuang', 'sid', 'siderúrg', 'sigl', 'signif', 'silenc', 'silv', 'silvi', 'silênci', 'sim', 'simból', 'simples', 'simul', 'simõ', 'sin', 'sindical', 'sindicat', 'sindipetr', 'sint', 'sintetiz', 'siren', 'sistem', 'sistemát', 'sit', 'situaçã', 'sky', 'slogan', 'slogans', 'sob', 'soberan', 'sobr', 'sobretax', 'sobretud', 'sobrevivent', 'soc', 'social', 'socialism', 'sociedad', 'sociocultur', 'sociolog', 'sociológ', 'sociólog', 'sofr', 'sofriment', 'soj', 'sol', 'sold', 'soleir', 'solicit', 'solitár', 'soll', 'solt', 'soluçã', 'som', 'sombr', 'soment', 'sorrentin', 'soub', 'sous', 'souz', 'soviét', 'spd', 'spin', 'status', 'stf', 'stj', 'stoltenberg', 'strip', 'sub', 'submet', 'subnotific', 'subsequent', 'subservient', 'subsidiár', 'substitu', 'substituiçã', 'subsídi', 'suced', 'suger', 'sugestã', 'suj', 'sujeit', 'sul', 'super', 'superintendent', 'superior', 'suplent', 'supost', 'suprem', 'surg', 'surgiment', 'suspeit', 'suspend', 'suspens', 'sustent', 'suéc', 'sáb', 'sécul', 'sérgi', 'séri', 'símbol', 'sír', 'tabac', 'tacl', 'tag', 'tailând', 'tais', 'tal', 'talqu', 'talvez', 'tamanh', 'tangív', 'tant', 'tard', 'tardin', 'taref', 'target', 'tarif', 'tarnopolsky', 'tarrant', 'tax', 'tchuchuc', 'tchutchuc', 'tcu', 'tecnolog', 'tecnológ', 'ted', 'teixeir', 'tel', 'telefonem', 'telegram', 'telh', 'tem', 'temerár', 'temp', 'temporár', 'temát', 'tend', 'tendênc', 'tenent', 'tensõ', 'tent', 'tentat', 'teor', 'teoriz', 'ter', 'terc', 'terceir', 'terez', 'term', 'termin', 'terminal', 'terr', 'territóri', 'terror', 'tes', 'test', 'text', 'teólog', 'the', 'thomaz', 'tibur', 'tigrã', 'tim', 'timing', 'tio', 'tip', 'tir', 'tirân', 'titul', 'toc', 'tocant', 'tod', 'toffol', 'tol', 'tolh', 'tom', 'ton', 'top', 'tor', 'torn', 'tortur', 'total', 'toulous', 'trabalh', 'traders', 'tradicion', 'tradicional', 'tradiçã', 'traiçã', 'trajetór', 'tramit', 'tranc', 'transfer', 'transferent', 'transform', 'transgên', 'transiçã', 'transnacion', 'transparent', 'transport', 'trat', 'tratament', 'tratat', 'traum', 'trav', 'traz', 'trech', 'trein', 'treinament', 'trf', 'tribunal', 'tribut', 'tributár', 'trilhã', 'trilhõ', 'trimestr', 'triplex', 'trips', 'troc', 'troops', 'trop', 'tropec', 'troux', 'trt', 'trump', 'trunc', 'trás', 'trânsit', 'três', 'tríplex', 'tubur', 'tud', 'turbulent', 'turc', 'turism', 'turm', 'turn', 'turqu', 'tutel', 'tvs', 'twitt', 'táx', 'tã', 'técnic', 'têm', 'títul', 'tóqui', 'ufes', 'ufsc', 'ultraliberal', 'ultraneoliberal', 'umas', 'unid', 'unidad', 'unilateral', 'unind', 'univers', 'uniã', 'urgent', 'urnas', 'urss', 'usa', 'usad', 'usam', 'usand', 'usar', 'usin', 'using', 'uso', 'usou', 'usp', 'utiliz', 'vag', 'vai', 'val', 'valent', 'valor', 'valoriz', 'vam', 'vantagens', 'vantaj', 'vanucch', 'var', 'varej', 'varg', 'vari', 'variedad', 'varonil', 'vasculh', 'vash', 'veem', 'veemênc', 'vei', 'veicul', 'vej', 'velh', 'velos', 'veléz', 'vem', 'vend', 'venen', 'venezuel', 'venezuelan', 'ver', 'verd', 'verdad', 'verdadeir', 'vereador', 'vergonh', 'verific', 'vermelh', 'versã', 'veríd', 'vest', 'vez', 'veícul', 'via', 'viag', 'viagens', 'viaj', 'viam', 'vias', 'vic', 'vid', 'vieir', 'viem', 'vietnã', 'vigent', 'vigil', 'vigor', 'vigíl', 'vim', 'vincul', 'vind', 'vinicius', 'viol', 'violador', 'violaçõ', 'violent', 'violênc', 'vir', 'viraliz', 'virtual', 'vis', 'visit', 'vist', 'visualiz', 'visã', 'visõ', 'vitor', 'vitór', 'viu', 'viv', 'vivenc', 'vizinh', 'viúv', 'vladim', 'vocaçã', 'volatil', 'volt', 'vot', 'votaçã', 'vou', 'voz', 'vál', 'vár', 'vã', 'vélez', 'vésp', 'véu', 'vêm', 'víd', 'vítim', 'walt', 'washington', 'web', 'whatsapp', 'wikileaks', 'wti', 'yad', 'yasmin', 'yeend', 'you', 'ypg', 'zec', 'zelând', 'zer', 'zilhõ', 'zon', 'águ', 'áquil', 'árab', 'áre', 'ávil', 'âmbit', 'époc', 'ídol', 'índi', 'índic', 'ínsit', 'íntegr', 'ódi', 'órgã', 'últim', 'únic', 'útil']\n",
            "['aba', 'abacaxi', 'abaixo', 'abandonar', 'abastecimento', 'abater', 'abatido', 'abc', 'aberta', 'abertas', 'aberto', 'abertos', 'abertura', 'aberturas', 'aborda', 'abrangência', 'abre', 'abreu', 'abril', 'abrindo', 'abrir', 'abriu', 'absolutamente', 'abusiva', 'acabamos', 'acabar', 'acabou', 'acaso', 'acatando', 'acatou', 'acelerar', 'acentuada', 'acesa', 'acha', 'acham', 'achando', 'acho', 'acima', 'acionistas', 'acolhe', 'acometa', 'acompanha', 'acompanhada', 'acompanhados', 'acompanham', 'acompanhar', 'acompanhe', 'acontece', 'acontecendo', 'acontecer', 'aconteceram', 'aconteceu', 'acordo', 'acordos', 'acredita', 'acrescenta', 'acrescentam', 'acrescentando', 'acrescentou', 'act', 'acumula', 'acumulado', 'acumularam', 'acumulação', 'acusa', 'acusado', 'acusação', 'acusou', 'adam', 'adcs', 'aderir', 'aderiu', 'adesão', 'adiada', 'adiadas', 'adiado', 'adiados', 'adiamento', 'adiamentos', 'adiar', 'adiava', 'adicional', 'aditivo', 'administrativa', 'administrativo', 'administração', 'administrações', 'admirado', 'admite', 'admitiu', 'adnet', 'adolf', 'adora', 'adotadas', 'adotados', 'adotam', 'adotar', 'adp', 'adquirir', 'adubação', 'adubos', 'adversária', 'advertia', 'advertir', 'advertiu', 'advocacia', 'advogado', 'advogados', 'aeronáutica', 'afastados', 'afastamento', 'afastar', 'afeganistão', 'affffff', 'afiliada', 'afinidade', 'afirma', 'afirmado', 'afirmam', 'afirmando', 'afirmar', 'afirmava', 'afirmação', 'afirmações', 'afirmou', 'afp', 'africana', 'afro', 'afronta', 'afundamento', 'age', 'agenda', 'agente', 'agiliza', 'agimos', 'agir', 'agitação', 'agiu', 'agora', 'agr', 'agradeceu', 'agressão', 'agricultores', 'agricultura', 'agroecologia', 'agroecológica', 'agronegócio', 'agropecuária', 'agropecuários', 'agrotóxico', 'agrotóxicos', 'agrícola', 'agrícolas', 'agu', 'aguentar', 'agência', 'agências', 'ainda', 'aires', 'ajuda', 'ajudam', 'ajudar', 'ajudá', 'ajuizou', 'ajustes', 'alagoas', 'alain', 'alcançado', 'alcançou', 'alceu', 'alcolumbre', 'alcoólicas', 'alcântara', 'alega', 'alegam', 'alegação', 'alegou', 'alegre', 'alemanha', 'alemão', 'alencar', 'alertando', 'alertar', 'alertas', 'alertavam', 'alexandre', 'alfabetização', 'algo', 'algodão', 'algoritmos', 'algum', 'alguma', 'algumas', 'alguns', 'alguém', 'ali', 'aliada', 'aliadas', 'aliado', 'aliados', 'aliança', 'alias', 'alienação', 'alimentando', 'alimentaram', 'alinhamento', 'alocados', 'alta', 'altas', 'alterar', 'alteração', 'alterações', 'alto', 'altos', 'alumínio', 'alunos', 'alvo', 'além', 'alíquota', 'amapá', 'ambas', 'ambev', 'ambientais', 'ambiental', 'ambiente', 'ambientes', 'ambos', 'ambíguo', 'ameaça', 'ameaçam', 'ameaçando', 'ameaças', 'ameaçavam', 'americana', 'americanas', 'americano', 'americanos', 'amigo', 'amigos', 'amizade', 'amortecer', 'ampla', 'amplia', 'amplificar', 'amplo', 'américa', 'ana', 'analisar', 'analisou', 'analista', 'analistas', 'analógica', 'ancara', 'and', 'andamento', 'ando', 'andrei', 'anfavea', 'anfitrião', 'anistia', 'anm', 'ano', 'anos', 'ant', 'ante', 'antecederam', 'antecipada', 'antecipado', 'antecipar', 'anterior', 'anteriormente', 'antes', 'anti', 'antiaéreos', 'anticomunista', 'anticorrupção', 'anticrime', 'anticrimes', 'antonio', 'anual', 'anulada', 'anulado', 'anular', 'anulação', 'anulou', 'anuncia', 'anunciada', 'anunciadas', 'anunciado', 'anunciando', 'anunciar', 'anunciou', 'análise', 'anísio', 'anúncio', 'aos', 'apagam', 'apaixonada', 'apanhar', 'aparece', 'aparecem', 'aparecer', 'aparente', 'aparentemente', 'apartamento', 'apavorada', 'apelou', 'apenas', 'apesar', 'apex', 'aplaudiu', 'aplausos', 'aplicada', 'aplicadas', 'aplicação', 'apoiado', 'apoiadores', 'apoiam', 'apoiamos', 'apoiando', 'apoiar', 'apoio', 'aponta', 'apontado', 'apontamentos', 'apontar', 'aporte', 'aposentadoria', 'aposentadorias', 'aposentados', 'aposição', 'apreciado', 'apreciados', 'apreensão', 'aprendendo', 'aprendi', 'apresentados', 'apresentam', 'apresentar', 'apresentaram', 'apresentação', 'apresentou', 'aprimorar', 'aprofunda', 'aprofundar', 'aprovada', 'aprovar', 'aprovaram', 'aprovação', 'aprovou', 'apura', 'apurar', 'apurava', 'apócrifo', 'após', 'aquela', 'aquelas', 'aquele', 'aqueles', 'aqui', 'aquila', 'aquilo', 'aquisição', 'araujo', 'araújo', 'arcaram', 'ardoroso', 'argentina', 'argentinos', 'arguição', 'argumenta', 'argumentando', 'argumento', 'argumentos', 'argumentou', 'arma', 'armadas', 'armado', 'armados', 'armando', 'armas', 'armários', 'arquitetos', 'arquivo', 'arquivos', 'arranhar', 'arrecadar', 'arrecadação', 'arredores', 'arregimenta', 'arregimentar', 'arriscado', 'arriscar', 'artes', 'articula', 'articuladas', 'articulado', 'artigo', 'artigos', 'artista', 'arábia', 'asiático', 'assassinada', 'assassinadas', 'assassinado', 'assassinados', 'assassinando', 'assassinato', 'assassinatos', 'assassino', 'assassinou', 'assediada', 'assegurou', 'assembleia', 'assembleias', 'assento', 'assessor', 'assessoramento', 'assessorar', 'assessoria', 'assim', 'assinado', 'assinando', 'assinatura', 'assino', 'assinou', 'assista', 'assistance', 'assistência', 'associa', 'associada', 'associar', 'associação', 'assume', 'assunto', 'assuntos', 'assunção', 'assustado', 'assédio', 'astrólogo', 'ataca', 'atacam', 'atacar', 'atacassem', 'atacou', 'ataques', 'atendendo', 'atendeu', 'atenção', 'atingia', 'atingindo', 'atingir', 'atingiu', 'atirar', 'ativa', 'ativamente', 'atividade', 'atividades', 'ativistas', 'ativos', 'atlas', 'atlântico', 'ato', 'atos', 'atrair', 'atraso', 'atrasos', 'atrativa', 'através', 'atração', 'atrelamento', 'atribuições', 'atriz', 'atrocidades', 'atuais', 'atual', 'atualmente', 'atuam', 'atuar', 'atuarem', 'atuou', 'até', 'auditar', 'auditório', 'audiência', 'augusto', 'aula', 'aulas', 'aumenta', 'aumentando', 'aumentaram', 'aumento', 'aumentos', 'aumentou', 'aurélio', 'austeridade', 'australiano', 'austrália', 'austríaca', 'austríacas', 'austríaco', 'ausência', 'auto', 'autobiografia', 'autocrático', 'autocrítica', 'autoexilar', 'automação', 'automotiva', 'automotores', 'automóveis', 'autoproclamado', 'autor', 'autora', 'autoridades', 'autoritarismo', 'autoritárias', 'autoritários', 'autorizados', 'autorização', 'autuado', 'autuação', 'autuações', 'avalia', 'avaliação', 'avaliou', 'avança', 'avanço', 'avanços', 'avaré', 'avental', 'aves', 'avisa', 'avisaram', 'aviso', 'avisos', 'avisou', 'aviv', 'avião', 'aviões', 'azevedo', 'aço', 'ação', 'ações', 'açúcar', 'bairros', 'baixa', 'baixada', 'balassiano', 'bancada', 'banco', 'bancária', 'bancário', 'bancários', 'bandeirantes', 'barato', 'barco', 'barone', 'barragem', 'barragens', 'barris', 'base', 'baseada', 'basicamente', 'bastante', 'batalhão', 'bate', 'batem', 'bater', 'bateu', 'batista', 'bato', 'bbc', 'bebidas', 'belo', 'bem', 'beneficiado', 'beneficiando', 'beneficiários', 'benefício', 'benefícios', 'benjamin', 'bens', 'benz', 'bernardo', 'berço', 'beth', 'bierbaum', 'bilaterais', 'bilhão', 'bilhões', 'bilionário', 'bill', 'biografia', 'bipartidária', 'biênio', 'biógrafo', 'blindado', 'bloco', 'blog', 'bloqueio', 'boa', 'boas', 'boaventura', 'bob', 'boca', 'boff', 'bolchevismo', 'boletins', 'boleto', 'bolha', 'bolsa', 'bolsas', 'bolso', 'bolsonarismo', 'bolsonaro', 'bom', 'bons', 'borges', 'botelho', 'bpc', 'braga', 'branca', 'branco', 'brancos', 'brasil', 'brasileira', 'brasileiras', 'brasileiro', 'brasileiros', 'braskem', 'brasília', 'bravamente', 'braço', 'brent', 'brenton', 'breton', 'breve', 'brevíssima', 'brexit', 'brf', 'brics', 'briga', 'brigada', 'brigadeiro', 'britânica', 'britânico', 'britânicos', 'brumadinho', 'bruto', 'buarque', 'buenos', 'bufão', 'burguesa', 'burgueses', 'burguês', 'burin', 'busca', 'buscamos', 'buscando', 'buscar', 'básicas', 'básicos', 'bíblia', 'cabal', 'cabe', 'cabello', 'cabelos', 'cabide', 'cabul', 'cabíveis', 'cada', 'cadeiras', 'caderneta', 'cadáveres', 'cadê', 'caetano', 'café', 'cai', 'caio', 'caiu', 'caixa', 'calcula', 'calcular', 'calendário', 'calmaria', 'caminhada', 'caminhando', 'caminhava', 'caminho', 'campanha', 'campo', 'campos', 'can', 'cana', 'canadá', 'canais', 'canal', 'canalhas', 'candidata', 'candidato', 'candidatos', 'canibal', 'cano', 'cansado', 'cantada', 'cantando', 'cantar', 'cantor', 'cantou', 'canção', 'capa', 'capacidade', 'capaz', 'capistrano', 'capitais', 'capital', 'capitalismo', 'capitalista', 'capitalizado', 'capitalização', 'capitaneado', 'capitão', 'captação', 'captações', 'capuz', 'capítulo', 'caracteriza', 'caracterizou', 'caravana', 'caravanas', 'cardoso', 'carentes', 'cargo', 'cargos', 'carinho', 'carlos', 'carnaval', 'carne', 'carnificina', 'carnês', 'caro', 'carregando', 'carregar', 'carreira', 'carro', 'carros', 'carta', 'cartazes', 'cartão', 'carvalho', 'casa', 'casal', 'casara', 'cascata', 'caso', 'casos', 'castello', 'castelo', 'catarina', 'catatonia', 'categoria', 'categorias', 'causa', 'causaria', 'causou', 'cautelares', 'cavalos', 'cavusoglu', 'caymmi', 'caça', 'caças', 'caía', 'caíram', 'cbic', 'ccj', 'ccjc', 'ceará', 'cebw', 'ceder', 'cedo', 'cega', 'celebrado', 'celebrarem', 'celulares', 'cem', 'cena', 'cenas', 'censura', 'centenas', 'cento', 'central', 'centralização', 'centro', 'cenário', 'cerca', 'cercadas', 'cercado', 'cerco', 'certa', 'certas', 'certo', 'cerveira', 'ces', 'cesta', 'chade', 'chama', 'chamada', 'chamado', 'chamam', 'chamando', 'chamar', 'chamo', 'chamou', 'chanceler', 'chaves', 'chefe', 'chefiada', 'chefiou', 'chega', 'chegada', 'chegamos', 'chegando', 'chegar', 'chegaram', 'chegarem', 'chegou', 'cheguei', 'cheio', 'chicago', 'chico', 'chile', 'china', 'chineses', 'chinês', 'chocados', 'choques', 'chorava', 'christchurch', 'chumbo', 'chupador', 'chão', 'cia', 'ciclo', 'cidadania', 'cidade', 'cidades', 'cidadã', 'cidadão', 'cidadãos', 'cientista', 'cinco', 'cineastas', 'cinema', 'cinturão', 'cinélatino', 'circuito', 'circular', 'circulação', 'ciro', 'cita', 'citando', 'citou', 'civil', 'ciência', 'clara', 'claramente', 'claras', 'claro', 'classificação', 'cliente', 'clima', 'clinton', 'clp', 'clube', 'cláudio', 'cláusula', 'cláusulas', 'clã', 'cnc', 'cni', 'coberto', 'cobrança', 'cobrar', 'cobrirem', 'codi', 'coelho', 'coimbra', 'coisa', 'coisas', 'col', 'colaborador', 'colaboração', 'colegas', 'coletiva', 'coletivo', 'collier', 'coloca', 'colocada', 'colocado', 'colocam', 'colocar', 'coloco', 'colocou', 'colombiano', 'coloque', 'coloridos', 'coluna', 'colunista', 'com', 'comandante', 'comandar', 'comando', 'comandos', 'combate', 'combater', 'combati', 'comece', 'comemorada', 'comemorar', 'comemoração', 'comemorações', 'comentaram', 'comentou', 'comerciais', 'comercial', 'comercializada', 'comercialização', 'cometer', 'cometeu', 'cometidos', 'começa', 'começam', 'começar', 'começaram', 'começo', 'começou', 'comigo', 'comissão', 'comissões', 'comitê', 'commodities', 'commodity', 'como', 'companhia', 'comparação', 'compartilha', 'compartilham', 'compensada', 'compensar', 'compensações', 'competia', 'competidores', 'competência', 'compl', 'complementar', 'completa', 'complete', 'completo', 'completou', 'complexo', 'complexos', 'complica', 'complicados', 'compor', 'comportamento', 'compositor', 'composta', 'composto', 'compra', 'compras', 'compreenda', 'compreensão', 'comprometido', 'compromissos', 'comprou', 'computada', 'compõe', 'comum', 'comunicado', 'comunicar', 'comunicação', 'comunicações', 'comunismo', 'comunista', 'comunistas', 'comuns', 'comércio', 'concedeu', 'concedida', 'concedidas', 'concedido', 'concentram', 'concentração', 'concessão', 'concessões', 'conclamado', 'conclusão', 'concluída', 'concluído', 'concluídos', 'concorda', 'concordar', 'concordava', 'concordou', 'concreta', 'condenado', 'condenatória', 'condenação', 'condenou', 'condicionado', 'condições', 'conduta', 'conduzida', 'conduzido', 'confaz', 'confederação', 'conferidas', 'conferência', 'confessa', 'confessar', 'confesso', 'confiança', 'confira', 'confirmada', 'confirmadas', 'confirmando', 'confirmaram', 'confirmou', 'conflito', 'conformado', 'conforme', 'confundido', 'confundidos', 'confusão', 'congresso', 'conhecido', 'conhecimento', 'conheço', 'conja', 'conje', 'conjunta', 'conosco', 'conquistas', 'consciências', 'consegue', 'conseguido', 'conseguimos', 'conseguir', 'conseguiram', 'conselho', 'consenso', 'consequênci', 'consequências', 'conservadores', 'considera', 'considerada', 'consideradas', 'considerado', 'considerados', 'considerar', 'consideração', 'considerou', 'consiga', 'consigo', 'consistência', 'consolidada', 'conspiratória', 'constantes', 'constata', 'constitucionais', 'constitucional', 'constitucionalidade', 'constituinte', 'constituição', 'constituída', 'constrangido', 'construir', 'construtiva', 'construtoras', 'construtores', 'construção', 'construída', 'consultava', 'consumidor', 'consumo', 'consórcio', 'conta', 'contabilizados', 'contabilizando', 'contam', 'contar', 'contaria', 'contas', 'contato', 'contemporâneo', 'contentam', 'contestam', 'contestar', 'contexto', 'conteúdo', 'continente', 'contingenciamentos', 'continua', 'continuada', 'continuam', 'continuar', 'continuará', 'continuava', 'continuem', 'continuidade', 'continuo', 'continuou', 'contou', 'contra', 'contradição', 'contradições', 'contrair', 'contraria', 'contrariando', 'contratar', 'contratação', 'contrato', 'contratos', 'contratou', 'contribui', 'contribuintes', 'contribuição', 'contribuições', 'controla', 'controladora', 'controladoria', 'controlar', 'controlava', 'controle', 'controvérsias', 'contrário', 'contínuo', 'convencido', 'convencidos', 'conversa', 'conversando', 'conversar', 'conversas', 'conversou', 'converteu', 'convicção', 'convidado', 'convidar', 'convidou', 'convidá', 'convite', 'convites', 'convoca', 'convocada', 'convocar', 'convocação', 'convulsão', 'convênio', 'cooperar', 'cooperação', 'coordena', 'coordenadores', 'coordenação', 'cor', 'corbyn', 'coronel', 'coronéis', 'corpo', 'corporativa', 'corpos', 'corpus', 'corredor', 'correios', 'correndo', 'correntistas', 'corresponde', 'correta', 'correto', 'correção', 'corrigir', 'corruptos', 'corrupção', 'corte', 'cortou', 'costa', 'costas', 'cotidiana', 'cotistas', 'couto', 'crescente', 'cresceram', 'cresceu', 'crescimento', 'criada', 'criado', 'crianças', 'criar', 'criaram', 'criasse', 'criativa', 'criação', 'crime', 'crimes', 'criminalidade', 'criou', 'crise', 'crises', 'cristalizou', 'cristina', 'cristã', 'critica', 'criticada', 'criticado', 'criticar', 'criticou', 'critérios', 'cruz', 'cruza', 'crédito', 'crítica', 'críticas', 'críticos', 'cuidado', 'cuja', 'cujas', 'cujo', 'culminando', 'culpa', 'culpado', 'culpam', 'cultura', 'cultural', 'cumprida', 'cumprido', 'cumprimento', 'cumprir', 'cunha', 'curdas', 'curdos', 'curitiba', 'curso', 'curta', 'curtas', 'custa', 'custo', 'cálculo', 'cálice', 'câmara', 'círculos', 'cúpula', 'dada', 'dadas', 'dado', 'dados', 'dalian', 'daltoso', 'dando', 'danos', 'dante', 'daquele', 'daqui', 'dar', 'darei', 'das', 'data', 'datando', 'davi', 'debaixo', 'debate', 'debater', 'debruçar', 'decadas', 'decente', 'decide', 'decidido', 'decidirá', 'decidiu', 'decifrarem', 'decisão', 'decisões', 'declararam', 'declaração', 'declarou', 'decorre', 'decorrente', 'decretação', 'decreto', 'dedicada', 'deduz', 'defasada', 'defasado', 'defeitos', 'defende', 'defender', 'defendeu', 'defendida', 'defensor', 'defensoria', 'defesa', 'deficiência', 'definido', 'definidos', 'definir', 'definition', 'definitiva', 'definiu', 'definição', 'deixa', 'deixados', 'deixam', 'deixando', 'deixou', 'dela', 'delas', 'delate', 'delatores', 'dele', 'delegado', 'delegação', 'deles', 'deliberar', 'deliberações', 'delírio', 'dem', 'demagogos', 'demais', 'demanda', 'demandas', 'demissões', 'demitido', 'demitidos', 'demitir', 'demitisse', 'democracia', 'democracy', 'democrata', 'democratas', 'democraticamente', 'democrático', 'democráticos', 'demonstram', 'demos', 'demove', 'dentro', 'denuncia', 'denunciei', 'denunciou', 'denúncia', 'denúncias', 'departamento', 'depende', 'dependendo', 'dependente', 'depoimento', 'depois', 'depositando', 'depositavam', 'deprecia', 'deputada', 'deputado', 'deputados', 'depósitos', 'derrota', 'derrubada', 'derrubar', 'derrubou', 'desacelerar', 'desaceleração', 'desacordo', 'desafios', 'desafiou', 'desagrada', 'desagradando', 'desagradar', 'desagradou', 'desaparecendo', 'desapareceram', 'desaparecido', 'desaparecimento', 'desaparecimentos', 'desburocratiza', 'desburocratizar', 'descaracterização', 'descarta', 'descartando', 'descartou', 'descobertas', 'descobri', 'descobriu', 'descola', 'desconfigurando', 'descontextualizadas', 'desconto', 'descontos', 'descumprimento', 'descumprindo', 'desde', 'desejarem', 'desejo', 'desejou', 'desembargador', 'desembargadora', 'desemblosar', 'desemboca', 'desempenho', 'desempregado', 'desempregados', 'desemprego', 'desencadeou', 'desenrolaram', 'desenvolve', 'desenvolvendo', 'desenvolvidos', 'desenvolvimento', 'deserto', 'desesperado', 'desespero', 'desfez', 'desgastado', 'desgraça', 'desidratado', 'desidratação', 'designaria', 'designação', 'desigualdade', 'desinvestimentos', 'desligados', 'desliguei', 'deslocamentos', 'desmaio', 'desmarcou', 'desmentiu', 'desocupada', 'desonerando', 'desoneração', 'desonerações', 'despertar', 'despesas', 'despotismo', 'desprezando', 'desrespeita', 'desrespeitosa', 'dessa', 'dessas', 'desse', 'desseguir', 'desses', 'desta', 'destaca', 'destacado', 'destacando', 'destacaram', 'destacou', 'deste', 'destes', 'destinado', 'destinação', 'destino', 'destravar', 'destruição', 'desumana', 'detalhes', 'detalhou', 'detenção', 'determinados', 'determinando', 'determinante', 'determinação', 'determinou', 'detida', 'deu', 'deus', 'devagar', 'devastadoras', 'deve', 'development', 'devem', 'deveria', 'deveriam', 'deverá', 'deverão', 'devido', 'devidos', 'devo', 'dez', 'dezembro', 'dezenas', 'dia', 'dialogar', 'dialogo', 'diante', 'dias', 'didático', 'didáticos', 'die', 'diferenciado', 'diferenciação', 'diferença', 'dificilmente', 'dificuldades', 'difícil', 'diga', 'digam', 'dignidade', 'digo', 'dilemas', 'dilma', 'diluição', 'diminuição', 'dinheiro', 'dinâmico', 'diosdado', 'diplomática', 'diplomáticas', 'dirceu', 'direcionados', 'direita', 'direito', 'direitos', 'diretamente', 'direto', 'diretor', 'diretora', 'diretores', 'diretoria', 'dirigente', 'dirigentes', 'dirigido', 'dirigiu', 'discriminação', 'discurso', 'discussão', 'discute', 'discutir', 'disparou', 'dispensar', 'disponível', 'disputa', 'disputando', 'disputaram', 'disse', 'disseram', 'disso', 'dissolução', 'dissolver', 'distante', 'distinguir', 'distorcidos', 'distorção', 'distrair', 'distribuidora', 'distribuir', 'distribuiu', 'distribuição', 'distância', 'ditadura', 'ditaduranuncamais', 'ditaduras', 'ditar', 'ditatorial', 'dito', 'divergências', 'diversas', 'diversificada', 'diversos', 'dividendos', 'divulga', 'divulgada', 'divulgado', 'divulgados', 'divulgar', 'divulgação', 'divulgou', 'diz', 'dizem', 'dizendo', 'dizer', 'dizeres', 'diálogo', 'diária', 'diário', 'doação', 'doações', 'dobra', 'documentada', 'documentais', 'documental', 'documentar', 'documento', 'documentos', 'doi', 'dois', 'dominação', 'domingo', 'dominância', 'doméstica', 'doméstico', 'dona', 'donald', 'dono', 'dops', 'doria', 'dormia', 'dormiam', 'dos', 'doutorado', 'doutrinamento', 'drasticamente', 'driblar', 'duarte', 'duas', 'dura', 'duran', 'durante', 'duras', 'duração', 'duro', 'durou', 'duvido', 'década', 'décadas', 'dívida', 'dívidas', 'dólar', 'dólares', 'dúvida', 'dúvidas', 'econ', 'economia', 'economias', 'economista', 'economistas', 'economizar', 'economiários', 'edital', 'editora', 'edson', 'eduardo', 'educacionais', 'educacional', 'educadores', 'educação', 'efeito', 'efeitos', 'efetiva', 'eficiência', 'eficácia', 'egressos', 'eia', 'ela', 'elaborados', 'ele', 'eleita', 'eleito', 'eleitorado', 'eleitoral', 'eleitores', 'eleição', 'eleições', 'elementos', 'eles', 'eletr', 'eletrodos', 'elevar', 'eleven', 'elevou', 'elite', 'elogiar', 'elogiou', 'embaixada', 'embaixadas', 'embaixador', 'embarcar', 'emblemática', 'embora', 'embraer', 'emenda', 'emergency', 'emerges', 'emergência', 'emissora', 'emocionado', 'emocional', 'emocionam', 'emoção', 'emoções', 'emprega', 'empregada', 'empregadas', 'empregador', 'empregados', 'empregar', 'emprego', 'empregos', 'empreiteira', 'empresa', 'empresariado', 'empresarial', 'empresarias', 'empresas', 'empresário', 'empresários', 'empréstimos', 'empurrem', 'encaminhada', 'encaminhar', 'encerrada', 'encerradas', 'encerrado', 'encerramento', 'enchente', 'encobrindo', 'encontra', 'encontrar', 'encontre', 'encontro', 'encontros', 'encontrou', 'encrenca', 'endereço', 'endividadas', 'endividamento', 'endossa', 'endurecido', 'energia', 'enfatizou', 'enff', 'enfraquecimento', 'enfrenta', 'enfrentamento', 'enfrentar', 'enfurecidos', 'enganar', 'engenheiro', 'engie', 'enigma', 'enlouquecer', 'enquadrar', 'enquanto', 'ensaiaram', 'ensinam', 'entanto', 'entender', 'entendimento', 'entendo', 'enterrado', 'entidade', 'entidades', 'entra', 'entrada', 'entrado', 'entrar', 'entraram', 'entrarem', 'entre', 'entrega', 'entregar', 'entreguismo', 'entretanto', 'entrevista', 'entrevistados', 'entrevistas', 'entro', 'entrou', 'então', 'envelheceu', 'envelhecimento', 'envia', 'enviada', 'enviado', 'enviou', 'envolve', 'envolvendo', 'envolveu', 'envolvidas', 'envolvidos', 'envolvimento', 'episódio', 'episódios', 'equilíbrio', 'equipe', 'equivalente', 'era', 'eram', 'ernesto', 'erros', 'erundina', 'escadaria', 'escala', 'escandalosas', 'esclarece', 'esclarecer', 'esclarecimentos', 'escola', 'escolas', 'escolha', 'escolhe', 'escolhendo', 'escolher', 'escolheu', 'escolhida', 'escolhido', 'escoto', 'escravagista', 'escrevendo', 'escreveram', 'escreveu', 'escrito', 'escritor', 'escritora', 'escritores', 'escritório', 'escuridão', 'escusável', 'escuta', 'escutar', 'escândalo', 'esfaqueado', 'esfera', 'esforça', 'esforço', 'esforços', 'esfriamento', 'espancado', 'espanhol', 'espaço', 'especial', 'especialistas', 'especializado', 'especialmente', 'especificamente', 'especificidades', 'especulações', 'específica', 'específicas', 'espera', 'esperada', 'esperado', 'esperados', 'esperamos', 'esperando', 'esperar', 'esperavam', 'espero', 'espino', 'espiral', 'espécie', 'espírito', 'esquecidos', 'esquerda', 'esquerdalha', 'esquerdas', 'esquinas', 'essa', 'essas', 'esse', 'essenciais', 'essencial', 'esses', 'essência', 'esta', 'estabeleceu', 'estabelecidas', 'estabelecido', 'estabilidade', 'estado', 'estados', 'estadual', 'estadunidense', 'estadunidenses', 'estagnada', 'estamos', 'estar', 'estarem', 'estaria', 'estatais', 'estatal', 'estatuto', 'estatística', 'estava', 'estavam', 'este', 'esteira', 'esteja', 'estejam', 'estende', 'estendeu', 'estendido', 'esteve', 'estima', 'estimada', 'estimasse', 'estimativa', 'estimo', 'estimula', 'estiver', 'estiveram', 'estoques', 'estou', 'estouro', 'estrago', 'estrangeira', 'estrangeiro', 'estrangeiros', 'estratégia', 'estratégicas', 'estratégicos', 'estreita', 'estremecido', 'estreou', 'estresse', 'estrutura', 'estrutural', 'estruturas', 'estuda', 'estudando', 'estudante', 'estudantes', 'estudar', 'estudioso', 'estudo', 'estudos', 'está', 'estávamos', 'estão', 'estúdio', 'etapa', 'eternidade', 'eua', 'europa', 'europeia', 'europeus', 'euros', 'evento', 'eventos', 'evidencia', 'evidências', 'evitaram', 'evolutivo', 'evolução', 'exagerada', 'exaltando', 'exaltou', 'exata', 'exaustivamente', 'excederam', 'excedido', 'excepcionalmente', 'excessivos', 'exceção', 'excitar', 'executado', 'executarem', 'executivas', 'executivo', 'executivos', 'executou', 'execuções', 'exemplo', 'exemplos', 'exibido', 'exibição', 'exigiriam', 'exigência', 'exilou', 'existam', 'existe', 'existem', 'existente', 'existentes', 'existência', 'exonerado', 'expectativa', 'expectativas', 'experiência', 'experiências', 'explica', 'explicada', 'explicam', 'explicar', 'explicou', 'exportador', 'exportadores', 'exportam', 'exportação', 'exportações', 'exportou', 'expressamente', 'expressar', 'expressiva', 'expresso', 'expressou', 'expressão', 'expropria', 'extensas', 'exterior', 'exteriores', 'externa', 'extinta', 'extra', 'extraordinária', 'extras', 'extrema', 'extremamente', 'extremista', 'extremistas', 'exército', 'exílio', 'fabian', 'fabián', 'fabricantes', 'fabrízio', 'fachin', 'facilitação', 'faculdade', 'fahimi', 'fahmi', 'faixa', 'fake', 'fala', 'faladas', 'falam', 'falando', 'falar', 'falas', 'falava', 'falei', 'falido', 'falo', 'falou', 'falsas', 'falta', 'falte', 'faltou', 'família', 'famílias', 'fantástico', 'fardados', 'fará', 'farão', 'fascismo', 'fascista', 'fascistas', 'fatia', 'fato', 'fator', 'fatores', 'fatos', 'fatura', 'fausto', 'favor', 'favorece', 'favorecer', 'favoráveis', 'favorável', 'faz', 'fazem', 'fazendo', 'fazendária', 'fazer', 'fazia', 'faziam', 'faça', 'fechadas', 'fechado', 'fechar', 'fechou', 'federais', 'federal', 'federativo', 'feira', 'feita', 'feitas', 'feito', 'feitos', 'felipe', 'felix', 'feminismo', 'feminista', 'fen', 'fere', 'fernandes', 'fernando', 'ferramentas', 'ferro', 'fertilizantes', 'festejar', 'festivais', 'festival', 'fevereiro', 'fez', 'fgv', 'fiança', 'fica', 'ficamos', 'ficar', 'ficaria', 'ficará', 'ficavam', 'fichado', 'fico', 'ficou', 'fictícios', 'figura', 'figuras', 'fila', 'filho', 'filiação', 'filmagem', 'filme', 'filosofia', 'filósofa', 'fim', 'final', 'finalidade', 'finaliza', 'finalizou', 'finalmente', 'financeira', 'financeiras', 'financeiro', 'financia', 'financial', 'financiamento', 'financiando', 'finlândia', 'fips', 'fiquem', 'firmado', 'firme', 'firmeza', 'firmou', 'fiscais', 'fiscal', 'fiscalizar', 'fiscalização', 'fischer', 'fito', 'fixa', 'fixado', 'fixados', 'fiz', 'fizeram', 'fizessem', 'flash', 'flexibilidade', 'flexibilidades', 'flexibilizando', 'flexibilização', 'flexilidade', 'florestan', 'florianópolis', 'flávio', 'flórida', 'fmi', 'focadas', 'focus', 'fodido', 'foi', 'folha', 'fome', 'fonte', 'for', 'fora', 'foram', 'forma', 'formada', 'formaggini', 'formal', 'formalização', 'formam', 'formato', 'formação', 'formulações', 'formulou', 'forneceria', 'fornecimento', 'fortalecer', 'fortaleça', 'forte', 'fortemente', 'fortíssimo', 'força', 'forçar', 'forças', 'forçou', 'fosse', 'fossem', 'foto', 'fotografado', 'fpa', 'fracas', 'fraco', 'francischini', 'franco', 'francês', 'frança', 'fraterna', 'fraudes', 'fraudulenta', 'freddie', 'frente', 'frequentar', 'fria', 'frio', 'frustração', 'fruto', 'frutos', 'frutuoso', 'fuat', 'fui', 'funcef', 'funciona', 'funcionalidade', 'funcionamento', 'funcionariam', 'funcionários', 'fundada', 'fundador', 'fundamental', 'fundamento', 'fundação', 'fundiária', 'fundo', 'fundos', 'funpen', 'funrural', 'função', 'furação', 'furioso', 'futuro', 'futuros', 'fvg', 'fábrica', 'fábricas', 'fácil', 'fértil', 'física', 'fórum', 'gabinete', 'gabriel', 'gado', 'ganhamos', 'ganhos', 'ganhou', 'garantia', 'garantias', 'garantida', 'garantir', 'garantiu', 'garcía', 'gargalhadas', 'gargalhavam', 'gasta', 'gastos', 'gatorade', 'gavetas', 'gavetinha', 'gaza', 'geddel', 'geladeira', 'gema', 'genebra', 'general', 'geng', 'genitais', 'gente', 'gentil', 'gentilmente', 'geografia', 'geologia', 'gerais', 'geral', 'geralmente', 'geramos', 'gerando', 'geração', 'gerencialmente', 'gerente', 'gerentes', 'gerido', 'gerir', 'gestora', 'gestoras', 'gestão', 'getúlio', 'ghosn', 'gil', 'gilberto', 'gilmar', 'gilvam', 'giram', 'glauber', 'gleisi', 'glenio', 'glifosato', 'globais', 'globalizado', 'globo', 'glênio', 'golpe', 'golpes', 'gomes', 'gondolfi', 'gostando', 'gostaria', 'gosto', 'gota', 'goulart', 'governa', 'governada', 'governado', 'governador', 'governamentais', 'governança', 'governar', 'governista', 'governo', 'governos', 'gradativo', 'gradual', 'grande', 'grandes', 'gratuita', 'grau', 'gravada', 'gravar', 'gravação', 'graves', 'gravou', 'gravíssima', 'graça', 'graças', 'great', 'greve', 'greves', 'grita', 'gritando', 'grito', 'gritos', 'gritou', 'grupo', 'grupos', 'grãos', 'guaidó', 'guararema', 'guarujá', 'guaíba', 'guedes', 'guerra', 'guerrilha', 'guilherme', 'guilhotina', 'guimarães', 'guri', 'guru', 'gás', 'génération', 'habeas', 'habilitado', 'haddad', 'hahahahha', 'haiti', 'haja', 'hamas', 'hanson', 'hashtag', 'hasselmann', 'haurelhuk', 'havana', 'havendo', 'haveriam', 'haverá', 'havia', 'hectares', 'hegemonia', 'hegemonias', 'heinz', 'heleno', 'henrique', 'hino', 'hipótese', 'hirzman', 'história', 'histórias', 'histórica', 'histórico', 'históricos', 'hitler', 'hoffmann', 'hoje', 'holandesa', 'holocaust', 'holocausto', 'homem', 'homenagem', 'homens', 'homofóbico', 'homologado', 'homossexual', 'honra', 'hora', 'horas', 'horrendos', 'hotel', 'hotéis', 'houve', 'houver', 'hugo', 'humanitária', 'humanos', 'humor', 'humorista', 'iate', 'ibama', 'ibge', 'ibovespa', 'ibre', 'icc', 'ice', 'iceberg', 'icms', 'idade', 'ideia', 'ideias', 'identidade', 'identificado', 'identitaire', 'identitária', 'ideologia', 'ideológico', 'idiotas', 'idosos', 'idéias', 'ienes', 'ignoram', 'ignácio', 'igreja', 'igual', 'igualdade', 'ilegais', 'ilegal', 'ilegalmente', 'ilhabela', 'ilusão', 'image', 'imagem', 'imagens', 'imagina', 'imaginassem', 'imaginação', 'imbecil', 'imigrantes', 'imitou', 'imobiliário', 'imoral', 'imp', 'impacta', 'impactando', 'impacto', 'impactos', 'impasse', 'impeachment', 'impedir', 'imperativo', 'imperialismo', 'implantado', 'implementar', 'implementação', 'implica', 'implicaria', 'implosão', 'impor', 'importadora', 'importadores', 'importante', 'importantes', 'importação', 'importações', 'importo', 'importou', 'importância', 'impossível', 'imposta', 'impostas', 'imposto', 'impostos', 'impregnado', 'imprensa', 'imprescindíveis', 'impulsionada', 'impulso', 'impunes', 'imunidade', 'imóvel', 'inaceitável', 'inadimplentes', 'inadimplência', 'inadmissível', 'inativa', 'inatividade', 'inaugurar', 'incentivar', 'incerteza', 'inciativa', 'incidência', 'incinerado', 'incinerados', 'incinerando', 'incinerar', 'incinerava', 'inciso', 'incluam', 'incluem', 'inclui', 'incluindo', 'inclusive', 'inclusão', 'incompetente', 'incomum', 'inconstitucional', 'inconstitucionalidade', 'incrementar', 'incremento', 'incriminar', 'indagado', 'independente', 'independência', 'indevidos', 'indica', 'indicado', 'indicador', 'indicadores', 'indicam', 'indicações', 'indicou', 'indiscriminada', 'individuais', 'individual', 'industrial', 'industrializados', 'induzi', 'indício', 'indígenas', 'indústria', 'inep', 'infantaria', 'infelizmente', 'inferno', 'infinito', 'inflação', 'influenciaram', 'influi', 'influência', 'informa', 'informado', 'informalidade', 'informando', 'informar', 'informação', 'informações', 'informe', 'informou', 'infringir', 'ingerência', 'inglês', 'inicia', 'inicial', 'inicialmente', 'iniciam', 'iniciando', 'iniciaram', 'iniciativa', 'iniciou', 'inimigo', 'inimigos', 'injusto', 'inocência', 'inovação', 'inquirido', 'inquéritos', 'inscritos', 'inseridos', 'insiste', 'insistiu', 'inspirando', 'instabilidade', 'instagram', 'instala', 'instalar', 'instalação', 'instaurada', 'instaurou', 'instinto', 'institucionais', 'institucional', 'instituição', 'instituições', 'instituto', 'instruiu', 'instrumento', 'instância', 'insultos', 'insumo', 'insumos', 'insustentável', 'integrais', 'integral', 'integralidade', 'integralmente', 'integram', 'integrantes', 'integração', 'inteiro', 'intelectuais', 'intelectual', 'inteligência', 'intencionalmente', 'intensa', 'intenso', 'intenção', 'intenções', 'inter', 'intercept', 'interessados', 'interessam', 'interessante', 'interesse', 'interesses', 'interfax', 'interferência', 'interino', 'interior', 'interna', 'internacionais', 'internacional', 'internas', 'international', 'internautas', 'internet', 'interno', 'internos', 'interpretação', 'interrogado', 'interrogatório', 'interromper', 'intervenientes', 'intervenção', 'intimamente', 'intimidação', 'intitulada', 'intitulado', 'intolerância', 'intransigente', 'intromissão', 'inusitado', 'invade', 'invadem', 'invectiva', 'inverteu', 'investidores', 'investigado', 'investigação', 'investigações', 'investigou', 'investimento', 'investimentos', 'invés', 'inácio', 'início', 'ipca', 'ipi', 'iptu', 'iria', 'iriam', 'iris', 'irmã', 'ironizou', 'irregularidades', 'irrigação', 'irrisória', 'irá', 'irão', 'isento', 'isentos', 'isenção', 'isenções', 'islâmico', 'isolada', 'israel', 'israelense', 'israelenses', 'isso', 'itair', 'itamaraty', 'itaúsa', 'ivanilda', 'ivete', 'iván', 'jacques', 'jair', 'jairbolsonaro', 'jamil', 'janeiro', 'japoneses', 'japão', 'jato', 'jaur', 'java', 'jean', 'jeito', 'jens', 'jer', 'jeremy', 'jersey', 'jerusalém', 'joaquim', 'joelhos', 'joga', 'jogado', 'jogam', 'jogar', 'jogo', 'jogos', 'joice', 'jonas', 'jorge', 'jornada', 'jornadas', 'jornais', 'jornal', 'jornalista', 'jornalistas', 'josé', 'jourdan', 'jovens', 'joão', 'juan', 'judeu', 'judeus', 'judiciais', 'judicial', 'judiciário', 'juiz', 'julgadas', 'julgado', 'julgamento', 'julgamentos', 'julgando', 'julguei', 'julio', 'junho', 'junta', 'juntamente', 'juntarem', 'junto', 'juntos', 'juntxs', 'juramento', 'juremir', 'juros', 'jurídica', 'jurídico', 'justa', 'justamente', 'justificar', 'justificativa', 'justificou', 'justiça', 'juto', 'juízes', 'júnior', 'kan', 'kandir', 'karl', 'kassab', 'kataguiri', 'kim', 'kourliandsky', 'kremlin', 'kucinski', 'kátia', 'lado', 'lados', 'lançado', 'lançamento', 'lançou', 'laranjal', 'laranjas', 'larga', 'largo', 'lastima', 'latifundiário', 'latina', 'latino', 'lava', 'lavagem', 'lavigne', 'leader', 'leaked', 'legais', 'legalidade', 'legendas', 'legislado', 'legislativa', 'legislação', 'legitimidade', 'legítima', 'legítimo', 'lei', 'leia', 'leis', 'leitura', 'lembra', 'lembrando', 'lembrar', 'lembrou', 'leme', 'lemos', 'leon', 'leonardo', 'leste', 'letra', 'leva', 'levado', 'levam', 'levando', 'levanta', 'levantado', 'levantamento', 'levar', 'levara', 'levaram', 'levou', 'lewandowski', 'lgbt', 'lgbts', 'liberado', 'liberados', 'liberal', 'liberação', 'liberdade', 'liberou', 'libertado', 'libertação', 'licenciamento', 'licença', 'lidar', 'lideradas', 'liderado', 'lideranças', 'lies', 'ligada', 'ligadas', 'ligado', 'ligados', 'ligação', 'lightfoot', 'lima', 'liminar', 'liminares', 'limita', 'limitada', 'limitaram', 'limite', 'limites', 'line', 'linha', 'linke', 'links', 'lisandra', 'lisboa', 'lista', 'listas', 'lisura', 'literário', 'literários', 'litoral', 'livraria', 'livre', 'livro', 'livros', 'locais', 'local', 'localização', 'logo', 'logístico', 'lollapalooza', 'longa', 'longe', 'longo', 'lopes', 'lorenzoni', 'lori', 'los', 'ltda', 'lucra', 'lucrativos', 'lucros', 'lugar', 'luiz', 'luiza', 'lula', 'luso', 'luta', 'lutamos', 'lutando', 'lutar', 'lutou', 'luz', 'lvii', 'lyondellbasell', 'líder', 'líderes', 'líquida', 'líquidas', 'líquidos', 'maariv', 'macedo', 'maceió', 'machado', 'machista', 'macri', 'macroecon', 'maduro', 'mafiosos', 'maia', 'main', 'maio', 'maior', 'maiores', 'maioria', 'mais', 'majoritária', 'mala', 'malha', 'maluco', 'maluquice', 'malásia', 'mandado', 'mandam', 'mandarem', 'maneira', 'maneiras', 'manhã', 'manifesta', 'manifestantes', 'manifestação', 'manifestações', 'manifesto', 'manifestou', 'manobras', 'manter', 'manterá', 'manteve', 'mantém', 'mantêm', 'manuela', 'manueladavila', 'manutenção', 'mapa', 'maquinário', 'maranhão', 'maratona', 'marca', 'marcado', 'marcados', 'marcas', 'marcel', 'marcelo', 'marcia', 'marco', 'marcos', 'marcus', 'margem', 'marginais', 'marianne', 'marido', 'marielle', 'marionete', 'marival', 'martin', 'martins', 'marx', 'março', 'mas', 'massena', 'mata', 'matar', 'matava', 'material', 'matou', 'matriz', 'matéria', 'matérias', 'maurício', 'mbia', 'mbl', 'mdb', 'meados', 'mec', 'mecanismo', 'mede', 'medeiros', 'mediado', 'mediante', 'medida', 'medidas', 'medir', 'medo', 'megale', 'meia', 'meio', 'meios', 'meirelles', 'melgarejo', 'melhor', 'melhora', 'melhorar', 'melhores', 'melhoria', 'mello', 'membro', 'membros', 'memes', 'memória', 'memórias', 'menciona', 'mencionar', 'mencionou', 'mendes', 'meninas', 'menino', 'menor', 'menores', 'menos', 'mensagem', 'mensagens', 'mente', 'mentiras', 'menção', 'menções', 'menéndez', 'mercado', 'mercadorias', 'mercados', 'mercedes', 'mercenários', 'mercosul', 'merece', 'mesa', 'mescla', 'meses', 'mesma', 'mesmas', 'mesmo', 'mesquitas', 'messenger', 'metade', 'metalúrgicos', 'metas', 'meteorológicos', 'metodologia', 'metrificado', 'meu', 'meus', 'mevlut', 'mica', 'michel', 'mico', 'micos', 'microfone', 'microfones', 'midiáticos', 'mike', 'mil', 'milhares', 'milho', 'milhão', 'milhões', 'milicianos', 'militante', 'militantes', 'militar', 'militares', 'militarmente', 'militância', 'milícias', 'mim', 'minar', 'minas', 'mineração', 'minha', 'minhas', 'minhoca', 'minimamente', 'minimizar', 'minimizou', 'ministra', 'ministro', 'ministros', 'ministério', 'ministérios', 'minorias', 'minoritários', 'minutos', 'minério', 'misoginia', 'missão', 'misto', 'misturar', 'misógino', 'mitsubishi', 'mobilização', 'mobilizações', 'mobs', 'modelo', 'modo', 'moldes', 'momento', 'monetário', 'monocrática', 'monopolista', 'montadoras', 'montados', 'montando', 'montante', 'monteiro', 'moradia', 'moraes', 'moreira', 'moro', 'morrer', 'morreram', 'morreu', 'mortas', 'morte', 'mortes', 'morto', 'mortos', 'moscou', 'mostra', 'mostrada', 'mostrado', 'mostram', 'mostrou', 'motivo', 'motoristas', 'movimentação', 'movimente', 'movimento', 'movimentos', 'mpf', 'mst', 'mubadala', 'muda', 'mudança', 'mudanças', 'mudar', 'muita', 'muitas', 'muito', 'muitos', 'mulher', 'mulheres', 'mulherzinha', 'multa', 'multado', 'multas', 'multidimensional', 'multifacetado', 'multilateral', 'multinacionais', 'mundiais', 'mundial', 'mundo', 'museu', 'musicais', 'mutismo', 'mutreta', 'mutuamente', 'muçulmanos', 'máquina', 'máquinas', 'máscara', 'máscaras', 'máximo', 'mãe', 'mães', 'mão', 'mãos', 'média', 'médias', 'médio', 'médios', 'méxico', 'mês', 'mídia', 'mínima', 'mínimo', 'mísseis', 'música', 'músicos', 'nacionais', 'nacional', 'nada', 'nadalim', 'nana', 'nanterre', 'naquele', 'narra', 'narrador', 'narrativa', 'nas', 'nasceu', 'national', 'naturais', 'natural', 'natureza', 'nazi', 'nazismo', 'nazista', 'nazistas', 'nações', 'neblina', 'necessidade', 'necessária', 'necessárias', 'necessário', 'necessários', 'negado', 'negar', 'negativa', 'negativamente', 'negativas', 'negativo', 'negociado', 'negocial', 'negociando', 'negociar', 'negociação', 'negociações', 'negou', 'negra', 'negras', 'negro', 'negros', 'negócio', 'negócios', 'nela', 'nelb', 'nele', 'nem', 'nenhum', 'nenhuma', 'neoliberais', 'neoliberal', 'nervosismo', 'nessa', 'nesse', 'nesta', 'neste', 'netanael', 'netanyahu', 'news', 'nhk', 'nia', 'nicho', 'nico', 'nicolás', 'nimo', 'ninguém', 'nio', 'nissan', 'noga', 'noite', 'noites', 'nome', 'nomeação', 'nomo', 'nordeste', 'normas', 'norte', 'nos', 'nossa', 'nossas', 'nosso', 'nossos', 'nota', 'notas', 'noticiosa', 'notável', 'notícia', 'notícias', 'nova', 'novaes', 'novamente', 'novas', 'nove', 'novo', 'novos', 'noção', 'nuances', 'nuca', 'nulidade', 'num', 'nunca', 'não', 'nível', 'nós', 'núcleo', 'número', 'números', 'oab', 'oas', 'objetivo', 'objetivos', 'objeto', 'obra', 'obras', 'obrigados', 'obrigação', 'obrigações', 'observa', 'observada', 'observado', 'observados', 'observatório', 'obsessiva', 'obstante', 'obstáculo', 'obstáculos', 'obtenção', 'obter', 'obteve', 'obtido', 'obtivessem', 'ocasionando', 'ocasião', 'ocasiões', 'ocde', 'oceano', 'ocidental', 'ocorra', 'ocorre', 'ocorrendo', 'ocorreram', 'ocorrerá', 'ocorrerão', 'ocorreu', 'ocorridas', 'ocorridos', 'ocultação', 'ocuparam', 'ocupavam', 'ocupação', 'ocupou', 'odebrecht', 'odecrecht', 'odeon', 'ofensiva', 'oferecem', 'oferecer', 'ofereceu', 'oficiais', 'oficial', 'oficialmente', 'oito', 'oktay', 'olavo', 'olha', 'olho', 'oligopólios', 'omc', 'omã', 'onapr', 'onde', 'ontem', 'onu', 'onyx', 'operacionais', 'operacional', 'operação', 'operações', 'opinião', 'opomos', 'oposicionista', 'oposição', 'oposto', 'opposition', 'opta', 'opção', 'opções', 'ordem', 'ordena', 'organizada', 'organizadas', 'organizados', 'organização', 'organizações', 'orientar', 'orientação', 'oriente', 'origem', 'originalmente', 'orquestrar', 'orquestraram', 'orçamento', 'orçamentária', 'oscilação', 'ostentando', 'otan', 'otimismo', 'otimista', 'outra', 'outras', 'outro', 'outros', 'outubro', 'ouvi', 'ouvido', 'ouvindo', 'ouvir', 'paciência', 'pacote', 'pacto', 'pacífica', 'padilha', 'padrão', 'padrões', 'paga', 'pagamento', 'pagamentos', 'pagando', 'pagar', 'pagava', 'pai', 'pais', 'palavras', 'palavrões', 'palco', 'palestina', 'palestino', 'palestinos', 'palladino', 'palácio', 'pancadas', 'panzini', 'papel', 'para', 'parabéns', 'paradigmas', 'paradoxalmente', 'paraguassu', 'paralelo', 'param', 'paranoia', 'paranoico', 'paraná', 'paraquedista', 'paraquedistas', 'parar', 'pararmos', 'parceiro', 'parceiros', 'parcela', 'parceria', 'parece', 'parecem', 'parecer', 'pareceres', 'parecia', 'paredes', 'paris', 'parisiense', 'parlamentar', 'parlamentares', 'parlamento', 'parte', 'participa', 'participado', 'participar', 'participaram', 'participativa', 'participação', 'participações', 'participem', 'participou', 'particular', 'particularmente', 'partido', 'partidos', 'partidária', 'partidárias', 'partidários', 'partir', 'passa', 'passada', 'passado', 'passageiro', 'passagem', 'passam', 'passando', 'passar', 'passaram', 'passaria', 'passariam', 'passeatas', 'passei', 'passem', 'passiva', 'passo', 'passos', 'passou', 'pasta', 'pastor', 'patamar', 'patente', 'pato', 'patrim', 'patriota', 'patrocínio', 'patética', 'pau', 'paula', 'paulista', 'paulo', 'pauta', 'paz', 'pazini', 'país', 'países', 'pcb', 'pcdob', 'pdt', 'pec', 'peculiaridades', 'pecuária', 'pedaços', 'pede', 'pedem', 'pedido', 'pedidos', 'pedindo', 'pedir', 'pediram', 'pedirá', 'pediu', 'pega', 'pegar', 'pego', 'pela', 'pelas', 'pele', 'pelo', 'pelos', 'penais', 'penal', 'penalidades', 'pendentes', 'pendurada', 'penitenciária', 'penna', 'pensamento', 'pensar', 'pensei', 'penso', 'pensão', 'pequena', 'pequenas', 'pequim', 'perante', 'percebe', 'perceber', 'percentual', 'percorreram', 'perda', 'perdas', 'perde', 'perdem', 'perder', 'perdesse', 'perdeu', 'perdidos', 'perdigão', 'peres', 'perfil', 'performance', 'pergunta', 'perguntada', 'perguntado', 'perguntas', 'perguntei', 'pergunto', 'perguntou', 'periferia', 'perigo', 'permanece', 'permanecem', 'permanecer', 'permanecerão', 'permanência', 'permissão', 'permite', 'permitindo', 'permitir', 'permitiu', 'pernas', 'peronista', 'perseguido', 'perseguidos', 'perseguição', 'persistente', 'personagem', 'personalizado', 'perspectiva', 'pertencia', 'perto', 'perverso', 'período', 'pesado', 'pesca', 'pescoço', 'pese', 'peso', 'pesquisa', 'pesquisador', 'pesquisar', 'pesquisas', 'pessimismo', 'pessimistas', 'pessoa', 'pessoais', 'pessoal', 'pessoas', 'petista', 'petrobras', 'petrobrás', 'petroleira', 'petroleiros', 'petroquímica', 'petros', 'petróleo', 'peão', 'peço', 'pgr', 'phono', 'piada', 'piadas', 'pib', 'pierre', 'pilares', 'pimenta', 'pinheiro', 'pinochet', 'pintada', 'pior', 'piora', 'piorem', 'piores', 'pires', 'piscicultura', 'piv', 'planalto', 'planejam', 'planeta', 'plano', 'planos', 'plantações', 'plataforma', 'plateia', 'plenária', 'plenário', 'plexo', 'pluralismo', 'pmdb', 'pmi', 'pobres', 'pobreza', 'pode', 'podem', 'podemos', 'podendo', 'poder', 'poderei', 'poderia', 'poderiam', 'poderoso', 'podia', 'pois', 'pol', 'polarizada', 'polarização', 'policial', 'politicamente', 'politécnica', 'polos', 'poltrões', 'polui', 'polygram', 'polêmica', 'polêmicas', 'polícia', 'política', 'políticas', 'político', 'políticos', 'pompeo', 'pompeu', 'pondera', 'ponderação', 'ponta', 'ponto', 'pontos', 'pontual', 'pontuou', 'popular', 'populares', 'popularidade', 'população', 'populações', 'por', 'porcentagem', 'porque', 'porquê', 'porrada', 'porta', 'portando', 'portanto', 'portaria', 'portas', 'porto', 'portugal', 'português', 'porém', 'posicionado', 'posicionamento', 'positiva', 'positivo', 'positivos', 'posição', 'posições', 'possa', 'possam', 'posse', 'possibilidade', 'posso', 'possuem', 'possuía', 'possível', 'post', 'posta', 'postagem', 'postalis', 'postando', 'posteriormente', 'posto', 'postos', 'posts', 'postura', 'potencial', 'potencialmente', 'poucas', 'pouco', 'poucos', 'poupança', 'povo', 'povos', 'pozzobon', 'pra', 'practice', 'pragas', 'praticamente', 'prazo', 'prazos', 'praça', 'prb', 'precarização', 'preceito', 'precificar', 'precisa', 'precisam', 'precisamos', 'precisei', 'preciso', 'precisou', 'preckwinkle', 'predominante', 'prefeito', 'prefeitura', 'prefere', 'preferida', 'preferimos', 'preferir', 'preferência', 'prefácio', 'prejudicam', 'prejudicou', 'prejuízos', 'prematuro', 'premissa', 'premiê', 'prendendo', 'prender', 'prenunciavam', 'preocupa', 'preocupação', 'preocupações', 'preparando', 'preparar', 'presencial', 'presente', 'presentes', 'presença', 'presenças', 'preservação', 'presidenciais', 'presidenciável', 'presidenta', 'presidente', 'presidentes', 'presidir', 'presidência', 'preso', 'presos', 'pressa', 'pressionada', 'pressão', 'prestar', 'prestação', 'prestou', 'pretende', 'pretendia', 'pretendida', 'pretexto', 'previ', 'previa', 'previamente', 'previc', 'previdenciária', 'previdenciário', 'previdência', 'previsibilidade', 'prevista', 'previstas', 'previsto', 'previstos', 'previsão', 'prevê', 'preço', 'preços', 'prima', 'primeira', 'primeiro', 'primeiros', 'primeiríssimo', 'primo', 'primos', 'principais', 'principal', 'principalmente', 'princípio', 'princípios', 'prioridades', 'prisioneiros', 'prisão', 'prisões', 'privada', 'privado', 'privatização', 'privilegia', 'privilegiada', 'privilegiado', 'privilégio', 'privilégios', 'pro', 'problema', 'problemas', 'procedimentos', 'processada', 'processo', 'processos', 'procura', 'procurador', 'procuradora', 'procuradores', 'procuradoria', 'procuram', 'procurando', 'procurar', 'procuração', 'procuro', 'produtividade', 'produtivo', 'produto', 'produtor', 'produtora', 'produtores', 'produtos', 'produzido', 'produzidos', 'produzindo', 'produziu', 'produção', 'profere', 'proferida', 'proferir', 'proferirem', 'professor', 'professora', 'professores', 'profissionais', 'profunda', 'programa', 'programado', 'programas', 'programação', 'progressivas', 'proibida', 'projetado', 'projeto', 'projetos', 'projeção', 'projeções', 'promessa', 'promessas', 'prometeu', 'promove', 'promover', 'promoveu', 'promovido', 'promoção', 'pronta', 'pronto', 'pronuncia', 'propagandas', 'propiciar', 'propina', 'propor', 'proporcionava', 'proporção', 'proposta', 'propostas', 'proposto', 'propriedade', 'proprietário', 'propõe', 'protecionismo', 'protege', 'proteger', 'protestar', 'proteção', 'protocolaram', 'protofascista', 'prova', 'provando', 'provar', 'provas', 'provisória', 'provocam', 'provocar', 'provocaram', 'provocativo', 'provocação', 'prática', 'práticas', 'pré', 'prédio', 'prévia', 'prévio', 'príncipes', 'própria', 'próprias', 'próprio', 'próprios', 'próxima', 'próximas', 'próximo', 'próximos', 'psd', 'psdb', 'psicólogo', 'psl', 'psol', 'publica', 'publicada', 'publicado', 'publicamente', 'publicaram', 'publicação', 'publicou', 'puderam', 'puderem', 'pudesse', 'pugliese', 'punido', 'punir', 'pupilos', 'putin', 'puxa', 'puxou', 'página', 'pátria', 'pés', 'pós', 'põe', 'pública', 'públicas', 'público', 'públicos', 'quais', 'quaisquer', 'qual', 'qualificou', 'qualquer', 'quando', 'quantas', 'quantidade', 'quanto', 'quantos', 'quarta', 'quarto', 'quartéis', 'quase', 'quatro', 'que', 'quebra', 'queda', 'queimar', 'queiroz', 'quem', 'quer', 'querem', 'queremos', 'querendo', 'querer', 'queria', 'quero', 'questiona', 'questionadas', 'questionado', 'questionamento', 'questionarem', 'questionou', 'questão', 'questões', 'quilombolas', 'quinta', 'quis', 'quiser', 'quiserem', 'química', 'racional', 'racismo', 'racista', 'radar', 'radicais', 'radical', 'radicalismo', 'radio', 'rafael', 'ranking', 'rapidamente', 'rara', 'rasgou', 'ratificada', 'razoável', 'razão', 'razões', 'reacionárias', 'reafirmou', 'reage', 'reagiram', 'reais', 'reajustou', 'real', 'realidade', 'realizada', 'realizado', 'realizados', 'realizam', 'realizar', 'realizarem', 'realmente', 'rearticulando', 'reação', 'reações', 'recado', 'recaem', 'receba', 'recebemos', 'recebendo', 'receber', 'receberá', 'recebeu', 'recebia', 'recebido', 'recebimento', 'recebo', 'receita', 'receitas', 'recente', 'recentes', 'recessão', 'reclamações', 'recomenda', 'reconfigurando', 'reconfiguração', 'reconheceram', 'reconheceu', 'reconhecida', 'reconhecido', 'record', 'recorrer', 'recorreu', 'recorrido', 'recortadas', 'recrutar', 'recuo', 'recuou', 'recuperaram', 'recuperação', 'recurso', 'recursos', 'recusaram', 'recém', 'rede', 'redenção', 'redes', 'redesenhar', 'rediscutida', 'rediscutir', 'reduz', 'reduzindo', 'reduzir', 'reduziram', 'reduziria', 'redução', 'reeleição', 'reequilibrar', 'refeito', 'refer', 'refere', 'referenciados', 'referentes', 'referindo', 'referir', 'referência', 'referências', 'refletindo', 'refletir', 'reflexão', 'reflexões', 'reforma', 'reformas', 'reforçando', 'reforçou', 'regeneração', 'regime', 'regimento', 'regimes', 'regina', 'reginaldo', 'regional', 'registrada', 'registrado', 'registrando', 'registrar', 'registro', 'registrou', 'região', 'regiões', 'regra', 'regras', 'regulamentada', 'regular', 'regulares', 'reich', 'reino', 'reinterpretação', 'reitera', 'rejeitadas', 'rejeitos', 'rejeitou', 'relacionada', 'relacionadas', 'relacionados', 'relacionamento', 'relata', 'relatando', 'relatar', 'relato', 'relator', 'relatores', 'relatório', 'relação', 'relações', 'relevantes', 'relevar', 'relevância', 'relief', 'religioso', 'rememorar', 'remunerada', 'renata', 'renault', 'rencontres', 'renda', 'rendeu', 'rendimento', 'rendimentos', 'renomado', 'renomados', 'renovação', 'rentista', 'renunciou', 'rená', 'renúncia', 'renúncias', 'reocupar', 'reorganização', 'reparar', 'reparação', 'repasse', 'repente', 'repercussão', 'repetir', 'repetição', 'repito', 'replacement', 'reportagem', 'reposicionamento', 'representa', 'representados', 'representante', 'representantes', 'representação', 'representações', 'repressão', 'reproduzir', 'reprodução', 'republicano', 'republicanos', 'republicou', 'repudiou', 'repórter', 'repórteres', 'república', 'repúdio', 'research', 'reserva', 'resgatada', 'resgatar', 'resgate', 'resistentes', 'resistir', 'resistência', 'resnais', 'resolvi', 'resolvido', 'respaldo', 'respectivamente', 'respectivos', 'respeita', 'respeitar', 'respeito', 'responde', 'respondendo', 'responder', 'respondeu', 'responsabilidade', 'response', 'responsáveis', 'responsável', 'resposta', 'respostas', 'ressalta', 'ressaltam', 'ressaltar', 'ressaltou', 'restabelecimento', 'restantes', 'restaurar', 'restaure', 'resultado', 'resultados', 'resultaram', 'resultou', 'retaliação', 'retira', 'retirada', 'retiradas', 'retirado', 'retirando', 'retirar', 'retiravam', 'retorna', 'retornando', 'retornar', 'retrata', 'retração', 'retrocesso', 'retrocessos', 'reunidos', 'reunir', 'reuniu', 'reunião', 'reuniões', 'reuters', 'revela', 'revelam', 'revelações', 'revelou', 'reversão', 'revertam', 'revertida', 'revertidos', 'revirar', 'revisar', 'revisionismo', 'revista', 'revogado', 'revoltá', 'revolução', 'reúne', 'ribeiro', 'ricardo', 'ridicularização', 'ridículo', 'rio', 'riqueza', 'risca', 'risco', 'riscos', 'rita', 'robert', 'roberto', 'rock', 'roda', 'rodrigo', 'rodrigues', 'rodriguez', 'rodríguez', 'romain', 'roman', 'romper', 'rompeu', 'rompimento', 'rosa', 'rosário', 'rota', 'rouba', 'roupa', 'roupagem', 'roupagens', 'roupas', 'rousseff', 'rua', 'ruas', 'rubens', 'rubio', 'rumo', 'ruptura', 'rurais', 'rural', 'ruralista', 'ruralistas', 'russas', 'russo', 'russos', 'ruídos', 'rádio', 'rádios', 'rápido', 'rússia', 'sabe', 'sabemos', 'sabendo', 'saber', 'sabia', 'sabotagem', 'sacados', 'safra', 'sai', 'saiba', 'saibam', 'saio', 'sair', 'saiu', 'sal', 'sala', 'salomão', 'saltavam', 'salva', 'salvaguardar', 'salvaguardas', 'salvioli', 'salvou', 'salário', 'salários', 'samuel', 'sandices', 'sangue', 'santa', 'santana', 'santista', 'santo', 'santos', 'sanção', 'sanções', 'saques', 'saudita', 'sazonal', 'saí', 'saída', 'saúda', 'saúde', 'secom', 'secretaria', 'secretário', 'sede', 'segmentos', 'segue', 'seguem', 'seguida', 'seguidas', 'seguido', 'seguidores', 'seguindo', 'seguinte', 'seguir', 'seguiria', 'seguiu', 'segunda', 'segundo', 'segurança', 'seguranças', 'segurar', 'seguridade', 'seguro', 'sei', 'seis', 'seja', 'sejam', 'selic', 'sellner', 'sem', 'semana', 'semanalmente', 'semelhante', 'semente', 'semestre', 'sempre', 'senado', 'senador', 'senadora', 'senadores', 'sendo', 'senha', 'senhor', 'sensação', 'sensível', 'sentavam', 'sentença', 'sentindo', 'sentir', 'separado', 'sequer', 'sequestrado', 'sequência', 'ser', 'serem', 'sereno', 'sergio', 'seria', 'serpa', 'servidor', 'servir', 'serviçal', 'serviço', 'serviços', 'será', 'serão', 'sessão', 'sessões', 'sest', 'sete', 'setembro', 'setor', 'seu', 'seus', 'sexagenário', 'sexta', 'shared', 'show', 'shuang', 'siderúrgicos', 'sido', 'sigla', 'significa', 'silenciamento', 'silva', 'silvio', 'silêncio', 'sim', 'simbólica', 'simplesmente', 'simulação', 'simões', 'sinais', 'sindical', 'sindicato', 'sindicatos', 'sindipetro', 'sintetizou', 'sinto', 'sirene', 'sistema', 'sistemas', 'sistemática', 'site', 'situação', 'sky', 'slogan', 'slogans', 'sob', 'sobe', 'sobem', 'soberana', 'soberania', 'sobre', 'sobretaxa', 'sobretudo', 'sobrevivência', 'sociais', 'social', 'socialism', 'socialismo', 'socialista', 'socialistas', 'sociedade', 'socioculturais', 'sociologia', 'sociológicas', 'sociólogo', 'soco', 'sofra', 'sofre', 'sofrendo', 'sofrer', 'sofrermos', 'sofrerá', 'sofreu', 'sofri', 'sofrimento', 'soja', 'soldados', 'soleira', 'solicitando', 'solitária', 'solla', 'solo', 'solto', 'solução', 'som', 'soma', 'somam', 'sombria', 'somente', 'somos', 'somou', 'sorrentino', 'sou', 'soube', 'sousa', 'souza', 'soviética', 'soviéticos', 'spd', 'spino', 'status', 'stf', 'stj', 'stoltenberg', 'stripe', 'sua', 'suas', 'suba', 'subida', 'subir', 'submeter', 'submetido', 'subnotificado', 'subsequentes', 'subserviência', 'subsidiárias', 'substituindo', 'substituição', 'subsídios', 'sucedeu', 'sucedido', 'sugere', 'sugestão', 'suja', 'sujeito', 'sujeitos', 'sul', 'superado', 'superaram', 'superintendência', 'superior', 'superioridade', 'superou', 'suplente', 'suposta', 'supostamente', 'supremo', 'surge', 'surgimento', 'suspeita', 'suspeitas', 'suspender', 'suspenso', 'sustentando', 'suécia', 'sábado', 'são', 'séculos', 'sérgio', 'série', 'símbolo', 'síria', 'tabaco', 'tacla', 'tag', 'tailândia', 'tais', 'tal', 'talquei', 'talvez', 'tamanha', 'tamanho', 'também', 'tangíveis', 'tanta', 'tanto', 'tarde', 'tardin', 'tarefa', 'target', 'tarifa', 'tarifas', 'tarnopolsky', 'tarrant', 'taxa', 'taxas', 'tchuchuca', 'tchuchucas', 'tchutchuca', 'tcu', 'tecnologia', 'tecnológica', 'tecnológico', 'ted', 'teixeira', 'tel', 'telefonemas', 'telegrama', 'telhado', 'tem', 'tema', 'temas', 'teme', 'temer', 'temerária', 'temos', 'tempo', 'temporária', 'tempos', 'temáticas', 'tende', 'tendem', 'tendo', 'tendência', 'tenente', 'tenha', 'tenhamos', 'tenho', 'tensões', 'tenta', 'tentado', 'tentando', 'tentar', 'tentaram', 'tentarem', 'tentativa', 'tentativas', 'tentou', 'teor', 'teoria', 'teorização', 'ter', 'terceira', 'terceiro', 'terei', 'tereza', 'teria', 'teriam', 'termina', 'terminados', 'terminal', 'termo', 'termos', 'terra', 'território', 'terrorismo', 'terrorista', 'terroristas', 'terá', 'terão', 'terça', 'terço', 'terços', 'tese', 'testa', 'teste', 'teve', 'texto', 'textos', 'teólogo', 'the', 'thomaz', 'tiburi', 'tigrão', 'tim', 'times', 'timing', 'tinha', 'tinham', 'tio', 'tipo', 'tipos', 'tirando', 'tirar', 'tire', 'tiro', 'tiros', 'tirou', 'tirânica', 'titular', 'tivemos', 'tiver', 'tiveram', 'tiverem', 'tivesse', 'toca', 'tocando', 'tocante', 'tocar', 'toda', 'todas', 'todo', 'todos', 'toffoli', 'tolas', 'tolher', 'tom', 'tomada', 'tomamos', 'tomar', 'tomaram', 'tomaremos', 'tomemos', 'toni', 'topava', 'torando', 'tornar', 'tornarem', 'torno', 'tornou', 'tortura', 'torturadas', 'torturado', 'torturadores', 'torturados', 'torturas', 'total', 'totalmente', 'toulouse', 'trabalha', 'trabalhador', 'trabalhadores', 'trabalhamos', 'trabalhar', 'trabalhista', 'trabalhistas', 'trabalho', 'traders', 'tradicionais', 'tradicional', 'tradição', 'traição', 'trajetória', 'tramitação', 'trancou', 'transferido', 'transferir', 'transferência', 'transformar', 'transformações', 'transgênicos', 'transição', 'transnacionais', 'transparência', 'transportadora', 'transporte', 'trata', 'tratado', 'tratamento', 'tratar', 'trataria', 'tratativas', 'tratava', 'tratou', 'trauma', 'traumas', 'travadas', 'travado', 'traz', 'trazendo', 'trazer', 'trecho', 'trechos', 'treinamento', 'treinando', 'trf', 'tribunal', 'tributar', 'tributação', 'tributária', 'tributável', 'trilhão', 'trilhões', 'trimestre', 'triplex', 'trips', 'troca', 'troops', 'tropa', 'tropas', 'tropeço', 'trouxe', 'trouxeram', 'trt', 'trump', 'truncada', 'trás', 'trânsito', 'três', 'tríplex', 'tuburi', 'tudo', 'turbulentos', 'turca', 'turcas', 'turco', 'turismo', 'turma', 'turno', 'turquia', 'tutelada', 'tvs', 'twitter', 'táxi', 'tão', 'técnica', 'técnico', 'técnicos', 'têm', 'título', 'títulos', 'tóquio', 'ufes', 'ufsc', 'ultraliberal', 'ultraneoliberal', 'uma', 'umas', 'unida', 'unidades', 'unidas', 'unido', 'unidos', 'unilateral', 'unindo', 'universidade', 'união', 'urgente', 'urnas', 'urss', 'usa', 'usado', 'usados', 'usam', 'usando', 'usar', 'usaram', 'usina', 'using', 'uso', 'usou', 'usp', 'utilizada', 'utilizado', 'utilizados', 'utilizar', 'vagas', 'vai', 'vaias', 'vale', 'valente', 'valeram', 'valor', 'valores', 'valorização', 'valorizo', 'valorosas', 'vamos', 'vantagens', 'vantajosa', 'vanucchi', 'vara', 'varejo', 'vargas', 'variar', 'variedade', 'variáveis', 'varonil', 'vasculhado', 'vashem', 'veem', 'veemência', 'veiculadas', 'veio', 'veja', 'vejo', 'velho', 'velhos', 'veloso', 'veléz', 'vem', 'vemos', 'venda', 'vendas', 'veneno', 'venenos', 'venezuela', 'venezuelana', 'venezuelano', 'ver', 'verdad', 'verdade', 'verdadeira', 'verdadeiros', 'verde', 'vereadora', 'vergonha', 'vergonhosamente', 'verificada', 'vermelha', 'vermelhos', 'versão', 'verídica', 'vestindo', 'vez', 'vezes', 'veículos', 'via', 'viagem', 'viagens', 'viajar', 'viaje', 'viam', 'vias', 'vice', 'viciado', 'vida', 'vidas', 'video', 'vieira', 'viemos', 'vietnã', 'vigentes', 'vigilância', 'vigor', 'vigília', 'vim', 'vinculando', 'vindas', 'vinicius', 'viola', 'violador', 'violações', 'violenta', 'violou', 'violência', 'viralizou', 'virou', 'virtual', 'visa', 'visando', 'visavam', 'visita', 'visitando', 'visitar', 'vista', 'visto', 'visualizar', 'visão', 'visões', 'vitor', 'vitória', 'vitórias', 'viu', 'vivas', 'vive', 'vivem', 'vivemos', 'vivenciava', 'vivendo', 'vivia', 'vivo', 'vivíamos', 'vizinho', 'viúva', 'vladimir', 'vocação', 'você', 'vocês', 'volatilidade', 'volta', 'voltado', 'voltarem', 'volte', 'volto', 'voltou', 'votada', 'votado', 'votar', 'votação', 'votos', 'vou', 'voz', 'válidos', 'várias', 'vão', 'vélez', 'véspera', 'véu', 'vêm', 'vídeo', 'vídeos', 'vítima', 'vítimas', 'walter', 'washington', 'web', 'whatsapp', 'wikileaks', 'wti', 'yad', 'yasmin', 'yeend', 'you', 'ypg', 'zeca', 'zelândia', 'zero', 'zilhões', 'zonas', 'água', 'áquila', 'árabe', 'árabes', 'área', 'áreas', 'ávila', 'âmbito', 'época', 'ídolo', 'índia', 'índice', 'índices', 'ínsita', 'íntegra', 'ódio', 'órgão', 'órgãos', 'última', 'últimas', 'último', 'últimos', 'única', 'útil']\n"
          ],
          "name": "stdout"
        }
      ]
    },
    {
      "metadata": {
        "id": "P2prd1asieW7",
        "colab_type": "text"
      },
      "cell_type": "markdown",
      "source": [
        "*   Falsos positivos: \n",
        "*   Falsos negativos: jair/jairbolsonar, viag/viagens, terc/terceir, super/superior, senh/senhor, roupag/roupagens, regul/regulament, passag/passageir, neoliber/neoliberal, documento/documentos.\n",
        "\n",
        "Para consultas, essas anomalias irão provocar resultados que não eram esperados para algumas consultas que apresentarem palavras chaves que se encaixam nesses falsos positivos e falsos negativos. Como exemplo, ao consultar a palavra \"x\" você pode acabar encontrando resultados que apresentam a palavra \"y\"."
      ]
    },
    {
      "metadata": {
        "id": "RfsZwMOma5TO",
        "colab_type": "text"
      },
      "cell_type": "markdown",
      "source": [
        "### 4. Refaça a questão 3 do Laboratório anterior usando os tokens stemizados. Você percebeu alguma diferença em relação aos tokens sem stemming? Se sim, quais?"
      ]
    },
    {
      "metadata": {
        "id": "UBlHAw4Pa5b_",
        "colab_type": "code",
        "colab": {}
      },
      "cell_type": "code",
      "source": [
        "total_stemmed_word_occurrences = len(stemmed_words)\n",
        "stemmed_word_frequency = {}\n",
        "stemmed_word_frequency = Counter(stemmed_words)\n",
        "\n",
        "top_stemmed_words = stemmed_word_frequency.most_common(50)\n",
        "\n",
        "top_stemmed_50_table = pd.DataFrame(columns = ['Word', 'Frequency', 'r', 'Pr(%)', 'r.Pr'])\n",
        "\n",
        "top_stemmed_50_table['Word'] = [word[0] for word in top_stemmed_words]\n",
        "top_stemmed_50_table['Frequency'] = [word[1] for word in top_stemmed_words]\n",
        "top_stemmed_50_table['r'] = [rank+1 for rank in range(0, len(top_stemmed_words))]\n",
        "top_stemmed_50_table['Pr(%)'] = [round((word[1] / total_stemmed_word_occurrences)*100, 2) for word in top_stemmed_words]\n",
        "top_stemmed_50_table['r.Pr'] = round((top_stemmed_50_table['Pr(%)']/100)*top_stemmed_50_table['r'], 3)"
      ],
      "execution_count": 0,
      "outputs": []
    },
    {
      "metadata": {
        "id": "xB6Y-l-cqMPx",
        "colab_type": "code",
        "outputId": "239443f3-9665-409e-d7b1-8a594b9e6530",
        "colab": {
          "base_uri": "https://localhost:8080/",
          "height": 467
        }
      },
      "cell_type": "code",
      "source": [
        "f, ax = plt.subplots(figsize=(7, 7))\n",
        "ax.set(xscale=\"log\", yscale=\"log\")\n",
        "sns.regplot(\"r\", \"Frequency\", top_stemmed_50_table, ax=ax, marker=\"*\", scatter_kws={\"s\": 100}, fit_reg = False, color = '#FF8C00')"
      ],
      "execution_count": 17,
      "outputs": [
        {
          "output_type": "execute_result",
          "data": {
            "text/plain": [
              "<matplotlib.axes._subplots.AxesSubplot at 0x7ff786fba8d0>"
            ]
          },
          "metadata": {
            "tags": []
          },
          "execution_count": 17
        },
        {
          "output_type": "display_data",
          "data": {
            "image/png": "[encoded data removed]",
            "text/plain": [
              "<Figure size 504x504 with 1 Axes>"
            ]
          },
          "metadata": {
            "tags": []
          }
        }
      ]
    },
    {
      "metadata": {
        "id": "PJ4eSifaoHLv",
        "colab_type": "text"
      },
      "cell_type": "markdown",
      "source": [
        "Para este gráfico, comparando-o com o mesmo exemplo do laboratório anterior, é possível perceber uma maior linearidade na disposição dos tokens no gráfico, devido a maior concentração da informação, já que nesse caso há o agrupamento das palavras a partir dos seus radicais."
      ]
    },
    {
      "metadata": {
        "id": "XQTjF5RtqUhh",
        "colab_type": "code",
        "outputId": "ec0aed2f-b2a7-40d6-efe3-2369a2a48a3f",
        "colab": {
          "base_uri": "https://localhost:8080/",
          "height": 467
        }
      },
      "cell_type": "code",
      "source": [
        "bigrams = []\n",
        "bigrams = nltk.bigrams(stemmed_words)\n",
        "bigrams_freq = nltk.FreqDist(bigrams)\n",
        "bigrams_table = pd.DataFrame(bigrams_freq.most_common(), columns=['word', 'Frequency'])\n",
        "bigrams_table['r'] = bigrams_table['Frequency'].rank(ascending=False)\n",
        "\n",
        "f, ax = plt.subplots(figsize=(7, 7))\n",
        "ax.set(xscale=\"log\", yscale=\"log\")\n",
        "sns.regplot(\"r\", \"Frequency\", bigrams_table, ax=ax, marker=\"*\", scatter_kws={\"s\": 100}, fit_reg = False, color = '#FF8C00')"
      ],
      "execution_count": 18,
      "outputs": [
        {
          "output_type": "execute_result",
          "data": {
            "text/plain": [
              "<matplotlib.axes._subplots.AxesSubplot at 0x7ff78b418208>"
            ]
          },
          "metadata": {
            "tags": []
          },
          "execution_count": 18
        },
        {
          "output_type": "display_data",
          "data": {
            "image/png": "[encoded data removed]",
            "text/plain": [
              "<Figure size 504x504 with 1 Axes>"
            ]
          },
          "metadata": {
            "tags": []
          }
        }
      ]
    },
    {
      "metadata": {
        "id": "gwjhFbOJjEjA",
        "colab_type": "text"
      },
      "cell_type": "markdown",
      "source": [
        "Neste caso, comparando-o com o mesmo exemplo do laboratório anterior, não é possível perceber uma diferença significativa na disposição dos tokens no gráfico."
      ]
    }
  ]
}