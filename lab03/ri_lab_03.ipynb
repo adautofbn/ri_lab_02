{
  "nbformat": 4,
  "nbformat_minor": 0,
  "metadata": {
    "colab": {
      "name": "ri_lab_03",
      "version": "0.3.2",
      "provenance": [],
      "collapsed_sections": []
    },
    "kernelspec": {
      "name": "python3",
      "display_name": "Python 3"
    }
  },
  "cells": [
    {
      "metadata": {
        "id": "VUkt-55BaPRX",
        "colab_type": "code",
        "outputId": "2234a11a-ba30-46fc-a995-4a3dff7d0f2f",
        "colab": {
          "base_uri": "https://localhost:8080/",
          "height": 51
        }
      },
      "cell_type": "code",
      "source": [
        "import pandas as pd\n",
        "import nltk\n",
        "import re\n",
        "import numpy as np\n",
        "from nltk.tokenize import RegexpTokenizer\n",
        "from collections import Counter\n",
        "import matplotlib.pyplot as plt\n",
        "import seaborn as sns\n",
        "\n",
        "nltk.download('stopwords')\n",
        "result = pd.read_csv('https://raw.githubusercontent.com/adautofbn/ri_lab_01/master/output/results.csv')"
      ],
      "execution_count": 24,
      "outputs": [
        {
          "output_type": "stream",
          "text": [
            "[nltk_data] Downloading package stopwords to /root/nltk_data...\n",
            "[nltk_data]   Package stopwords is already up-to-date!\n"
          ],
          "name": "stdout"
        }
      ]
    },
    {
      "metadata": {
        "id": "6LTLaTRvaZI6",
        "colab_type": "text"
      },
      "cell_type": "markdown",
      "source": [
        "### 1. Escolha uma estratégia de tokenização para a coleção que você está usando e justifique sua estratégia. É importante que você inclua decisões adicionais em relação ao que foi feito no Laboratório anterior (por exemplo, tratamento de maiúsculas/minúsculas e strings numéricas)"
      ]
    },
    {
      "metadata": {
        "id": "DMTx_yHJaeCf",
        "colab_type": "code",
        "colab": {}
      },
      "cell_type": "code",
      "source": [
        "all_words = []\n",
        "filtered_words = []\n",
        "\n",
        "tknz = RegexpTokenizer(r'([A-Za-zÁáÉéÍíÓóÚúÃãÕõÇçÂâÊê]{3,27})')\n",
        "stopwords = nltk.corpus.stopwords.words('portuguese')\n",
        "\n",
        "for text in result.text:\n",
        "   words = [word for word in tknz.tokenize(text.lower())\n",
        "           if len(word) >= 3 and not bool(re.search(r'\\d', word))]\n",
        "   all_words.extend(words)\n",
        "\n",
        "filtered_words = [word for word in all_words if word not in stopwords]"
      ],
      "execution_count": 0,
      "outputs": []
    },
    {
      "metadata": {
        "id": "Ku0J6ACiWTBj",
        "colab_type": "code",
        "outputId": "846a6565-a74a-4036-e785-91d68c0158b8",
        "colab": {
          "base_uri": "https://localhost:8080/",
          "height": 51
        }
      },
      "cell_type": "code",
      "source": [
        "print(\"Sem filtragem de stopwords:\", len(all_words))\n",
        "print(\"Com filtragem de stopwords:\", len(filtered_words))"
      ],
      "execution_count": 26,
      "outputs": [
        {
          "output_type": "stream",
          "text": [
            "Sem filtragem de stopwords: 17768\n",
            "Com filtragem de stopwords: 13949\n"
          ],
          "name": "stdout"
        }
      ]
    },
    {
      "metadata": {
        "id": "_k30o6inh7lC",
        "colab_type": "text"
      },
      "cell_type": "markdown",
      "source": [
        "A estratégia escolhida foi a de tokenizar o csv adquirido no lab 01, utilizando o tokenizador provido pela biblioteca nltk a partir de um regex que suporta palavras da líingua portuguesa. Também tratamos tudo como letras minúsculas e retiramos palavras sem muito significado que estão contidas dentro do conjunto chamada \"stopwords\" também provido pelo nltk."
      ]
    },
    {
      "metadata": {
        "id": "YvK8twLNa2Yp",
        "colab_type": "text"
      },
      "cell_type": "markdown",
      "source": [
        "### 2. Refaça a questão 2 do Laboratório anterior usando os tokens produzidos "
      ]
    },
    {
      "metadata": {
        "id": "6O4btAfFjtyw",
        "colab_type": "code",
        "colab": {}
      },
      "cell_type": "code",
      "source": [
        "total_word_occurrences = len(filtered_words)\n",
        "word_frequency = {}\n",
        "word_frequency = Counter(filtered_words)"
      ],
      "execution_count": 0,
      "outputs": []
    },
    {
      "metadata": {
        "id": "d4mb13GNa4Pi",
        "colab_type": "code",
        "outputId": "6891fac2-034d-4ac3-b293-fa14164ac064",
        "colab": {
          "base_uri": "https://localhost:8080/",
          "height": 1630
        }
      },
      "cell_type": "code",
      "source": [
        "top_words = word_frequency.most_common(50)\n",
        "\n",
        "top_50_table = pd.DataFrame(columns = ['Word', 'Frequency', 'r', 'Pr(%)', 'r.Pr'])\n",
        "\n",
        "top_50_table['Word'] = [word[0] for word in top_words]\n",
        "top_50_table['Frequency'] = [word[1] for word in top_words]\n",
        "top_50_table['r'] = [rank+1 for rank in range(0, len(top_words))]\n",
        "top_50_table['Pr(%)'] = [round((word[1] / total_word_occurrences)*100, 2) for word in top_words]\n",
        "top_50_table['r.Pr'] = round((top_50_table['Pr(%)']/100)*top_50_table['r'], 3)\n",
        "\n",
        "table = top_50_table.set_index('r')\n",
        "table"
      ],
      "execution_count": 28,
      "outputs": [
        {
          "output_type": "execute_result",
          "data": {
            "text/html": [
              "<div>\n",
              "<style scoped>\n",
              "    .dataframe tbody tr th:only-of-type {\n",
              "        vertical-align: middle;\n",
              "    }\n",
              "\n",
              "    .dataframe tbody tr th {\n",
              "        vertical-align: top;\n",
              "    }\n",
              "\n",
              "    .dataframe thead th {\n",
              "        text-align: right;\n",
              "    }\n",
              "</style>\n",
              "<table border=\"1\" class=\"dataframe\">\n",
              "  <thead>\n",
              "    <tr style=\"text-align: right;\">\n",
              "      <th></th>\n",
              "      <th>Word</th>\n",
              "      <th>Frequency</th>\n",
              "      <th>Pr(%)</th>\n",
              "      <th>r.Pr</th>\n",
              "    </tr>\n",
              "    <tr>\n",
              "      <th>r</th>\n",
              "      <th></th>\n",
              "      <th></th>\n",
              "      <th></th>\n",
              "      <th></th>\n",
              "    </tr>\n",
              "  </thead>\n",
              "  <tbody>\n",
              "    <tr>\n",
              "      <th>1</th>\n",
              "      <td>presidente</td>\n",
              "      <td>113</td>\n",
              "      <td>0.81</td>\n",
              "      <td>0.008</td>\n",
              "    </tr>\n",
              "    <tr>\n",
              "      <th>2</th>\n",
              "      <td>brasil</td>\n",
              "      <td>94</td>\n",
              "      <td>0.67</td>\n",
              "      <td>0.013</td>\n",
              "    </tr>\n",
              "    <tr>\n",
              "      <th>3</th>\n",
              "      <td>bolsonaro</td>\n",
              "      <td>91</td>\n",
              "      <td>0.65</td>\n",
              "      <td>0.020</td>\n",
              "    </tr>\n",
              "    <tr>\n",
              "      <th>4</th>\n",
              "      <td>sobre</td>\n",
              "      <td>84</td>\n",
              "      <td>0.60</td>\n",
              "      <td>0.024</td>\n",
              "    </tr>\n",
              "    <tr>\n",
              "      <th>5</th>\n",
              "      <td>disse</td>\n",
              "      <td>68</td>\n",
              "      <td>0.49</td>\n",
              "      <td>0.024</td>\n",
              "    </tr>\n",
              "    <tr>\n",
              "      <th>6</th>\n",
              "      <td>governo</td>\n",
              "      <td>58</td>\n",
              "      <td>0.42</td>\n",
              "      <td>0.025</td>\n",
              "    </tr>\n",
              "    <tr>\n",
              "      <th>7</th>\n",
              "      <td>ministro</td>\n",
              "      <td>57</td>\n",
              "      <td>0.41</td>\n",
              "      <td>0.029</td>\n",
              "    </tr>\n",
              "    <tr>\n",
              "      <th>8</th>\n",
              "      <td>país</td>\n",
              "      <td>47</td>\n",
              "      <td>0.34</td>\n",
              "      <td>0.027</td>\n",
              "    </tr>\n",
              "    <tr>\n",
              "      <th>9</th>\n",
              "      <td>acordo</td>\n",
              "      <td>47</td>\n",
              "      <td>0.34</td>\n",
              "      <td>0.031</td>\n",
              "    </tr>\n",
              "    <tr>\n",
              "      <th>10</th>\n",
              "      <td>segundo</td>\n",
              "      <td>46</td>\n",
              "      <td>0.33</td>\n",
              "      <td>0.033</td>\n",
              "    </tr>\n",
              "    <tr>\n",
              "      <th>11</th>\n",
              "      <td>feira</td>\n",
              "      <td>43</td>\n",
              "      <td>0.31</td>\n",
              "      <td>0.034</td>\n",
              "    </tr>\n",
              "    <tr>\n",
              "      <th>12</th>\n",
              "      <td>contra</td>\n",
              "      <td>43</td>\n",
              "      <td>0.31</td>\n",
              "      <td>0.037</td>\n",
              "    </tr>\n",
              "    <tr>\n",
              "      <th>13</th>\n",
              "      <td>lula</td>\n",
              "      <td>43</td>\n",
              "      <td>0.31</td>\n",
              "      <td>0.040</td>\n",
              "    </tr>\n",
              "    <tr>\n",
              "      <th>14</th>\n",
              "      <td>ser</td>\n",
              "      <td>42</td>\n",
              "      <td>0.30</td>\n",
              "      <td>0.042</td>\n",
              "    </tr>\n",
              "    <tr>\n",
              "      <th>15</th>\n",
              "      <td>março</td>\n",
              "      <td>41</td>\n",
              "      <td>0.29</td>\n",
              "      <td>0.044</td>\n",
              "    </tr>\n",
              "    <tr>\n",
              "      <th>16</th>\n",
              "      <td>ano</td>\n",
              "      <td>40</td>\n",
              "      <td>0.29</td>\n",
              "      <td>0.046</td>\n",
              "    </tr>\n",
              "    <tr>\n",
              "      <th>17</th>\n",
              "      <td>jair</td>\n",
              "      <td>39</td>\n",
              "      <td>0.28</td>\n",
              "      <td>0.048</td>\n",
              "    </tr>\n",
              "    <tr>\n",
              "      <th>18</th>\n",
              "      <td>afirmou</td>\n",
              "      <td>39</td>\n",
              "      <td>0.28</td>\n",
              "      <td>0.050</td>\n",
              "    </tr>\n",
              "    <tr>\n",
              "      <th>19</th>\n",
              "      <td>paulo</td>\n",
              "      <td>38</td>\n",
              "      <td>0.27</td>\n",
              "      <td>0.051</td>\n",
              "    </tr>\n",
              "    <tr>\n",
              "      <th>20</th>\n",
              "      <td>países</td>\n",
              "      <td>37</td>\n",
              "      <td>0.27</td>\n",
              "      <td>0.054</td>\n",
              "    </tr>\n",
              "    <tr>\n",
              "      <th>21</th>\n",
              "      <td>estado</td>\n",
              "      <td>37</td>\n",
              "      <td>0.27</td>\n",
              "      <td>0.057</td>\n",
              "    </tr>\n",
              "    <tr>\n",
              "      <th>22</th>\n",
              "      <td>após</td>\n",
              "      <td>34</td>\n",
              "      <td>0.24</td>\n",
              "      <td>0.053</td>\n",
              "    </tr>\n",
              "    <tr>\n",
              "      <th>23</th>\n",
              "      <td>vai</td>\n",
              "      <td>33</td>\n",
              "      <td>0.24</td>\n",
              "      <td>0.055</td>\n",
              "    </tr>\n",
              "    <tr>\n",
              "      <th>24</th>\n",
              "      <td>anos</td>\n",
              "      <td>33</td>\n",
              "      <td>0.24</td>\n",
              "      <td>0.058</td>\n",
              "    </tr>\n",
              "    <tr>\n",
              "      <th>25</th>\n",
              "      <td>ter</td>\n",
              "      <td>32</td>\n",
              "      <td>0.23</td>\n",
              "      <td>0.057</td>\n",
              "    </tr>\n",
              "    <tr>\n",
              "      <th>26</th>\n",
              "      <td>hoje</td>\n",
              "      <td>30</td>\n",
              "      <td>0.22</td>\n",
              "      <td>0.057</td>\n",
              "    </tr>\n",
              "    <tr>\n",
              "      <th>27</th>\n",
              "      <td>decisão</td>\n",
              "      <td>29</td>\n",
              "      <td>0.21</td>\n",
              "      <td>0.057</td>\n",
              "    </tr>\n",
              "    <tr>\n",
              "      <th>28</th>\n",
              "      <td>ainda</td>\n",
              "      <td>29</td>\n",
              "      <td>0.21</td>\n",
              "      <td>0.059</td>\n",
              "    </tr>\n",
              "    <tr>\n",
              "      <th>29</th>\n",
              "      <td>diz</td>\n",
              "      <td>29</td>\n",
              "      <td>0.21</td>\n",
              "      <td>0.061</td>\n",
              "    </tr>\n",
              "    <tr>\n",
              "      <th>30</th>\n",
              "      <td>ministério</td>\n",
              "      <td>28</td>\n",
              "      <td>0.20</td>\n",
              "      <td>0.060</td>\n",
              "    </tr>\n",
              "    <tr>\n",
              "      <th>31</th>\n",
              "      <td>economia</td>\n",
              "      <td>28</td>\n",
              "      <td>0.20</td>\n",
              "      <td>0.062</td>\n",
              "    </tr>\n",
              "    <tr>\n",
              "      <th>32</th>\n",
              "      <td>todo</td>\n",
              "      <td>28</td>\n",
              "      <td>0.20</td>\n",
              "      <td>0.064</td>\n",
              "    </tr>\n",
              "    <tr>\n",
              "      <th>33</th>\n",
              "      <td>partido</td>\n",
              "      <td>28</td>\n",
              "      <td>0.20</td>\n",
              "      <td>0.066</td>\n",
              "    </tr>\n",
              "    <tr>\n",
              "      <th>34</th>\n",
              "      <td>brasileiro</td>\n",
              "      <td>27</td>\n",
              "      <td>0.19</td>\n",
              "      <td>0.065</td>\n",
              "    </tr>\n",
              "    <tr>\n",
              "      <th>35</th>\n",
              "      <td>brasileira</td>\n",
              "      <td>27</td>\n",
              "      <td>0.19</td>\n",
              "      <td>0.066</td>\n",
              "    </tr>\n",
              "    <tr>\n",
              "      <th>36</th>\n",
              "      <td>eua</td>\n",
              "      <td>27</td>\n",
              "      <td>0.19</td>\n",
              "      <td>0.068</td>\n",
              "    </tr>\n",
              "    <tr>\n",
              "      <th>37</th>\n",
              "      <td>estados</td>\n",
              "      <td>26</td>\n",
              "      <td>0.19</td>\n",
              "      <td>0.070</td>\n",
              "    </tr>\n",
              "    <tr>\n",
              "      <th>38</th>\n",
              "      <td>previdência</td>\n",
              "      <td>26</td>\n",
              "      <td>0.19</td>\n",
              "      <td>0.072</td>\n",
              "    </tr>\n",
              "    <tr>\n",
              "      <th>39</th>\n",
              "      <td>nesta</td>\n",
              "      <td>25</td>\n",
              "      <td>0.18</td>\n",
              "      <td>0.070</td>\n",
              "    </tr>\n",
              "    <tr>\n",
              "      <th>40</th>\n",
              "      <td>guedes</td>\n",
              "      <td>25</td>\n",
              "      <td>0.18</td>\n",
              "      <td>0.072</td>\n",
              "    </tr>\n",
              "    <tr>\n",
              "      <th>41</th>\n",
              "      <td>israel</td>\n",
              "      <td>25</td>\n",
              "      <td>0.18</td>\n",
              "      <td>0.074</td>\n",
              "    </tr>\n",
              "    <tr>\n",
              "      <th>42</th>\n",
              "      <td>reforma</td>\n",
              "      <td>25</td>\n",
              "      <td>0.18</td>\n",
              "      <td>0.076</td>\n",
              "    </tr>\n",
              "    <tr>\n",
              "      <th>43</th>\n",
              "      <td>federal</td>\n",
              "      <td>25</td>\n",
              "      <td>0.18</td>\n",
              "      <td>0.077</td>\n",
              "    </tr>\n",
              "    <tr>\n",
              "      <th>44</th>\n",
              "      <td>golpe</td>\n",
              "      <td>25</td>\n",
              "      <td>0.18</td>\n",
              "      <td>0.079</td>\n",
              "    </tr>\n",
              "    <tr>\n",
              "      <th>45</th>\n",
              "      <td>militar</td>\n",
              "      <td>25</td>\n",
              "      <td>0.18</td>\n",
              "      <td>0.081</td>\n",
              "    </tr>\n",
              "    <tr>\n",
              "      <th>46</th>\n",
              "      <td>dia</td>\n",
              "      <td>24</td>\n",
              "      <td>0.17</td>\n",
              "      <td>0.078</td>\n",
              "    </tr>\n",
              "    <tr>\n",
              "      <th>47</th>\n",
              "      <td>parte</td>\n",
              "      <td>24</td>\n",
              "      <td>0.17</td>\n",
              "      <td>0.080</td>\n",
              "    </tr>\n",
              "    <tr>\n",
              "      <th>48</th>\n",
              "      <td>poder</td>\n",
              "      <td>24</td>\n",
              "      <td>0.17</td>\n",
              "      <td>0.082</td>\n",
              "    </tr>\n",
              "    <tr>\n",
              "      <th>49</th>\n",
              "      <td>milhões</td>\n",
              "      <td>23</td>\n",
              "      <td>0.16</td>\n",
              "      <td>0.078</td>\n",
              "    </tr>\n",
              "    <tr>\n",
              "      <th>50</th>\n",
              "      <td>pessoas</td>\n",
              "      <td>23</td>\n",
              "      <td>0.16</td>\n",
              "      <td>0.080</td>\n",
              "    </tr>\n",
              "  </tbody>\n",
              "</table>\n",
              "</div>"
            ],
            "text/plain": [
              "           Word  Frequency  Pr(%)   r.Pr\n",
              "r                                       \n",
              "1    presidente        113   0.81  0.008\n",
              "2        brasil         94   0.67  0.013\n",
              "3     bolsonaro         91   0.65  0.020\n",
              "4         sobre         84   0.60  0.024\n",
              "5         disse         68   0.49  0.024\n",
              "6       governo         58   0.42  0.025\n",
              "7      ministro         57   0.41  0.029\n",
              "8          país         47   0.34  0.027\n",
              "9        acordo         47   0.34  0.031\n",
              "10      segundo         46   0.33  0.033\n",
              "11        feira         43   0.31  0.034\n",
              "12       contra         43   0.31  0.037\n",
              "13         lula         43   0.31  0.040\n",
              "14          ser         42   0.30  0.042\n",
              "15        março         41   0.29  0.044\n",
              "16          ano         40   0.29  0.046\n",
              "17         jair         39   0.28  0.048\n",
              "18      afirmou         39   0.28  0.050\n",
              "19        paulo         38   0.27  0.051\n",
              "20       países         37   0.27  0.054\n",
              "21       estado         37   0.27  0.057\n",
              "22         após         34   0.24  0.053\n",
              "23          vai         33   0.24  0.055\n",
              "24         anos         33   0.24  0.058\n",
              "25          ter         32   0.23  0.057\n",
              "26         hoje         30   0.22  0.057\n",
              "27      decisão         29   0.21  0.057\n",
              "28        ainda         29   0.21  0.059\n",
              "29          diz         29   0.21  0.061\n",
              "30   ministério         28   0.20  0.060\n",
              "31     economia         28   0.20  0.062\n",
              "32         todo         28   0.20  0.064\n",
              "33      partido         28   0.20  0.066\n",
              "34   brasileiro         27   0.19  0.065\n",
              "35   brasileira         27   0.19  0.066\n",
              "36          eua         27   0.19  0.068\n",
              "37      estados         26   0.19  0.070\n",
              "38  previdência         26   0.19  0.072\n",
              "39        nesta         25   0.18  0.070\n",
              "40       guedes         25   0.18  0.072\n",
              "41       israel         25   0.18  0.074\n",
              "42      reforma         25   0.18  0.076\n",
              "43      federal         25   0.18  0.077\n",
              "44        golpe         25   0.18  0.079\n",
              "45      militar         25   0.18  0.081\n",
              "46          dia         24   0.17  0.078\n",
              "47        parte         24   0.17  0.080\n",
              "48        poder         24   0.17  0.082\n",
              "49      milhões         23   0.16  0.078\n",
              "50      pessoas         23   0.16  0.080"
            ]
          },
          "metadata": {
            "tags": []
          },
          "execution_count": 28
        }
      ]
    },
    {
      "metadata": {
        "id": "r2owdLtpa4j0",
        "colab_type": "text"
      },
      "cell_type": "markdown",
      "source": [
        "### 3. Aplique Stemming nos tokens produzidos e encontre 10 exemplos de falsos positivos e 10 exemplos de falsos negativos. Que impacto você acha que falsos positivos e negativos, como esses, teriam no processamento de consultas? Dê exemplos."
      ]
    },
    {
      "metadata": {
        "id": "ShHX-Pmaa4vI",
        "colab_type": "code",
        "outputId": "006ed41f-17fb-4a03-d459-750de1bd0ecb",
        "colab": {
          "base_uri": "https://localhost:8080/",
          "height": 51
        }
      },
      "cell_type": "code",
      "source": [
        "stemmed_words = []\n",
        "stemmer = nltk.stem.SnowballStemmer('portuguese')\n",
        "\n",
        "stemmed_words = [stemmer.stem(word) for word in filtered_words]\n",
        "\n",
        "set_stem = sorted(set(stemmed_words))\n",
        "set_words = sorted(set(filtered_words))\n",
        "\n",
        "print(\"Número de palavras distintas sem Stemming:\",len(set_words))\n",
        "print(\"Número de palavras distintas com Stemming:\",len(set_stem))\n",
        "\n",
        "set_stem = [word for word in set_stem if word.startswith('d')]\n",
        "set_words = [word for word in set_words if word.startswith('d')]"
      ],
      "execution_count": 62,
      "outputs": [
        {
          "output_type": "stream",
          "text": [
            "Número de palavras distintas sem Stemming: 4991\n",
            "Número de palavras distintas com Stemming: 3265\n"
          ],
          "name": "stdout"
        }
      ]
    },
    {
      "metadata": {
        "id": "P2prd1asieW7",
        "colab_type": "text"
      },
      "cell_type": "markdown",
      "source": [
        "*   Falsos positivos: lei/leia -> lei, quarta/quarto/quartéis -> quart, terça/terço/terços -> ter, sal/sala -> sal, briga/brigada -> brig, can/cana/cano/canais -> can, falar/falido -> fal, maia/maio -> mai, meses/mesa -> mes, mãe/mão -> mã.\n",
        "\n",
        "\n",
        "*   Falsos negativos: acha/acham/achand/acho, viag/viagens, terc/terceir, super/superior, roupag/roupagens, regul/regulament, passag/passageir, neoliber/neoliberal, documento/documentos, secret/secretári.\n",
        "\n",
        "Para consultas, essas anomalias irão provocar resultados que não eram esperados para algumas consultas que apresentarem palavras chaves que se encaixam nesses falsos positivos e falsos negativos. Como exemplo, ao consultar a palavra \"x\" você pode acabar encontrando resultados que apresentam a palavra \"y\"."
      ]
    },
    {
      "metadata": {
        "id": "RfsZwMOma5TO",
        "colab_type": "text"
      },
      "cell_type": "markdown",
      "source": [
        "### 4. Refaça a questão 3 do Laboratório anterior usando os tokens stemizados. Você percebeu alguma diferença em relação aos tokens sem stemming? Se sim, quais?"
      ]
    },
    {
      "metadata": {
        "id": "UBlHAw4Pa5b_",
        "colab_type": "code",
        "colab": {}
      },
      "cell_type": "code",
      "source": [
        "total_stemmed_word_occurrences = len(stemmed_words)\n",
        "stemmed_word_frequency = {}\n",
        "stemmed_word_frequency = Counter(stemmed_words)\n",
        "\n",
        "top_stemmed_words = stemmed_word_frequency.most_common(50)\n",
        "\n",
        "top_stemmed_50_table = pd.DataFrame(columns = ['Word', 'Frequency', 'r', 'Pr(%)', 'r.Pr'])\n",
        "\n",
        "top_stemmed_50_table['Word'] = [word[0] for word in top_stemmed_words]\n",
        "top_stemmed_50_table['Frequency'] = [word[1] for word in top_stemmed_words]\n",
        "top_stemmed_50_table['r'] = [rank+1 for rank in range(0, len(top_stemmed_words))]\n",
        "top_stemmed_50_table['Pr(%)'] = [round((word[1] / total_stemmed_word_occurrences)*100, 2) for word in top_stemmed_words]\n",
        "top_stemmed_50_table['r.Pr'] = round((top_stemmed_50_table['Pr(%)']/100)*top_stemmed_50_table['r'], 3)"
      ],
      "execution_count": 0,
      "outputs": []
    },
    {
      "metadata": {
        "id": "xB6Y-l-cqMPx",
        "colab_type": "code",
        "outputId": "742517ca-1b3b-4c20-d5c7-8581ee055e8b",
        "colab": {
          "base_uri": "https://localhost:8080/",
          "height": 467
        }
      },
      "cell_type": "code",
      "source": [
        "f, ax = plt.subplots(figsize=(7, 7))\n",
        "ax.set(xscale=\"log\", yscale=\"log\")\n",
        "sns.regplot(\"r\", \"Frequency\", top_stemmed_50_table, ax=ax, marker=\"*\", scatter_kws={\"s\": 100}, fit_reg = False, color = '#FF8C00')"
      ],
      "execution_count": 31,
      "outputs": [
        {
          "output_type": "execute_result",
          "data": {
            "text/plain": [
              "<matplotlib.axes._subplots.AxesSubplot at 0x7ff786b52358>"
            ]
          },
          "metadata": {
            "tags": []
          },
          "execution_count": 31
        },
        {
          "output_type": "display_data",
          "data": {
            "image/png": "[encoded data removed]",
            "text/plain": [
              "<Figure size 504x504 with 1 Axes>"
            ]
          },
          "metadata": {
            "tags": []
          }
        }
      ]
    },
    {
      "metadata": {
        "id": "PJ4eSifaoHLv",
        "colab_type": "text"
      },
      "cell_type": "markdown",
      "source": [
        "Para este gráfico, comparando-o com o mesmo exemplo do laboratório anterior, é possível perceber uma maior linearidade na disposição dos tokens no gráfico, devido a maior concentração da informação, já que nesse caso há o agrupamento das palavras a partir dos seus radicais."
      ]
    },
    {
      "metadata": {
        "id": "XQTjF5RtqUhh",
        "colab_type": "code",
        "outputId": "c3eb2d9a-80f3-4e4b-9243-4baebdd5ed03",
        "colab": {
          "base_uri": "https://localhost:8080/",
          "height": 467
        }
      },
      "cell_type": "code",
      "source": [
        "bigrams = []\n",
        "bigrams = nltk.bigrams(stemmed_words)\n",
        "bigrams_freq = nltk.FreqDist(bigrams)\n",
        "bigrams_table = pd.DataFrame(bigrams_freq.most_common(), columns=['word', 'Frequency'])\n",
        "bigrams_table['r'] = bigrams_table['Frequency'].rank(ascending=False)\n",
        "\n",
        "f, ax = plt.subplots(figsize=(7, 7))\n",
        "ax.set(xscale=\"log\", yscale=\"log\")\n",
        "sns.regplot(\"r\", \"Frequency\", bigrams_table, ax=ax, marker=\"*\", scatter_kws={\"s\": 100}, fit_reg = False, color = '#FF8C00')"
      ],
      "execution_count": 32,
      "outputs": [
        {
          "output_type": "execute_result",
          "data": {
            "text/plain": [
              "<matplotlib.axes._subplots.AxesSubplot at 0x7ff786efb860>"
            ]
          },
          "metadata": {
            "tags": []
          },
          "execution_count": 32
        },
        {
          "output_type": "display_data",
          "data": {
            "image/png": "[encoded data removed]",
            "text/plain": [
              "<Figure size 504x504 with 1 Axes>"
            ]
          },
          "metadata": {
            "tags": []
          }
        }
      ]
    },
    {
      "metadata": {
        "id": "gwjhFbOJjEjA",
        "colab_type": "text"
      },
      "cell_type": "markdown",
      "source": [
        "Neste caso, comparando-o com o mesmo exemplo do laboratório anterior, não é possível perceber uma diferença significativa na disposição dos tokens no gráfico."
      ]
    }
  ]
}