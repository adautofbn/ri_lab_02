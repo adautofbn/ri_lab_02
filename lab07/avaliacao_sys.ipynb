{
  "nbformat": 4,
  "nbformat_minor": 0,
  "metadata": {
    "colab": {
      "name": "avaliacao_sys",
      "version": "0.3.2",
      "provenance": [],
      "collapsed_sections": [],
      "include_colab_link": true
    },
    "kernelspec": {
      "name": "python3",
      "display_name": "Python 3"
    }
  },
  "cells": [
    {
      "cell_type": "markdown",
      "metadata": {
        "id": "view-in-github",
        "colab_type": "text"
      },
      "source": [
        "<a href=\"https://colab.research.google.com/github/adautofbn/ri_labs/blob/master/lab07/avaliacao_sys.ipynb\" target=\"_parent\"><img src=\"https://colab.research.google.com/assets/colab-badge.svg\" alt=\"Open In Colab\"/></a>"
      ]
    },
    {
      "cell_type": "code",
      "metadata": {
        "id": "p2RLVWtQEFBt",
        "colab_type": "code",
        "outputId": "a9e75fd6-53ae-4814-f246-c53da8481b5d",
        "colab": {
          "base_uri": "https://localhost:8080/",
          "height": 51
        }
      },
      "source": [
        "import pandas as pd\n",
        "import numpy as np\n",
        "import nltk\n",
        "import re\n",
        "import collections\n",
        "import bisect\n",
        "from nltk.tokenize import RegexpTokenizer\n",
        "\n",
        "nltk.download('stopwords')\n",
        "result = pd.read_csv('https://raw.githubusercontent.com/adautofbn/ri_labs/master/lab06/results.csv')\n",
        "                                            # Resultados adquiridos do site el-pais em abril de 2019\n",
        "json = pd.read_json('https://raw.githubusercontent.com/adautofbn/ri_labs/master/lab07/results_final.json')\n",
        "feedback = {json['query'][i]:json['docs'][i] for i in range(10)}"
      ],
      "execution_count": 529,
      "outputs": [
        {
          "output_type": "stream",
          "text": [
            "[nltk_data] Downloading package stopwords to /root/nltk_data...\n",
            "[nltk_data]   Package stopwords is already up-to-date!\n"
          ],
          "name": "stdout"
        }
      ]
    },
    {
      "cell_type": "markdown",
      "metadata": {
        "id": "oRm2DPuMnsBA",
        "colab_type": "text"
      },
      "source": [
        "Refazemos o conjunto de indíces invertidos para que possam ser feitos os calculos dos modelos vetoriais."
      ]
    },
    {
      "cell_type": "code",
      "metadata": {
        "id": "LjJNtH1_Er_h",
        "colab_type": "code",
        "colab": {}
      },
      "source": [
        "tknz = RegexpTokenizer(r'([A-Za-zÁáÉéÍíÓóÚúÃãÕõÇçÂâÊê]{3,27})')\n",
        "stopwords = nltk.corpus.stopwords.words('portuguese') \n",
        "indexes = {}\n",
        "M = result.text.count()\n",
        "\n",
        "for i in range(len(result)):\n",
        "  text = result.text[i]\n",
        "  words = [word for word in tknz.tokenize(text.lower())\n",
        "           if not bool(re.search(r'\\d', word))\n",
        "           and word not in stopwords and len(word) >= 3]  \n",
        "  for t in words:\n",
        "    if t not in indexes.keys():\n",
        "      indexes[t] = []\n",
        "    indexes[t].append(i)\n",
        "    \n",
        "for elem in indexes.items():\n",
        "  d = dict(collections.Counter(elem[1]))\n",
        "  indexes[elem[0]] = list(d.items())\n",
        "  \n",
        "for word in indexes:\n",
        "  k = len(indexes[word])\n",
        "  IDF = round(np.log((M+1)/k),2)\n",
        "  indexes[word].append(IDF)"
      ],
      "execution_count": 0,
      "outputs": []
    },
    {
      "cell_type": "markdown",
      "metadata": {
        "id": "9865Eub7G_Ms",
        "colab_type": "text"
      },
      "source": [
        "## 1. Escolha um documento dentre aqueles da base do aluno Bernardi e crie uma consulta que você acha que tem boas chances de recuperar este documento. Em seguida, avalie os resultados de tal consulta usando a métrica de avaliação Reciprocal Rank"
      ]
    },
    {
      "cell_type": "markdown",
      "metadata": {
        "id": "iu0MKqvOauUb",
        "colab_type": "text"
      },
      "source": [
        "Escolhemos o documento 213, que trata das consequências do atentado em Suzano na sociedade. Várias ameaças e mensagens de apoio aos terroristas, em redes sociais, foram tratadas com nenhuma ou mínima tolerância devido ao trauma que o atentado gerou."
      ]
    },
    {
      "cell_type": "code",
      "metadata": {
        "id": "i4lqvG2mKzgW",
        "colab_type": "code",
        "outputId": "83fe22c6-b4f5-485d-9adf-fdafd056c146",
        "colab": {
          "base_uri": "https://localhost:8080/",
          "height": 34
        }
      },
      "source": [
        "ndoc = 213\n",
        "document = result.loc[ndoc]\n",
        "query = 'armas suzano'\n",
        "\n",
        "document.title"
      ],
      "execution_count": 531,
      "outputs": [
        {
          "output_type": "execute_result",
          "data": {
            "text/plain": [
              "'A tensão em escolas e universidades na esteira do massacre de Suzano'"
            ]
          },
          "metadata": {
            "tags": []
          },
          "execution_count": 531
        }
      ]
    },
    {
      "cell_type": "markdown",
      "metadata": {
        "id": "v9ecn46apI5I",
        "colab_type": "text"
      },
      "source": [
        "Abaixo temos as definições de modelos vetoriais feitas no laboratório anterior."
      ]
    },
    {
      "cell_type": "code",
      "metadata": {
        "id": "Y2Z6M_ARNNUO",
        "colab_type": "code",
        "colab": {}
      },
      "source": [
        "def binary_vsm(query, document):\n",
        "  score = 0\n",
        "  query_tokens = query.split()\n",
        "  doc_tokens = document.split()\n",
        "  \n",
        "  for token in query_tokens:\n",
        "    score += (token in doc_tokens)\n",
        "    \n",
        "  return score"
      ],
      "execution_count": 0,
      "outputs": []
    },
    {
      "cell_type": "code",
      "metadata": {
        "id": "-QhE1vijNQUF",
        "colab_type": "code",
        "colab": {}
      },
      "source": [
        "def tf_vsm(query, document):\n",
        "  score = 0\n",
        "  doc_tokens = document.split()\n",
        "  query_tokens = query.split()\n",
        "  \n",
        "  for word in query_tokens:\n",
        "    score += doc_tokens.count(word)\n",
        "  \n",
        "  return score"
      ],
      "execution_count": 0,
      "outputs": []
    },
    {
      "cell_type": "code",
      "metadata": {
        "id": "VSXfB5rMNTGN",
        "colab_type": "code",
        "colab": {}
      },
      "source": [
        "def bm25_vsm(query, document, k):\n",
        "  score = 0\n",
        "  doc_tokens = document.split()\n",
        "  query_tokens = query.split()\n",
        "  \n",
        "  words = [word for word in query_tokens if word in doc_tokens]\n",
        "    \n",
        "  for word in words:\n",
        "    cwd = doc_tokens.count(word)\n",
        "    dfw = 0\n",
        "    if word in indexes:\n",
        "      dfw = len(indexes[word][:-1])\n",
        "    score += (((k+1) * cwd) / (cwd + k)) * np.log10(((M+1) / dfw)) if dfw != 0 else 0\n",
        "  \n",
        "  return round(score,2)"
      ],
      "execution_count": 0,
      "outputs": []
    },
    {
      "cell_type": "code",
      "metadata": {
        "id": "I-piaOEqNUHf",
        "colab_type": "code",
        "colab": {}
      },
      "source": [
        "def tfidf_vsm(query, document):\n",
        "  score = 0\n",
        "  doc_tokens = document.split()\n",
        "  query_tokens = query.split()\n",
        "  \n",
        "  for word in query_tokens:\n",
        "    cwd = doc_tokens.count(word)\n",
        "    if word in indexes:\n",
        "      score += cwd * indexes[word][-1]\n",
        "  \n",
        "  return round(score,2)"
      ],
      "execution_count": 0,
      "outputs": []
    },
    {
      "cell_type": "markdown",
      "metadata": {
        "id": "E_l7JDL1n5SZ",
        "colab_type": "text"
      },
      "source": [
        "E aqui, temos a criação das tabelas com os top-k documentos em cada modelo."
      ]
    },
    {
      "cell_type": "code",
      "metadata": {
        "id": "TdB4IuyNTsrM",
        "colab_type": "code",
        "colab": {}
      },
      "source": [
        "def create_topk_models(query,k):\n",
        "  db = []\n",
        "  dtf = []\n",
        "  dtfidf = []\n",
        "  dbm25 = []\n",
        "  for i in range(len(result)):\n",
        "    doc = result.text[i].lower()\n",
        "    bisect.insort(db, (binary_vsm(query, doc), i))\n",
        "    bisect.insort(dtf, (tf_vsm(query,doc), i))\n",
        "    bisect.insort(dtfidf, (tfidf_vsm(query,doc), i))\n",
        "    bisect.insort(dbm25, (bm25_vsm(query,doc,20), i))\n",
        "  \n",
        "  db.reverse()\n",
        "  dtf.reverse()\n",
        "  dtfidf.reverse()\n",
        "  dbm25.reverse()\n",
        "  \n",
        "  return db[:k], dtf[:k], dtfidf[:k], dbm25[:k]"
      ],
      "execution_count": 0,
      "outputs": []
    },
    {
      "cell_type": "code",
      "metadata": {
        "id": "GSq58I5gTyXk",
        "colab_type": "code",
        "colab": {}
      },
      "source": [
        "top_binary, top_tf, top_tfidf, top_bm25 = create_topk_models(query,10)"
      ],
      "execution_count": 0,
      "outputs": []
    },
    {
      "cell_type": "markdown",
      "metadata": {
        "id": "i8xJQqjbzaXl",
        "colab_type": "text"
      },
      "source": [
        "### Resultados dos modelos"
      ]
    },
    {
      "cell_type": "code",
      "metadata": {
        "id": "aPGVPU-PTxF9",
        "colab_type": "code",
        "outputId": "b2f1c41d-e244-40b1-a534-928a82f52bd2",
        "colab": {
          "base_uri": "https://localhost:8080/",
          "height": 359
        }
      },
      "source": [
        "query_df = pd.DataFrame()\n",
        "\n",
        "query_df['Binary'] = top_binary\n",
        "query_df['TF'] = top_tf\n",
        "query_df['TF-IDF'] = top_tfidf\n",
        "query_df['BM25'] = top_bm25\n",
        "\n",
        "query_df.index+=1\n",
        "query_df"
      ],
      "execution_count": 538,
      "outputs": [
        {
          "output_type": "execute_result",
          "data": {
            "text/html": [
              "<div>\n",
              "<style scoped>\n",
              "    .dataframe tbody tr th:only-of-type {\n",
              "        vertical-align: middle;\n",
              "    }\n",
              "\n",
              "    .dataframe tbody tr th {\n",
              "        vertical-align: top;\n",
              "    }\n",
              "\n",
              "    .dataframe thead th {\n",
              "        text-align: right;\n",
              "    }\n",
              "</style>\n",
              "<table border=\"1\" class=\"dataframe\">\n",
              "  <thead>\n",
              "    <tr style=\"text-align: right;\">\n",
              "      <th></th>\n",
              "      <th>Binary</th>\n",
              "      <th>TF</th>\n",
              "      <th>TF-IDF</th>\n",
              "      <th>BM25</th>\n",
              "    </tr>\n",
              "  </thead>\n",
              "  <tbody>\n",
              "    <tr>\n",
              "      <th>1</th>\n",
              "      <td>(2, 213)</td>\n",
              "      <td>(13, 21)</td>\n",
              "      <td>(33.81, 238)</td>\n",
              "      <td>(11.7, 213)</td>\n",
              "    </tr>\n",
              "    <tr>\n",
              "      <th>2</th>\n",
              "      <td>(1, 238)</td>\n",
              "      <td>(8, 213)</td>\n",
              "      <td>(31.59, 21)</td>\n",
              "      <td>(11.42, 238)</td>\n",
              "    </tr>\n",
              "    <tr>\n",
              "      <th>3</th>\n",
              "      <td>(1, 235)</td>\n",
              "      <td>(7, 238)</td>\n",
              "      <td>(31.44, 213)</td>\n",
              "      <td>(8.73, 21)</td>\n",
              "    </tr>\n",
              "    <tr>\n",
              "      <th>4</th>\n",
              "      <td>(1, 187)</td>\n",
              "      <td>(2, 235)</td>\n",
              "      <td>(4.86, 235)</td>\n",
              "      <td>(2.02, 235)</td>\n",
              "    </tr>\n",
              "    <tr>\n",
              "      <th>5</th>\n",
              "      <td>(1, 184)</td>\n",
              "      <td>(2, 149)</td>\n",
              "      <td>(4.86, 149)</td>\n",
              "      <td>(2.02, 149)</td>\n",
              "    </tr>\n",
              "    <tr>\n",
              "      <th>6</th>\n",
              "      <td>(1, 173)</td>\n",
              "      <td>(1, 187)</td>\n",
              "      <td>(2.43, 187)</td>\n",
              "      <td>(1.06, 187)</td>\n",
              "    </tr>\n",
              "    <tr>\n",
              "      <th>7</th>\n",
              "      <td>(1, 172)</td>\n",
              "      <td>(1, 184)</td>\n",
              "      <td>(2.43, 184)</td>\n",
              "      <td>(1.06, 184)</td>\n",
              "    </tr>\n",
              "    <tr>\n",
              "      <th>8</th>\n",
              "      <td>(1, 164)</td>\n",
              "      <td>(1, 173)</td>\n",
              "      <td>(2.43, 173)</td>\n",
              "      <td>(1.06, 173)</td>\n",
              "    </tr>\n",
              "    <tr>\n",
              "      <th>9</th>\n",
              "      <td>(1, 159)</td>\n",
              "      <td>(1, 172)</td>\n",
              "      <td>(2.43, 172)</td>\n",
              "      <td>(1.06, 172)</td>\n",
              "    </tr>\n",
              "    <tr>\n",
              "      <th>10</th>\n",
              "      <td>(1, 153)</td>\n",
              "      <td>(1, 164)</td>\n",
              "      <td>(2.43, 164)</td>\n",
              "      <td>(1.06, 164)</td>\n",
              "    </tr>\n",
              "  </tbody>\n",
              "</table>\n",
              "</div>"
            ],
            "text/plain": [
              "      Binary        TF        TF-IDF          BM25\n",
              "1   (2, 213)  (13, 21)  (33.81, 238)   (11.7, 213)\n",
              "2   (1, 238)  (8, 213)   (31.59, 21)  (11.42, 238)\n",
              "3   (1, 235)  (7, 238)  (31.44, 213)    (8.73, 21)\n",
              "4   (1, 187)  (2, 235)   (4.86, 235)   (2.02, 235)\n",
              "5   (1, 184)  (2, 149)   (4.86, 149)   (2.02, 149)\n",
              "6   (1, 173)  (1, 187)   (2.43, 187)   (1.06, 187)\n",
              "7   (1, 172)  (1, 184)   (2.43, 184)   (1.06, 184)\n",
              "8   (1, 164)  (1, 173)   (2.43, 173)   (1.06, 173)\n",
              "9   (1, 159)  (1, 172)   (2.43, 172)   (1.06, 172)\n",
              "10  (1, 153)  (1, 164)   (2.43, 164)   (1.06, 164)"
            ]
          },
          "metadata": {
            "tags": []
          },
          "execution_count": 538
        }
      ]
    },
    {
      "cell_type": "markdown",
      "metadata": {
        "id": "tl6ATZ_7zhC-",
        "colab_type": "text"
      },
      "source": [
        "### Reciprocal Rank"
      ]
    },
    {
      "cell_type": "code",
      "metadata": {
        "id": "ql6gBXZKz6p6",
        "colab_type": "code",
        "outputId": "54e0999f-7263-4b1a-c8f5-2b38ab076fbf",
        "colab": {
          "base_uri": "https://localhost:8080/",
          "height": 80
        }
      },
      "source": [
        "def reciprocal_rank(tuples, docId):\n",
        "  n = 1.0;\n",
        "  for r,doc in tuples:\n",
        "    if doc == docId:\n",
        "      return  [round(1 / n, 2)]\n",
        "    else:\n",
        "      n += 1\n",
        "\n",
        "rank_df = pd.DataFrame()\n",
        "rank_df['Binary'] = reciprocal_rank(query_df['Binary'], ndoc)\n",
        "rank_df['TF'] = reciprocal_rank(query_df['TF'], ndoc)\n",
        "rank_df['TF-IDF'] = reciprocal_rank(query_df['TF-IDF'], ndoc)\n",
        "rank_df['BM25'] = reciprocal_rank(query_df['BM25'], ndoc)\n",
        "rank_df.index+=1\n",
        "rank_df"
      ],
      "execution_count": 539,
      "outputs": [
        {
          "output_type": "execute_result",
          "data": {
            "text/html": [
              "<div>\n",
              "<style scoped>\n",
              "    .dataframe tbody tr th:only-of-type {\n",
              "        vertical-align: middle;\n",
              "    }\n",
              "\n",
              "    .dataframe tbody tr th {\n",
              "        vertical-align: top;\n",
              "    }\n",
              "\n",
              "    .dataframe thead th {\n",
              "        text-align: right;\n",
              "    }\n",
              "</style>\n",
              "<table border=\"1\" class=\"dataframe\">\n",
              "  <thead>\n",
              "    <tr style=\"text-align: right;\">\n",
              "      <th></th>\n",
              "      <th>Binary</th>\n",
              "      <th>TF</th>\n",
              "      <th>TF-IDF</th>\n",
              "      <th>BM25</th>\n",
              "    </tr>\n",
              "  </thead>\n",
              "  <tbody>\n",
              "    <tr>\n",
              "      <th>1</th>\n",
              "      <td>1.0</td>\n",
              "      <td>0.5</td>\n",
              "      <td>0.33</td>\n",
              "      <td>1.0</td>\n",
              "    </tr>\n",
              "  </tbody>\n",
              "</table>\n",
              "</div>"
            ],
            "text/plain": [
              "   Binary   TF  TF-IDF  BM25\n",
              "1     1.0  0.5    0.33   1.0"
            ]
          },
          "metadata": {
            "tags": []
          },
          "execution_count": 539
        }
      ]
    },
    {
      "cell_type": "markdown",
      "metadata": {
        "id": "TAKX3FtMHFvG",
        "colab_type": "text"
      },
      "source": [
        "## 2.  A partir do gabarito fornecido em OBS1, calcule o MAP para cada algoritmo abaixo e aponte qual obteve o melhor resultado. Para os cálculos do MAP, considere que um documento é relevante para uma dada consulta se este documento estiver entre os documentos do gabarito para essa consulta, senão ele deve ser considerado irrelevante."
      ]
    },
    {
      "cell_type": "code",
      "metadata": {
        "id": "MQjHBsWravMk",
        "colab_type": "code",
        "colab": {}
      },
      "source": [
        "def doc_indexes(model):\n",
        "  return [doc for score,doc in model]\n",
        "\n",
        "def intersection(a,b):\n",
        "  return [elem for elem in a if elem in b]\n",
        "\n",
        "def calc_AP(query):\n",
        "  relevant_docs = []\n",
        "\n",
        "  for doc_info in feedback[query]:\n",
        "    row = result.loc[result.url == doc_info['URL']]\n",
        "    relevant_docs.append(row.index[0])\n",
        "  \n",
        "  binary, tf, tfidf, bm25 = create_topk_models(query, 5)\n",
        "  binary = doc_indexes(binary)\n",
        "  tf = doc_indexes(tf)\n",
        "  tfidf = doc_indexes(tfidf)\n",
        "  bm25 = doc_indexes(bm25)\n",
        "  \n",
        "  ap_binary = len(intersection(binary, relevant_docs)) / len(binary)\n",
        "  ap_tf = len(intersection(tf, relevant_docs)) / len(tf)\n",
        "  ap_tfidf = len(intersection(tfidf, relevant_docs)) / len(tfidf)\n",
        "  ap_bm25 = len(intersection(bm25, relevant_docs)) / len(bm25)\n",
        "  \n",
        "  return ap_binary, ap_tf, ap_tfidf, ap_bm25\n",
        "  \n",
        "def calc_MAP(queries):\n",
        "  sum_binary = 0\n",
        "  sum_tf = 0\n",
        "  sum_tfidf = 0\n",
        "  sum_bm25 = 0\n",
        "  \n",
        "  for query in queries:\n",
        "    ap_binary, ap_tf, ap_tfidf, ap_bm25 = calc_AP(query)\n",
        "    sum_binary += ap_binary\n",
        "    sum_tf += ap_tf\n",
        "    sum_tfidf += ap_tfidf\n",
        "    sum_bm25 += ap_bm25\n",
        "  \n",
        "  map_binary = round(sum_binary / len(queries),2)\n",
        "  map_tf = round(sum_tf / len(queries),2)\n",
        "  map_tfidf = round(sum_tfidf / len(queries),2)\n",
        "  map_bm25 = round(sum_bm25 / len(queries),2)\n",
        "  \n",
        "  return map_binary, map_tf, map_tfidf, map_bm25"
      ],
      "execution_count": 0,
      "outputs": []
    },
    {
      "cell_type": "code",
      "metadata": {
        "id": "b0Bn2jnqg1Ir",
        "colab_type": "code",
        "colab": {}
      },
      "source": [
        "map_binary, map_tf, map_tfidf, map_bm25 = calc_MAP(feedback.keys())"
      ],
      "execution_count": 0,
      "outputs": []
    },
    {
      "cell_type": "markdown",
      "metadata": {
        "id": "LOqD-atSE7KP",
        "colab_type": "text"
      },
      "source": [
        "### Resultados"
      ]
    },
    {
      "cell_type": "code",
      "metadata": {
        "id": "L4tIcmjYEkXl",
        "colab_type": "code",
        "colab": {
          "base_uri": "https://localhost:8080/",
          "height": 80
        },
        "outputId": "01aa0e84-adef-474d-8365-40449c9ec85b"
      },
      "source": [
        "rank_df = pd.DataFrame()\n",
        "rank_df['Binary'] = [map_binary]\n",
        "rank_df['TF'] = [map_tf]\n",
        "rank_df['TF-IDF'] = [map_tfidf]\n",
        "rank_df['BM25'] = [map_bm25]\n",
        "rank_df.index+=1\n",
        "rank_df"
      ],
      "execution_count": 542,
      "outputs": [
        {
          "output_type": "execute_result",
          "data": {
            "text/html": [
              "<div>\n",
              "<style scoped>\n",
              "    .dataframe tbody tr th:only-of-type {\n",
              "        vertical-align: middle;\n",
              "    }\n",
              "\n",
              "    .dataframe tbody tr th {\n",
              "        vertical-align: top;\n",
              "    }\n",
              "\n",
              "    .dataframe thead th {\n",
              "        text-align: right;\n",
              "    }\n",
              "</style>\n",
              "<table border=\"1\" class=\"dataframe\">\n",
              "  <thead>\n",
              "    <tr style=\"text-align: right;\">\n",
              "      <th></th>\n",
              "      <th>Binary</th>\n",
              "      <th>TF</th>\n",
              "      <th>TF-IDF</th>\n",
              "      <th>BM25</th>\n",
              "    </tr>\n",
              "  </thead>\n",
              "  <tbody>\n",
              "    <tr>\n",
              "      <th>1</th>\n",
              "      <td>0.1</td>\n",
              "      <td>0.02</td>\n",
              "      <td>0.18</td>\n",
              "      <td>0.18</td>\n",
              "    </tr>\n",
              "  </tbody>\n",
              "</table>\n",
              "</div>"
            ],
            "text/plain": [
              "   Binary    TF  TF-IDF  BM25\n",
              "1     0.1  0.02    0.18  0.18"
            ]
          },
          "metadata": {
            "tags": []
          },
          "execution_count": 542
        }
      ]
    },
    {
      "cell_type": "markdown",
      "metadata": {
        "id": "9lwDmLC4iQRW",
        "colab_type": "text"
      },
      "source": [
        "Por definição, o valor do Mean Average Precision (MAP) varia entre 0 e 1. Os valores calculados indicam que todos os modelos possuem uma precisão baixa na busca por documentos específicos fornecidos no gabarito."
      ]
    },
    {
      "cell_type": "markdown",
      "metadata": {
        "id": "UvvgDas8HPM9",
        "colab_type": "text"
      },
      "source": [
        "## 3. Repita Q2 usando a avaliação multi-nível DCG. Utilize o campo \"level\" do gabarito para o cálculo do DCG e do idealDCG. Use uma janela de 5 documentos."
      ]
    },
    {
      "cell_type": "markdown",
      "metadata": {
        "id": "OKAvTUgr9I5T",
        "colab_type": "text"
      },
      "source": [
        "### Cálculos das métricas"
      ]
    },
    {
      "cell_type": "code",
      "metadata": {
        "id": "VxpTP5r7gFso",
        "colab_type": "code",
        "colab": {}
      },
      "source": [
        "def calc_dcg(model, levels):\n",
        "  dcg = 0.0\n",
        "  for i in range(1,len(model)+1):\n",
        "    doc = model[i-1]\n",
        "    level = get_level(doc, levels)\n",
        "    dcg += (2^level) / np.log2(i + 1.0)\n",
        "    \n",
        "  return dcg\n",
        "\n",
        "def dcg_models(query):\n",
        "  relevant_docs = {}\n",
        "\n",
        "  for doc_info in feedback[query]:\n",
        "    row = result.loc[result.url == doc_info['URL']]\n",
        "    relevant_docs[row.index[0]] = doc_info['level']\n",
        "    \n",
        "  binary, tf, tfidf, bm25 = create_topk_models(query, 5)\n",
        "  binary, tf, tfidf, bm25 = all_docs(binary,tf,tfidf,bm25)\n",
        "  \n",
        "  dcg_binary = round(calc_dcg(binary, set_levels(binary, relevant_docs)),2)\n",
        "  dcg_tf = round(calc_dcg(tf, set_levels(tf, relevant_docs)),2)\n",
        "  dcg_tfidf = round(calc_dcg(tfidf, set_levels(tfidf, relevant_docs)),2)\n",
        "  dcg_bm25 = round(calc_dcg(bm25, set_levels(bm25, relevant_docs)),2)\n",
        "  \n",
        "  return dcg_binary, dcg_tf, dcg_tfidf, dcg_bm25\n",
        "\n",
        "def idcg_models(query):\n",
        "  relevant_docs = {}\n",
        "\n",
        "  for doc_info in feedback[query]:\n",
        "    row = result.loc[result.url == doc_info['URL']]\n",
        "    relevant_docs[row.index[0]] = doc_info['level']\n",
        "    \n",
        "  binary, tf, tfidf, bm25 = create_topk_models(query, 5)\n",
        "  binary = doc_indexes(binary)\n",
        "  tf = doc_indexes(tf)\n",
        "  tfidf = doc_indexes(tfidf)\n",
        "  bm25 = doc_indexes(bm25)\n",
        "  \n",
        "  levels_binary, levels_tf, levels_tfidf, levels_bm25 = all_levels(binary,tf,tfidf,bm25,relevant_docs)\n",
        "  \n",
        "  binary, tf, tfidf, bm25 = extract_docs(levels_binary, levels_tf, levels_tfidf, levels_bm25)\n",
        "  \n",
        "  idcg_binary = round(calc_dcg(binary, levels_binary),2)\n",
        "  idcg_tf = round(calc_dcg(tf, levels_tf),2)\n",
        "  idcg_tfidf = round(calc_dcg(tfidf, levels_tfidf),2)\n",
        "  idcg_bm25 = round(calc_dcg(bm25, levels_bm25),2)\n",
        "  \n",
        "  return idcg_binary, idcg_tf, idcg_tfidf, idcg_bm25"
      ],
      "execution_count": 0,
      "outputs": []
    },
    {
      "cell_type": "code",
      "metadata": {
        "id": "woTIlB_1vDp0",
        "colab_type": "code",
        "colab": {}
      },
      "source": [
        "queries_results = {}\n",
        "for query in feedback.keys():\n",
        "  dcg_binary, dcg_tf, dcg_tfidf, dcg_bm25 = dcg_models(query)\n",
        "  idcg_binary, idcg_tf, idcg_tfidf, idcg_bm25 = idcg_models(query)\n",
        "  \n",
        "  binary = (dcg_binary, idcg_binary)\n",
        "  tf = (dcg_tf, idcg_tf)\n",
        "  tfidf = (dcg_tfidf, idcg_tfidf)\n",
        "  bm25 = (dcg_bm25, idcg_bm25)\n",
        "  \n",
        "  results = [binary, tf, tfidf, bm25]\n",
        "  \n",
        "  queries_results[query] = results"
      ],
      "execution_count": 0,
      "outputs": []
    },
    {
      "cell_type": "markdown",
      "metadata": {
        "id": "Xn-9lKfS9F3S",
        "colab_type": "text"
      },
      "source": [
        "#### Métodos auxiliares"
      ]
    },
    {
      "cell_type": "code",
      "metadata": {
        "id": "sgifTZS09CGW",
        "colab_type": "code",
        "colab": {}
      },
      "source": [
        "def set_levels(m, d):\n",
        "  model = [(0, doc) for doc in m if doc not in d]\n",
        "  dic = [(v, k) for k, v in d.items()]\n",
        "  \n",
        "  res = model + dic\n",
        "  res.sort(reverse=True)\n",
        "  \n",
        "  return res\n",
        "\n",
        "def get_level(d, l):\n",
        "  for level,doc in l:\n",
        "    if doc == d:\n",
        "      return level\n",
        "\n",
        "def all_docs(bi,tf,tfidf,bm):\n",
        "  return doc_indexes(bi), doc_indexes(tf), doc_indexes(tfidf), doc_indexes(bm)\n",
        "    \n",
        "def all_levels(bi,tf,tfidf,bm, rd):\n",
        "  return set_levels(bi,rd), set_levels(tf,rd), set_levels(tfidf,rd), set_levels(bm,rd)\n",
        "\n",
        "def extract_docs(bi,tf,tfidf,bm):\n",
        "  return [doc for level,doc in bi], [doc for level,doc in tf], [doc for level,doc in tfidf], [doc for level,doc in bm]"
      ],
      "execution_count": 0,
      "outputs": []
    },
    {
      "cell_type": "markdown",
      "metadata": {
        "id": "IQP9v-E4C7cz",
        "colab_type": "text"
      },
      "source": [
        "### Resultados"
      ]
    },
    {
      "cell_type": "code",
      "metadata": {
        "id": "_PM20N9fCTWw",
        "colab_type": "code",
        "colab": {
          "base_uri": "https://localhost:8080/",
          "height": 359
        },
        "outputId": "6096805e-c1b8-49c2-90a8-a2919a4978fa"
      },
      "source": [
        "results_df = pd.DataFrame()\n",
        "results_df['Query'] = feedback.keys()\n",
        "results_df['Binary'] = [queries_results[query][0] for query in feedback.keys()]\n",
        "results_df['TF'] = [queries_results[query][1] for query in feedback.keys()]\n",
        "results_df['TF-IDF'] = [queries_results[query][2] for query in feedback.keys()]\n",
        "results_df['BM25'] = [queries_results[query][3] for query in feedback.keys()]\n",
        "results_df.index+=1\n",
        "\n",
        "results_df"
      ],
      "execution_count": 546,
      "outputs": [
        {
          "output_type": "execute_result",
          "data": {
            "text/html": [
              "<div>\n",
              "<style scoped>\n",
              "    .dataframe tbody tr th:only-of-type {\n",
              "        vertical-align: middle;\n",
              "    }\n",
              "\n",
              "    .dataframe tbody tr th {\n",
              "        vertical-align: top;\n",
              "    }\n",
              "\n",
              "    .dataframe thead th {\n",
              "        text-align: right;\n",
              "    }\n",
              "</style>\n",
              "<table border=\"1\" class=\"dataframe\">\n",
              "  <thead>\n",
              "    <tr style=\"text-align: right;\">\n",
              "      <th></th>\n",
              "      <th>Query</th>\n",
              "      <th>Binary</th>\n",
              "      <th>TF</th>\n",
              "      <th>TF-IDF</th>\n",
              "      <th>BM25</th>\n",
              "    </tr>\n",
              "  </thead>\n",
              "  <tbody>\n",
              "    <tr>\n",
              "      <th>1</th>\n",
              "      <td>território palestino</td>\n",
              "      <td>(5.9, 15.65)</td>\n",
              "      <td>(5.9, 15.65)</td>\n",
              "      <td>(5.51, 14.98)</td>\n",
              "      <td>(5.51, 14.98)</td>\n",
              "    </tr>\n",
              "    <tr>\n",
              "      <th>2</th>\n",
              "      <td>recessão mundial</td>\n",
              "      <td>(11.58, 14.98)</td>\n",
              "      <td>(9.77, 14.98)</td>\n",
              "      <td>(9.77, 14.98)</td>\n",
              "      <td>(9.77, 14.98)</td>\n",
              "    </tr>\n",
              "    <tr>\n",
              "      <th>3</th>\n",
              "      <td>ditadura militar</td>\n",
              "      <td>(5.9, 17.17)</td>\n",
              "      <td>(5.9, 17.17)</td>\n",
              "      <td>(5.9, 17.17)</td>\n",
              "      <td>(5.9, 17.17)</td>\n",
              "    </tr>\n",
              "    <tr>\n",
              "      <th>4</th>\n",
              "      <td>muro das lamentações</td>\n",
              "      <td>(18.08, 19.29)</td>\n",
              "      <td>(5.9, 21.3)</td>\n",
              "      <td>(19.29, 19.29)</td>\n",
              "      <td>(19.29, 19.29)</td>\n",
              "    </tr>\n",
              "    <tr>\n",
              "      <th>5</th>\n",
              "      <td>brasil e argentina</td>\n",
              "      <td>(8.9, 17.5)</td>\n",
              "      <td>(5.9, 18.17)</td>\n",
              "      <td>(7.79, 17.5)</td>\n",
              "      <td>(7.79, 17.5)</td>\n",
              "    </tr>\n",
              "    <tr>\n",
              "      <th>6</th>\n",
              "      <td>golpe militar</td>\n",
              "      <td>(5.9, 20.67)</td>\n",
              "      <td>(5.9, 20.67)</td>\n",
              "      <td>(8.4, 20.04)</td>\n",
              "      <td>(8.4, 20.04)</td>\n",
              "    </tr>\n",
              "    <tr>\n",
              "      <th>7</th>\n",
              "      <td>governo bolsonaro</td>\n",
              "      <td>(5.9, 16.54)</td>\n",
              "      <td>(5.9, 16.54)</td>\n",
              "      <td>(5.9, 16.54)</td>\n",
              "      <td>(5.9, 16.54)</td>\n",
              "    </tr>\n",
              "    <tr>\n",
              "      <th>8</th>\n",
              "      <td>ministro da economia</td>\n",
              "      <td>(5.9, 17.17)</td>\n",
              "      <td>(5.9, 17.17)</td>\n",
              "      <td>(5.9, 17.17)</td>\n",
              "      <td>(5.9, 17.17)</td>\n",
              "    </tr>\n",
              "    <tr>\n",
              "      <th>9</th>\n",
              "      <td>prisão de Temer</td>\n",
              "      <td>(5.9, 13.43)</td>\n",
              "      <td>(5.9, 13.43)</td>\n",
              "      <td>(10.29, 12.05)</td>\n",
              "      <td>(10.29, 12.05)</td>\n",
              "    </tr>\n",
              "    <tr>\n",
              "      <th>10</th>\n",
              "      <td>Congresso Nacional</td>\n",
              "      <td>(5.9, 9.65)</td>\n",
              "      <td>(5.9, 9.65)</td>\n",
              "      <td>(5.9, 9.65)</td>\n",
              "      <td>(5.9, 9.65)</td>\n",
              "    </tr>\n",
              "  </tbody>\n",
              "</table>\n",
              "</div>"
            ],
            "text/plain": [
              "                   Query          Binary  ...          TF-IDF            BM25\n",
              "1   território palestino    (5.9, 15.65)  ...   (5.51, 14.98)   (5.51, 14.98)\n",
              "2       recessão mundial  (11.58, 14.98)  ...   (9.77, 14.98)   (9.77, 14.98)\n",
              "3       ditadura militar    (5.9, 17.17)  ...    (5.9, 17.17)    (5.9, 17.17)\n",
              "4   muro das lamentações  (18.08, 19.29)  ...  (19.29, 19.29)  (19.29, 19.29)\n",
              "5     brasil e argentina     (8.9, 17.5)  ...    (7.79, 17.5)    (7.79, 17.5)\n",
              "6          golpe militar    (5.9, 20.67)  ...    (8.4, 20.04)    (8.4, 20.04)\n",
              "7      governo bolsonaro    (5.9, 16.54)  ...    (5.9, 16.54)    (5.9, 16.54)\n",
              "8   ministro da economia    (5.9, 17.17)  ...    (5.9, 17.17)    (5.9, 17.17)\n",
              "9        prisão de Temer    (5.9, 13.43)  ...  (10.29, 12.05)  (10.29, 12.05)\n",
              "10    Congresso Nacional     (5.9, 9.65)  ...     (5.9, 9.65)     (5.9, 9.65)\n",
              "\n",
              "[10 rows x 5 columns]"
            ]
          },
          "metadata": {
            "tags": []
          },
          "execution_count": 546
        }
      ]
    },
    {
      "cell_type": "markdown",
      "metadata": {
        "id": "HcfgPq3kDZ-Y",
        "colab_type": "text"
      },
      "source": [
        "Acima, temos a disposição dos resultados encontrados para as métricas DCG e IDCG, respectivamente nas tuplas, para os modelos vetoriais usados."
      ]
    }
  ]
}