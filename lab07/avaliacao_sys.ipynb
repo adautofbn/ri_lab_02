{
  "nbformat": 4,
  "nbformat_minor": 0,
  "metadata": {
    "colab": {
      "name": "avaliacao_sys",
      "version": "0.3.2",
      "provenance": [],
      "collapsed_sections": [],
      "include_colab_link": true
    },
    "kernelspec": {
      "name": "python3",
      "display_name": "Python 3"
    }
  },
  "cells": [
    {
      "cell_type": "markdown",
      "metadata": {
        "id": "view-in-github",
        "colab_type": "text"
      },
      "source": [
        "<a href=\"https://colab.research.google.com/github/adautofbn/ri_labs/blob/master/lab07/avaliacao_sys.ipynb\" target=\"_parent\"><img src=\"https://colab.research.google.com/assets/colab-badge.svg\" alt=\"Open In Colab\"/></a>"
      ]
    },
    {
      "cell_type": "code",
      "metadata": {
        "id": "p2RLVWtQEFBt",
        "colab_type": "code",
        "outputId": "b0f7a1b1-b4e3-4c91-a5f1-a1e0dd925ab1",
        "colab": {
          "base_uri": "https://localhost:8080/",
          "height": 51
        }
      },
      "source": [
        "import pandas as pd\n",
        "import numpy as np\n",
        "import nltk\n",
        "import re\n",
        "import collections\n",
        "import bisect\n",
        "from nltk.tokenize import RegexpTokenizer\n",
        "\n",
        "nltk.download('stopwords')\n",
        "result = pd.read_csv('https://raw.githubusercontent.com/adautofbn/ri_labs/master/lab06/results.csv')\n",
        "                                            # Resultados adquiridos do site el-pais em abril de 2019\n",
        "json = pd.read_json('https://raw.githubusercontent.com/adautofbn/ri_labs/master/lab07/results_final.json')\n",
        "feedback = {json['query'][i]:json['docs'][i] for i in range(10)}"
      ],
      "execution_count": 306,
      "outputs": [
        {
          "output_type": "stream",
          "text": [
            "[nltk_data] Downloading package stopwords to /root/nltk_data...\n",
            "[nltk_data]   Package stopwords is already up-to-date!\n"
          ],
          "name": "stdout"
        }
      ]
    },
    {
      "cell_type": "markdown",
      "metadata": {
        "id": "oRm2DPuMnsBA",
        "colab_type": "text"
      },
      "source": [
        "Refazemos o conjunto de indíces invertidos para que possam ser feitos os calculos dos modelos vetoriais."
      ]
    },
    {
      "cell_type": "code",
      "metadata": {
        "id": "LjJNtH1_Er_h",
        "colab_type": "code",
        "colab": {}
      },
      "source": [
        "tknz = RegexpTokenizer(r'([A-Za-zÁáÉéÍíÓóÚúÃãÕõÇçÂâÊê]{3,27})')\n",
        "stopwords = nltk.corpus.stopwords.words('portuguese') \n",
        "indexes = {}\n",
        "M = result.text.count()\n",
        "\n",
        "for i in range(len(result)):\n",
        "  text = result.text[i]\n",
        "  words = [word for word in tknz.tokenize(text.lower())\n",
        "           if not bool(re.search(r'\\d', word))\n",
        "           and word not in stopwords and len(word) >= 3]  \n",
        "  for t in words:\n",
        "    if t not in indexes.keys():\n",
        "      indexes[t] = []\n",
        "    indexes[t].append(i)\n",
        "    \n",
        "for elem in indexes.items():\n",
        "  d = dict(collections.Counter(elem[1]))\n",
        "  indexes[elem[0]] = list(d.items())\n",
        "  \n",
        "for word in indexes:\n",
        "  k = len(indexes[word])\n",
        "  IDF = round(np.log((M+1)/k),2)\n",
        "  indexes[word].append(IDF)"
      ],
      "execution_count": 0,
      "outputs": []
    },
    {
      "cell_type": "markdown",
      "metadata": {
        "id": "9865Eub7G_Ms",
        "colab_type": "text"
      },
      "source": [
        "## 1. Escolha um documento dentre aqueles da base do aluno Bernardi e crie uma consulta que você acha que tem boas chances de recuperar este documento. Em seguida, avalie os resultados de tal consulta usando a métrica de avaliação Reciprocal Rank"
      ]
    },
    {
      "cell_type": "markdown",
      "metadata": {
        "id": "iu0MKqvOauUb",
        "colab_type": "text"
      },
      "source": [
        "Escolhemos o documento 213, que trata das consequências do atentado em Suzano na sociedade. Várias ameaças e mensagens de apoio aos terroristas, em redes sociais, foram tratadas com nenhuma ou mínima tolerância devido ao trauma que o atentado gerou."
      ]
    },
    {
      "cell_type": "code",
      "metadata": {
        "id": "i4lqvG2mKzgW",
        "colab_type": "code",
        "outputId": "791c3805-289f-4f50-e18d-a470a00da410",
        "colab": {
          "base_uri": "https://localhost:8080/",
          "height": 34
        }
      },
      "source": [
        "ndoc = 213\n",
        "document = result.loc[ndoc]\n",
        "query = 'armas suzano'\n",
        "\n",
        "document.title"
      ],
      "execution_count": 308,
      "outputs": [
        {
          "output_type": "execute_result",
          "data": {
            "text/plain": [
              "'A tensão em escolas e universidades na esteira do massacre de Suzano'"
            ]
          },
          "metadata": {
            "tags": []
          },
          "execution_count": 308
        }
      ]
    },
    {
      "cell_type": "code",
      "metadata": {
        "id": "d1KghzsJGpNi",
        "colab_type": "code",
        "colab": {}
      },
      "source": [
        "row = result.loc[result.url == document.url]"
      ],
      "execution_count": 0,
      "outputs": []
    },
    {
      "cell_type": "markdown",
      "metadata": {
        "id": "v9ecn46apI5I",
        "colab_type": "text"
      },
      "source": [
        "Abaixo temos as definições de modelos vetoriais feitas no laboratório anterior."
      ]
    },
    {
      "cell_type": "code",
      "metadata": {
        "id": "Y2Z6M_ARNNUO",
        "colab_type": "code",
        "colab": {}
      },
      "source": [
        "def binary_vsm(query, document):\n",
        "  score = 0\n",
        "  query_tokens = query.split()\n",
        "  doc_tokens = document.split()\n",
        "  \n",
        "  for token in query_tokens:\n",
        "    score += (token in doc_tokens)\n",
        "    \n",
        "  return score"
      ],
      "execution_count": 0,
      "outputs": []
    },
    {
      "cell_type": "code",
      "metadata": {
        "id": "-QhE1vijNQUF",
        "colab_type": "code",
        "colab": {}
      },
      "source": [
        "def tf_vsm(query, document):\n",
        "  score = 0\n",
        "  doc_tokens = document.split()\n",
        "  query_tokens = query.split()\n",
        "  \n",
        "  for word in query_tokens:\n",
        "    score += doc_tokens.count(word)\n",
        "  \n",
        "  return score"
      ],
      "execution_count": 0,
      "outputs": []
    },
    {
      "cell_type": "code",
      "metadata": {
        "id": "VSXfB5rMNTGN",
        "colab_type": "code",
        "colab": {}
      },
      "source": [
        "def bm25_vsm(query, document, k):\n",
        "  score = 0\n",
        "  doc_tokens = document.split()\n",
        "  query_tokens = query.split()\n",
        "  \n",
        "  words = [word for word in query_tokens if word in doc_tokens]\n",
        "    \n",
        "  for word in words:\n",
        "    cwd = doc_tokens.count(word)\n",
        "    dfw = 0\n",
        "    if word in indexes:\n",
        "      dfw = len(indexes[word][:-1])\n",
        "    score += (((k+1) * cwd) / (cwd + k)) * np.log10(((M+1) / dfw)) if dfw != 0 else 0\n",
        "  \n",
        "  return round(score,2)"
      ],
      "execution_count": 0,
      "outputs": []
    },
    {
      "cell_type": "code",
      "metadata": {
        "id": "I-piaOEqNUHf",
        "colab_type": "code",
        "colab": {}
      },
      "source": [
        "def tfidf_vsm(query, document):\n",
        "  score = 0\n",
        "  doc_tokens = document.split()\n",
        "  query_tokens = query.split()\n",
        "  \n",
        "  for word in query_tokens:\n",
        "    cwd = doc_tokens.count(word)\n",
        "    if word in indexes:\n",
        "      score += cwd * indexes[word][-1]\n",
        "  \n",
        "  return round(score,2)"
      ],
      "execution_count": 0,
      "outputs": []
    },
    {
      "cell_type": "markdown",
      "metadata": {
        "id": "E_l7JDL1n5SZ",
        "colab_type": "text"
      },
      "source": [
        "E aqui, temos a criação das tabelas com os top-k documentos em cada modelo."
      ]
    },
    {
      "cell_type": "code",
      "metadata": {
        "id": "TdB4IuyNTsrM",
        "colab_type": "code",
        "colab": {}
      },
      "source": [
        "def create_topk_models(query,k):\n",
        "  db = []\n",
        "  dtf = []\n",
        "  dtfidf = []\n",
        "  dbm25 = []\n",
        "  for i in range(len(result)):\n",
        "    doc = result.text[i].lower()\n",
        "    bisect.insort(db, (binary_vsm(query, doc), i))\n",
        "    bisect.insort(dtf, (tf_vsm(query,doc), i))\n",
        "    bisect.insort(dtfidf, (tfidf_vsm(query,doc), i))\n",
        "    bisect.insort(dbm25, (bm25_vsm(query,doc,20), i))\n",
        "  \n",
        "  db.reverse()\n",
        "  dtf.reverse()\n",
        "  dtfidf.reverse()\n",
        "  dbm25.reverse()\n",
        "  \n",
        "  return db[:k], dtf[:k], dtfidf[:k], dbm25[:k]"
      ],
      "execution_count": 0,
      "outputs": []
    },
    {
      "cell_type": "code",
      "metadata": {
        "id": "GSq58I5gTyXk",
        "colab_type": "code",
        "colab": {}
      },
      "source": [
        "top_binary, top_tf, top_tfidf, top_bm25 = create_topk_models(query,10)"
      ],
      "execution_count": 0,
      "outputs": []
    },
    {
      "cell_type": "code",
      "metadata": {
        "id": "G-ocFqWIefsf",
        "colab_type": "code",
        "colab": {}
      },
      "source": [
        "idoc = [doc for score,doc in top_binary]"
      ],
      "execution_count": 0,
      "outputs": []
    },
    {
      "cell_type": "markdown",
      "metadata": {
        "id": "i8xJQqjbzaXl",
        "colab_type": "text"
      },
      "source": [
        "### Resultados dos modelos"
      ]
    },
    {
      "cell_type": "code",
      "metadata": {
        "id": "aPGVPU-PTxF9",
        "colab_type": "code",
        "outputId": "27cb76a3-7c64-43bc-b0db-792ea0df2a2a",
        "colab": {
          "base_uri": "https://localhost:8080/",
          "height": 359
        }
      },
      "source": [
        "query_df = pd.DataFrame()\n",
        "\n",
        "query_df['Binary'] = top_binary\n",
        "query_df['TF'] = top_tf\n",
        "query_df['TF-IDF'] = top_tfidf\n",
        "query_df['BM25'] = top_bm25\n",
        "\n",
        "query_df.index+=1\n",
        "query_df"
      ],
      "execution_count": 317,
      "outputs": [
        {
          "output_type": "execute_result",
          "data": {
            "text/html": [
              "<div>\n",
              "<style scoped>\n",
              "    .dataframe tbody tr th:only-of-type {\n",
              "        vertical-align: middle;\n",
              "    }\n",
              "\n",
              "    .dataframe tbody tr th {\n",
              "        vertical-align: top;\n",
              "    }\n",
              "\n",
              "    .dataframe thead th {\n",
              "        text-align: right;\n",
              "    }\n",
              "</style>\n",
              "<table border=\"1\" class=\"dataframe\">\n",
              "  <thead>\n",
              "    <tr style=\"text-align: right;\">\n",
              "      <th></th>\n",
              "      <th>Binary</th>\n",
              "      <th>TF</th>\n",
              "      <th>TF-IDF</th>\n",
              "      <th>BM25</th>\n",
              "    </tr>\n",
              "  </thead>\n",
              "  <tbody>\n",
              "    <tr>\n",
              "      <th>1</th>\n",
              "      <td>(2, 213)</td>\n",
              "      <td>(13, 21)</td>\n",
              "      <td>(33.81, 238)</td>\n",
              "      <td>(11.7, 213)</td>\n",
              "    </tr>\n",
              "    <tr>\n",
              "      <th>2</th>\n",
              "      <td>(1, 238)</td>\n",
              "      <td>(8, 213)</td>\n",
              "      <td>(31.59, 21)</td>\n",
              "      <td>(11.42, 238)</td>\n",
              "    </tr>\n",
              "    <tr>\n",
              "      <th>3</th>\n",
              "      <td>(1, 235)</td>\n",
              "      <td>(7, 238)</td>\n",
              "      <td>(31.44, 213)</td>\n",
              "      <td>(8.73, 21)</td>\n",
              "    </tr>\n",
              "    <tr>\n",
              "      <th>4</th>\n",
              "      <td>(1, 187)</td>\n",
              "      <td>(2, 235)</td>\n",
              "      <td>(4.86, 235)</td>\n",
              "      <td>(2.02, 235)</td>\n",
              "    </tr>\n",
              "    <tr>\n",
              "      <th>5</th>\n",
              "      <td>(1, 184)</td>\n",
              "      <td>(2, 149)</td>\n",
              "      <td>(4.86, 149)</td>\n",
              "      <td>(2.02, 149)</td>\n",
              "    </tr>\n",
              "    <tr>\n",
              "      <th>6</th>\n",
              "      <td>(1, 173)</td>\n",
              "      <td>(1, 187)</td>\n",
              "      <td>(2.43, 187)</td>\n",
              "      <td>(1.06, 187)</td>\n",
              "    </tr>\n",
              "    <tr>\n",
              "      <th>7</th>\n",
              "      <td>(1, 172)</td>\n",
              "      <td>(1, 184)</td>\n",
              "      <td>(2.43, 184)</td>\n",
              "      <td>(1.06, 184)</td>\n",
              "    </tr>\n",
              "    <tr>\n",
              "      <th>8</th>\n",
              "      <td>(1, 164)</td>\n",
              "      <td>(1, 173)</td>\n",
              "      <td>(2.43, 173)</td>\n",
              "      <td>(1.06, 173)</td>\n",
              "    </tr>\n",
              "    <tr>\n",
              "      <th>9</th>\n",
              "      <td>(1, 159)</td>\n",
              "      <td>(1, 172)</td>\n",
              "      <td>(2.43, 172)</td>\n",
              "      <td>(1.06, 172)</td>\n",
              "    </tr>\n",
              "    <tr>\n",
              "      <th>10</th>\n",
              "      <td>(1, 153)</td>\n",
              "      <td>(1, 164)</td>\n",
              "      <td>(2.43, 164)</td>\n",
              "      <td>(1.06, 164)</td>\n",
              "    </tr>\n",
              "  </tbody>\n",
              "</table>\n",
              "</div>"
            ],
            "text/plain": [
              "      Binary        TF        TF-IDF          BM25\n",
              "1   (2, 213)  (13, 21)  (33.81, 238)   (11.7, 213)\n",
              "2   (1, 238)  (8, 213)   (31.59, 21)  (11.42, 238)\n",
              "3   (1, 235)  (7, 238)  (31.44, 213)    (8.73, 21)\n",
              "4   (1, 187)  (2, 235)   (4.86, 235)   (2.02, 235)\n",
              "5   (1, 184)  (2, 149)   (4.86, 149)   (2.02, 149)\n",
              "6   (1, 173)  (1, 187)   (2.43, 187)   (1.06, 187)\n",
              "7   (1, 172)  (1, 184)   (2.43, 184)   (1.06, 184)\n",
              "8   (1, 164)  (1, 173)   (2.43, 173)   (1.06, 173)\n",
              "9   (1, 159)  (1, 172)   (2.43, 172)   (1.06, 172)\n",
              "10  (1, 153)  (1, 164)   (2.43, 164)   (1.06, 164)"
            ]
          },
          "metadata": {
            "tags": []
          },
          "execution_count": 317
        }
      ]
    },
    {
      "cell_type": "markdown",
      "metadata": {
        "id": "tl6ATZ_7zhC-",
        "colab_type": "text"
      },
      "source": [
        "### Reciprocal Rank"
      ]
    },
    {
      "cell_type": "code",
      "metadata": {
        "id": "ql6gBXZKz6p6",
        "colab_type": "code",
        "outputId": "c9141410-b3d6-4e38-c243-da9cc514a17e",
        "colab": {
          "base_uri": "https://localhost:8080/",
          "height": 80
        }
      },
      "source": [
        "def reciprocal_rank(tuples, docId):\n",
        "  n = 1.0;\n",
        "  for r,doc in tuples:\n",
        "    if doc == docId:\n",
        "      return  [round(1 / n, 2)]\n",
        "    else:\n",
        "      n += 1\n",
        "\n",
        "rank_df = pd.DataFrame()\n",
        "rank_df['Binary'] = reciprocal_rank(query_df['Binary'], ndoc)\n",
        "rank_df['TF'] = reciprocal_rank(query_df['TF'], ndoc)\n",
        "rank_df['TF-IDF'] = reciprocal_rank(query_df['TF-IDF'], ndoc)\n",
        "rank_df['BM25'] = reciprocal_rank(query_df['BM25'], ndoc)\n",
        "rank_df.index+=1\n",
        "rank_df"
      ],
      "execution_count": 318,
      "outputs": [
        {
          "output_type": "execute_result",
          "data": {
            "text/html": [
              "<div>\n",
              "<style scoped>\n",
              "    .dataframe tbody tr th:only-of-type {\n",
              "        vertical-align: middle;\n",
              "    }\n",
              "\n",
              "    .dataframe tbody tr th {\n",
              "        vertical-align: top;\n",
              "    }\n",
              "\n",
              "    .dataframe thead th {\n",
              "        text-align: right;\n",
              "    }\n",
              "</style>\n",
              "<table border=\"1\" class=\"dataframe\">\n",
              "  <thead>\n",
              "    <tr style=\"text-align: right;\">\n",
              "      <th></th>\n",
              "      <th>Binary</th>\n",
              "      <th>TF</th>\n",
              "      <th>TF-IDF</th>\n",
              "      <th>BM25</th>\n",
              "    </tr>\n",
              "  </thead>\n",
              "  <tbody>\n",
              "    <tr>\n",
              "      <th>1</th>\n",
              "      <td>1.0</td>\n",
              "      <td>0.5</td>\n",
              "      <td>0.33</td>\n",
              "      <td>1.0</td>\n",
              "    </tr>\n",
              "  </tbody>\n",
              "</table>\n",
              "</div>"
            ],
            "text/plain": [
              "   Binary   TF  TF-IDF  BM25\n",
              "1     1.0  0.5    0.33   1.0"
            ]
          },
          "metadata": {
            "tags": []
          },
          "execution_count": 318
        }
      ]
    },
    {
      "cell_type": "markdown",
      "metadata": {
        "id": "TAKX3FtMHFvG",
        "colab_type": "text"
      },
      "source": [
        "## 2.  A partir do gabarito fornecido em OBS1, calcule o MAP para cada algoritmo abaixo e aponte qual obteve o melhor resultado. Para os cálculos do MAP, considere que um documento é relevante para uma dada consulta se este documento estiver entre os documentos do gabarito para essa consulta, senão ele deve ser considerado irrelevante."
      ]
    },
    {
      "cell_type": "code",
      "metadata": {
        "id": "MQjHBsWravMk",
        "colab_type": "code",
        "colab": {}
      },
      "source": [
        "def doc_indexes(model):\n",
        "  return [doc for score,doc in model]\n",
        "\n",
        "def intersection(a,b):\n",
        "  return [elem for elem in a if elem in b]\n",
        "\n",
        "def calc_AP(query):\n",
        "  relevant_docs = []\n",
        "\n",
        "  for doc_info in feedback[query]:\n",
        "    row = result.loc[result.url == doc_info['URL']]\n",
        "    relevant_docs.append(row.index[0])\n",
        "  \n",
        "  binary, tf, tfidf, bm25 = create_topk_models(query, 5)\n",
        "  binary = doc_indexes(binary)\n",
        "  tf = doc_indexes(tf)\n",
        "  tfidf = doc_indexes(tfidf)\n",
        "  bm25 = doc_indexes(bm25)\n",
        "  \n",
        "  ap_binary = len(intersection(binary, relevant_docs)) / len(binary)\n",
        "  ap_tf = len(intersection(tf, relevant_docs)) / len(tf)\n",
        "  ap_tfidf = len(intersection(tfidf, relevant_docs)) / len(tfidf)\n",
        "  ap_bm25 = len(intersection(bm25, relevant_docs)) / len(bm25)\n",
        "  \n",
        "  return ap_binary, ap_tf, ap_tfidf, ap_bm25\n",
        "  \n",
        "def calc_MAP(queries):\n",
        "  sum_binary = 0\n",
        "  sum_tf = 0\n",
        "  sum_tfidf = 0\n",
        "  sum_bm25 = 0\n",
        "  \n",
        "  for query in queries:\n",
        "    ap_binary, ap_tf, ap_tfidf, ap_bm25 = calc_AP(query)\n",
        "    sum_binary += ap_binary\n",
        "    sum_tf += ap_tf\n",
        "    sum_tfidf += ap_tfidf\n",
        "    sum_bm25 += ap_bm25\n",
        "  \n",
        "  map_binary = round(sum_binary / len(queries),2)\n",
        "  map_tf = round(sum_tf / len(queries),2)\n",
        "  map_tfidf = round(sum_tfidf / len(queries),2)\n",
        "  map_bm25 = round(sum_bm25 / len(queries),2)\n",
        "  \n",
        "  return map_binary, map_tf, map_tfidf, map_bm25"
      ],
      "execution_count": 0,
      "outputs": []
    },
    {
      "cell_type": "code",
      "metadata": {
        "id": "b0Bn2jnqg1Ir",
        "colab_type": "code",
        "colab": {}
      },
      "source": [
        "map_binary, map_tf, map_tfidf, map_bm25 = calc_MAP(feedback.keys())"
      ],
      "execution_count": 0,
      "outputs": []
    },
    {
      "cell_type": "markdown",
      "metadata": {
        "colab_type": "text",
        "id": "940W2Kv-H9rq"
      },
      "source": [
        "### Representação Binária"
      ]
    },
    {
      "cell_type": "code",
      "metadata": {
        "id": "_jdVITC1hBpa",
        "colab_type": "code",
        "outputId": "2f4fe888-4cc5-46e6-d0af-c34bae55fa02",
        "colab": {
          "base_uri": "https://localhost:8080/",
          "height": 34
        }
      },
      "source": [
        "map_binary"
      ],
      "execution_count": 321,
      "outputs": [
        {
          "output_type": "execute_result",
          "data": {
            "text/plain": [
              "0.1"
            ]
          },
          "metadata": {
            "tags": []
          },
          "execution_count": 321
        }
      ]
    },
    {
      "cell_type": "markdown",
      "metadata": {
        "colab_type": "text",
        "id": "QzynozP0H9rv"
      },
      "source": [
        "### TF"
      ]
    },
    {
      "cell_type": "code",
      "metadata": {
        "id": "y2Fee0P0hC9A",
        "colab_type": "code",
        "outputId": "43a573b0-3aa7-461c-8f62-956894cf5e3e",
        "colab": {
          "base_uri": "https://localhost:8080/",
          "height": 34
        }
      },
      "source": [
        "map_tf"
      ],
      "execution_count": 322,
      "outputs": [
        {
          "output_type": "execute_result",
          "data": {
            "text/plain": [
              "0.02"
            ]
          },
          "metadata": {
            "tags": []
          },
          "execution_count": 322
        }
      ]
    },
    {
      "cell_type": "markdown",
      "metadata": {
        "colab_type": "text",
        "id": "-9thp8TVH9ry"
      },
      "source": [
        "### TF-IDF"
      ]
    },
    {
      "cell_type": "code",
      "metadata": {
        "id": "zw41hH8ghDTl",
        "colab_type": "code",
        "outputId": "f70fbcc4-d036-4e8e-885f-45153511d862",
        "colab": {
          "base_uri": "https://localhost:8080/",
          "height": 34
        }
      },
      "source": [
        "map_tfidf"
      ],
      "execution_count": 323,
      "outputs": [
        {
          "output_type": "execute_result",
          "data": {
            "text/plain": [
              "0.18"
            ]
          },
          "metadata": {
            "tags": []
          },
          "execution_count": 323
        }
      ]
    },
    {
      "cell_type": "markdown",
      "metadata": {
        "colab_type": "text",
        "id": "rj6e1MNeH9rx"
      },
      "source": [
        "### BM25"
      ]
    },
    {
      "cell_type": "code",
      "metadata": {
        "id": "1S_wwGZqhDvz",
        "colab_type": "code",
        "outputId": "fdfca070-5ec6-472b-89ec-f514ac87f6eb",
        "colab": {
          "base_uri": "https://localhost:8080/",
          "height": 34
        }
      },
      "source": [
        "map_bm25"
      ],
      "execution_count": 324,
      "outputs": [
        {
          "output_type": "execute_result",
          "data": {
            "text/plain": [
              "0.18"
            ]
          },
          "metadata": {
            "tags": []
          },
          "execution_count": 324
        }
      ]
    },
    {
      "cell_type": "markdown",
      "metadata": {
        "id": "9lwDmLC4iQRW",
        "colab_type": "text"
      },
      "source": [
        "Por definição, o valor do Mean Average Precision (MAP) varia entre 0 e 1. Os valores calculados indicam que todos os modelos possuem uma precisão baixa na busca por documentos específicos fornecidos no gabarito."
      ]
    },
    {
      "cell_type": "markdown",
      "metadata": {
        "id": "UvvgDas8HPM9",
        "colab_type": "text"
      },
      "source": [
        "## 3. Repita Q2 usando a avaliação multi-nível DCG. Utilize o campo \"level\" do gabarito para o cálculo do DCG e do idealDCG. Use uma janela de 5 documentos."
      ]
    },
    {
      "cell_type": "code",
      "metadata": {
        "id": "VxpTP5r7gFso",
        "colab_type": "code",
        "colab": {}
      },
      "source": [
        "def calc_dcg(model, relevant_docs):\n",
        "  dcg = 0.0\n",
        "  for i in range(1,len(model)+1):\n",
        "    doc = model[i-1]\n",
        "    level = relevant_docs[doc] if doc in relevant_docs else 0\n",
        "    dcg += (2^level) / np.log2(i + 1.0)\n",
        "    \n",
        "  return dcg\n",
        "\n",
        "def dcg_models(query):\n",
        "  relevant_docs = {}\n",
        "\n",
        "  for doc_info in feedback[query]:\n",
        "    row = result.loc[result.url == doc_info['URL']]\n",
        "    relevant_docs[row.index[0]] = doc_info['level']\n",
        "    \n",
        "  binary, tf, tfidf, bm25 = create_topk_models(query, 5)\n",
        "  binary = doc_indexes(binary)\n",
        "  tf = doc_indexes(tf)\n",
        "  tfidf = doc_indexes(tfidf)\n",
        "  bm25 = doc_indexes(bm25)\n",
        "  \n",
        "  dcg_binary = round(calc_dcg(binary, relevant_docs),2)\n",
        "  dcg_tf = round(calc_dcg(tf, relevant_docs),2)\n",
        "  dcg_tfidf = round(calc_dcg(tfidf, relevant_docs),2)\n",
        "  dcg_bm25 = round(calc_dcg(bm25, relevant_docs),2)\n",
        "  \n",
        "  return dcg_binary, dcg_tf, dcg_tfidf, dcg_bm25"
      ],
      "execution_count": 0,
      "outputs": []
    },
    {
      "cell_type": "code",
      "metadata": {
        "id": "woTIlB_1vDp0",
        "colab_type": "code",
        "colab": {}
      },
      "source": [
        "dcg_binary, dcg_tf, dcg_tfidf, dcg_bm25 = dcg_models('brasil e argentina')"
      ],
      "execution_count": 0,
      "outputs": []
    },
    {
      "cell_type": "markdown",
      "metadata": {
        "colab_type": "text",
        "id": "JinqhnUjH-Di"
      },
      "source": [
        "### Representação Binária"
      ]
    },
    {
      "cell_type": "code",
      "metadata": {
        "id": "mAs_WsSbwK-Z",
        "colab_type": "code",
        "colab": {
          "base_uri": "https://localhost:8080/",
          "height": 34
        },
        "outputId": "3acdf220-4b15-4363-d4bb-08756271930f"
      },
      "source": [
        "dcg_binary"
      ],
      "execution_count": 327,
      "outputs": [
        {
          "output_type": "execute_result",
          "data": {
            "text/plain": [
              "8.9"
            ]
          },
          "metadata": {
            "tags": []
          },
          "execution_count": 327
        }
      ]
    },
    {
      "cell_type": "markdown",
      "metadata": {
        "colab_type": "text",
        "id": "rrsMFnjeH-Dk"
      },
      "source": [
        "### TF"
      ]
    },
    {
      "cell_type": "code",
      "metadata": {
        "id": "FH-5Dn8XwMvH",
        "colab_type": "code",
        "colab": {
          "base_uri": "https://localhost:8080/",
          "height": 34
        },
        "outputId": "7c615fad-5010-4fae-a89c-897f816bd7e7"
      },
      "source": [
        "dcg_tf"
      ],
      "execution_count": 328,
      "outputs": [
        {
          "output_type": "execute_result",
          "data": {
            "text/plain": [
              "5.9"
            ]
          },
          "metadata": {
            "tags": []
          },
          "execution_count": 328
        }
      ]
    },
    {
      "cell_type": "markdown",
      "metadata": {
        "colab_type": "text",
        "id": "fAlMm3UsH-Dn"
      },
      "source": [
        "### TF-IDF"
      ]
    },
    {
      "cell_type": "code",
      "metadata": {
        "id": "3nwJx5R6wOUq",
        "colab_type": "code",
        "colab": {
          "base_uri": "https://localhost:8080/",
          "height": 34
        },
        "outputId": "9c47e721-c46f-4dd8-8206-9e794ad89e08"
      },
      "source": [
        "dcg_tfidf"
      ],
      "execution_count": 329,
      "outputs": [
        {
          "output_type": "execute_result",
          "data": {
            "text/plain": [
              "7.79"
            ]
          },
          "metadata": {
            "tags": []
          },
          "execution_count": 329
        }
      ]
    },
    {
      "cell_type": "markdown",
      "metadata": {
        "colab_type": "text",
        "id": "aPcV-ktvH-Dm"
      },
      "source": [
        "### BM25"
      ]
    },
    {
      "cell_type": "code",
      "metadata": {
        "id": "fZeYtZe-wPv2",
        "colab_type": "code",
        "colab": {
          "base_uri": "https://localhost:8080/",
          "height": 34
        },
        "outputId": "f3e8c16d-bbc4-4713-ec63-63d3a7fc494f"
      },
      "source": [
        "dcg_bm25"
      ],
      "execution_count": 330,
      "outputs": [
        {
          "output_type": "execute_result",
          "data": {
            "text/plain": [
              "7.79"
            ]
          },
          "metadata": {
            "tags": []
          },
          "execution_count": 330
        }
      ]
    }
  ]
}